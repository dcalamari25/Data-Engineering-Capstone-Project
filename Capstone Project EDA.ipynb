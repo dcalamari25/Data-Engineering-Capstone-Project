{
 "cells": [
  {
   "cell_type": "markdown",
   "metadata": {
    "editable": true
   },
   "source": [
    "# Project Title\n",
    "### Data Engineering Capstone Project\n",
    "\n",
    "#### Project Summary\n",
    "\n",
    "The objective of this project was to utlize the skills learned throughout the course.  This is an open ended project to show what we have learned.  I've choosen to use the datasets projeced by Udacity to complete the project.  The main data set includes data on immigraiton to the United States and supplementary datasets included data on airport codes, U.S. city demographics, and temperature data. The use case for this analytics database is to find immigration patterns to the U.S.  \n",
    "All data for the project was loaded into S3 after cleaning the datasets.  The project was completed within the Udacity workspace.\n",
    "\n",
    "The files included in the workspace includes:\n",
    "\n",
    "- config.cfg - the contains the configuration that allows the other modules the access AWS.\n",
    "- utility.py - this module contains the functions for cleaning the data.\n",
    "- sql_queries.py - this module drops, creates, and inserts the staging tables and fact and dimensional tables.\n",
    "- create_cluster.py - this module creates the connection to AWS redshift and S3.\n",
    "- create_tables.py - this module processes the sql_queries for staging, creating and inserting the tables.\n",
    "- etl.py - this module reads the S3 data, processes the data using Spark, and writes processed data as a set of dimensional and fact tables back to S3.\n",
    "- delete_cluster.py - deletes the cluster to avoid unnecessary charges.\n",
    "- Capstone Project EDA.ipynb - Jupyter notebook used to gather, assess, and clean the data.\n",
    "- Run.ipynb - Jupyter notebook used to run py files.\n",
    "- Capstone Project Submision.ipynb - Jupyter notebook used to validate and show process of pulling data from S3 works and analysis can be done on data warehouse.\n",
    "\n",
    "The project follows the follow steps:\n",
    "* Step 1: Scope the Project and Gather Data\n",
    "* Step 2: Explore and Assess the Data\n",
    "* Step 3: Define the Data Model\n",
    "* Step 4: Run ETL to Model the Data\n",
    "* Step 5: Complete Project Write Up"
   ]
  },
  {
   "cell_type": "markdown",
   "metadata": {
    "editable": true
   },
   "source": [
    "### Import Libraries"
   ]
  },
  {
   "cell_type": "code",
   "execution_count": 1,
   "metadata": {
    "editable": true
   },
   "outputs": [],
   "source": [
    "# Import Libraries\n",
    "import pandas as pd\n",
    "import numpy as np\n",
    "import seaborn as sns\n",
    "import glob\n",
    "import matplotlib.pyplot as plt\n",
    "import os\n",
    "import configparser\n",
    "import json\n",
    "from datetime import timedelta, datetime\n",
    "\n",
    "from pyspark.sql import SparkSession\n",
    "\n",
    "import utility\n",
    "#import etl_functions\n",
    "#import etl\n",
    "\n",
    "import importlib\n",
    "importlib.reload(utility)\n",
    "from utility import visualize_missing_values\n",
    "from utility import print_formatted_float\n",
    "from utility import strip_all_columns, difference, sas_program_file_value_parser"
   ]
  },
  {
   "cell_type": "markdown",
   "metadata": {
    "editable": true
   },
   "source": [
    "### Load Configuration Data"
   ]
  },
  {
   "cell_type": "code",
   "execution_count": 2,
   "metadata": {
    "editable": true
   },
   "outputs": [],
   "source": [
    "# The AWS key id and password are configured in a configuration file \"config.cfg\"\n",
    "config = configparser.ConfigParser()\n",
    "config.read('config.cfg')\n",
    "\n",
    "# Reads and saves the AWS access key information and saves them in a environment variable\n",
    "os.environ['AWS_ACCESS_KEY_ID']=config['AWS']['KEY']\n",
    "os.environ['AWS_SECRET_ACCESS_KEY']=config['AWS']['SECRET']"
   ]
  },
  {
   "cell_type": "markdown",
   "metadata": {
    "editable": true
   },
   "source": [
    "### Create a Spark Session"
   ]
  },
  {
   "cell_type": "code",
   "execution_count": 3,
   "metadata": {
    "editable": true
   },
   "outputs": [],
   "source": [
    "import os\n",
    "os.environ[\"JAVA_HOME\"] = \"/usr/lib/jvm/java-8-openjdk-amd64\"\n",
    "os.environ[\"PATH\"] = \"/opt/conda/bin:/opt/spark-2.4.3-bin-hadoop2.7/bin:/opt/conda/bin:/usr/local/sbin:/usr/local/bin:/usr/sbin:/usr/bin:/sbin:/bin:/usr/lib/jvm/java-8-openjdk-amd64/bin\"\n",
    "os.environ[\"SPARK_HOME\"] = \"/opt/spark-2.4.3-bin-hadoop2.7\"\n",
    "os.environ[\"HADOOP_HOME\"] = \"/opt/spark-2.4.3-bin-hadoop2.7\"\n",
    "from pyspark.sql import SparkSession\n",
    "spark = SparkSession.builder.getOrCreate()\n",
    "df_spark =spark.read.load('./data/sas_data')"
   ]
  },
  {
   "cell_type": "markdown",
   "metadata": {
    "editable": true
   },
   "source": [
    "### Step 1: Scope the Project and Gather Data\n",
    "\n",
    "#### Scope \n",
    "The scope for the project is to integrate i94 immigration data, airport code data, world temperature data and US demographic data to set up a data warehouse with fact and dimension tables to be utilized for data analysis.\n",
    "\n",
    "Data Sets (supplied by Udacity):\n",
    "\n",
    "- i94 immigration data\n",
    "- i94 port data (a subset of the immigration data manually created into JSON.) \n",
    "- airport code data\n",
    "- US Demographics data\n",
    "- world temperature data\n",
    "\n",
    "Tools used:\n",
    " \n",
    "- Python\n",
    "- Juypter Notebooks\n",
    "- AWS S3\n",
    "- AWS Redshift\n",
    "\n",
    "#### Describe and Gather Data \n",
    "\n",
    "- I94 Immigration Sample Data \n",
    "    - immigration_data_sample.csv \n",
    "        - csv  \n",
    "            -This data comes from the US National Tourism and Trade Office. A data dictionary is included in the workspace. There's a sample file so you can take a look at the data in csv format before reading it all in. The sample dataset is in CSV format.\n",
    "- I94 Port data \n",
    "    - i94port.json\n",
    "        - json\n",
    "            - Shows US Port of Entry city names and their corresponding codes. Source : I94_SAS_Labels_Descriptions.SAS\n",
    "- World Temperature Data\n",
    "    - world_temperature.csv\n",
    "        - csv\n",
    "            - This dataset contains temperature data of various cities from 1700's - 2013. This dataset came from Kaggle. \n",
    "- U.S. City Demographic Data\n",
    "    - us-cities-demographics.csv\n",
    "        - csv\n",
    "            - This dataset contains population details of all US Cities and census-designated places includes gender & race informatoin. This data came from OpenSoft.\n",
    "- Airport Code Table\n",
    "    - airport-codes_csv.csv\n",
    "        - csv\n",
    "            - This is a simple table of airport codes and corresponding cities. "
   ]
  },
  {
   "cell_type": "markdown",
   "metadata": {
    "editable": true
   },
   "source": [
    "***Load Datasets***"
   ]
  },
  {
   "cell_type": "code",
   "execution_count": 4,
   "metadata": {
    "editable": true
   },
   "outputs": [
    {
     "data": {
      "text/plain": [
       "(8599212, 7)"
      ]
     },
     "execution_count": 4,
     "metadata": {},
     "output_type": "execute_result"
    }
   ],
   "source": [
    "# Udacity provided datasets\n",
    "# I94 Immigration Data Sample\n",
    "immigration_df = pd.read_csv(\"./data/immigration_data_sample.csv\")\n",
    "# Airport Code Table\n",
    "airport_codes_df = pd.read_csv(\"./data/airport-codes_csv.csv\")\n",
    "# U.S. City Demographic Data\n",
    "#file_name = './data/us-cities-demographics.csv'\n",
    "#demographics_df = spark.read.csv(file_name, inferSchema=True, header=True, sep=';')\n",
    "demographics_df = pd.read_csv(\"./data/us-cities-demographics.csv\")\n",
    "# Global Land Temperarture by City Data\n",
    "fname = '../../data2/GlobalLandTemperaturesByCity.csv'\n",
    "worldtemp_df = pd.read_csv(fname)\n",
    "worldtemp_df.to_csv('./data/world_temperature.csv', encoding='utf-8', index=False)\n",
    "worldtemp_df.shape "
   ]
  },
  {
   "cell_type": "markdown",
   "metadata": {
    "editable": true
   },
   "source": [
    "### Step 2: Explore and Assess the Data\n",
    "#### Explore the Data \n",
    "\n",
    "1. Use pandas for exploratory data analysis to get an overview of these datasets and clean the datasets.\n",
    "2. Split the datasets to dimensional tables to change column names for better understanding.\n",
    "3. Utilize PySpark on one of the SAS data sets to test ETL data pipeline logic."
   ]
  },
  {
   "cell_type": "markdown",
   "metadata": {
    "editable": true
   },
   "source": [
    "#### Explore Immigration Data"
   ]
  },
  {
   "cell_type": "code",
   "execution_count": 5,
   "metadata": {
    "editable": true
   },
   "outputs": [
    {
     "name": "stdout",
     "output_type": "stream",
     "text": [
      "NEW YORK, NY          \n",
      "Europe\n"
     ]
    }
   ],
   "source": [
    "# I94 Immigration subset of I94_SAS_Labels_Descriptions.SAS file manually extracted and saved as JSON\n",
    "fname = './data/i94port.json'\n",
    "i94port = json.load(open(fname))\n",
    "print(i94port[\"NYC\"])\n",
    "\n",
    "dict_continent = {'AF':'Africa', 'AN':'Antarctica', 'AS':'Asia', 'EU':'Europe', 'NA':'North america', 'OC':'Oceania', 'SA':'South america' }\n",
    "print(dict_continent[\"EU\"])"
   ]
  },
  {
   "cell_type": "code",
   "execution_count": 6,
   "metadata": {
    "editable": true
   },
   "outputs": [
    {
     "name": "stdout",
     "output_type": "stream",
     "text": [
      "PoE_df = 660\n"
     ]
    }
   ],
   "source": [
    "# Convert JSON Dictionaries to Dataframes\n",
    "PoE_df = pd.DataFrame(list(i94port.items()), columns=['code', 'citystate'])\n",
    "print('PoE_df = {}'.format(PoE_df.code.value_counts().shape[0]))"
   ]
  },
  {
   "cell_type": "code",
   "execution_count": 7,
   "metadata": {
    "editable": true
   },
   "outputs": [
    {
     "name": "stdout",
     "output_type": "stream",
     "text": [
      "(3096313, 28)\n"
     ]
    }
   ],
   "source": [
    "immigration_df_shape = (df_spark.count(), len(df_spark.columns))\n",
    "print(immigration_df_shape)"
   ]
  },
  {
   "cell_type": "code",
   "execution_count": 8,
   "metadata": {
    "editable": true
   },
   "outputs": [
    {
     "name": "stdout",
     "output_type": "stream",
     "text": [
      "<class 'pandas.core.frame.DataFrame'>\n",
      "RangeIndex: 1000 entries, 0 to 999\n",
      "Data columns (total 29 columns):\n",
      "Unnamed: 0    1000 non-null int64\n",
      "cicid         1000 non-null float64\n",
      "i94yr         1000 non-null float64\n",
      "i94mon        1000 non-null float64\n",
      "i94cit        1000 non-null float64\n",
      "i94res        1000 non-null float64\n",
      "i94port       1000 non-null object\n",
      "arrdate       1000 non-null float64\n",
      "i94mode       1000 non-null float64\n",
      "i94addr       941 non-null object\n",
      "depdate       951 non-null float64\n",
      "i94bir        1000 non-null float64\n",
      "i94visa       1000 non-null float64\n",
      "count         1000 non-null float64\n",
      "dtadfile      1000 non-null int64\n",
      "visapost      382 non-null object\n",
      "occup         4 non-null object\n",
      "entdepa       1000 non-null object\n",
      "entdepd       954 non-null object\n",
      "entdepu       0 non-null float64\n",
      "matflag       954 non-null object\n",
      "biryear       1000 non-null float64\n",
      "dtaddto       1000 non-null object\n",
      "gender        859 non-null object\n",
      "insnum        35 non-null float64\n",
      "airline       967 non-null object\n",
      "admnum        1000 non-null float64\n",
      "fltno         992 non-null object\n",
      "visatype      1000 non-null object\n",
      "dtypes: float64(15), int64(2), object(12)\n",
      "memory usage: 226.6+ KB\n"
     ]
    }
   ],
   "source": [
    "immigration_df.info()"
   ]
  },
  {
   "cell_type": "markdown",
   "metadata": {
    "editable": true
   },
   "source": [
    "- From the above ***.info*** we can get a sense of missing data.\n",
    "\n",
    "    - there are several issues with missing data seen above\n",
    "       - US state (i94addr) has some missing, needs to verify\n",
    "       - visapost has high number missing, needs to verify as this is the country the visa was issued.\n",
    "       - occupation (occup) is basically empty, need to verify and see if data is needed.\n",
    "       - all have arrival dates (arrdate) but not all have departure dates (depdate), so we can assume that some never left.\n",
    "       - airline and fltno should be the same total but aren't, so some rows will need to be verifed.\n",
    "       - gender is M/F/Null.  I94 file has gender type O.  Assumption is that Null is considered a third O gender."
   ]
  },
  {
   "cell_type": "code",
   "execution_count": 9,
   "metadata": {
    "editable": true
   },
   "outputs": [
    {
     "data": {
      "text/html": [
       "<div>\n",
       "<style scoped>\n",
       "    .dataframe tbody tr th:only-of-type {\n",
       "        vertical-align: middle;\n",
       "    }\n",
       "\n",
       "    .dataframe tbody tr th {\n",
       "        vertical-align: top;\n",
       "    }\n",
       "\n",
       "    .dataframe thead th {\n",
       "        text-align: right;\n",
       "    }\n",
       "</style>\n",
       "<table border=\"1\" class=\"dataframe\">\n",
       "  <thead>\n",
       "    <tr style=\"text-align: right;\">\n",
       "      <th></th>\n",
       "      <th>Unnamed: 0</th>\n",
       "      <th>cicid</th>\n",
       "      <th>i94yr</th>\n",
       "      <th>i94mon</th>\n",
       "      <th>i94cit</th>\n",
       "      <th>i94res</th>\n",
       "      <th>arrdate</th>\n",
       "      <th>i94mode</th>\n",
       "      <th>depdate</th>\n",
       "      <th>i94bir</th>\n",
       "      <th>i94visa</th>\n",
       "      <th>count</th>\n",
       "      <th>dtadfile</th>\n",
       "      <th>entdepu</th>\n",
       "      <th>biryear</th>\n",
       "      <th>insnum</th>\n",
       "      <th>admnum</th>\n",
       "    </tr>\n",
       "  </thead>\n",
       "  <tbody>\n",
       "    <tr>\n",
       "      <th>count</th>\n",
       "      <td>1.000000e+03</td>\n",
       "      <td>1.000000e+03</td>\n",
       "      <td>1000.0</td>\n",
       "      <td>1000.0</td>\n",
       "      <td>1000.000000</td>\n",
       "      <td>1000.00000</td>\n",
       "      <td>1000.000000</td>\n",
       "      <td>1000.000000</td>\n",
       "      <td>951.000000</td>\n",
       "      <td>1000.000000</td>\n",
       "      <td>1000.000000</td>\n",
       "      <td>1000.0</td>\n",
       "      <td>1.000000e+03</td>\n",
       "      <td>0.0</td>\n",
       "      <td>1000.000000</td>\n",
       "      <td>35.000000</td>\n",
       "      <td>1.000000e+03</td>\n",
       "    </tr>\n",
       "    <tr>\n",
       "      <th>mean</th>\n",
       "      <td>1.542097e+06</td>\n",
       "      <td>3.040461e+06</td>\n",
       "      <td>2016.0</td>\n",
       "      <td>4.0</td>\n",
       "      <td>302.928000</td>\n",
       "      <td>298.26200</td>\n",
       "      <td>20559.680000</td>\n",
       "      <td>1.078000</td>\n",
       "      <td>20575.037855</td>\n",
       "      <td>42.382000</td>\n",
       "      <td>1.859000</td>\n",
       "      <td>1.0</td>\n",
       "      <td>2.016042e+07</td>\n",
       "      <td>NaN</td>\n",
       "      <td>1973.618000</td>\n",
       "      <td>3826.857143</td>\n",
       "      <td>6.937237e+10</td>\n",
       "    </tr>\n",
       "    <tr>\n",
       "      <th>std</th>\n",
       "      <td>9.152879e+05</td>\n",
       "      <td>1.799818e+06</td>\n",
       "      <td>0.0</td>\n",
       "      <td>0.0</td>\n",
       "      <td>206.485285</td>\n",
       "      <td>202.12039</td>\n",
       "      <td>8.995027</td>\n",
       "      <td>0.485955</td>\n",
       "      <td>24.211234</td>\n",
       "      <td>17.903424</td>\n",
       "      <td>0.386353</td>\n",
       "      <td>0.0</td>\n",
       "      <td>4.951657e+01</td>\n",
       "      <td>NaN</td>\n",
       "      <td>17.903424</td>\n",
       "      <td>221.742583</td>\n",
       "      <td>2.338134e+10</td>\n",
       "    </tr>\n",
       "    <tr>\n",
       "      <th>min</th>\n",
       "      <td>1.092500e+04</td>\n",
       "      <td>1.320800e+04</td>\n",
       "      <td>2016.0</td>\n",
       "      <td>4.0</td>\n",
       "      <td>103.000000</td>\n",
       "      <td>103.00000</td>\n",
       "      <td>20545.000000</td>\n",
       "      <td>1.000000</td>\n",
       "      <td>20547.000000</td>\n",
       "      <td>1.000000</td>\n",
       "      <td>1.000000</td>\n",
       "      <td>1.0</td>\n",
       "      <td>2.016040e+07</td>\n",
       "      <td>NaN</td>\n",
       "      <td>1923.000000</td>\n",
       "      <td>3468.000000</td>\n",
       "      <td>0.000000e+00</td>\n",
       "    </tr>\n",
       "    <tr>\n",
       "      <th>25%</th>\n",
       "      <td>7.214422e+05</td>\n",
       "      <td>1.412170e+06</td>\n",
       "      <td>2016.0</td>\n",
       "      <td>4.0</td>\n",
       "      <td>135.000000</td>\n",
       "      <td>131.00000</td>\n",
       "      <td>20552.000000</td>\n",
       "      <td>1.000000</td>\n",
       "      <td>20561.000000</td>\n",
       "      <td>30.750000</td>\n",
       "      <td>2.000000</td>\n",
       "      <td>1.0</td>\n",
       "      <td>2.016041e+07</td>\n",
       "      <td>NaN</td>\n",
       "      <td>1961.000000</td>\n",
       "      <td>3668.000000</td>\n",
       "      <td>5.599301e+10</td>\n",
       "    </tr>\n",
       "    <tr>\n",
       "      <th>50%</th>\n",
       "      <td>1.494568e+06</td>\n",
       "      <td>2.941176e+06</td>\n",
       "      <td>2016.0</td>\n",
       "      <td>4.0</td>\n",
       "      <td>213.000000</td>\n",
       "      <td>213.00000</td>\n",
       "      <td>20560.000000</td>\n",
       "      <td>1.000000</td>\n",
       "      <td>20570.000000</td>\n",
       "      <td>42.000000</td>\n",
       "      <td>2.000000</td>\n",
       "      <td>1.0</td>\n",
       "      <td>2.016042e+07</td>\n",
       "      <td>NaN</td>\n",
       "      <td>1974.000000</td>\n",
       "      <td>3887.000000</td>\n",
       "      <td>5.931477e+10</td>\n",
       "    </tr>\n",
       "    <tr>\n",
       "      <th>75%</th>\n",
       "      <td>2.360901e+06</td>\n",
       "      <td>4.694151e+06</td>\n",
       "      <td>2016.0</td>\n",
       "      <td>4.0</td>\n",
       "      <td>438.000000</td>\n",
       "      <td>438.00000</td>\n",
       "      <td>20567.250000</td>\n",
       "      <td>1.000000</td>\n",
       "      <td>20580.000000</td>\n",
       "      <td>55.000000</td>\n",
       "      <td>2.000000</td>\n",
       "      <td>1.0</td>\n",
       "      <td>2.016042e+07</td>\n",
       "      <td>NaN</td>\n",
       "      <td>1985.250000</td>\n",
       "      <td>3943.000000</td>\n",
       "      <td>9.343623e+10</td>\n",
       "    </tr>\n",
       "    <tr>\n",
       "      <th>max</th>\n",
       "      <td>3.095749e+06</td>\n",
       "      <td>6.061994e+06</td>\n",
       "      <td>2016.0</td>\n",
       "      <td>4.0</td>\n",
       "      <td>746.000000</td>\n",
       "      <td>696.00000</td>\n",
       "      <td>20574.000000</td>\n",
       "      <td>9.000000</td>\n",
       "      <td>20715.000000</td>\n",
       "      <td>93.000000</td>\n",
       "      <td>3.000000</td>\n",
       "      <td>1.0</td>\n",
       "      <td>2.016080e+07</td>\n",
       "      <td>NaN</td>\n",
       "      <td>2015.000000</td>\n",
       "      <td>4686.000000</td>\n",
       "      <td>9.502151e+10</td>\n",
       "    </tr>\n",
       "  </tbody>\n",
       "</table>\n",
       "</div>"
      ],
      "text/plain": [
       "         Unnamed: 0         cicid   i94yr  i94mon       i94cit      i94res  \\\n",
       "count  1.000000e+03  1.000000e+03  1000.0  1000.0  1000.000000  1000.00000   \n",
       "mean   1.542097e+06  3.040461e+06  2016.0     4.0   302.928000   298.26200   \n",
       "std    9.152879e+05  1.799818e+06     0.0     0.0   206.485285   202.12039   \n",
       "min    1.092500e+04  1.320800e+04  2016.0     4.0   103.000000   103.00000   \n",
       "25%    7.214422e+05  1.412170e+06  2016.0     4.0   135.000000   131.00000   \n",
       "50%    1.494568e+06  2.941176e+06  2016.0     4.0   213.000000   213.00000   \n",
       "75%    2.360901e+06  4.694151e+06  2016.0     4.0   438.000000   438.00000   \n",
       "max    3.095749e+06  6.061994e+06  2016.0     4.0   746.000000   696.00000   \n",
       "\n",
       "            arrdate      i94mode       depdate       i94bir      i94visa  \\\n",
       "count   1000.000000  1000.000000    951.000000  1000.000000  1000.000000   \n",
       "mean   20559.680000     1.078000  20575.037855    42.382000     1.859000   \n",
       "std        8.995027     0.485955     24.211234    17.903424     0.386353   \n",
       "min    20545.000000     1.000000  20547.000000     1.000000     1.000000   \n",
       "25%    20552.000000     1.000000  20561.000000    30.750000     2.000000   \n",
       "50%    20560.000000     1.000000  20570.000000    42.000000     2.000000   \n",
       "75%    20567.250000     1.000000  20580.000000    55.000000     2.000000   \n",
       "max    20574.000000     9.000000  20715.000000    93.000000     3.000000   \n",
       "\n",
       "        count      dtadfile  entdepu      biryear       insnum        admnum  \n",
       "count  1000.0  1.000000e+03      0.0  1000.000000    35.000000  1.000000e+03  \n",
       "mean      1.0  2.016042e+07      NaN  1973.618000  3826.857143  6.937237e+10  \n",
       "std       0.0  4.951657e+01      NaN    17.903424   221.742583  2.338134e+10  \n",
       "min       1.0  2.016040e+07      NaN  1923.000000  3468.000000  0.000000e+00  \n",
       "25%       1.0  2.016041e+07      NaN  1961.000000  3668.000000  5.599301e+10  \n",
       "50%       1.0  2.016042e+07      NaN  1974.000000  3887.000000  5.931477e+10  \n",
       "75%       1.0  2.016042e+07      NaN  1985.250000  3943.000000  9.343623e+10  \n",
       "max       1.0  2.016080e+07      NaN  2015.000000  4686.000000  9.502151e+10  "
      ]
     },
     "execution_count": 9,
     "metadata": {},
     "output_type": "execute_result"
    }
   ],
   "source": [
    "# Statistics of all numeric columns in the dataframe\n",
    "immigration_df.describe()"
   ]
  },
  {
   "cell_type": "markdown",
   "metadata": {
    "editable": true
   },
   "source": [
    "- From above ***.describe*** we can make assumptions,\n",
    "    - age (i94bir) of the traveler so looking at the min / max we can get min/max age of visitors.\n",
    "    - By looking at endtdepu has all null values, verified below with 100%. ***But already determined to be dropping this column.***\n",
    "    - Looking at insum column there are only 35 entries, so NULL is no value, no data.  Assumption since below is at 96.5%."
   ]
  },
  {
   "cell_type": "code",
   "execution_count": 10,
   "metadata": {
    "editable": true
   },
   "outputs": [
    {
     "data": {
      "text/plain": [
       "Unnamed: 0      0.0\n",
       "cicid           0.0\n",
       "i94yr           0.0\n",
       "i94mon          0.0\n",
       "i94cit          0.0\n",
       "i94res          0.0\n",
       "i94port         0.0\n",
       "arrdate         0.0\n",
       "i94mode         0.0\n",
       "i94addr         5.9\n",
       "depdate         4.9\n",
       "i94bir          0.0\n",
       "i94visa         0.0\n",
       "count           0.0\n",
       "dtadfile        0.0\n",
       "visapost       61.8\n",
       "occup          99.6\n",
       "entdepa         0.0\n",
       "entdepd         4.6\n",
       "entdepu       100.0\n",
       "matflag         4.6\n",
       "biryear         0.0\n",
       "dtaddto         0.0\n",
       "gender         14.1\n",
       "insnum         96.5\n",
       "airline         3.3\n",
       "admnum          0.0\n",
       "fltno           0.8\n",
       "visatype        0.0\n",
       "dtype: float64"
      ]
     },
     "execution_count": 10,
     "metadata": {},
     "output_type": "execute_result"
    }
   ],
   "source": [
    "(immigration_df.isnull().sum() / len(immigration_df))*100"
   ]
  },
  {
   "cell_type": "code",
   "execution_count": 11,
   "metadata": {
    "editable": true
   },
   "outputs": [
    {
     "data": {
      "image/png": "[encoded data removed]",
      "text/plain": [
       "<matplotlib.figure.Figure at 0x7f46612265f8>"
      ]
     },
     "metadata": {},
     "output_type": "display_data"
    }
   ],
   "source": [
    "# lets visualize % missing values per immigration feature\n",
    "visualize_missing_values(immigration_df)"
   ]
  },
  {
   "cell_type": "markdown",
   "metadata": {
    "editable": true
   },
   "source": [
    "- From information above we can see a high percentage (> 90%) of missing data in occup, entdepu, and insnum columns. "
   ]
  },
  {
   "cell_type": "code",
   "execution_count": 12,
   "metadata": {
    "editable": true
   },
   "outputs": [
    {
     "data": {
      "text/html": [
       "<div>\n",
       "<style scoped>\n",
       "    .dataframe tbody tr th:only-of-type {\n",
       "        vertical-align: middle;\n",
       "    }\n",
       "\n",
       "    .dataframe tbody tr th {\n",
       "        vertical-align: top;\n",
       "    }\n",
       "\n",
       "    .dataframe thead th {\n",
       "        text-align: right;\n",
       "    }\n",
       "</style>\n",
       "<table border=\"1\" class=\"dataframe\">\n",
       "  <thead>\n",
       "    <tr style=\"text-align: right;\">\n",
       "      <th></th>\n",
       "      <th>Unnamed: 0</th>\n",
       "      <th>cicid</th>\n",
       "      <th>i94yr</th>\n",
       "      <th>i94mon</th>\n",
       "      <th>i94cit</th>\n",
       "      <th>i94res</th>\n",
       "      <th>i94port</th>\n",
       "      <th>arrdate</th>\n",
       "      <th>i94mode</th>\n",
       "      <th>i94addr</th>\n",
       "      <th>...</th>\n",
       "      <th>entdepu</th>\n",
       "      <th>matflag</th>\n",
       "      <th>biryear</th>\n",
       "      <th>dtaddto</th>\n",
       "      <th>gender</th>\n",
       "      <th>insnum</th>\n",
       "      <th>airline</th>\n",
       "      <th>admnum</th>\n",
       "      <th>fltno</th>\n",
       "      <th>visatype</th>\n",
       "    </tr>\n",
       "  </thead>\n",
       "  <tbody>\n",
       "    <tr>\n",
       "      <th>0</th>\n",
       "      <td>2027561</td>\n",
       "      <td>4084316.0</td>\n",
       "      <td>2016.0</td>\n",
       "      <td>4.0</td>\n",
       "      <td>209.0</td>\n",
       "      <td>209.0</td>\n",
       "      <td>HHW</td>\n",
       "      <td>20566.0</td>\n",
       "      <td>1.0</td>\n",
       "      <td>HI</td>\n",
       "      <td>...</td>\n",
       "      <td>NaN</td>\n",
       "      <td>M</td>\n",
       "      <td>1955.0</td>\n",
       "      <td>07202016</td>\n",
       "      <td>F</td>\n",
       "      <td>NaN</td>\n",
       "      <td>JL</td>\n",
       "      <td>5.658267e+10</td>\n",
       "      <td>00782</td>\n",
       "      <td>WT</td>\n",
       "    </tr>\n",
       "    <tr>\n",
       "      <th>1</th>\n",
       "      <td>2171295</td>\n",
       "      <td>4422636.0</td>\n",
       "      <td>2016.0</td>\n",
       "      <td>4.0</td>\n",
       "      <td>582.0</td>\n",
       "      <td>582.0</td>\n",
       "      <td>MCA</td>\n",
       "      <td>20567.0</td>\n",
       "      <td>1.0</td>\n",
       "      <td>TX</td>\n",
       "      <td>...</td>\n",
       "      <td>NaN</td>\n",
       "      <td>M</td>\n",
       "      <td>1990.0</td>\n",
       "      <td>10222016</td>\n",
       "      <td>M</td>\n",
       "      <td>NaN</td>\n",
       "      <td>*GA</td>\n",
       "      <td>9.436200e+10</td>\n",
       "      <td>XBLNG</td>\n",
       "      <td>B2</td>\n",
       "    </tr>\n",
       "    <tr>\n",
       "      <th>2</th>\n",
       "      <td>589494</td>\n",
       "      <td>1195600.0</td>\n",
       "      <td>2016.0</td>\n",
       "      <td>4.0</td>\n",
       "      <td>148.0</td>\n",
       "      <td>112.0</td>\n",
       "      <td>OGG</td>\n",
       "      <td>20551.0</td>\n",
       "      <td>1.0</td>\n",
       "      <td>FL</td>\n",
       "      <td>...</td>\n",
       "      <td>NaN</td>\n",
       "      <td>M</td>\n",
       "      <td>1940.0</td>\n",
       "      <td>07052016</td>\n",
       "      <td>M</td>\n",
       "      <td>NaN</td>\n",
       "      <td>LH</td>\n",
       "      <td>5.578047e+10</td>\n",
       "      <td>00464</td>\n",
       "      <td>WT</td>\n",
       "    </tr>\n",
       "    <tr>\n",
       "      <th>3</th>\n",
       "      <td>2631158</td>\n",
       "      <td>5291768.0</td>\n",
       "      <td>2016.0</td>\n",
       "      <td>4.0</td>\n",
       "      <td>297.0</td>\n",
       "      <td>297.0</td>\n",
       "      <td>LOS</td>\n",
       "      <td>20572.0</td>\n",
       "      <td>1.0</td>\n",
       "      <td>CA</td>\n",
       "      <td>...</td>\n",
       "      <td>NaN</td>\n",
       "      <td>M</td>\n",
       "      <td>1991.0</td>\n",
       "      <td>10272016</td>\n",
       "      <td>M</td>\n",
       "      <td>NaN</td>\n",
       "      <td>QR</td>\n",
       "      <td>9.478970e+10</td>\n",
       "      <td>00739</td>\n",
       "      <td>B2</td>\n",
       "    </tr>\n",
       "    <tr>\n",
       "      <th>4</th>\n",
       "      <td>3032257</td>\n",
       "      <td>985523.0</td>\n",
       "      <td>2016.0</td>\n",
       "      <td>4.0</td>\n",
       "      <td>111.0</td>\n",
       "      <td>111.0</td>\n",
       "      <td>CHM</td>\n",
       "      <td>20550.0</td>\n",
       "      <td>3.0</td>\n",
       "      <td>NY</td>\n",
       "      <td>...</td>\n",
       "      <td>NaN</td>\n",
       "      <td>M</td>\n",
       "      <td>1997.0</td>\n",
       "      <td>07042016</td>\n",
       "      <td>F</td>\n",
       "      <td>NaN</td>\n",
       "      <td>NaN</td>\n",
       "      <td>4.232257e+10</td>\n",
       "      <td>LAND</td>\n",
       "      <td>WT</td>\n",
       "    </tr>\n",
       "  </tbody>\n",
       "</table>\n",
       "<p>5 rows × 29 columns</p>\n",
       "</div>"
      ],
      "text/plain": [
       "   Unnamed: 0      cicid   i94yr  i94mon  i94cit  i94res i94port  arrdate  \\\n",
       "0     2027561  4084316.0  2016.0     4.0   209.0   209.0     HHW  20566.0   \n",
       "1     2171295  4422636.0  2016.0     4.0   582.0   582.0     MCA  20567.0   \n",
       "2      589494  1195600.0  2016.0     4.0   148.0   112.0     OGG  20551.0   \n",
       "3     2631158  5291768.0  2016.0     4.0   297.0   297.0     LOS  20572.0   \n",
       "4     3032257   985523.0  2016.0     4.0   111.0   111.0     CHM  20550.0   \n",
       "\n",
       "   i94mode i94addr    ...     entdepu  matflag  biryear   dtaddto  gender  \\\n",
       "0      1.0      HI    ...         NaN        M   1955.0  07202016       F   \n",
       "1      1.0      TX    ...         NaN        M   1990.0  10222016       M   \n",
       "2      1.0      FL    ...         NaN        M   1940.0  07052016       M   \n",
       "3      1.0      CA    ...         NaN        M   1991.0  10272016       M   \n",
       "4      3.0      NY    ...         NaN        M   1997.0  07042016       F   \n",
       "\n",
       "  insnum airline        admnum  fltno  visatype  \n",
       "0    NaN      JL  5.658267e+10  00782        WT  \n",
       "1    NaN     *GA  9.436200e+10  XBLNG        B2  \n",
       "2    NaN      LH  5.578047e+10  00464        WT  \n",
       "3    NaN      QR  9.478970e+10  00739        B2  \n",
       "4    NaN     NaN  4.232257e+10   LAND        WT  \n",
       "\n",
       "[5 rows x 29 columns]"
      ]
     },
     "execution_count": 12,
     "metadata": {},
     "output_type": "execute_result"
    }
   ],
   "source": [
    "immigration_df.head()"
   ]
  },
  {
   "cell_type": "markdown",
   "metadata": {
    "editable": true
   },
   "source": [
    "##### i94mode"
   ]
  },
  {
   "cell_type": "code",
   "execution_count": 13,
   "metadata": {
    "editable": true
   },
   "outputs": [
    {
     "data": {
      "text/plain": [
       "1.0    962\n",
       "3.0     26\n",
       "2.0     10\n",
       "9.0      2\n",
       "Name: i94mode, dtype: int64"
      ]
     },
     "execution_count": 13,
     "metadata": {},
     "output_type": "execute_result"
    }
   ],
   "source": [
    "# i94 mode - mode types\n",
    "immigration_df['i94mode'].value_counts().head()"
   ]
  },
  {
   "cell_type": "markdown",
   "metadata": {
    "editable": true
   },
   "source": [
    "- i94 mode - Other than 1, 2 & 3 can be removed"
   ]
  },
  {
   "cell_type": "markdown",
   "metadata": {
    "editable": true
   },
   "source": [
    "##### i94addr"
   ]
  },
  {
   "cell_type": "code",
   "execution_count": 14,
   "metadata": {
    "editable": true
   },
   "outputs": [
    {
     "name": "stdout",
     "output_type": "stream",
     "text": [
      "(59, 29)\n"
     ]
    },
    {
     "data": {
      "text/plain": [
       "FL    188\n",
       "CA    163\n",
       "NY    161\n",
       "HI     53\n",
       "TX     42\n",
       "Name: i94addr, dtype: int64"
      ]
     },
     "execution_count": 14,
     "metadata": {},
     "output_type": "execute_result"
    }
   ],
   "source": [
    "# i94addr - City & State code\n",
    "print(immigration_df[immigration_df.i94addr.isnull()].shape)\n",
    "immigration_df['i94addr'].value_counts().head()"
   ]
  },
  {
   "cell_type": "markdown",
   "metadata": {
    "editable": true
   },
   "source": [
    "##### i94bir"
   ]
  },
  {
   "cell_type": "code",
   "execution_count": 15,
   "metadata": {
    "editable": true
   },
   "outputs": [
    {
     "name": "stdout",
     "output_type": "stream",
     "text": [
      "(0, 29)\n"
     ]
    },
    {
     "data": {
      "text/plain": [
       "34.0    29\n",
       "44.0    27\n",
       "40.0    27\n",
       "35.0    26\n",
       "48.0    25\n",
       "Name: i94bir, dtype: int64"
      ]
     },
     "execution_count": 15,
     "metadata": {},
     "output_type": "execute_result"
    }
   ],
   "source": [
    "# i94bir - Age of visitor seems to be ok\n",
    "print(immigration_df[immigration_df.i94bir.isnull()].shape)\n",
    "immigration_df['i94bir'].value_counts().head()"
   ]
  },
  {
   "cell_type": "markdown",
   "metadata": {
    "editable": true
   },
   "source": [
    "##### visapost"
   ]
  },
  {
   "cell_type": "code",
   "execution_count": 16,
   "metadata": {
    "editable": true
   },
   "outputs": [
    {
     "name": "stdout",
     "output_type": "stream",
     "text": [
      "(618, 29)\n"
     ]
    },
    {
     "data": {
      "text/plain": [
       "MEX    28\n",
       "BNS    21\n",
       "BGT    14\n",
       "SPL    14\n",
       "SHG    13\n",
       "Name: visapost, dtype: int64"
      ]
     },
     "execution_count": 16,
     "metadata": {},
     "output_type": "execute_result"
    }
   ],
   "source": [
    "# Country where a person got their visa\n",
    "print(immigration_df[immigration_df.visapost.isnull()].shape)\n",
    "immigration_df['visapost'].value_counts().head()"
   ]
  },
  {
   "cell_type": "markdown",
   "metadata": {
    "editable": true
   },
   "source": [
    "##### occupation"
   ]
  },
  {
   "cell_type": "code",
   "execution_count": 17,
   "metadata": {
    "editable": true
   },
   "outputs": [
    {
     "name": "stdout",
     "output_type": "stream",
     "text": [
      "(996, 29)\n"
     ]
    },
    {
     "data": {
      "text/plain": [
       "STU    2\n",
       "OTH    1\n",
       "PHA    1\n",
       "Name: occup, dtype: int64"
      ]
     },
     "execution_count": 17,
     "metadata": {},
     "output_type": "execute_result"
    }
   ],
   "source": [
    "# Occupation\n",
    "print(immigration_df[immigration_df.occup.isnull()].shape)\n",
    "immigration_df['occup'].value_counts().head()"
   ]
  },
  {
   "cell_type": "markdown",
   "metadata": {
    "editable": true
   },
   "source": [
    "##### Checking entdpa, entdepd and entdepu"
   ]
  },
  {
   "cell_type": "code",
   "execution_count": 18,
   "metadata": {
    "editable": true
   },
   "outputs": [
    {
     "name": "stdout",
     "output_type": "stream",
     "text": [
      "#entdepa\n",
      "(0, 29)\n",
      "G    757\n",
      "O    140\n",
      "A     34\n",
      "Z     26\n",
      "T     26\n",
      "K      6\n",
      "P      5\n",
      "H      4\n",
      "U      2\n",
      "Name: entdepa, dtype: int64\n",
      "#entdepd\n",
      "(46, 29)\n",
      "O    800\n",
      "I     39\n",
      "D     29\n",
      "K     27\n",
      "N     26\n",
      "Q     18\n",
      "R     10\n",
      "W      3\n",
      "J      1\n",
      "L      1\n",
      "Name: entdepd, dtype: int64\n",
      "#entdepu\n",
      "(1000, 29)\n",
      "Series([], Name: entdepu, dtype: int64)\n"
     ]
    }
   ],
   "source": [
    "#print(type(temp))\n",
    "cols = ['entdepa', 'entdepd', 'entdepu']\n",
    "for c in cols:    \n",
    "    print('#{}'.format(c))\n",
    "    print(immigration_df[immigration_df[c].isnull()].shape)\n",
    "    print(immigration_df[c].value_counts())"
   ]
  },
  {
   "cell_type": "markdown",
   "metadata": {
    "editable": true
   },
   "source": [
    "##### matflag"
   ]
  },
  {
   "cell_type": "code",
   "execution_count": 19,
   "metadata": {
    "editable": true
   },
   "outputs": [
    {
     "name": "stdout",
     "output_type": "stream",
     "text": [
      "M    954\n",
      "Name: matflag, dtype: int64\n"
     ]
    },
    {
     "data": {
      "text/html": [
       "<div>\n",
       "<style scoped>\n",
       "    .dataframe tbody tr th:only-of-type {\n",
       "        vertical-align: middle;\n",
       "    }\n",
       "\n",
       "    .dataframe tbody tr th {\n",
       "        vertical-align: top;\n",
       "    }\n",
       "\n",
       "    .dataframe thead th {\n",
       "        text-align: right;\n",
       "    }\n",
       "</style>\n",
       "<table border=\"1\" class=\"dataframe\">\n",
       "  <thead>\n",
       "    <tr style=\"text-align: right;\">\n",
       "      <th></th>\n",
       "      <th>Unnamed: 0</th>\n",
       "      <th>cicid</th>\n",
       "      <th>i94yr</th>\n",
       "      <th>i94mon</th>\n",
       "      <th>i94cit</th>\n",
       "      <th>i94res</th>\n",
       "      <th>i94port</th>\n",
       "      <th>arrdate</th>\n",
       "      <th>i94mode</th>\n",
       "      <th>i94addr</th>\n",
       "      <th>...</th>\n",
       "      <th>entdepu</th>\n",
       "      <th>matflag</th>\n",
       "      <th>biryear</th>\n",
       "      <th>dtaddto</th>\n",
       "      <th>gender</th>\n",
       "      <th>insnum</th>\n",
       "      <th>airline</th>\n",
       "      <th>admnum</th>\n",
       "      <th>fltno</th>\n",
       "      <th>visatype</th>\n",
       "    </tr>\n",
       "  </thead>\n",
       "  <tbody>\n",
       "    <tr>\n",
       "      <th>36</th>\n",
       "      <td>98732</td>\n",
       "      <td>216657.0</td>\n",
       "      <td>2016.0</td>\n",
       "      <td>4.0</td>\n",
       "      <td>696.0</td>\n",
       "      <td>696.0</td>\n",
       "      <td>FTL</td>\n",
       "      <td>20545.0</td>\n",
       "      <td>1.0</td>\n",
       "      <td>FL</td>\n",
       "      <td>...</td>\n",
       "      <td>NaN</td>\n",
       "      <td>NaN</td>\n",
       "      <td>1962.0</td>\n",
       "      <td>09302016</td>\n",
       "      <td>F</td>\n",
       "      <td>NaN</td>\n",
       "      <td>2D</td>\n",
       "      <td>9.251311e+10</td>\n",
       "      <td>00406</td>\n",
       "      <td>B2</td>\n",
       "    </tr>\n",
       "    <tr>\n",
       "      <th>79</th>\n",
       "      <td>2937355</td>\n",
       "      <td>5957654.0</td>\n",
       "      <td>2016.0</td>\n",
       "      <td>4.0</td>\n",
       "      <td>254.0</td>\n",
       "      <td>276.0</td>\n",
       "      <td>SAI</td>\n",
       "      <td>20556.0</td>\n",
       "      <td>1.0</td>\n",
       "      <td>GU</td>\n",
       "      <td>...</td>\n",
       "      <td>NaN</td>\n",
       "      <td>NaN</td>\n",
       "      <td>1996.0</td>\n",
       "      <td>05262016</td>\n",
       "      <td>M</td>\n",
       "      <td>3993.0</td>\n",
       "      <td>7C</td>\n",
       "      <td>4.511468e+10</td>\n",
       "      <td>03404</td>\n",
       "      <td>GMT</td>\n",
       "    </tr>\n",
       "    <tr>\n",
       "      <th>82</th>\n",
       "      <td>3052309</td>\n",
       "      <td>1435383.0</td>\n",
       "      <td>2016.0</td>\n",
       "      <td>4.0</td>\n",
       "      <td>574.0</td>\n",
       "      <td>206.0</td>\n",
       "      <td>BLA</td>\n",
       "      <td>20552.0</td>\n",
       "      <td>3.0</td>\n",
       "      <td>NE</td>\n",
       "      <td>...</td>\n",
       "      <td>NaN</td>\n",
       "      <td>NaN</td>\n",
       "      <td>1955.0</td>\n",
       "      <td>08082016</td>\n",
       "      <td>F</td>\n",
       "      <td>NaN</td>\n",
       "      <td>NaN</td>\n",
       "      <td>8.773307e+10</td>\n",
       "      <td>01788</td>\n",
       "      <td>B2</td>\n",
       "    </tr>\n",
       "    <tr>\n",
       "      <th>100</th>\n",
       "      <td>899737</td>\n",
       "      <td>1843262.0</td>\n",
       "      <td>2016.0</td>\n",
       "      <td>4.0</td>\n",
       "      <td>245.0</td>\n",
       "      <td>245.0</td>\n",
       "      <td>CHI</td>\n",
       "      <td>20554.0</td>\n",
       "      <td>1.0</td>\n",
       "      <td>IN</td>\n",
       "      <td>...</td>\n",
       "      <td>NaN</td>\n",
       "      <td>NaN</td>\n",
       "      <td>1956.0</td>\n",
       "      <td>10092016</td>\n",
       "      <td>F</td>\n",
       "      <td>NaN</td>\n",
       "      <td>AA</td>\n",
       "      <td>9.319157e+10</td>\n",
       "      <td>00186</td>\n",
       "      <td>B2</td>\n",
       "    </tr>\n",
       "    <tr>\n",
       "      <th>106</th>\n",
       "      <td>2068019</td>\n",
       "      <td>4231176.0</td>\n",
       "      <td>2016.0</td>\n",
       "      <td>4.0</td>\n",
       "      <td>586.0</td>\n",
       "      <td>586.0</td>\n",
       "      <td>NYC</td>\n",
       "      <td>20566.0</td>\n",
       "      <td>1.0</td>\n",
       "      <td>NJ</td>\n",
       "      <td>...</td>\n",
       "      <td>NaN</td>\n",
       "      <td>NaN</td>\n",
       "      <td>1948.0</td>\n",
       "      <td>10212016</td>\n",
       "      <td>NaN</td>\n",
       "      <td>NaN</td>\n",
       "      <td>AA</td>\n",
       "      <td>9.425292e+10</td>\n",
       "      <td>02179</td>\n",
       "      <td>B2</td>\n",
       "    </tr>\n",
       "  </tbody>\n",
       "</table>\n",
       "<p>5 rows × 29 columns</p>\n",
       "</div>"
      ],
      "text/plain": [
       "     Unnamed: 0      cicid   i94yr  i94mon  i94cit  i94res i94port  arrdate  \\\n",
       "36        98732   216657.0  2016.0     4.0   696.0   696.0     FTL  20545.0   \n",
       "79      2937355  5957654.0  2016.0     4.0   254.0   276.0     SAI  20556.0   \n",
       "82      3052309  1435383.0  2016.0     4.0   574.0   206.0     BLA  20552.0   \n",
       "100      899737  1843262.0  2016.0     4.0   245.0   245.0     CHI  20554.0   \n",
       "106     2068019  4231176.0  2016.0     4.0   586.0   586.0     NYC  20566.0   \n",
       "\n",
       "     i94mode i94addr    ...     entdepu  matflag  biryear   dtaddto  gender  \\\n",
       "36       1.0      FL    ...         NaN      NaN   1962.0  09302016       F   \n",
       "79       1.0      GU    ...         NaN      NaN   1996.0  05262016       M   \n",
       "82       3.0      NE    ...         NaN      NaN   1955.0  08082016       F   \n",
       "100      1.0      IN    ...         NaN      NaN   1956.0  10092016       F   \n",
       "106      1.0      NJ    ...         NaN      NaN   1948.0  10212016     NaN   \n",
       "\n",
       "     insnum airline        admnum  fltno  visatype  \n",
       "36      NaN      2D  9.251311e+10  00406        B2  \n",
       "79   3993.0      7C  4.511468e+10  03404       GMT  \n",
       "82      NaN     NaN  8.773307e+10  01788        B2  \n",
       "100     NaN      AA  9.319157e+10  00186        B2  \n",
       "106     NaN      AA  9.425292e+10  02179        B2  \n",
       "\n",
       "[5 rows x 29 columns]"
      ]
     },
     "execution_count": 19,
     "metadata": {},
     "output_type": "execute_result"
    }
   ],
   "source": [
    "#match flag\n",
    "print(immigration_df['matflag'].value_counts())\n",
    "temp = immigration_df.copy()\n",
    "#temp['matflag'] = temp.matflag.replace(np.nan,'None')\n",
    "temp[temp['matflag'].isnull()].head()"
   ]
  },
  {
   "cell_type": "markdown",
   "metadata": {
    "editable": true
   },
   "source": [
    "- Remove rows from ***matflag*** with mismatched arrivals/departures"
   ]
  },
  {
   "cell_type": "markdown",
   "metadata": {
    "editable": true
   },
   "source": [
    "##### dtaddto - the date person is admitted into the U.S.\n",
    "- convert date format to a new column\n",
    "- D/S is duration of stay is given to students\n",
    "- This status should be for students only"
   ]
  },
  {
   "cell_type": "code",
   "execution_count": 20,
   "metadata": {
    "editable": true
   },
   "outputs": [
    {
     "name": "stdout",
     "output_type": "stream",
     "text": [
      "Total Students Visa by D/S = 13\n",
      "Total Students Visa by visatype = 13\n"
     ]
    },
    {
     "data": {
      "text/html": [
       "<div>\n",
       "<style scoped>\n",
       "    .dataframe tbody tr th:only-of-type {\n",
       "        vertical-align: middle;\n",
       "    }\n",
       "\n",
       "    .dataframe tbody tr th {\n",
       "        vertical-align: top;\n",
       "    }\n",
       "\n",
       "    .dataframe thead th {\n",
       "        text-align: right;\n",
       "    }\n",
       "</style>\n",
       "<table border=\"1\" class=\"dataframe\">\n",
       "  <thead>\n",
       "    <tr style=\"text-align: right;\">\n",
       "      <th></th>\n",
       "      <th>Unnamed: 0</th>\n",
       "      <th>cicid</th>\n",
       "      <th>i94yr</th>\n",
       "      <th>i94mon</th>\n",
       "      <th>i94cit</th>\n",
       "      <th>i94res</th>\n",
       "      <th>i94port</th>\n",
       "      <th>arrdate</th>\n",
       "      <th>i94mode</th>\n",
       "      <th>i94addr</th>\n",
       "      <th>...</th>\n",
       "      <th>entdepu</th>\n",
       "      <th>matflag</th>\n",
       "      <th>biryear</th>\n",
       "      <th>dtaddto</th>\n",
       "      <th>gender</th>\n",
       "      <th>insnum</th>\n",
       "      <th>airline</th>\n",
       "      <th>admnum</th>\n",
       "      <th>fltno</th>\n",
       "      <th>visatype</th>\n",
       "    </tr>\n",
       "  </thead>\n",
       "  <tbody>\n",
       "    <tr>\n",
       "      <th>70</th>\n",
       "      <td>1773904</td>\n",
       "      <td>3599863.0</td>\n",
       "      <td>2016.0</td>\n",
       "      <td>4.0</td>\n",
       "      <td>582.0</td>\n",
       "      <td>582.0</td>\n",
       "      <td>HOU</td>\n",
       "      <td>20563.0</td>\n",
       "      <td>1.0</td>\n",
       "      <td>TX</td>\n",
       "      <td>...</td>\n",
       "      <td>NaN</td>\n",
       "      <td>M</td>\n",
       "      <td>1974.0</td>\n",
       "      <td>D/S</td>\n",
       "      <td>F</td>\n",
       "      <td>NaN</td>\n",
       "      <td>WN</td>\n",
       "      <td>9.399116e+10</td>\n",
       "      <td>02831</td>\n",
       "      <td>F1</td>\n",
       "    </tr>\n",
       "    <tr>\n",
       "      <th>238</th>\n",
       "      <td>262355</td>\n",
       "      <td>513953.0</td>\n",
       "      <td>2016.0</td>\n",
       "      <td>4.0</td>\n",
       "      <td>268.0</td>\n",
       "      <td>268.0</td>\n",
       "      <td>LOS</td>\n",
       "      <td>20547.0</td>\n",
       "      <td>1.0</td>\n",
       "      <td>CA</td>\n",
       "      <td>...</td>\n",
       "      <td>NaN</td>\n",
       "      <td>M</td>\n",
       "      <td>1997.0</td>\n",
       "      <td>D/S</td>\n",
       "      <td>M</td>\n",
       "      <td>NaN</td>\n",
       "      <td>BR</td>\n",
       "      <td>9.268561e+10</td>\n",
       "      <td>00012</td>\n",
       "      <td>F1</td>\n",
       "    </tr>\n",
       "    <tr>\n",
       "      <th>274</th>\n",
       "      <td>1082384</td>\n",
       "      <td>2209111.0</td>\n",
       "      <td>2016.0</td>\n",
       "      <td>4.0</td>\n",
       "      <td>268.0</td>\n",
       "      <td>268.0</td>\n",
       "      <td>SFR</td>\n",
       "      <td>20556.0</td>\n",
       "      <td>1.0</td>\n",
       "      <td>MA</td>\n",
       "      <td>...</td>\n",
       "      <td>NaN</td>\n",
       "      <td>M</td>\n",
       "      <td>1990.0</td>\n",
       "      <td>D/S</td>\n",
       "      <td>F</td>\n",
       "      <td>NaN</td>\n",
       "      <td>UA</td>\n",
       "      <td>9.332991e+10</td>\n",
       "      <td>00872</td>\n",
       "      <td>F1</td>\n",
       "    </tr>\n",
       "    <tr>\n",
       "      <th>337</th>\n",
       "      <td>2749532</td>\n",
       "      <td>5514177.0</td>\n",
       "      <td>2016.0</td>\n",
       "      <td>4.0</td>\n",
       "      <td>343.0</td>\n",
       "      <td>343.0</td>\n",
       "      <td>HOU</td>\n",
       "      <td>20573.0</td>\n",
       "      <td>1.0</td>\n",
       "      <td>TX</td>\n",
       "      <td>...</td>\n",
       "      <td>NaN</td>\n",
       "      <td>NaN</td>\n",
       "      <td>2013.0</td>\n",
       "      <td>D/S</td>\n",
       "      <td>M</td>\n",
       "      <td>NaN</td>\n",
       "      <td>EK</td>\n",
       "      <td>9.488994e+10</td>\n",
       "      <td>00211</td>\n",
       "      <td>F2</td>\n",
       "    </tr>\n",
       "    <tr>\n",
       "      <th>415</th>\n",
       "      <td>692967</td>\n",
       "      <td>1400880.0</td>\n",
       "      <td>2016.0</td>\n",
       "      <td>4.0</td>\n",
       "      <td>213.0</td>\n",
       "      <td>213.0</td>\n",
       "      <td>NEW</td>\n",
       "      <td>20552.0</td>\n",
       "      <td>1.0</td>\n",
       "      <td>NJ</td>\n",
       "      <td>...</td>\n",
       "      <td>NaN</td>\n",
       "      <td>NaN</td>\n",
       "      <td>2014.0</td>\n",
       "      <td>D/S</td>\n",
       "      <td>M</td>\n",
       "      <td>NaN</td>\n",
       "      <td>AI</td>\n",
       "      <td>7.258104e+08</td>\n",
       "      <td>191</td>\n",
       "      <td>F2</td>\n",
       "    </tr>\n",
       "  </tbody>\n",
       "</table>\n",
       "<p>5 rows × 29 columns</p>\n",
       "</div>"
      ],
      "text/plain": [
       "     Unnamed: 0      cicid   i94yr  i94mon  i94cit  i94res i94port  arrdate  \\\n",
       "70      1773904  3599863.0  2016.0     4.0   582.0   582.0     HOU  20563.0   \n",
       "238      262355   513953.0  2016.0     4.0   268.0   268.0     LOS  20547.0   \n",
       "274     1082384  2209111.0  2016.0     4.0   268.0   268.0     SFR  20556.0   \n",
       "337     2749532  5514177.0  2016.0     4.0   343.0   343.0     HOU  20573.0   \n",
       "415      692967  1400880.0  2016.0     4.0   213.0   213.0     NEW  20552.0   \n",
       "\n",
       "     i94mode i94addr    ...     entdepu  matflag  biryear  dtaddto  gender  \\\n",
       "70       1.0      TX    ...         NaN        M   1974.0      D/S       F   \n",
       "238      1.0      CA    ...         NaN        M   1997.0      D/S       M   \n",
       "274      1.0      MA    ...         NaN        M   1990.0      D/S       F   \n",
       "337      1.0      TX    ...         NaN      NaN   2013.0      D/S       M   \n",
       "415      1.0      NJ    ...         NaN      NaN   2014.0      D/S       M   \n",
       "\n",
       "    insnum airline        admnum  fltno  visatype  \n",
       "70     NaN      WN  9.399116e+10  02831        F1  \n",
       "238    NaN      BR  9.268561e+10  00012        F1  \n",
       "274    NaN      UA  9.332991e+10  00872        F1  \n",
       "337    NaN      EK  9.488994e+10  00211        F2  \n",
       "415    NaN      AI  7.258104e+08    191        F2  \n",
       "\n",
       "[5 rows x 29 columns]"
      ]
     },
     "execution_count": 20,
     "metadata": {},
     "output_type": "execute_result"
    }
   ],
   "source": [
    "print('Total Students Visa by D/S = {}'.format(immigration_df[immigration_df.dtaddto == 'D/S'].shape[0]))\n",
    "temp = ['F1', 'F2', 'F3']\n",
    "print('Total Students Visa by visatype = {}'.format(immigration_df[immigration_df.visatype.isin(temp)].shape[0]))\n",
    "immigration_df[immigration_df.dtaddto == 'D/S'].head()"
   ]
  },
  {
   "cell_type": "code",
   "execution_count": 21,
   "metadata": {
    "editable": true
   },
   "outputs": [
    {
     "data": {
      "text/html": [
       "<div>\n",
       "<style scoped>\n",
       "    .dataframe tbody tr th:only-of-type {\n",
       "        vertical-align: middle;\n",
       "    }\n",
       "\n",
       "    .dataframe tbody tr th {\n",
       "        vertical-align: top;\n",
       "    }\n",
       "\n",
       "    .dataframe thead th {\n",
       "        text-align: right;\n",
       "    }\n",
       "</style>\n",
       "<table border=\"1\" class=\"dataframe\">\n",
       "  <thead>\n",
       "    <tr style=\"text-align: right;\">\n",
       "      <th></th>\n",
       "      <th>dtaddto</th>\n",
       "      <th>allowed_until</th>\n",
       "    </tr>\n",
       "  </thead>\n",
       "  <tbody>\n",
       "    <tr>\n",
       "      <th>0</th>\n",
       "      <td>07202016</td>\n",
       "      <td>2016-07-20</td>\n",
       "    </tr>\n",
       "    <tr>\n",
       "      <th>1</th>\n",
       "      <td>10222016</td>\n",
       "      <td>2016-10-22</td>\n",
       "    </tr>\n",
       "    <tr>\n",
       "      <th>2</th>\n",
       "      <td>07052016</td>\n",
       "      <td>2016-07-05</td>\n",
       "    </tr>\n",
       "    <tr>\n",
       "      <th>3</th>\n",
       "      <td>10272016</td>\n",
       "      <td>2016-10-27</td>\n",
       "    </tr>\n",
       "    <tr>\n",
       "      <th>4</th>\n",
       "      <td>07042016</td>\n",
       "      <td>2016-07-04</td>\n",
       "    </tr>\n",
       "  </tbody>\n",
       "</table>\n",
       "</div>"
      ],
      "text/plain": [
       "    dtaddto allowed_until\n",
       "0  07202016    2016-07-20\n",
       "1  10222016    2016-10-22\n",
       "2  07052016    2016-07-05\n",
       "3  10272016    2016-10-27\n",
       "4  07042016    2016-07-04"
      ]
     },
     "execution_count": 21,
     "metadata": {},
     "output_type": "execute_result"
    }
   ],
   "source": [
    "# Format and add new column\n",
    "temp = immigration_df[['dtaddto']].copy()\n",
    "temp['allowed_until'] = pd.to_datetime(temp['dtaddto'], format=\"%m%d%Y\", errors='coerce')\n",
    "temp.head()"
   ]
  },
  {
   "cell_type": "markdown",
   "metadata": {
    "editable": true
   },
   "source": [
    "##### gender"
   ]
  },
  {
   "cell_type": "code",
   "execution_count": 22,
   "metadata": {
    "editable": true
   },
   "outputs": [
    {
     "data": {
      "text/plain": [
       "M    471\n",
       "F    386\n",
       "X      2\n",
       "Name: gender, dtype: int64"
      ]
     },
     "execution_count": 22,
     "metadata": {},
     "output_type": "execute_result"
    }
   ],
   "source": [
    "immigration_df.gender.value_counts()"
   ]
  },
  {
   "cell_type": "markdown",
   "metadata": {
    "editable": true
   },
   "source": [
    "- gender X denotes people who do not identify as male or female\n",
    "- per the US Visa regulations, three genders are supported M/F/O.  So X can be converted to O."
   ]
  },
  {
   "cell_type": "code",
   "execution_count": 23,
   "metadata": {
    "editable": true
   },
   "outputs": [
    {
     "name": "stdout",
     "output_type": "stream",
     "text": [
      "(143, 29)\n",
      "(141, 29)\n"
     ]
    },
    {
     "data": {
      "text/html": [
       "<div>\n",
       "<style scoped>\n",
       "    .dataframe tbody tr th:only-of-type {\n",
       "        vertical-align: middle;\n",
       "    }\n",
       "\n",
       "    .dataframe tbody tr th {\n",
       "        vertical-align: top;\n",
       "    }\n",
       "\n",
       "    .dataframe thead th {\n",
       "        text-align: right;\n",
       "    }\n",
       "</style>\n",
       "<table border=\"1\" class=\"dataframe\">\n",
       "  <thead>\n",
       "    <tr style=\"text-align: right;\">\n",
       "      <th></th>\n",
       "      <th>Unnamed: 0</th>\n",
       "      <th>cicid</th>\n",
       "      <th>i94yr</th>\n",
       "      <th>i94mon</th>\n",
       "      <th>i94cit</th>\n",
       "      <th>i94res</th>\n",
       "      <th>i94port</th>\n",
       "      <th>arrdate</th>\n",
       "      <th>i94mode</th>\n",
       "      <th>i94addr</th>\n",
       "      <th>...</th>\n",
       "      <th>entdepu</th>\n",
       "      <th>matflag</th>\n",
       "      <th>biryear</th>\n",
       "      <th>dtaddto</th>\n",
       "      <th>gender</th>\n",
       "      <th>insnum</th>\n",
       "      <th>airline</th>\n",
       "      <th>admnum</th>\n",
       "      <th>fltno</th>\n",
       "      <th>visatype</th>\n",
       "    </tr>\n",
       "  </thead>\n",
       "  <tbody>\n",
       "    <tr>\n",
       "      <th>680</th>\n",
       "      <td>2909398</td>\n",
       "      <td>5902022.0</td>\n",
       "      <td>2016.0</td>\n",
       "      <td>4.0</td>\n",
       "      <td>112.0</td>\n",
       "      <td>112.0</td>\n",
       "      <td>HHW</td>\n",
       "      <td>20559.0</td>\n",
       "      <td>9.0</td>\n",
       "      <td>NaN</td>\n",
       "      <td>...</td>\n",
       "      <td>NaN</td>\n",
       "      <td>NaN</td>\n",
       "      <td>1961.0</td>\n",
       "      <td>07142016</td>\n",
       "      <td>X</td>\n",
       "      <td>3517.0</td>\n",
       "      <td>NaN</td>\n",
       "      <td>4.711430e+10</td>\n",
       "      <td>NaN</td>\n",
       "      <td>WT</td>\n",
       "    </tr>\n",
       "    <tr>\n",
       "      <th>879</th>\n",
       "      <td>3015485</td>\n",
       "      <td>6046172.0</td>\n",
       "      <td>2016.0</td>\n",
       "      <td>4.0</td>\n",
       "      <td>254.0</td>\n",
       "      <td>276.0</td>\n",
       "      <td>SAI</td>\n",
       "      <td>20569.0</td>\n",
       "      <td>1.0</td>\n",
       "      <td>NaN</td>\n",
       "      <td>...</td>\n",
       "      <td>NaN</td>\n",
       "      <td>M</td>\n",
       "      <td>2005.0</td>\n",
       "      <td>06082016</td>\n",
       "      <td>X</td>\n",
       "      <td>3980.0</td>\n",
       "      <td>OZ</td>\n",
       "      <td>4.616520e+10</td>\n",
       "      <td>NaN</td>\n",
       "      <td>GMT</td>\n",
       "    </tr>\n",
       "  </tbody>\n",
       "</table>\n",
       "<p>2 rows × 29 columns</p>\n",
       "</div>"
      ],
      "text/plain": [
       "     Unnamed: 0      cicid   i94yr  i94mon  i94cit  i94res i94port  arrdate  \\\n",
       "680     2909398  5902022.0  2016.0     4.0   112.0   112.0     HHW  20559.0   \n",
       "879     3015485  6046172.0  2016.0     4.0   254.0   276.0     SAI  20569.0   \n",
       "\n",
       "     i94mode i94addr    ...     entdepu  matflag  biryear   dtaddto  gender  \\\n",
       "680      9.0     NaN    ...         NaN      NaN   1961.0  07142016       X   \n",
       "879      1.0     NaN    ...         NaN        M   2005.0  06082016       X   \n",
       "\n",
       "     insnum airline        admnum fltno  visatype  \n",
       "680  3517.0     NaN  4.711430e+10   NaN        WT  \n",
       "879  3980.0      OZ  4.616520e+10   NaN       GMT  \n",
       "\n",
       "[2 rows x 29 columns]"
      ]
     },
     "execution_count": 23,
     "metadata": {},
     "output_type": "execute_result"
    }
   ],
   "source": [
    "temp = ['M','F','O']\n",
    "print(immigration_df[~immigration_df.gender.isin(temp)].shape)\n",
    "print(immigration_df[immigration_df.gender.isnull()].shape)\n",
    "immigration_df[(~immigration_df.gender.isin(temp)) & (immigration_df.gender.notnull())]"
   ]
  },
  {
   "cell_type": "markdown",
   "metadata": {
    "editable": true
   },
   "source": [
    "##### fltno"
   ]
  },
  {
   "cell_type": "code",
   "execution_count": 24,
   "metadata": {
    "editable": true
   },
   "outputs": [
    {
     "name": "stdout",
     "output_type": "stream",
     "text": [
      "(8, 29)\n"
     ]
    },
    {
     "data": {
      "text/plain": [
       "LAND     19\n",
       "00001    12\n",
       "00008    12\n",
       "00102     7\n",
       "00003     7\n",
       "Name: fltno, dtype: int64"
      ]
     },
     "execution_count": 24,
     "metadata": {},
     "output_type": "execute_result"
    }
   ],
   "source": [
    "# fltno\n",
    "print(immigration_df[immigration_df.fltno.isnull()].shape)\n",
    "immigration_df['fltno'].value_counts().head()"
   ]
  },
  {
   "cell_type": "markdown",
   "metadata": {
    "editable": true
   },
   "source": [
    "- drop NULLs"
   ]
  },
  {
   "cell_type": "markdown",
   "metadata": {
    "editable": true
   },
   "source": [
    "##### airline"
   ]
  },
  {
   "cell_type": "code",
   "execution_count": 25,
   "metadata": {
    "editable": true
   },
   "outputs": [
    {
     "name": "stdout",
     "output_type": "stream",
     "text": [
      "(33, 29)\n"
     ]
    },
    {
     "data": {
      "text/plain": [
       "AA    109\n",
       "UA     84\n",
       "DL     77\n",
       "BA     53\n",
       "LH     45\n",
       "Name: airline, dtype: int64"
      ]
     },
     "execution_count": 25,
     "metadata": {},
     "output_type": "execute_result"
    }
   ],
   "source": [
    "# airline\n",
    "print(immigration_df[immigration_df.airline.isnull()].shape)\n",
    "immigration_df['airline'].value_counts().head()"
   ]
  },
  {
   "cell_type": "markdown",
   "metadata": {
    "editable": true
   },
   "source": [
    "##### visatype"
   ]
  },
  {
   "cell_type": "code",
   "execution_count": 26,
   "metadata": {
    "editable": true
   },
   "outputs": [
    {
     "name": "stdout",
     "output_type": "stream",
     "text": [
      "(0, 29)\n"
     ]
    },
    {
     "data": {
      "text/plain": [
       "WT     443\n",
       "B2     356\n",
       "WB      91\n",
       "B1      61\n",
       "GMT     27\n",
       "Name: visatype, dtype: int64"
      ]
     },
     "execution_count": 26,
     "metadata": {},
     "output_type": "execute_result"
    }
   ],
   "source": [
    "# Visatype\n",
    "print(immigration_df[immigration_df.visatype.isnull()].shape)\n",
    "immigration_df['visatype'].value_counts().head()"
   ]
  },
  {
   "cell_type": "markdown",
   "metadata": {
    "editable": true
   },
   "source": [
    "- ***visatype*** GMT is not valid so can be deleted"
   ]
  },
  {
   "cell_type": "markdown",
   "metadata": {
    "editable": true
   },
   "source": [
    "- Verify if when visatype =  WT that the visapost is always NULL"
   ]
  },
  {
   "cell_type": "code",
   "execution_count": 27,
   "metadata": {
    "editable": true
   },
   "outputs": [
    {
     "data": {
      "text/html": [
       "<div>\n",
       "<style scoped>\n",
       "    .dataframe tbody tr th:only-of-type {\n",
       "        vertical-align: middle;\n",
       "    }\n",
       "\n",
       "    .dataframe tbody tr th {\n",
       "        vertical-align: top;\n",
       "    }\n",
       "\n",
       "    .dataframe thead th {\n",
       "        text-align: right;\n",
       "    }\n",
       "</style>\n",
       "<table border=\"1\" class=\"dataframe\">\n",
       "  <thead>\n",
       "    <tr style=\"text-align: right;\">\n",
       "      <th></th>\n",
       "      <th>Unnamed: 0</th>\n",
       "      <th>cicid</th>\n",
       "      <th>i94yr</th>\n",
       "      <th>i94mon</th>\n",
       "      <th>i94cit</th>\n",
       "      <th>i94res</th>\n",
       "      <th>i94port</th>\n",
       "      <th>arrdate</th>\n",
       "      <th>i94mode</th>\n",
       "      <th>i94addr</th>\n",
       "      <th>...</th>\n",
       "      <th>entdepu</th>\n",
       "      <th>matflag</th>\n",
       "      <th>biryear</th>\n",
       "      <th>dtaddto</th>\n",
       "      <th>gender</th>\n",
       "      <th>insnum</th>\n",
       "      <th>airline</th>\n",
       "      <th>admnum</th>\n",
       "      <th>fltno</th>\n",
       "      <th>visatype</th>\n",
       "    </tr>\n",
       "  </thead>\n",
       "  <tbody>\n",
       "    <tr>\n",
       "      <th>0</th>\n",
       "      <td>2027561</td>\n",
       "      <td>4084316.0</td>\n",
       "      <td>2016.0</td>\n",
       "      <td>4.0</td>\n",
       "      <td>209.0</td>\n",
       "      <td>209.0</td>\n",
       "      <td>HHW</td>\n",
       "      <td>20566.0</td>\n",
       "      <td>1.0</td>\n",
       "      <td>HI</td>\n",
       "      <td>...</td>\n",
       "      <td>NaN</td>\n",
       "      <td>M</td>\n",
       "      <td>1955.0</td>\n",
       "      <td>07202016</td>\n",
       "      <td>F</td>\n",
       "      <td>NaN</td>\n",
       "      <td>JL</td>\n",
       "      <td>5.658267e+10</td>\n",
       "      <td>00782</td>\n",
       "      <td>WT</td>\n",
       "    </tr>\n",
       "    <tr>\n",
       "      <th>2</th>\n",
       "      <td>589494</td>\n",
       "      <td>1195600.0</td>\n",
       "      <td>2016.0</td>\n",
       "      <td>4.0</td>\n",
       "      <td>148.0</td>\n",
       "      <td>112.0</td>\n",
       "      <td>OGG</td>\n",
       "      <td>20551.0</td>\n",
       "      <td>1.0</td>\n",
       "      <td>FL</td>\n",
       "      <td>...</td>\n",
       "      <td>NaN</td>\n",
       "      <td>M</td>\n",
       "      <td>1940.0</td>\n",
       "      <td>07052016</td>\n",
       "      <td>M</td>\n",
       "      <td>NaN</td>\n",
       "      <td>LH</td>\n",
       "      <td>5.578047e+10</td>\n",
       "      <td>00464</td>\n",
       "      <td>WT</td>\n",
       "    </tr>\n",
       "    <tr>\n",
       "      <th>4</th>\n",
       "      <td>3032257</td>\n",
       "      <td>985523.0</td>\n",
       "      <td>2016.0</td>\n",
       "      <td>4.0</td>\n",
       "      <td>111.0</td>\n",
       "      <td>111.0</td>\n",
       "      <td>CHM</td>\n",
       "      <td>20550.0</td>\n",
       "      <td>3.0</td>\n",
       "      <td>NY</td>\n",
       "      <td>...</td>\n",
       "      <td>NaN</td>\n",
       "      <td>M</td>\n",
       "      <td>1997.0</td>\n",
       "      <td>07042016</td>\n",
       "      <td>F</td>\n",
       "      <td>NaN</td>\n",
       "      <td>NaN</td>\n",
       "      <td>4.232257e+10</td>\n",
       "      <td>LAND</td>\n",
       "      <td>WT</td>\n",
       "    </tr>\n",
       "    <tr>\n",
       "      <th>7</th>\n",
       "      <td>112205</td>\n",
       "      <td>232708.0</td>\n",
       "      <td>2016.0</td>\n",
       "      <td>4.0</td>\n",
       "      <td>113.0</td>\n",
       "      <td>135.0</td>\n",
       "      <td>NYC</td>\n",
       "      <td>20546.0</td>\n",
       "      <td>1.0</td>\n",
       "      <td>NY</td>\n",
       "      <td>...</td>\n",
       "      <td>NaN</td>\n",
       "      <td>M</td>\n",
       "      <td>1983.0</td>\n",
       "      <td>06302016</td>\n",
       "      <td>F</td>\n",
       "      <td>NaN</td>\n",
       "      <td>BA</td>\n",
       "      <td>5.547449e+10</td>\n",
       "      <td>00117</td>\n",
       "      <td>WT</td>\n",
       "    </tr>\n",
       "    <tr>\n",
       "      <th>8</th>\n",
       "      <td>2577162</td>\n",
       "      <td>5227851.0</td>\n",
       "      <td>2016.0</td>\n",
       "      <td>4.0</td>\n",
       "      <td>131.0</td>\n",
       "      <td>131.0</td>\n",
       "      <td>CHI</td>\n",
       "      <td>20572.0</td>\n",
       "      <td>1.0</td>\n",
       "      <td>IL</td>\n",
       "      <td>...</td>\n",
       "      <td>NaN</td>\n",
       "      <td>M</td>\n",
       "      <td>1977.0</td>\n",
       "      <td>07262016</td>\n",
       "      <td>NaN</td>\n",
       "      <td>NaN</td>\n",
       "      <td>LX</td>\n",
       "      <td>5.941342e+10</td>\n",
       "      <td>00008</td>\n",
       "      <td>WT</td>\n",
       "    </tr>\n",
       "  </tbody>\n",
       "</table>\n",
       "<p>5 rows × 29 columns</p>\n",
       "</div>"
      ],
      "text/plain": [
       "   Unnamed: 0      cicid   i94yr  i94mon  i94cit  i94res i94port  arrdate  \\\n",
       "0     2027561  4084316.0  2016.0     4.0   209.0   209.0     HHW  20566.0   \n",
       "2      589494  1195600.0  2016.0     4.0   148.0   112.0     OGG  20551.0   \n",
       "4     3032257   985523.0  2016.0     4.0   111.0   111.0     CHM  20550.0   \n",
       "7      112205   232708.0  2016.0     4.0   113.0   135.0     NYC  20546.0   \n",
       "8     2577162  5227851.0  2016.0     4.0   131.0   131.0     CHI  20572.0   \n",
       "\n",
       "   i94mode i94addr    ...     entdepu  matflag  biryear   dtaddto  gender  \\\n",
       "0      1.0      HI    ...         NaN        M   1955.0  07202016       F   \n",
       "2      1.0      FL    ...         NaN        M   1940.0  07052016       M   \n",
       "4      3.0      NY    ...         NaN        M   1997.0  07042016       F   \n",
       "7      1.0      NY    ...         NaN        M   1983.0  06302016       F   \n",
       "8      1.0      IL    ...         NaN        M   1977.0  07262016     NaN   \n",
       "\n",
       "  insnum airline        admnum  fltno  visatype  \n",
       "0    NaN      JL  5.658267e+10  00782        WT  \n",
       "2    NaN      LH  5.578047e+10  00464        WT  \n",
       "4    NaN     NaN  4.232257e+10   LAND        WT  \n",
       "7    NaN      BA  5.547449e+10  00117        WT  \n",
       "8    NaN      LX  5.941342e+10  00008        WT  \n",
       "\n",
       "[5 rows x 29 columns]"
      ]
     },
     "execution_count": 27,
     "metadata": {},
     "output_type": "execute_result"
    }
   ],
   "source": [
    "immigration_df[immigration_df.visatype =='WT'].head()"
   ]
  },
  {
   "cell_type": "markdown",
   "metadata": {
    "editable": true
   },
   "source": [
    "***Assessment: I94***"
   ]
  },
  {
   "cell_type": "markdown",
   "metadata": {
    "editable": true
   },
   "source": [
    "***Only remaining columns will be kept for further analysis: i94cit, i94res, i94port, arrdate, i94mode, depdate, i94bir, i94visa, biryear, gender, airline, admnum, fltno, visatype***\n",
    "\n",
    "***Assessing other datasets that can possibly be joined with i94 dataset***"
   ]
  },
  {
   "cell_type": "markdown",
   "metadata": {
    "editable": true
   },
   "source": [
    "#### Point of Entry Data\n",
    "##### PoE_df - Point of Entry\n",
    "- mapped with immigration_df(i94port)\n",
    "- split columns city,state to separate columns city and state"
   ]
  },
  {
   "cell_type": "code",
   "execution_count": 28,
   "metadata": {
    "editable": true
   },
   "outputs": [
    {
     "data": {
      "text/html": [
       "<div>\n",
       "<style scoped>\n",
       "    .dataframe tbody tr th:only-of-type {\n",
       "        vertical-align: middle;\n",
       "    }\n",
       "\n",
       "    .dataframe tbody tr th {\n",
       "        vertical-align: top;\n",
       "    }\n",
       "\n",
       "    .dataframe thead th {\n",
       "        text-align: right;\n",
       "    }\n",
       "</style>\n",
       "<table border=\"1\" class=\"dataframe\">\n",
       "  <thead>\n",
       "    <tr style=\"text-align: right;\">\n",
       "      <th></th>\n",
       "      <th>code</th>\n",
       "      <th>citystate</th>\n",
       "    </tr>\n",
       "  </thead>\n",
       "  <tbody>\n",
       "    <tr>\n",
       "      <th>0</th>\n",
       "      <td>ALC</td>\n",
       "      <td>ALCAN, AK</td>\n",
       "    </tr>\n",
       "    <tr>\n",
       "      <th>1</th>\n",
       "      <td>ANC</td>\n",
       "      <td>ANCHORAGE, AK</td>\n",
       "    </tr>\n",
       "    <tr>\n",
       "      <th>2</th>\n",
       "      <td>BAR</td>\n",
       "      <td>BAKER AAF - BAKER ISLAND, AK</td>\n",
       "    </tr>\n",
       "    <tr>\n",
       "      <th>3</th>\n",
       "      <td>DAC</td>\n",
       "      <td>DALTONS CACHE, AK</td>\n",
       "    </tr>\n",
       "    <tr>\n",
       "      <th>4</th>\n",
       "      <td>PIZ</td>\n",
       "      <td>DEW STATION PT LAY DEW, AK</td>\n",
       "    </tr>\n",
       "  </tbody>\n",
       "</table>\n",
       "</div>"
      ],
      "text/plain": [
       "  code                     citystate\n",
       "0  ALC        ALCAN, AK             \n",
       "1  ANC        ANCHORAGE, AK         \n",
       "2  BAR  BAKER AAF - BAKER ISLAND, AK\n",
       "3  DAC        DALTONS CACHE, AK     \n",
       "4  PIZ    DEW STATION PT LAY DEW, AK"
      ]
     },
     "execution_count": 28,
     "metadata": {},
     "output_type": "execute_result"
    }
   ],
   "source": [
    "PoE_df.head()"
   ]
  },
  {
   "cell_type": "code",
   "execution_count": 29,
   "metadata": {
    "editable": true
   },
   "outputs": [
    {
     "data": {
      "text/html": [
       "<div>\n",
       "<style scoped>\n",
       "    .dataframe tbody tr th:only-of-type {\n",
       "        vertical-align: middle;\n",
       "    }\n",
       "\n",
       "    .dataframe tbody tr th {\n",
       "        vertical-align: top;\n",
       "    }\n",
       "\n",
       "    .dataframe thead th {\n",
       "        text-align: right;\n",
       "    }\n",
       "</style>\n",
       "<table border=\"1\" class=\"dataframe\">\n",
       "  <thead>\n",
       "    <tr style=\"text-align: right;\">\n",
       "      <th></th>\n",
       "      <th>code</th>\n",
       "      <th>citystate</th>\n",
       "      <th>city</th>\n",
       "      <th>state</th>\n",
       "    </tr>\n",
       "  </thead>\n",
       "  <tbody>\n",
       "    <tr>\n",
       "      <th>0</th>\n",
       "      <td>ALC</td>\n",
       "      <td>ALCAN, AK</td>\n",
       "      <td>ALCAN</td>\n",
       "      <td>AK</td>\n",
       "    </tr>\n",
       "    <tr>\n",
       "      <th>1</th>\n",
       "      <td>ANC</td>\n",
       "      <td>ANCHORAGE, AK</td>\n",
       "      <td>ANCHORAGE</td>\n",
       "      <td>AK</td>\n",
       "    </tr>\n",
       "    <tr>\n",
       "      <th>2</th>\n",
       "      <td>BAR</td>\n",
       "      <td>BAKER AAF - BAKER ISLAND, AK</td>\n",
       "      <td>BAKER AAF - BAKER ISLAND</td>\n",
       "      <td>AK</td>\n",
       "    </tr>\n",
       "    <tr>\n",
       "      <th>3</th>\n",
       "      <td>DAC</td>\n",
       "      <td>DALTONS CACHE, AK</td>\n",
       "      <td>DALTONS CACHE</td>\n",
       "      <td>AK</td>\n",
       "    </tr>\n",
       "    <tr>\n",
       "      <th>4</th>\n",
       "      <td>PIZ</td>\n",
       "      <td>DEW STATION PT LAY DEW, AK</td>\n",
       "      <td>DEW STATION PT LAY DEW</td>\n",
       "      <td>AK</td>\n",
       "    </tr>\n",
       "  </tbody>\n",
       "</table>\n",
       "</div>"
      ],
      "text/plain": [
       "  code                     citystate                      city state\n",
       "0  ALC                     ALCAN, AK                     ALCAN    AK\n",
       "1  ANC                 ANCHORAGE, AK                 ANCHORAGE    AK\n",
       "2  BAR  BAKER AAF - BAKER ISLAND, AK  BAKER AAF - BAKER ISLAND    AK\n",
       "3  DAC             DALTONS CACHE, AK             DALTONS CACHE    AK\n",
       "4  PIZ    DEW STATION PT LAY DEW, AK    DEW STATION PT LAY DEW    AK"
      ]
     },
     "execution_count": 29,
     "metadata": {},
     "output_type": "execute_result"
    }
   ],
   "source": [
    "test = PoE_df.copy()\n",
    "test[\"citystate\"] = test[\"citystate\"].map(str.strip)\n",
    "\n",
    "#test['citystate'].str.split(r'\\s*,\\s*(?=[A-Z])', expand=True)\n",
    "test[['city', 'state']] = test['citystate'].str.rsplit(\",\",n=1, expand=True)\n",
    "test['city'] = test['city'].str.strip()\n",
    "test['state'] = test['state'].str.strip()\n",
    "\n",
    "# Strip all columns\n",
    "test = strip_all_columns(test)\n",
    "#for col in test.columns:\n",
    "#    test[col] = test[col].str.strip()\n",
    "    \n",
    "test.head()"
   ]
  },
  {
   "cell_type": "markdown",
   "metadata": {
    "editable": true
   },
   "source": [
    "- correct the state column"
   ]
  },
  {
   "cell_type": "code",
   "execution_count": 30,
   "metadata": {
    "editable": true
   },
   "outputs": [
    {
     "data": {
      "text/html": [
       "<div>\n",
       "<style scoped>\n",
       "    .dataframe tbody tr th:only-of-type {\n",
       "        vertical-align: middle;\n",
       "    }\n",
       "\n",
       "    .dataframe tbody tr th {\n",
       "        vertical-align: top;\n",
       "    }\n",
       "\n",
       "    .dataframe thead th {\n",
       "        text-align: right;\n",
       "    }\n",
       "</style>\n",
       "<table border=\"1\" class=\"dataframe\">\n",
       "  <thead>\n",
       "    <tr style=\"text-align: right;\">\n",
       "      <th></th>\n",
       "      <th>code</th>\n",
       "      <th>citystate</th>\n",
       "      <th>city</th>\n",
       "      <th>state</th>\n",
       "    </tr>\n",
       "  </thead>\n",
       "  <tbody>\n",
       "    <tr>\n",
       "      <th>25</th>\n",
       "      <td>ROG</td>\n",
       "      <td>ROGERS ARPT, AR</td>\n",
       "      <td>ROGERS ARPT</td>\n",
       "      <td>AR</td>\n",
       "    </tr>\n",
       "    <tr>\n",
       "      <th>65</th>\n",
       "      <td>ASE</td>\n",
       "      <td>ASPEN, CO #ARPT</td>\n",
       "      <td>ASPEN</td>\n",
       "      <td>CO #ARPT</td>\n",
       "    </tr>\n",
       "  </tbody>\n",
       "</table>\n",
       "</div>"
      ],
      "text/plain": [
       "   code        citystate         city     state\n",
       "25  ROG  ROGERS ARPT, AR  ROGERS ARPT        AR\n",
       "65  ASE  ASPEN, CO #ARPT        ASPEN  CO #ARPT"
      ]
     },
     "execution_count": 30,
     "metadata": {},
     "output_type": "execute_result"
    }
   ],
   "source": [
    "# Last CSV column is suppose to be STATE code\n",
    "# #ARPT is Airport abbrev. Replace that with blank string.\n",
    "test[test.citystate.str.contains('ARPT')].head(2)"
   ]
  },
  {
   "cell_type": "code",
   "execution_count": 31,
   "metadata": {
    "editable": true
   },
   "outputs": [
    {
     "data": {
      "text/html": [
       "<div>\n",
       "<style scoped>\n",
       "    .dataframe tbody tr th:only-of-type {\n",
       "        vertical-align: middle;\n",
       "    }\n",
       "\n",
       "    .dataframe tbody tr th {\n",
       "        vertical-align: top;\n",
       "    }\n",
       "\n",
       "    .dataframe thead th {\n",
       "        text-align: right;\n",
       "    }\n",
       "</style>\n",
       "<table border=\"1\" class=\"dataframe\">\n",
       "  <thead>\n",
       "    <tr style=\"text-align: right;\">\n",
       "      <th></th>\n",
       "      <th>code</th>\n",
       "      <th>citystate</th>\n",
       "      <th>city</th>\n",
       "      <th>state</th>\n",
       "    </tr>\n",
       "  </thead>\n",
       "  <tbody>\n",
       "    <tr>\n",
       "      <th>478</th>\n",
       "      <td>BLI</td>\n",
       "      <td>BELLINGHAM, WASHINGTON #INTL</td>\n",
       "      <td>BELLINGHAM</td>\n",
       "      <td>WASHINGTON #INTL</td>\n",
       "    </tr>\n",
       "  </tbody>\n",
       "</table>\n",
       "</div>"
      ],
      "text/plain": [
       "    code                     citystate        city             state\n",
       "478  BLI  BELLINGHAM, WASHINGTON #INTL  BELLINGHAM  WASHINGTON #INTL"
      ]
     },
     "execution_count": 31,
     "metadata": {},
     "output_type": "execute_result"
    }
   ],
   "source": [
    "# #INT is International. Replace that with blank string\n",
    "test[test.citystate.str.contains('#INT')].head(2)"
   ]
  },
  {
   "cell_type": "code",
   "execution_count": 32,
   "metadata": {
    "editable": true
   },
   "outputs": [
    {
     "data": {
      "text/html": [
       "<div>\n",
       "<style scoped>\n",
       "    .dataframe tbody tr th:only-of-type {\n",
       "        vertical-align: middle;\n",
       "    }\n",
       "\n",
       "    .dataframe tbody tr th {\n",
       "        vertical-align: top;\n",
       "    }\n",
       "\n",
       "    .dataframe thead th {\n",
       "        text-align: right;\n",
       "    }\n",
       "</style>\n",
       "<table border=\"1\" class=\"dataframe\">\n",
       "  <thead>\n",
       "    <tr style=\"text-align: right;\">\n",
       "      <th></th>\n",
       "      <th>code</th>\n",
       "      <th>citystate</th>\n",
       "      <th>city</th>\n",
       "      <th>state</th>\n",
       "    </tr>\n",
       "  </thead>\n",
       "  <tbody>\n",
       "    <tr>\n",
       "      <th>76</th>\n",
       "      <td>WAS</td>\n",
       "      <td>WASHINGTON, DC</td>\n",
       "      <td>WASHINGTON</td>\n",
       "      <td>DC</td>\n",
       "    </tr>\n",
       "    <tr>\n",
       "      <th>478</th>\n",
       "      <td>BLI</td>\n",
       "      <td>BELLINGHAM, WASHINGTON #INTL</td>\n",
       "      <td>BELLINGHAM</td>\n",
       "      <td>WASHINGTON #INTL</td>\n",
       "    </tr>\n",
       "  </tbody>\n",
       "</table>\n",
       "</div>"
      ],
      "text/plain": [
       "    code                     citystate        city             state\n",
       "76   WAS                WASHINGTON, DC  WASHINGTON                DC\n",
       "478  BLI  BELLINGHAM, WASHINGTON #INTL  BELLINGHAM  WASHINGTON #INTL"
      ]
     },
     "execution_count": 32,
     "metadata": {},
     "output_type": "execute_result"
    }
   ],
   "source": [
    "# second row : Last word has to be a state code for WASHINGTON its WA\n",
    "test[test.citystate.str.contains('WASHINGTON')].head(2)"
   ]
  },
  {
   "cell_type": "code",
   "execution_count": 33,
   "metadata": {
    "editable": true
   },
   "outputs": [
    {
     "data": {
      "text/html": [
       "<div>\n",
       "<style scoped>\n",
       "    .dataframe tbody tr th:only-of-type {\n",
       "        vertical-align: middle;\n",
       "    }\n",
       "\n",
       "    .dataframe tbody tr th {\n",
       "        vertical-align: top;\n",
       "    }\n",
       "\n",
       "    .dataframe thead th {\n",
       "        text-align: right;\n",
       "    }\n",
       "</style>\n",
       "<table border=\"1\" class=\"dataframe\">\n",
       "  <thead>\n",
       "    <tr style=\"text-align: right;\">\n",
       "      <th></th>\n",
       "      <th>code</th>\n",
       "      <th>citystate</th>\n",
       "      <th>city</th>\n",
       "      <th>state</th>\n",
       "    </tr>\n",
       "  </thead>\n",
       "  <tbody>\n",
       "    <tr>\n",
       "      <th>24</th>\n",
       "      <td>LIA</td>\n",
       "      <td>LITTLE ROCK, AR (BPS)</td>\n",
       "      <td>LITTLE ROCK</td>\n",
       "      <td>AR (BPS)</td>\n",
       "    </tr>\n",
       "    <tr>\n",
       "      <th>52</th>\n",
       "      <td>SLS</td>\n",
       "      <td>SALINAS, CA (BPS)</td>\n",
       "      <td>SALINAS</td>\n",
       "      <td>CA (BPS)</td>\n",
       "    </tr>\n",
       "    <tr>\n",
       "      <th>57</th>\n",
       "      <td>SLI</td>\n",
       "      <td>SAN LUIS OBISPO, CA (BPS)</td>\n",
       "      <td>SAN LUIS OBISPO</td>\n",
       "      <td>CA (BPS)</td>\n",
       "    </tr>\n",
       "    <tr>\n",
       "      <th>61</th>\n",
       "      <td>STO</td>\n",
       "      <td>STOCKTON, CA (BPS)</td>\n",
       "      <td>STOCKTON</td>\n",
       "      <td>CA (BPS)</td>\n",
       "    </tr>\n",
       "    <tr>\n",
       "      <th>141</th>\n",
       "      <td>LAK</td>\n",
       "      <td>LAKE CHARLES, LA (BPS)</td>\n",
       "      <td>LAKE CHARLES</td>\n",
       "      <td>LA (BPS)</td>\n",
       "    </tr>\n",
       "    <tr>\n",
       "      <th>174</th>\n",
       "      <td>RGM</td>\n",
       "      <td>RANGELEY, ME (BPS)</td>\n",
       "      <td>RANGELEY</td>\n",
       "      <td>ME (BPS)</td>\n",
       "    </tr>\n",
       "    <tr>\n",
       "      <th>235</th>\n",
       "      <td>EUR</td>\n",
       "      <td>EUREKA, MT (BPS)</td>\n",
       "      <td>EUREKA</td>\n",
       "      <td>MT (BPS)</td>\n",
       "    </tr>\n",
       "    <tr>\n",
       "      <th>296</th>\n",
       "      <td>ALA</td>\n",
       "      <td>ALAMAGORDO, NM (BPS)</td>\n",
       "      <td>ALAMAGORDO</td>\n",
       "      <td>NM (BPS)</td>\n",
       "    </tr>\n",
       "    <tr>\n",
       "      <th>302</th>\n",
       "      <td>DNM</td>\n",
       "      <td>DEMING, NM (BPS)</td>\n",
       "      <td>DEMING</td>\n",
       "      <td>NM (BPS)</td>\n",
       "    </tr>\n",
       "    <tr>\n",
       "      <th>304</th>\n",
       "      <td>LOB</td>\n",
       "      <td>LORDSBURG, NM (BPS)</td>\n",
       "      <td>LORDSBURG</td>\n",
       "      <td>NM (BPS)</td>\n",
       "    </tr>\n",
       "    <tr>\n",
       "      <th>397</th>\n",
       "      <td>BBP</td>\n",
       "      <td>BIG BEND PARK, TX (BPS)</td>\n",
       "      <td>BIG BEND PARK</td>\n",
       "      <td>TX (BPS)</td>\n",
       "    </tr>\n",
       "    <tr>\n",
       "      <th>425</th>\n",
       "      <td>MRS</td>\n",
       "      <td>MARFA, TX (BPS)</td>\n",
       "      <td>MARFA</td>\n",
       "      <td>TX (BPS)</td>\n",
       "    </tr>\n",
       "    <tr>\n",
       "      <th>462</th>\n",
       "      <td>DER</td>\n",
       "      <td>DERBY LINE, VT (I-91)</td>\n",
       "      <td>DERBY LINE</td>\n",
       "      <td>VT (I-91)</td>\n",
       "    </tr>\n",
       "    <tr>\n",
       "      <th>463</th>\n",
       "      <td>DLV</td>\n",
       "      <td>DERBY LINE, VT (RT. 5)</td>\n",
       "      <td>DERBY LINE</td>\n",
       "      <td>VT (RT. 5)</td>\n",
       "    </tr>\n",
       "    <tr>\n",
       "      <th>473</th>\n",
       "      <td>SWB</td>\n",
       "      <td>SWANTON, VT (BP - SECTOR HQ)</td>\n",
       "      <td>SWANTON</td>\n",
       "      <td>VT (BP - SECTOR HQ)</td>\n",
       "    </tr>\n",
       "    <tr>\n",
       "      <th>481</th>\n",
       "      <td>CUR</td>\n",
       "      <td>CURLEW, WA (BPS)</td>\n",
       "      <td>CURLEW</td>\n",
       "      <td>WA (BPS)</td>\n",
       "    </tr>\n",
       "    <tr>\n",
       "      <th>575</th>\n",
       "      <td>ZZZ</td>\n",
       "      <td>MEXICO Land (Banco de Mexico)</td>\n",
       "      <td>MEXICO Land (Banco de Mexico)</td>\n",
       "      <td>None</td>\n",
       "    </tr>\n",
       "  </tbody>\n",
       "</table>\n",
       "</div>"
      ],
      "text/plain": [
       "    code                      citystate                           city  \\\n",
       "24   LIA          LITTLE ROCK, AR (BPS)                    LITTLE ROCK   \n",
       "52   SLS              SALINAS, CA (BPS)                        SALINAS   \n",
       "57   SLI      SAN LUIS OBISPO, CA (BPS)                SAN LUIS OBISPO   \n",
       "61   STO             STOCKTON, CA (BPS)                       STOCKTON   \n",
       "141  LAK         LAKE CHARLES, LA (BPS)                   LAKE CHARLES   \n",
       "174  RGM             RANGELEY, ME (BPS)                       RANGELEY   \n",
       "235  EUR               EUREKA, MT (BPS)                         EUREKA   \n",
       "296  ALA           ALAMAGORDO, NM (BPS)                     ALAMAGORDO   \n",
       "302  DNM               DEMING, NM (BPS)                         DEMING   \n",
       "304  LOB            LORDSBURG, NM (BPS)                      LORDSBURG   \n",
       "397  BBP        BIG BEND PARK, TX (BPS)                  BIG BEND PARK   \n",
       "425  MRS                MARFA, TX (BPS)                          MARFA   \n",
       "462  DER          DERBY LINE, VT (I-91)                     DERBY LINE   \n",
       "463  DLV         DERBY LINE, VT (RT. 5)                     DERBY LINE   \n",
       "473  SWB   SWANTON, VT (BP - SECTOR HQ)                        SWANTON   \n",
       "481  CUR               CURLEW, WA (BPS)                         CURLEW   \n",
       "575  ZZZ  MEXICO Land (Banco de Mexico)  MEXICO Land (Banco de Mexico)   \n",
       "\n",
       "                   state  \n",
       "24              AR (BPS)  \n",
       "52              CA (BPS)  \n",
       "57              CA (BPS)  \n",
       "61              CA (BPS)  \n",
       "141             LA (BPS)  \n",
       "174             ME (BPS)  \n",
       "235             MT (BPS)  \n",
       "296             NM (BPS)  \n",
       "302             NM (BPS)  \n",
       "304             NM (BPS)  \n",
       "397             TX (BPS)  \n",
       "425             TX (BPS)  \n",
       "462            VT (I-91)  \n",
       "463           VT (RT. 5)  \n",
       "473  VT (BP - SECTOR HQ)  \n",
       "481             WA (BPS)  \n",
       "575                 None  "
      ]
     },
     "execution_count": 33,
     "metadata": {},
     "output_type": "execute_result"
    }
   ],
   "source": [
    "# Replace codes such as (BPS) and other column values coded within parenthesis with blank string\n",
    "test[ (test.citystate.str.contains(r'\\)$') ) & (test.citystate.notnull()) & (~test.citystate.str.lower().str.contains('no port code'))]"
   ]
  },
  {
   "cell_type": "code",
   "execution_count": 34,
   "metadata": {
    "editable": true
   },
   "outputs": [
    {
     "name": "stdout",
     "output_type": "stream",
     "text": [
      "Null =  (75, 4)\n",
      "No Port =  (60, 4)\n",
      "Collapsed =  (12, 4)\n",
      "Unidentified =  (1, 4)\n",
      "Unknown =  (2, 4)\n"
     ]
    }
   ],
   "source": [
    "print('Null = ',test[test.state.isnull()].shape)\n",
    "print('No Port = ',test[test.citystate.str.lower().str.contains('no port code') ].shape)\n",
    "print('Collapsed = ',test[test.citystate.str.lower().str.contains('collapsed') ].shape)\n",
    "print('Unidentified = ',test[test.citystate.str.lower().str.contains('unident') ].shape)\n",
    "print('Unknown = ',test[test.citystate.str.lower().str.contains('unknown') ].shape)\n",
    "\n",
    "#print(test[test.citystate.str.lower().str.contains('no port code') ].shape)\n",
    "#test[test.citystate.str.lower().str.contains('no port code') ].head()"
   ]
  },
  {
   "cell_type": "code",
   "execution_count": 35,
   "metadata": {
    "editable": true
   },
   "outputs": [
    {
     "data": {
      "text/html": [
       "<div>\n",
       "<style scoped>\n",
       "    .dataframe tbody tr th:only-of-type {\n",
       "        vertical-align: middle;\n",
       "    }\n",
       "\n",
       "    .dataframe tbody tr th {\n",
       "        vertical-align: top;\n",
       "    }\n",
       "\n",
       "    .dataframe thead th {\n",
       "        text-align: right;\n",
       "    }\n",
       "</style>\n",
       "<table border=\"1\" class=\"dataframe\">\n",
       "  <thead>\n",
       "    <tr style=\"text-align: right;\">\n",
       "      <th></th>\n",
       "      <th>code</th>\n",
       "      <th>citystate</th>\n",
       "      <th>city</th>\n",
       "      <th>state</th>\n",
       "    </tr>\n",
       "  </thead>\n",
       "  <tbody>\n",
       "    <tr>\n",
       "      <th>576</th>\n",
       "      <td>CHN</td>\n",
       "      <td>No PORT Code (CHN)</td>\n",
       "      <td>No PORT Code (CHN)</td>\n",
       "      <td>None</td>\n",
       "    </tr>\n",
       "    <tr>\n",
       "      <th>601</th>\n",
       "      <td>PHF</td>\n",
       "      <td>No PORT Code (PHF)</td>\n",
       "      <td>No PORT Code (PHF)</td>\n",
       "      <td>None</td>\n",
       "    </tr>\n",
       "    <tr>\n",
       "      <th>602</th>\n",
       "      <td>DRV</td>\n",
       "      <td>No PORT Code (DRV)</td>\n",
       "      <td>No PORT Code (DRV)</td>\n",
       "      <td>None</td>\n",
       "    </tr>\n",
       "    <tr>\n",
       "      <th>603</th>\n",
       "      <td>FTB</td>\n",
       "      <td>No PORT Code (FTB)</td>\n",
       "      <td>No PORT Code (FTB)</td>\n",
       "      <td>None</td>\n",
       "    </tr>\n",
       "    <tr>\n",
       "      <th>604</th>\n",
       "      <td>GAC</td>\n",
       "      <td>No PORT Code (GAC)</td>\n",
       "      <td>No PORT Code (GAC)</td>\n",
       "      <td>None</td>\n",
       "    </tr>\n",
       "  </tbody>\n",
       "</table>\n",
       "</div>"
      ],
      "text/plain": [
       "    code           citystate                city state\n",
       "576  CHN  No PORT Code (CHN)  No PORT Code (CHN)  None\n",
       "601  PHF  No PORT Code (PHF)  No PORT Code (PHF)  None\n",
       "602  DRV  No PORT Code (DRV)  No PORT Code (DRV)  None\n",
       "603  FTB  No PORT Code (FTB)  No PORT Code (FTB)  None\n",
       "604  GAC  No PORT Code (GAC)  No PORT Code (GAC)  None"
      ]
     },
     "execution_count": 35,
     "metadata": {},
     "output_type": "execute_result"
    }
   ],
   "source": [
    "test[test.citystate.str.lower().str.contains('no port code') ].head()"
   ]
  },
  {
   "cell_type": "code",
   "execution_count": 36,
   "metadata": {
    "editable": true
   },
   "outputs": [
    {
     "data": {
      "text/html": [
       "<div>\n",
       "<style scoped>\n",
       "    .dataframe tbody tr th:only-of-type {\n",
       "        vertical-align: middle;\n",
       "    }\n",
       "\n",
       "    .dataframe tbody tr th {\n",
       "        vertical-align: top;\n",
       "    }\n",
       "\n",
       "    .dataframe thead th {\n",
       "        text-align: right;\n",
       "    }\n",
       "</style>\n",
       "<table border=\"1\" class=\"dataframe\">\n",
       "  <thead>\n",
       "    <tr style=\"text-align: right;\">\n",
       "      <th></th>\n",
       "      <th>code</th>\n",
       "      <th>citystate</th>\n",
       "      <th>city</th>\n",
       "      <th>state</th>\n",
       "    </tr>\n",
       "  </thead>\n",
       "  <tbody>\n",
       "    <tr>\n",
       "      <th>198</th>\n",
       "      <td>GTF</td>\n",
       "      <td>Collapsed into INT, MN</td>\n",
       "      <td>Collapsed into INT</td>\n",
       "      <td>MN</td>\n",
       "    </tr>\n",
       "    <tr>\n",
       "      <th>199</th>\n",
       "      <td>INL</td>\n",
       "      <td>Collapsed into INT, MN</td>\n",
       "      <td>Collapsed into INT</td>\n",
       "      <td>MN</td>\n",
       "    </tr>\n",
       "    <tr>\n",
       "      <th>591</th>\n",
       "      <td>FRG</td>\n",
       "      <td>Collapsed (FOK) 06/15</td>\n",
       "      <td>Collapsed (FOK) 06/15</td>\n",
       "      <td>None</td>\n",
       "    </tr>\n",
       "    <tr>\n",
       "      <th>592</th>\n",
       "      <td>HRL</td>\n",
       "      <td>Collapsed (HLG) 06/15</td>\n",
       "      <td>Collapsed (HLG) 06/15</td>\n",
       "      <td>None</td>\n",
       "    </tr>\n",
       "    <tr>\n",
       "      <th>593</th>\n",
       "      <td>ISP</td>\n",
       "      <td>Collapsed (FOK) 06/15</td>\n",
       "      <td>Collapsed (FOK) 06/15</td>\n",
       "      <td>None</td>\n",
       "    </tr>\n",
       "  </tbody>\n",
       "</table>\n",
       "</div>"
      ],
      "text/plain": [
       "    code               citystate                   city state\n",
       "198  GTF  Collapsed into INT, MN     Collapsed into INT    MN\n",
       "199  INL  Collapsed into INT, MN     Collapsed into INT    MN\n",
       "591  FRG   Collapsed (FOK) 06/15  Collapsed (FOK) 06/15  None\n",
       "592  HRL   Collapsed (HLG) 06/15  Collapsed (HLG) 06/15  None\n",
       "593  ISP   Collapsed (FOK) 06/15  Collapsed (FOK) 06/15  None"
      ]
     },
     "execution_count": 36,
     "metadata": {},
     "output_type": "execute_result"
    }
   ],
   "source": [
    "test[test.citystate.str.lower().str.contains('collapsed') ].head()"
   ]
  },
  {
   "cell_type": "code",
   "execution_count": 37,
   "metadata": {
    "editable": true
   },
   "outputs": [
    {
     "data": {
      "text/html": [
       "<div>\n",
       "<style scoped>\n",
       "    .dataframe tbody tr th:only-of-type {\n",
       "        vertical-align: middle;\n",
       "    }\n",
       "\n",
       "    .dataframe tbody tr th {\n",
       "        vertical-align: top;\n",
       "    }\n",
       "\n",
       "    .dataframe thead th {\n",
       "        text-align: right;\n",
       "    }\n",
       "</style>\n",
       "<table border=\"1\" class=\"dataframe\">\n",
       "  <thead>\n",
       "    <tr style=\"text-align: right;\">\n",
       "      <th></th>\n",
       "      <th>code</th>\n",
       "      <th>citystate</th>\n",
       "      <th>city</th>\n",
       "      <th>state</th>\n",
       "    </tr>\n",
       "  </thead>\n",
       "  <tbody>\n",
       "    <tr>\n",
       "      <th>516</th>\n",
       "      <td>XXX</td>\n",
       "      <td>NOT REPORTED/UNKNOWN</td>\n",
       "      <td>NOT REPORTED/UNKNOWN</td>\n",
       "      <td>None</td>\n",
       "    </tr>\n",
       "    <tr>\n",
       "      <th>517</th>\n",
       "      <td>888</td>\n",
       "      <td>UNIDENTIFED AIR / SEAPORT</td>\n",
       "      <td>UNIDENTIFED AIR / SEAPORT</td>\n",
       "      <td>None</td>\n",
       "    </tr>\n",
       "    <tr>\n",
       "      <th>518</th>\n",
       "      <td>UNK</td>\n",
       "      <td>UNKNOWN POE</td>\n",
       "      <td>UNKNOWN POE</td>\n",
       "      <td>None</td>\n",
       "    </tr>\n",
       "    <tr>\n",
       "      <th>575</th>\n",
       "      <td>ZZZ</td>\n",
       "      <td>MEXICO Land (Banco de Mexico)</td>\n",
       "      <td>MEXICO Land (Banco de Mexico)</td>\n",
       "      <td>None</td>\n",
       "    </tr>\n",
       "    <tr>\n",
       "      <th>576</th>\n",
       "      <td>CHN</td>\n",
       "      <td>No PORT Code (CHN)</td>\n",
       "      <td>No PORT Code (CHN)</td>\n",
       "      <td>None</td>\n",
       "    </tr>\n",
       "  </tbody>\n",
       "</table>\n",
       "</div>"
      ],
      "text/plain": [
       "    code                      citystate                           city state\n",
       "516  XXX           NOT REPORTED/UNKNOWN           NOT REPORTED/UNKNOWN  None\n",
       "517  888      UNIDENTIFED AIR / SEAPORT      UNIDENTIFED AIR / SEAPORT  None\n",
       "518  UNK                    UNKNOWN POE                    UNKNOWN POE  None\n",
       "575  ZZZ  MEXICO Land (Banco de Mexico)  MEXICO Land (Banco de Mexico)  None\n",
       "576  CHN             No PORT Code (CHN)             No PORT Code (CHN)  None"
      ]
     },
     "execution_count": 37,
     "metadata": {},
     "output_type": "execute_result"
    }
   ],
   "source": [
    "test[test.state.isnull()].head()"
   ]
  },
  {
   "cell_type": "markdown",
   "metadata": {
    "editable": true
   },
   "source": [
    "- delete the rows having values as NULL/ UNKNOWN / UNIDENTIFIED / COLLAPSED"
   ]
  },
  {
   "cell_type": "markdown",
   "metadata": {
    "editable": true
   },
   "source": [
    "#### Airport Code Data"
   ]
  },
  {
   "cell_type": "code",
   "execution_count": 38,
   "metadata": {
    "editable": true
   },
   "outputs": [
    {
     "name": "stdout",
     "output_type": "stream",
     "text": [
      "(3096313, 28)\n"
     ]
    }
   ],
   "source": [
    "airport_codes_df_shape = (df_spark.count(), len(df_spark.columns))\n",
    "print(airport_codes_df_shape)"
   ]
  },
  {
   "cell_type": "code",
   "execution_count": 39,
   "metadata": {
    "editable": true
   },
   "outputs": [
    {
     "name": "stdout",
     "output_type": "stream",
     "text": [
      "<class 'pandas.core.frame.DataFrame'>\n",
      "RangeIndex: 55075 entries, 0 to 55074\n",
      "Data columns (total 12 columns):\n",
      "ident           55075 non-null object\n",
      "type            55075 non-null object\n",
      "name            55075 non-null object\n",
      "elevation_ft    48069 non-null float64\n",
      "continent       27356 non-null object\n",
      "iso_country     54828 non-null object\n",
      "iso_region      55075 non-null object\n",
      "municipality    49399 non-null object\n",
      "gps_code        41030 non-null object\n",
      "iata_code       9189 non-null object\n",
      "local_code      28686 non-null object\n",
      "coordinates     55075 non-null object\n",
      "dtypes: float64(1), object(11)\n",
      "memory usage: 5.0+ MB\n"
     ]
    }
   ],
   "source": [
    "airport_codes_df.info()"
   ]
  },
  {
   "cell_type": "code",
   "execution_count": 40,
   "metadata": {
    "editable": true
   },
   "outputs": [
    {
     "data": {
      "text/html": [
       "<div>\n",
       "<style scoped>\n",
       "    .dataframe tbody tr th:only-of-type {\n",
       "        vertical-align: middle;\n",
       "    }\n",
       "\n",
       "    .dataframe tbody tr th {\n",
       "        vertical-align: top;\n",
       "    }\n",
       "\n",
       "    .dataframe thead th {\n",
       "        text-align: right;\n",
       "    }\n",
       "</style>\n",
       "<table border=\"1\" class=\"dataframe\">\n",
       "  <thead>\n",
       "    <tr style=\"text-align: right;\">\n",
       "      <th></th>\n",
       "      <th>elevation_ft</th>\n",
       "    </tr>\n",
       "  </thead>\n",
       "  <tbody>\n",
       "    <tr>\n",
       "      <th>count</th>\n",
       "      <td>48069.000000</td>\n",
       "    </tr>\n",
       "    <tr>\n",
       "      <th>mean</th>\n",
       "      <td>1240.789677</td>\n",
       "    </tr>\n",
       "    <tr>\n",
       "      <th>std</th>\n",
       "      <td>1602.363459</td>\n",
       "    </tr>\n",
       "    <tr>\n",
       "      <th>min</th>\n",
       "      <td>-1266.000000</td>\n",
       "    </tr>\n",
       "    <tr>\n",
       "      <th>25%</th>\n",
       "      <td>205.000000</td>\n",
       "    </tr>\n",
       "    <tr>\n",
       "      <th>50%</th>\n",
       "      <td>718.000000</td>\n",
       "    </tr>\n",
       "    <tr>\n",
       "      <th>75%</th>\n",
       "      <td>1497.000000</td>\n",
       "    </tr>\n",
       "    <tr>\n",
       "      <th>max</th>\n",
       "      <td>22000.000000</td>\n",
       "    </tr>\n",
       "  </tbody>\n",
       "</table>\n",
       "</div>"
      ],
      "text/plain": [
       "       elevation_ft\n",
       "count  48069.000000\n",
       "mean    1240.789677\n",
       "std     1602.363459\n",
       "min    -1266.000000\n",
       "25%      205.000000\n",
       "50%      718.000000\n",
       "75%     1497.000000\n",
       "max    22000.000000"
      ]
     },
     "execution_count": 40,
     "metadata": {},
     "output_type": "execute_result"
    }
   ],
   "source": [
    "airport_codes_df.describe()"
   ]
  },
  {
   "cell_type": "code",
   "execution_count": 41,
   "metadata": {
    "editable": true
   },
   "outputs": [
    {
     "data": {
      "image/png": "[encoded data removed]",
      "text/plain": [
       "<matplotlib.figure.Figure at 0x7f466092add8>"
      ]
     },
     "metadata": {},
     "output_type": "display_data"
    }
   ],
   "source": [
    "# lets visualize % missing values per immigration feature\n",
    "visualize_missing_values(airport_codes_df)"
   ]
  },
  {
   "cell_type": "markdown",
   "metadata": {
    "editable": true
   },
   "source": [
    "- Gives us an idea about missing data but let's keep digging."
   ]
  },
  {
   "cell_type": "code",
   "execution_count": 42,
   "metadata": {
    "editable": true
   },
   "outputs": [
    {
     "data": {
      "text/html": [
       "<div>\n",
       "<style scoped>\n",
       "    .dataframe tbody tr th:only-of-type {\n",
       "        vertical-align: middle;\n",
       "    }\n",
       "\n",
       "    .dataframe tbody tr th {\n",
       "        vertical-align: top;\n",
       "    }\n",
       "\n",
       "    .dataframe thead th {\n",
       "        text-align: right;\n",
       "    }\n",
       "</style>\n",
       "<table border=\"1\" class=\"dataframe\">\n",
       "  <thead>\n",
       "    <tr style=\"text-align: right;\">\n",
       "      <th></th>\n",
       "      <th>ident</th>\n",
       "      <th>type</th>\n",
       "      <th>name</th>\n",
       "      <th>elevation_ft</th>\n",
       "      <th>continent</th>\n",
       "      <th>iso_country</th>\n",
       "      <th>iso_region</th>\n",
       "      <th>municipality</th>\n",
       "      <th>gps_code</th>\n",
       "      <th>iata_code</th>\n",
       "      <th>local_code</th>\n",
       "      <th>coordinates</th>\n",
       "    </tr>\n",
       "  </thead>\n",
       "  <tbody>\n",
       "    <tr>\n",
       "      <th>0</th>\n",
       "      <td>00A</td>\n",
       "      <td>heliport</td>\n",
       "      <td>Total Rf Heliport</td>\n",
       "      <td>11.0</td>\n",
       "      <td>NaN</td>\n",
       "      <td>US</td>\n",
       "      <td>US-PA</td>\n",
       "      <td>Bensalem</td>\n",
       "      <td>00A</td>\n",
       "      <td>NaN</td>\n",
       "      <td>00A</td>\n",
       "      <td>-74.93360137939453, 40.07080078125</td>\n",
       "    </tr>\n",
       "    <tr>\n",
       "      <th>1</th>\n",
       "      <td>00AA</td>\n",
       "      <td>small_airport</td>\n",
       "      <td>Aero B Ranch Airport</td>\n",
       "      <td>3435.0</td>\n",
       "      <td>NaN</td>\n",
       "      <td>US</td>\n",
       "      <td>US-KS</td>\n",
       "      <td>Leoti</td>\n",
       "      <td>00AA</td>\n",
       "      <td>NaN</td>\n",
       "      <td>00AA</td>\n",
       "      <td>-101.473911, 38.704022</td>\n",
       "    </tr>\n",
       "    <tr>\n",
       "      <th>2</th>\n",
       "      <td>00AK</td>\n",
       "      <td>small_airport</td>\n",
       "      <td>Lowell Field</td>\n",
       "      <td>450.0</td>\n",
       "      <td>NaN</td>\n",
       "      <td>US</td>\n",
       "      <td>US-AK</td>\n",
       "      <td>Anchor Point</td>\n",
       "      <td>00AK</td>\n",
       "      <td>NaN</td>\n",
       "      <td>00AK</td>\n",
       "      <td>-151.695999146, 59.94919968</td>\n",
       "    </tr>\n",
       "    <tr>\n",
       "      <th>3</th>\n",
       "      <td>00AL</td>\n",
       "      <td>small_airport</td>\n",
       "      <td>Epps Airpark</td>\n",
       "      <td>820.0</td>\n",
       "      <td>NaN</td>\n",
       "      <td>US</td>\n",
       "      <td>US-AL</td>\n",
       "      <td>Harvest</td>\n",
       "      <td>00AL</td>\n",
       "      <td>NaN</td>\n",
       "      <td>00AL</td>\n",
       "      <td>-86.77030181884766, 34.86479949951172</td>\n",
       "    </tr>\n",
       "    <tr>\n",
       "      <th>4</th>\n",
       "      <td>00AR</td>\n",
       "      <td>closed</td>\n",
       "      <td>Newport Hospital &amp; Clinic Heliport</td>\n",
       "      <td>237.0</td>\n",
       "      <td>NaN</td>\n",
       "      <td>US</td>\n",
       "      <td>US-AR</td>\n",
       "      <td>Newport</td>\n",
       "      <td>NaN</td>\n",
       "      <td>NaN</td>\n",
       "      <td>NaN</td>\n",
       "      <td>-91.254898, 35.6087</td>\n",
       "    </tr>\n",
       "  </tbody>\n",
       "</table>\n",
       "</div>"
      ],
      "text/plain": [
       "  ident           type                                name  elevation_ft  \\\n",
       "0   00A       heliport                   Total Rf Heliport          11.0   \n",
       "1  00AA  small_airport                Aero B Ranch Airport        3435.0   \n",
       "2  00AK  small_airport                        Lowell Field         450.0   \n",
       "3  00AL  small_airport                        Epps Airpark         820.0   \n",
       "4  00AR         closed  Newport Hospital & Clinic Heliport         237.0   \n",
       "\n",
       "  continent iso_country iso_region  municipality gps_code iata_code  \\\n",
       "0       NaN          US      US-PA      Bensalem      00A       NaN   \n",
       "1       NaN          US      US-KS         Leoti     00AA       NaN   \n",
       "2       NaN          US      US-AK  Anchor Point     00AK       NaN   \n",
       "3       NaN          US      US-AL       Harvest     00AL       NaN   \n",
       "4       NaN          US      US-AR       Newport      NaN       NaN   \n",
       "\n",
       "  local_code                            coordinates  \n",
       "0        00A     -74.93360137939453, 40.07080078125  \n",
       "1       00AA                 -101.473911, 38.704022  \n",
       "2       00AK            -151.695999146, 59.94919968  \n",
       "3       00AL  -86.77030181884766, 34.86479949951172  \n",
       "4        NaN                    -91.254898, 35.6087  "
      ]
     },
     "execution_count": 42,
     "metadata": {},
     "output_type": "execute_result"
    }
   ],
   "source": [
    "airport_codes_df.head()"
   ]
  },
  {
   "cell_type": "code",
   "execution_count": 43,
   "metadata": {
    "editable": true
   },
   "outputs": [
    {
     "data": {
      "text/html": [
       "<div>\n",
       "<style scoped>\n",
       "    .dataframe tbody tr th:only-of-type {\n",
       "        vertical-align: middle;\n",
       "    }\n",
       "\n",
       "    .dataframe tbody tr th {\n",
       "        vertical-align: top;\n",
       "    }\n",
       "\n",
       "    .dataframe thead th {\n",
       "        text-align: right;\n",
       "    }\n",
       "</style>\n",
       "<table border=\"1\" class=\"dataframe\">\n",
       "  <thead>\n",
       "    <tr style=\"text-align: right;\">\n",
       "      <th></th>\n",
       "      <th>elevation_ft</th>\n",
       "    </tr>\n",
       "  </thead>\n",
       "  <tbody>\n",
       "    <tr>\n",
       "      <th>count</th>\n",
       "      <td>48069.000000</td>\n",
       "    </tr>\n",
       "    <tr>\n",
       "      <th>mean</th>\n",
       "      <td>1240.789677</td>\n",
       "    </tr>\n",
       "    <tr>\n",
       "      <th>std</th>\n",
       "      <td>1602.363459</td>\n",
       "    </tr>\n",
       "    <tr>\n",
       "      <th>min</th>\n",
       "      <td>-1266.000000</td>\n",
       "    </tr>\n",
       "    <tr>\n",
       "      <th>25%</th>\n",
       "      <td>205.000000</td>\n",
       "    </tr>\n",
       "    <tr>\n",
       "      <th>50%</th>\n",
       "      <td>718.000000</td>\n",
       "    </tr>\n",
       "    <tr>\n",
       "      <th>75%</th>\n",
       "      <td>1497.000000</td>\n",
       "    </tr>\n",
       "    <tr>\n",
       "      <th>max</th>\n",
       "      <td>22000.000000</td>\n",
       "    </tr>\n",
       "  </tbody>\n",
       "</table>\n",
       "</div>"
      ],
      "text/plain": [
       "       elevation_ft\n",
       "count  48069.000000\n",
       "mean    1240.789677\n",
       "std     1602.363459\n",
       "min    -1266.000000\n",
       "25%      205.000000\n",
       "50%      718.000000\n",
       "75%     1497.000000\n",
       "max    22000.000000"
      ]
     },
     "execution_count": 43,
     "metadata": {},
     "output_type": "execute_result"
    }
   ],
   "source": [
    "airport_codes_df.describe()\n",
    "#airport_codes_df['elevation_ft'].describe()"
   ]
  },
  {
   "cell_type": "code",
   "execution_count": 44,
   "metadata": {
    "editable": true
   },
   "outputs": [
    {
     "data": {
      "text/plain": [
       "0      80\n",
       "OHE     3\n",
       "PRI     3\n",
       "PHL     2\n",
       "KOH     2\n",
       "Name: iata_code, dtype: int64"
      ]
     },
     "execution_count": 44,
     "metadata": {},
     "output_type": "execute_result"
    }
   ],
   "source": [
    "airport_codes_df.iata_code.value_counts().head()"
   ]
  },
  {
   "cell_type": "code",
   "execution_count": 45,
   "metadata": {
    "editable": true
   },
   "outputs": [
    {
     "data": {
      "text/plain": [
       "LAN    5\n",
       "AMA    5\n",
       "AGI    4\n",
       "HOB    4\n",
       "SJT    4\n",
       "Name: local_code, dtype: int64"
      ]
     },
     "execution_count": 45,
     "metadata": {},
     "output_type": "execute_result"
    }
   ],
   "source": [
    "airport_codes_df.local_code.value_counts().head()"
   ]
  },
  {
   "cell_type": "code",
   "execution_count": 46,
   "metadata": {
    "editable": true
   },
   "outputs": [
    {
     "data": {
      "text/html": [
       "<div>\n",
       "<style scoped>\n",
       "    .dataframe tbody tr th:only-of-type {\n",
       "        vertical-align: middle;\n",
       "    }\n",
       "\n",
       "    .dataframe tbody tr th {\n",
       "        vertical-align: top;\n",
       "    }\n",
       "\n",
       "    .dataframe thead th {\n",
       "        text-align: right;\n",
       "    }\n",
       "</style>\n",
       "<table border=\"1\" class=\"dataframe\">\n",
       "  <thead>\n",
       "    <tr style=\"text-align: right;\">\n",
       "      <th></th>\n",
       "      <th>ident</th>\n",
       "      <th>type</th>\n",
       "      <th>name</th>\n",
       "      <th>elevation_ft</th>\n",
       "      <th>continent</th>\n",
       "      <th>iso_country</th>\n",
       "      <th>iso_region</th>\n",
       "      <th>municipality</th>\n",
       "      <th>gps_code</th>\n",
       "      <th>iata_code</th>\n",
       "      <th>local_code</th>\n",
       "      <th>coordinates</th>\n",
       "    </tr>\n",
       "  </thead>\n",
       "  <tbody>\n",
       "    <tr>\n",
       "      <th>10688</th>\n",
       "      <td>AMF</td>\n",
       "      <td>small_airport</td>\n",
       "      <td>Ama Airport</td>\n",
       "      <td>145.0</td>\n",
       "      <td>OC</td>\n",
       "      <td>PG</td>\n",
       "      <td>PG-ESW</td>\n",
       "      <td>NaN</td>\n",
       "      <td>AYAA</td>\n",
       "      <td>AMF</td>\n",
       "      <td>AMA</td>\n",
       "      <td>141.67, -4.10111111111</td>\n",
       "    </tr>\n",
       "    <tr>\n",
       "      <th>11309</th>\n",
       "      <td>AR-0546</td>\n",
       "      <td>small_airport</td>\n",
       "      <td>La Amalia</td>\n",
       "      <td>328.0</td>\n",
       "      <td>SA</td>\n",
       "      <td>AR</td>\n",
       "      <td>AR-B</td>\n",
       "      <td>Roberts</td>\n",
       "      <td>NaN</td>\n",
       "      <td>NaN</td>\n",
       "      <td>AMA</td>\n",
       "      <td>-62.01656, -35.10042</td>\n",
       "    </tr>\n",
       "    <tr>\n",
       "      <th>26076</th>\n",
       "      <td>KAMA</td>\n",
       "      <td>large_airport</td>\n",
       "      <td>Rick Husband Amarillo International Airport</td>\n",
       "      <td>3607.0</td>\n",
       "      <td>NaN</td>\n",
       "      <td>US</td>\n",
       "      <td>US-TX</td>\n",
       "      <td>Amarillo</td>\n",
       "      <td>KAMA</td>\n",
       "      <td>AMA</td>\n",
       "      <td>AMA</td>\n",
       "      <td>-101.706001, 35.219398</td>\n",
       "    </tr>\n",
       "    <tr>\n",
       "      <th>34559</th>\n",
       "      <td>MX-0345</td>\n",
       "      <td>small_airport</td>\n",
       "      <td>Amatlan de Jora Airport</td>\n",
       "      <td>4757.0</td>\n",
       "      <td>NaN</td>\n",
       "      <td>MX</td>\n",
       "      <td>MX-NAY</td>\n",
       "      <td>La Yesca</td>\n",
       "      <td>NaN</td>\n",
       "      <td>NaN</td>\n",
       "      <td>AMA</td>\n",
       "      <td>-104.128434, 21.393753</td>\n",
       "    </tr>\n",
       "    <tr>\n",
       "      <th>44234</th>\n",
       "      <td>SK-262</td>\n",
       "      <td>small_airport</td>\n",
       "      <td>La Amalia Airport</td>\n",
       "      <td>113.0</td>\n",
       "      <td>SA</td>\n",
       "      <td>CO</td>\n",
       "      <td>CO-MAG</td>\n",
       "      <td>CiÃ©naga</td>\n",
       "      <td>NaN</td>\n",
       "      <td>NaN</td>\n",
       "      <td>AMA</td>\n",
       "      <td>-74.145833, 10.860833</td>\n",
       "    </tr>\n",
       "  </tbody>\n",
       "</table>\n",
       "</div>"
      ],
      "text/plain": [
       "         ident           type                                         name  \\\n",
       "10688      AMF  small_airport                                  Ama Airport   \n",
       "11309  AR-0546  small_airport                                    La Amalia   \n",
       "26076     KAMA  large_airport  Rick Husband Amarillo International Airport   \n",
       "34559  MX-0345  small_airport                      Amatlan de Jora Airport   \n",
       "44234   SK-262  small_airport                            La Amalia Airport   \n",
       "\n",
       "       elevation_ft continent iso_country iso_region municipality gps_code  \\\n",
       "10688         145.0        OC          PG     PG-ESW          NaN     AYAA   \n",
       "11309         328.0        SA          AR       AR-B      Roberts      NaN   \n",
       "26076        3607.0       NaN          US      US-TX     Amarillo     KAMA   \n",
       "34559        4757.0       NaN          MX     MX-NAY     La Yesca      NaN   \n",
       "44234         113.0        SA          CO     CO-MAG     CiÃ©naga      NaN   \n",
       "\n",
       "      iata_code local_code             coordinates  \n",
       "10688       AMF        AMA  141.67, -4.10111111111  \n",
       "11309       NaN        AMA    -62.01656, -35.10042  \n",
       "26076       AMA        AMA  -101.706001, 35.219398  \n",
       "34559       NaN        AMA  -104.128434, 21.393753  \n",
       "44234       NaN        AMA   -74.145833, 10.860833  "
      ]
     },
     "execution_count": 46,
     "metadata": {},
     "output_type": "execute_result"
    }
   ],
   "source": [
    "airport_codes_df[airport_codes_df.local_code=='AMA']"
   ]
  },
  {
   "cell_type": "markdown",
   "metadata": {
    "editable": true
   },
   "source": [
    "- Looks like local codes are being used within country and some countries have same local codes 'AMA' as in Ama Airport and Rick Husband above."
   ]
  },
  {
   "cell_type": "code",
   "execution_count": 47,
   "metadata": {
    "editable": true
   },
   "outputs": [
    {
     "name": "stdout",
     "output_type": "stream",
     "text": [
      "Total Countries = 243\n",
      "How many airports are in each continents ? \n"
     ]
    },
    {
     "data": {
      "text/plain": [
       "EU    7840\n",
       "SA    7709\n",
       "AS    5350\n",
       "AF    3362\n",
       "OC    3067\n",
       "AN      28\n",
       "Name: continent, dtype: int64"
      ]
     },
     "execution_count": 47,
     "metadata": {},
     "output_type": "execute_result"
    }
   ],
   "source": [
    "# List countries\n",
    "print('Total Countries = {}'.format(airport_codes_df.iso_country.value_counts().shape[0]))\n",
    "\n",
    "# There are 7 continents in the world. Below null is for US\n",
    "print('How many airports are in each continents ? ')\n",
    "airport_codes_df.continent.value_counts()"
   ]
  },
  {
   "cell_type": "code",
   "execution_count": 48,
   "metadata": {
    "editable": true
   },
   "outputs": [
    {
     "data": {
      "text/plain": [
       "US    22757\n",
       "BR     4334\n",
       "CA     2784\n",
       "AU     1963\n",
       "KR     1376\n",
       "Name: iso_country, dtype: int64"
      ]
     },
     "execution_count": 48,
     "metadata": {},
     "output_type": "execute_result"
    }
   ],
   "source": [
    "airport_codes_df.iso_country.value_counts().head()"
   ]
  },
  {
   "cell_type": "code",
   "execution_count": 49,
   "metadata": {
    "editable": true
   },
   "outputs": [
    {
     "data": {
      "text/plain": [
       "continent\n",
       "AF    247\n",
       "Name: continent, dtype: int64"
      ]
     },
     "execution_count": 49,
     "metadata": {},
     "output_type": "execute_result"
    }
   ],
   "source": [
    "# Finding countries with no names and grouping them to know which continent they belong to\n",
    "# 1. Getting the list of iso_country is null\n",
    "# 2. Viewing the dataframe\n",
    "# 3. Grouping it by continent and counting\n",
    "# 4. Only africa continent appears\n",
    "airport_codes_df[airport_codes_df['iso_country'].isna()].groupby('continent')['continent'].count()"
   ]
  },
  {
   "cell_type": "code",
   "execution_count": 50,
   "metadata": {
    "editable": true
   },
   "outputs": [
    {
     "data": {
      "text/html": [
       "<div>\n",
       "<style scoped>\n",
       "    .dataframe tbody tr th:only-of-type {\n",
       "        vertical-align: middle;\n",
       "    }\n",
       "\n",
       "    .dataframe tbody tr th {\n",
       "        vertical-align: top;\n",
       "    }\n",
       "\n",
       "    .dataframe thead th {\n",
       "        text-align: right;\n",
       "    }\n",
       "</style>\n",
       "<table border=\"1\" class=\"dataframe\">\n",
       "  <thead>\n",
       "    <tr style=\"text-align: right;\">\n",
       "      <th></th>\n",
       "      <th>ident</th>\n",
       "      <th>type</th>\n",
       "      <th>name</th>\n",
       "      <th>elevation_ft</th>\n",
       "      <th>continent</th>\n",
       "      <th>iso_country</th>\n",
       "      <th>iso_region</th>\n",
       "      <th>municipality</th>\n",
       "      <th>gps_code</th>\n",
       "      <th>iata_code</th>\n",
       "      <th>local_code</th>\n",
       "      <th>coordinates</th>\n",
       "    </tr>\n",
       "  </thead>\n",
       "  <tbody>\n",
       "    <tr>\n",
       "      <th>21422</th>\n",
       "      <td>FYAA</td>\n",
       "      <td>small_airport</td>\n",
       "      <td>Ai-Ais Airport</td>\n",
       "      <td>2000.0</td>\n",
       "      <td>AF</td>\n",
       "      <td>NaN</td>\n",
       "      <td>NA-KU</td>\n",
       "      <td>Ai-Ais</td>\n",
       "      <td>FYAA</td>\n",
       "      <td>AIW</td>\n",
       "      <td>NaN</td>\n",
       "      <td>17.5966, -27.995</td>\n",
       "    </tr>\n",
       "    <tr>\n",
       "      <th>21423</th>\n",
       "      <td>FYAB</td>\n",
       "      <td>small_airport</td>\n",
       "      <td>Aroab B Airport</td>\n",
       "      <td>3235.0</td>\n",
       "      <td>AF</td>\n",
       "      <td>NaN</td>\n",
       "      <td>NA-KA</td>\n",
       "      <td>Aroab</td>\n",
       "      <td>FYAB</td>\n",
       "      <td>NaN</td>\n",
       "      <td>NaN</td>\n",
       "      <td>19.633100509643555, -26.776100158691406</td>\n",
       "    </tr>\n",
       "    <tr>\n",
       "      <th>21424</th>\n",
       "      <td>FYAK</td>\n",
       "      <td>small_airport</td>\n",
       "      <td>Aussenkehr Airport</td>\n",
       "      <td>970.0</td>\n",
       "      <td>AF</td>\n",
       "      <td>NaN</td>\n",
       "      <td>NA-KA</td>\n",
       "      <td>Aussenkehr</td>\n",
       "      <td>FYAK</td>\n",
       "      <td>NaN</td>\n",
       "      <td>NaN</td>\n",
       "      <td>17.4645, -28.4587</td>\n",
       "    </tr>\n",
       "    <tr>\n",
       "      <th>21425</th>\n",
       "      <td>FYAM</td>\n",
       "      <td>small_airport</td>\n",
       "      <td>Aminuis Airstrip</td>\n",
       "      <td>4012.0</td>\n",
       "      <td>AF</td>\n",
       "      <td>NaN</td>\n",
       "      <td>NA-OH</td>\n",
       "      <td>Aminuis</td>\n",
       "      <td>FYAM</td>\n",
       "      <td>NaN</td>\n",
       "      <td>NaN</td>\n",
       "      <td>19.351699829101562, -23.655799865722656</td>\n",
       "    </tr>\n",
       "    <tr>\n",
       "      <th>21426</th>\n",
       "      <td>FYAR</td>\n",
       "      <td>medium_airport</td>\n",
       "      <td>Arandis Airport</td>\n",
       "      <td>1905.0</td>\n",
       "      <td>AF</td>\n",
       "      <td>NaN</td>\n",
       "      <td>NA-ER</td>\n",
       "      <td>Arandis</td>\n",
       "      <td>FYAR</td>\n",
       "      <td>ADI</td>\n",
       "      <td>NaN</td>\n",
       "      <td>14.979999542236328, -22.462200164794922</td>\n",
       "    </tr>\n",
       "  </tbody>\n",
       "</table>\n",
       "</div>"
      ],
      "text/plain": [
       "      ident            type                name  elevation_ft continent  \\\n",
       "21422  FYAA   small_airport      Ai-Ais Airport        2000.0        AF   \n",
       "21423  FYAB   small_airport     Aroab B Airport        3235.0        AF   \n",
       "21424  FYAK   small_airport  Aussenkehr Airport         970.0        AF   \n",
       "21425  FYAM   small_airport    Aminuis Airstrip        4012.0        AF   \n",
       "21426  FYAR  medium_airport     Arandis Airport        1905.0        AF   \n",
       "\n",
       "      iso_country iso_region municipality gps_code iata_code local_code  \\\n",
       "21422         NaN      NA-KU       Ai-Ais     FYAA       AIW        NaN   \n",
       "21423         NaN      NA-KA        Aroab     FYAB       NaN        NaN   \n",
       "21424         NaN      NA-KA   Aussenkehr     FYAK       NaN        NaN   \n",
       "21425         NaN      NA-OH      Aminuis     FYAM       NaN        NaN   \n",
       "21426         NaN      NA-ER      Arandis     FYAR       ADI        NaN   \n",
       "\n",
       "                                   coordinates  \n",
       "21422                         17.5966, -27.995  \n",
       "21423  19.633100509643555, -26.776100158691406  \n",
       "21424                        17.4645, -28.4587  \n",
       "21425  19.351699829101562, -23.655799865722656  \n",
       "21426  14.979999542236328, -22.462200164794922  "
      ]
     },
     "execution_count": 50,
     "metadata": {},
     "output_type": "execute_result"
    }
   ],
   "source": [
    "airport_codes_df[airport_codes_df['iso_country'].isna()].head()"
   ]
  },
  {
   "cell_type": "code",
   "execution_count": 51,
   "metadata": {
    "editable": true
   },
   "outputs": [
    {
     "name": "stdout",
     "output_type": "stream",
     "text": [
      "Total Airports : 55075\n",
      "Airports with IATA code : 9042\n",
      "Total US Airports : 22757\n",
      "Total Non-US Airports : 32318\n",
      "Total US Airports with IATA code : 2019\n",
      "Total US Airports without IATA code : 20738\n",
      "Total US Airports where IATA code is null and local code is null : 1471\n",
      "Total US Airports where IATA code is null and local code has value : 19267\n",
      "Total US Airports where continent is null : 22756\n",
      "Total US Airports where continent is not null : 1\n"
     ]
    }
   ],
   "source": [
    "print('Total Airports : {}'.format(airport_codes_df.shape[0]))\n",
    "print('Airports with IATA code : {}'.format(airport_codes_df.iata_code.value_counts().shape[0]))\n",
    "cond1 = airport_codes_df.iso_country =='US'\n",
    "print('Total US Airports : {}'.format(airport_codes_df[cond1].shape[0]))\n",
    "print('Total Non-US Airports : {}'.format(airport_codes_df[~cond1].shape[0]))\n",
    "cond2 = airport_codes_df['iata_code'].notnull()\n",
    "print('Total US Airports with IATA code : {}'.format(airport_codes_df[cond1 & cond2].shape[0]))\n",
    "print('Total US Airports without IATA code : {}'.format(airport_codes_df[ cond1 & ~cond2].shape[0]))\n",
    "cond3 = airport_codes_df['local_code'].isnull()\n",
    "print('Total US Airports where IATA code is null and local code is null : {}'.format(airport_codes_df[ cond1 & ~cond2 & cond3].shape[0]))\n",
    "print('Total US Airports where IATA code is null and local code has value : {}'.format(airport_codes_df[ cond1 & ~cond2 & ~cond3].shape[0]))\n",
    "cond4 = airport_codes_df['continent'].isnull()\n",
    "print('Total US Airports where continent is null : {}'.format(airport_codes_df[cond1 & cond4].shape[0]))\n",
    "print('Total US Airports where continent is not null : {}'.format(airport_codes_df[cond1 & ~cond4].shape[0]))"
   ]
  },
  {
   "cell_type": "markdown",
   "metadata": {
    "editable": true
   },
   "source": [
    "- All airports without IATA Codes can be elimiated because all commercial and passenger airports must use an IATA code."
   ]
  },
  {
   "cell_type": "code",
   "execution_count": 52,
   "metadata": {
    "editable": true
   },
   "outputs": [
    {
     "data": {
      "text/html": [
       "<div>\n",
       "<style scoped>\n",
       "    .dataframe tbody tr th:only-of-type {\n",
       "        vertical-align: middle;\n",
       "    }\n",
       "\n",
       "    .dataframe tbody tr th {\n",
       "        vertical-align: top;\n",
       "    }\n",
       "\n",
       "    .dataframe thead th {\n",
       "        text-align: right;\n",
       "    }\n",
       "</style>\n",
       "<table border=\"1\" class=\"dataframe\">\n",
       "  <thead>\n",
       "    <tr style=\"text-align: right;\">\n",
       "      <th></th>\n",
       "      <th>ident</th>\n",
       "      <th>type</th>\n",
       "      <th>name</th>\n",
       "      <th>elevation_ft</th>\n",
       "      <th>continent</th>\n",
       "      <th>iso_country</th>\n",
       "      <th>iso_region</th>\n",
       "      <th>municipality</th>\n",
       "      <th>gps_code</th>\n",
       "      <th>iata_code</th>\n",
       "      <th>local_code</th>\n",
       "      <th>coordinates</th>\n",
       "    </tr>\n",
       "  </thead>\n",
       "  <tbody>\n",
       "    <tr>\n",
       "      <th>37387</th>\n",
       "      <td>OI05</td>\n",
       "      <td>heliport</td>\n",
       "      <td>Dana Heliport</td>\n",
       "      <td>625.0</td>\n",
       "      <td>AS</td>\n",
       "      <td>US</td>\n",
       "      <td>US-OH</td>\n",
       "      <td>Toledo</td>\n",
       "      <td>OI05</td>\n",
       "      <td>NaN</td>\n",
       "      <td>OI05</td>\n",
       "      <td>-83.6465988159, 41.65589904789999</td>\n",
       "    </tr>\n",
       "  </tbody>\n",
       "</table>\n",
       "</div>"
      ],
      "text/plain": [
       "      ident      type           name  elevation_ft continent iso_country  \\\n",
       "37387  OI05  heliport  Dana Heliport         625.0        AS          US   \n",
       "\n",
       "      iso_region municipality gps_code iata_code local_code  \\\n",
       "37387      US-OH       Toledo     OI05       NaN       OI05   \n",
       "\n",
       "                             coordinates  \n",
       "37387  -83.6465988159, 41.65589904789999  "
      ]
     },
     "execution_count": 52,
     "metadata": {},
     "output_type": "execute_result"
    }
   ],
   "source": [
    "# Continent should not be NULL \n",
    "airport_codes_df[cond1 & ~cond4].head()"
   ]
  },
  {
   "cell_type": "code",
   "execution_count": 53,
   "metadata": {
    "editable": true
   },
   "outputs": [
    {
     "name": "stdout",
     "output_type": "stream",
     "text": [
      "Non-US countries where continent column is not updated = 4963\n"
     ]
    },
    {
     "data": {
      "text/html": [
       "<div>\n",
       "<style scoped>\n",
       "    .dataframe tbody tr th:only-of-type {\n",
       "        vertical-align: middle;\n",
       "    }\n",
       "\n",
       "    .dataframe tbody tr th {\n",
       "        vertical-align: top;\n",
       "    }\n",
       "\n",
       "    .dataframe thead th {\n",
       "        text-align: right;\n",
       "    }\n",
       "</style>\n",
       "<table border=\"1\" class=\"dataframe\">\n",
       "  <thead>\n",
       "    <tr style=\"text-align: right;\">\n",
       "      <th></th>\n",
       "      <th>ident</th>\n",
       "      <th>type</th>\n",
       "      <th>name</th>\n",
       "      <th>elevation_ft</th>\n",
       "      <th>continent</th>\n",
       "      <th>iso_country</th>\n",
       "      <th>iso_region</th>\n",
       "      <th>municipality</th>\n",
       "      <th>gps_code</th>\n",
       "      <th>iata_code</th>\n",
       "      <th>local_code</th>\n",
       "      <th>coordinates</th>\n",
       "    </tr>\n",
       "  </thead>\n",
       "  <tbody>\n",
       "    <tr>\n",
       "      <th>174</th>\n",
       "      <td>02PR</td>\n",
       "      <td>small_airport</td>\n",
       "      <td>Cuylers Airport</td>\n",
       "      <td>15.0</td>\n",
       "      <td>NaN</td>\n",
       "      <td>PR</td>\n",
       "      <td>PR-U-A</td>\n",
       "      <td>Vega Baja</td>\n",
       "      <td>02PR</td>\n",
       "      <td>NaN</td>\n",
       "      <td>02PR</td>\n",
       "      <td>-66.36689758300781, 18.45330047607422</td>\n",
       "    </tr>\n",
       "    <tr>\n",
       "      <th>1360</th>\n",
       "      <td>12PR</td>\n",
       "      <td>heliport</td>\n",
       "      <td>Villamil-304 Ponce De Leon Heliport</td>\n",
       "      <td>148.0</td>\n",
       "      <td>NaN</td>\n",
       "      <td>PR</td>\n",
       "      <td>PR-U-A</td>\n",
       "      <td>San Juan</td>\n",
       "      <td>12PR</td>\n",
       "      <td>NaN</td>\n",
       "      <td>12PR</td>\n",
       "      <td>-66.05699920654297, 18.42259979248047</td>\n",
       "    </tr>\n",
       "    <tr>\n",
       "      <th>1484</th>\n",
       "      <td>14PR</td>\n",
       "      <td>heliport</td>\n",
       "      <td>Emp. Coco Beach Golf Club LLC Heliport</td>\n",
       "      <td>11.0</td>\n",
       "      <td>NaN</td>\n",
       "      <td>PR</td>\n",
       "      <td>PR-U-A</td>\n",
       "      <td>Rio Grande</td>\n",
       "      <td>14PR</td>\n",
       "      <td>NaN</td>\n",
       "      <td>14PR</td>\n",
       "      <td>-65.798751, 18.407301</td>\n",
       "    </tr>\n",
       "    <tr>\n",
       "      <th>2230</th>\n",
       "      <td>1PR3</td>\n",
       "      <td>heliport</td>\n",
       "      <td>San Patricio Heliport</td>\n",
       "      <td>157.0</td>\n",
       "      <td>NaN</td>\n",
       "      <td>PR</td>\n",
       "      <td>PR-U-A</td>\n",
       "      <td>Guaynabo</td>\n",
       "      <td>1PR3</td>\n",
       "      <td>NaN</td>\n",
       "      <td>1PR3</td>\n",
       "      <td>-66.10600280761719, 18.406099319458008</td>\n",
       "    </tr>\n",
       "    <tr>\n",
       "      <th>2898</th>\n",
       "      <td>28PR</td>\n",
       "      <td>heliport</td>\n",
       "      <td>La Concepcion Hospital Heliport</td>\n",
       "      <td>120.0</td>\n",
       "      <td>NaN</td>\n",
       "      <td>PR</td>\n",
       "      <td>PR-U-A</td>\n",
       "      <td>San German</td>\n",
       "      <td>28PR</td>\n",
       "      <td>NaN</td>\n",
       "      <td>28PR</td>\n",
       "      <td>-67.03939819335938, 18.108699798583984</td>\n",
       "    </tr>\n",
       "  </tbody>\n",
       "</table>\n",
       "</div>"
      ],
      "text/plain": [
       "     ident           type                                    name  \\\n",
       "174   02PR  small_airport                         Cuylers Airport   \n",
       "1360  12PR       heliport     Villamil-304 Ponce De Leon Heliport   \n",
       "1484  14PR       heliport  Emp. Coco Beach Golf Club LLC Heliport   \n",
       "2230  1PR3       heliport                   San Patricio Heliport   \n",
       "2898  28PR       heliport         La Concepcion Hospital Heliport   \n",
       "\n",
       "      elevation_ft continent iso_country iso_region municipality gps_code  \\\n",
       "174           15.0       NaN          PR     PR-U-A    Vega Baja     02PR   \n",
       "1360         148.0       NaN          PR     PR-U-A     San Juan     12PR   \n",
       "1484          11.0       NaN          PR     PR-U-A   Rio Grande     14PR   \n",
       "2230         157.0       NaN          PR     PR-U-A     Guaynabo     1PR3   \n",
       "2898         120.0       NaN          PR     PR-U-A   San German     28PR   \n",
       "\n",
       "     iata_code local_code                             coordinates  \n",
       "174        NaN       02PR   -66.36689758300781, 18.45330047607422  \n",
       "1360       NaN       12PR   -66.05699920654297, 18.42259979248047  \n",
       "1484       NaN       14PR                   -65.798751, 18.407301  \n",
       "2230       NaN       1PR3  -66.10600280761719, 18.406099319458008  \n",
       "2898       NaN       28PR  -67.03939819335938, 18.108699798583984  "
      ]
     },
     "execution_count": 53,
     "metadata": {},
     "output_type": "execute_result"
    }
   ],
   "source": [
    "# Non-US countries where continent column is not updated.\n",
    "cond1 = airport_codes_df.continent.isnull()\n",
    "cond2 = airport_codes_df.iso_country=='US'\n",
    "print('Non-US countries where continent column is not updated = {}'.format(airport_codes_df[cond1 & ~cond2].shape[0]))\n",
    "airport_codes_df[cond1 & ~cond2].head()"
   ]
  },
  {
   "cell_type": "code",
   "execution_count": 54,
   "metadata": {
    "editable": true
   },
   "outputs": [
    {
     "data": {
      "text/plain": [
       "small_airport     33965\n",
       "heliport          11287\n",
       "medium_airport     4550\n",
       "closed             3606\n",
       "seaplane_base      1016\n",
       "large_airport       627\n",
       "balloonport          24\n",
       "Name: type, dtype: int64"
      ]
     },
     "execution_count": 54,
     "metadata": {},
     "output_type": "execute_result"
    }
   ],
   "source": [
    "airport_codes_df.type.value_counts()"
   ]
  },
  {
   "cell_type": "code",
   "execution_count": 55,
   "metadata": {
    "editable": true
   },
   "outputs": [
    {
     "name": "stdout",
     "output_type": "stream",
     "text": [
      "Is null =  45886\n",
      "Is not null =  9189\n"
     ]
    }
   ],
   "source": [
    "print('Is null = ',airport_codes_df[airport_codes_df.iata_code.isnull()].shape[0] )\n",
    "print('Is not null = ',airport_codes_df[~airport_codes_df.iata_code.isnull()].shape[0] )"
   ]
  },
  {
   "cell_type": "code",
   "execution_count": 56,
   "metadata": {
    "editable": true
   },
   "outputs": [
    {
     "data": {
      "text/plain": [
       "small_airport     4238\n",
       "medium_airport    3859\n",
       "large_airport      602\n",
       "closed             279\n",
       "seaplane_base      143\n",
       "heliport            68\n",
       "Name: type, dtype: int64"
      ]
     },
     "execution_count": 56,
     "metadata": {},
     "output_type": "execute_result"
    }
   ],
   "source": [
    "# scheduled/passenger airports will have IATA codes\n",
    "test = airport_codes_df[~airport_codes_df.iata_code.isnull()].copy()\n",
    "test.type.value_counts()"
   ]
  },
  {
   "cell_type": "markdown",
   "metadata": {
    "editable": true
   },
   "source": [
    " - Can eliminate airports 'seaplane_base', 'heliport', and 'closed' they won't have immigration facilities."
   ]
  },
  {
   "cell_type": "code",
   "execution_count": 57,
   "metadata": {
    "editable": true
   },
   "outputs": [
    {
     "name": "stdout",
     "output_type": "stream",
     "text": [
      "Current Total Airports = 8699\n",
      "How many airports in US = 1865\n"
     ]
    },
    {
     "data": {
      "text/plain": [
       "small_airport     4238\n",
       "medium_airport    3859\n",
       "large_airport      602\n",
       "Name: type, dtype: int64"
      ]
     },
     "execution_count": 57,
     "metadata": {},
     "output_type": "execute_result"
    }
   ],
   "source": [
    "temp = ['small_airport', 'medium_airport', 'large_airport']\n",
    "test = test[test['type'].isin(temp)].copy()\n",
    "print('Current Total Airports = {}'.format(test.shape[0]))\n",
    "print('How many airports in US = {}'.format(test[test.iso_country =='US'].shape[0]))\n",
    "test.type.value_counts()"
   ]
  },
  {
   "cell_type": "code",
   "execution_count": 58,
   "metadata": {
    "editable": true
   },
   "outputs": [
    {
     "name": "stdout",
     "output_type": "stream",
     "text": [
      "Total Airports = 1865\n"
     ]
    },
    {
     "data": {
      "text/html": [
       "<div>\n",
       "<style scoped>\n",
       "    .dataframe tbody tr th:only-of-type {\n",
       "        vertical-align: middle;\n",
       "    }\n",
       "\n",
       "    .dataframe tbody tr th {\n",
       "        vertical-align: top;\n",
       "    }\n",
       "\n",
       "    .dataframe thead th {\n",
       "        text-align: right;\n",
       "    }\n",
       "</style>\n",
       "<table border=\"1\" class=\"dataframe\">\n",
       "  <thead>\n",
       "    <tr style=\"text-align: right;\">\n",
       "      <th></th>\n",
       "      <th>ident</th>\n",
       "      <th>type</th>\n",
       "      <th>name</th>\n",
       "      <th>elevation_ft</th>\n",
       "      <th>continent</th>\n",
       "      <th>iso_country</th>\n",
       "      <th>iso_region</th>\n",
       "      <th>municipality</th>\n",
       "      <th>gps_code</th>\n",
       "      <th>iata_code</th>\n",
       "      <th>local_code</th>\n",
       "      <th>coordinates</th>\n",
       "    </tr>\n",
       "  </thead>\n",
       "  <tbody>\n",
       "    <tr>\n",
       "      <th>440</th>\n",
       "      <td>07FA</td>\n",
       "      <td>small_airport</td>\n",
       "      <td>Ocean Reef Club Airport</td>\n",
       "      <td>8.0</td>\n",
       "      <td>NaN</td>\n",
       "      <td>US</td>\n",
       "      <td>US-FL</td>\n",
       "      <td>Key Largo</td>\n",
       "      <td>07FA</td>\n",
       "      <td>OCA</td>\n",
       "      <td>07FA</td>\n",
       "      <td>-80.274803161621, 25.325399398804</td>\n",
       "    </tr>\n",
       "    <tr>\n",
       "      <th>594</th>\n",
       "      <td>0AK</td>\n",
       "      <td>small_airport</td>\n",
       "      <td>Pilot Station Airport</td>\n",
       "      <td>305.0</td>\n",
       "      <td>NaN</td>\n",
       "      <td>US</td>\n",
       "      <td>US-AK</td>\n",
       "      <td>Pilot Station</td>\n",
       "      <td>NaN</td>\n",
       "      <td>PQS</td>\n",
       "      <td>0AK</td>\n",
       "      <td>-162.899994, 61.934601</td>\n",
       "    </tr>\n",
       "    <tr>\n",
       "      <th>673</th>\n",
       "      <td>0CO2</td>\n",
       "      <td>small_airport</td>\n",
       "      <td>Crested Butte Airpark</td>\n",
       "      <td>8980.0</td>\n",
       "      <td>NaN</td>\n",
       "      <td>US</td>\n",
       "      <td>US-CO</td>\n",
       "      <td>Crested Butte</td>\n",
       "      <td>0CO2</td>\n",
       "      <td>CSE</td>\n",
       "      <td>0CO2</td>\n",
       "      <td>-106.928341, 38.851918</td>\n",
       "    </tr>\n",
       "    <tr>\n",
       "      <th>1088</th>\n",
       "      <td>0TE7</td>\n",
       "      <td>small_airport</td>\n",
       "      <td>LBJ Ranch Airport</td>\n",
       "      <td>1515.0</td>\n",
       "      <td>NaN</td>\n",
       "      <td>US</td>\n",
       "      <td>US-TX</td>\n",
       "      <td>Johnson City</td>\n",
       "      <td>0TE7</td>\n",
       "      <td>JCY</td>\n",
       "      <td>0TE7</td>\n",
       "      <td>-98.62249755859999, 30.251800537100003</td>\n",
       "    </tr>\n",
       "    <tr>\n",
       "      <th>1402</th>\n",
       "      <td>13MA</td>\n",
       "      <td>small_airport</td>\n",
       "      <td>Metropolitan Airport</td>\n",
       "      <td>418.0</td>\n",
       "      <td>NaN</td>\n",
       "      <td>US</td>\n",
       "      <td>US-MA</td>\n",
       "      <td>Palmer</td>\n",
       "      <td>13MA</td>\n",
       "      <td>PMX</td>\n",
       "      <td>13MA</td>\n",
       "      <td>-72.31140136719999, 42.223300933800004</td>\n",
       "    </tr>\n",
       "  </tbody>\n",
       "</table>\n",
       "</div>"
      ],
      "text/plain": [
       "     ident           type                     name  elevation_ft continent  \\\n",
       "440   07FA  small_airport  Ocean Reef Club Airport           8.0       NaN   \n",
       "594    0AK  small_airport    Pilot Station Airport         305.0       NaN   \n",
       "673   0CO2  small_airport    Crested Butte Airpark        8980.0       NaN   \n",
       "1088  0TE7  small_airport        LBJ Ranch Airport        1515.0       NaN   \n",
       "1402  13MA  small_airport     Metropolitan Airport         418.0       NaN   \n",
       "\n",
       "     iso_country iso_region   municipality gps_code iata_code local_code  \\\n",
       "440           US      US-FL      Key Largo     07FA       OCA       07FA   \n",
       "594           US      US-AK  Pilot Station      NaN       PQS        0AK   \n",
       "673           US      US-CO  Crested Butte     0CO2       CSE       0CO2   \n",
       "1088          US      US-TX   Johnson City     0TE7       JCY       0TE7   \n",
       "1402          US      US-MA         Palmer     13MA       PMX       13MA   \n",
       "\n",
       "                                 coordinates  \n",
       "440        -80.274803161621, 25.325399398804  \n",
       "594                   -162.899994, 61.934601  \n",
       "673                   -106.928341, 38.851918  \n",
       "1088  -98.62249755859999, 30.251800537100003  \n",
       "1402  -72.31140136719999, 42.223300933800004  "
      ]
     },
     "execution_count": 58,
     "metadata": {},
     "output_type": "execute_result"
    }
   ],
   "source": [
    "test = test[test.iso_country =='US'].copy()\n",
    "print('Total Airports = {}'.format(test.shape[0]))\n",
    "test.head()"
   ]
  },
  {
   "cell_type": "code",
   "execution_count": 59,
   "metadata": {
    "editable": true
   },
   "outputs": [
    {
     "data": {
      "text/html": [
       "<div>\n",
       "<style scoped>\n",
       "    .dataframe tbody tr th:only-of-type {\n",
       "        vertical-align: middle;\n",
       "    }\n",
       "\n",
       "    .dataframe tbody tr th {\n",
       "        vertical-align: top;\n",
       "    }\n",
       "\n",
       "    .dataframe thead th {\n",
       "        text-align: right;\n",
       "    }\n",
       "</style>\n",
       "<table border=\"1\" class=\"dataframe\">\n",
       "  <thead>\n",
       "    <tr style=\"text-align: right;\">\n",
       "      <th></th>\n",
       "      <th>ident</th>\n",
       "      <th>type</th>\n",
       "      <th>name</th>\n",
       "      <th>elevation_ft</th>\n",
       "      <th>continent</th>\n",
       "      <th>iso_country</th>\n",
       "      <th>iso_region</th>\n",
       "      <th>municipality</th>\n",
       "      <th>gps_code</th>\n",
       "      <th>iata_code</th>\n",
       "      <th>local_code</th>\n",
       "      <th>coordinates</th>\n",
       "      <th>state</th>\n",
       "    </tr>\n",
       "  </thead>\n",
       "  <tbody>\n",
       "    <tr>\n",
       "      <th>440</th>\n",
       "      <td>07FA</td>\n",
       "      <td>small_airport</td>\n",
       "      <td>Ocean Reef Club Airport</td>\n",
       "      <td>8.0</td>\n",
       "      <td>NaN</td>\n",
       "      <td>US</td>\n",
       "      <td>US-FL</td>\n",
       "      <td>Key Largo</td>\n",
       "      <td>07FA</td>\n",
       "      <td>OCA</td>\n",
       "      <td>07FA</td>\n",
       "      <td>-80.274803161621, 25.325399398804</td>\n",
       "      <td>FL</td>\n",
       "    </tr>\n",
       "    <tr>\n",
       "      <th>594</th>\n",
       "      <td>0AK</td>\n",
       "      <td>small_airport</td>\n",
       "      <td>Pilot Station Airport</td>\n",
       "      <td>305.0</td>\n",
       "      <td>NaN</td>\n",
       "      <td>US</td>\n",
       "      <td>US-AK</td>\n",
       "      <td>Pilot Station</td>\n",
       "      <td>NaN</td>\n",
       "      <td>PQS</td>\n",
       "      <td>0AK</td>\n",
       "      <td>-162.899994, 61.934601</td>\n",
       "      <td>AK</td>\n",
       "    </tr>\n",
       "    <tr>\n",
       "      <th>673</th>\n",
       "      <td>0CO2</td>\n",
       "      <td>small_airport</td>\n",
       "      <td>Crested Butte Airpark</td>\n",
       "      <td>8980.0</td>\n",
       "      <td>NaN</td>\n",
       "      <td>US</td>\n",
       "      <td>US-CO</td>\n",
       "      <td>Crested Butte</td>\n",
       "      <td>0CO2</td>\n",
       "      <td>CSE</td>\n",
       "      <td>0CO2</td>\n",
       "      <td>-106.928341, 38.851918</td>\n",
       "      <td>CO</td>\n",
       "    </tr>\n",
       "    <tr>\n",
       "      <th>1088</th>\n",
       "      <td>0TE7</td>\n",
       "      <td>small_airport</td>\n",
       "      <td>LBJ Ranch Airport</td>\n",
       "      <td>1515.0</td>\n",
       "      <td>NaN</td>\n",
       "      <td>US</td>\n",
       "      <td>US-TX</td>\n",
       "      <td>Johnson City</td>\n",
       "      <td>0TE7</td>\n",
       "      <td>JCY</td>\n",
       "      <td>0TE7</td>\n",
       "      <td>-98.62249755859999, 30.251800537100003</td>\n",
       "      <td>TX</td>\n",
       "    </tr>\n",
       "    <tr>\n",
       "      <th>1402</th>\n",
       "      <td>13MA</td>\n",
       "      <td>small_airport</td>\n",
       "      <td>Metropolitan Airport</td>\n",
       "      <td>418.0</td>\n",
       "      <td>NaN</td>\n",
       "      <td>US</td>\n",
       "      <td>US-MA</td>\n",
       "      <td>Palmer</td>\n",
       "      <td>13MA</td>\n",
       "      <td>PMX</td>\n",
       "      <td>13MA</td>\n",
       "      <td>-72.31140136719999, 42.223300933800004</td>\n",
       "      <td>MA</td>\n",
       "    </tr>\n",
       "  </tbody>\n",
       "</table>\n",
       "</div>"
      ],
      "text/plain": [
       "     ident           type                     name  elevation_ft continent  \\\n",
       "440   07FA  small_airport  Ocean Reef Club Airport           8.0       NaN   \n",
       "594    0AK  small_airport    Pilot Station Airport         305.0       NaN   \n",
       "673   0CO2  small_airport    Crested Butte Airpark        8980.0       NaN   \n",
       "1088  0TE7  small_airport        LBJ Ranch Airport        1515.0       NaN   \n",
       "1402  13MA  small_airport     Metropolitan Airport         418.0       NaN   \n",
       "\n",
       "     iso_country iso_region   municipality gps_code iata_code local_code  \\\n",
       "440           US      US-FL      Key Largo     07FA       OCA       07FA   \n",
       "594           US      US-AK  Pilot Station      NaN       PQS        0AK   \n",
       "673           US      US-CO  Crested Butte     0CO2       CSE       0CO2   \n",
       "1088          US      US-TX   Johnson City     0TE7       JCY       0TE7   \n",
       "1402          US      US-MA         Palmer     13MA       PMX       13MA   \n",
       "\n",
       "                                 coordinates state  \n",
       "440        -80.274803161621, 25.325399398804    FL  \n",
       "594                   -162.899994, 61.934601    AK  \n",
       "673                   -106.928341, 38.851918    CO  \n",
       "1088  -98.62249755859999, 30.251800537100003    TX  \n",
       "1402  -72.31140136719999, 42.223300933800004    MA  "
      ]
     },
     "execution_count": 59,
     "metadata": {},
     "output_type": "execute_result"
    }
   ],
   "source": [
    "# Splitting the region code to separate column\n",
    "test['state'] = test.iso_region.str.slice(start=3)\n",
    "test.head()"
   ]
  },
  {
   "cell_type": "code",
   "execution_count": 60,
   "metadata": {
    "editable": true
   },
   "outputs": [
    {
     "name": "stdout",
     "output_type": "stream",
     "text": [
      "Total States = 51\n"
     ]
    },
    {
     "data": {
      "text/plain": [
       "AK    267\n",
       "CA    141\n",
       "TX    113\n",
       "FL     75\n",
       "WA     48\n",
       "MI     47\n",
       "AZ     45\n",
       "WI     42\n",
       "IA     41\n",
       "NY     41\n",
       "OK     41\n",
       "PA     39\n",
       "IL     38\n",
       "CO     37\n",
       "GA     37\n",
       "OR     36\n",
       "IN     36\n",
       "KS     36\n",
       "MN     35\n",
       "OH     35\n",
       "NC     33\n",
       "VA     31\n",
       "NE     31\n",
       "SC     31\n",
       "NM     30\n",
       "NV     29\n",
       "AR     29\n",
       "UT     28\n",
       "WY     28\n",
       "MO     28\n",
       "AL     28\n",
       "MS     27\n",
       "MT     26\n",
       "TN     25\n",
       "LA     22\n",
       "MA     20\n",
       "HI     20\n",
       "ME     19\n",
       "SD     18\n",
       "KY     17\n",
       "MD     17\n",
       "ID     17\n",
       "NJ     16\n",
       "ND     15\n",
       "WV     13\n",
       "NH     12\n",
       "VT      7\n",
       "CT      7\n",
       "RI      6\n",
       "DE      3\n",
       "DC      2\n",
       "Name: state, dtype: int64"
      ]
     },
     "execution_count": 60,
     "metadata": {},
     "output_type": "execute_result"
    }
   ],
   "source": [
    "print('Total States = {}'.format(test.state.value_counts().shape[0]))\n",
    "test.state.value_counts()"
   ]
  },
  {
   "cell_type": "code",
   "execution_count": 61,
   "metadata": {
    "editable": true
   },
   "outputs": [
    {
     "data": {
      "text/html": [
       "<div>\n",
       "<style scoped>\n",
       "    .dataframe tbody tr th:only-of-type {\n",
       "        vertical-align: middle;\n",
       "    }\n",
       "\n",
       "    .dataframe tbody tr th {\n",
       "        vertical-align: top;\n",
       "    }\n",
       "\n",
       "    .dataframe thead th {\n",
       "        text-align: right;\n",
       "    }\n",
       "</style>\n",
       "<table border=\"1\" class=\"dataframe\">\n",
       "  <thead>\n",
       "    <tr style=\"text-align: right;\">\n",
       "      <th></th>\n",
       "      <th>0</th>\n",
       "      <th>1</th>\n",
       "    </tr>\n",
       "  </thead>\n",
       "  <tbody>\n",
       "    <tr>\n",
       "      <th>0</th>\n",
       "      <td>-74.93360137939453</td>\n",
       "      <td>40.07080078125</td>\n",
       "    </tr>\n",
       "    <tr>\n",
       "      <th>1</th>\n",
       "      <td>-101.473911</td>\n",
       "      <td>38.704022</td>\n",
       "    </tr>\n",
       "    <tr>\n",
       "      <th>2</th>\n",
       "      <td>-151.695999146</td>\n",
       "      <td>59.94919968</td>\n",
       "    </tr>\n",
       "    <tr>\n",
       "      <th>3</th>\n",
       "      <td>-86.77030181884766</td>\n",
       "      <td>34.86479949951172</td>\n",
       "    </tr>\n",
       "    <tr>\n",
       "      <th>4</th>\n",
       "      <td>-91.254898</td>\n",
       "      <td>35.6087</td>\n",
       "    </tr>\n",
       "  </tbody>\n",
       "</table>\n",
       "</div>"
      ],
      "text/plain": [
       "                    0                  1\n",
       "0  -74.93360137939453     40.07080078125\n",
       "1         -101.473911          38.704022\n",
       "2      -151.695999146        59.94919968\n",
       "3  -86.77030181884766  34.86479949951172\n",
       "4          -91.254898            35.6087"
      ]
     },
     "execution_count": 61,
     "metadata": {},
     "output_type": "execute_result"
    }
   ],
   "source": [
    "airport_codes_df.coordinates.str.split(\", \",expand=True).head()"
   ]
  },
  {
   "cell_type": "code",
   "execution_count": 62,
   "metadata": {
    "editable": true
   },
   "outputs": [
    {
     "data": {
      "text/html": [
       "<div>\n",
       "<style scoped>\n",
       "    .dataframe tbody tr th:only-of-type {\n",
       "        vertical-align: middle;\n",
       "    }\n",
       "\n",
       "    .dataframe tbody tr th {\n",
       "        vertical-align: top;\n",
       "    }\n",
       "\n",
       "    .dataframe thead th {\n",
       "        text-align: right;\n",
       "    }\n",
       "</style>\n",
       "<table border=\"1\" class=\"dataframe\">\n",
       "  <thead>\n",
       "    <tr style=\"text-align: right;\">\n",
       "      <th></th>\n",
       "      <th>ident</th>\n",
       "      <th>type</th>\n",
       "      <th>name</th>\n",
       "      <th>elevation_ft</th>\n",
       "      <th>continent</th>\n",
       "      <th>iso_country</th>\n",
       "      <th>iso_region</th>\n",
       "      <th>municipality</th>\n",
       "      <th>gps_code</th>\n",
       "      <th>iata_code</th>\n",
       "      <th>local_code</th>\n",
       "      <th>coordinates</th>\n",
       "    </tr>\n",
       "  </thead>\n",
       "  <tbody>\n",
       "    <tr>\n",
       "      <th>2331</th>\n",
       "      <td>1W5</td>\n",
       "      <td>closed</td>\n",
       "      <td>[Duplicate] Hoby Wolf Airport</td>\n",
       "      <td>600.0</td>\n",
       "      <td>NaN</td>\n",
       "      <td>US</td>\n",
       "      <td>US-MD</td>\n",
       "      <td>Eldersburg</td>\n",
       "      <td>1W5</td>\n",
       "      <td>NaN</td>\n",
       "      <td>1W5</td>\n",
       "      <td>-76.9274978638, 39.4079017639</td>\n",
       "    </tr>\n",
       "    <tr>\n",
       "      <th>4191</th>\n",
       "      <td>3C5</td>\n",
       "      <td>closed</td>\n",
       "      <td>[Duplicate] Wheeler Airport</td>\n",
       "      <td>720.0</td>\n",
       "      <td>NaN</td>\n",
       "      <td>US</td>\n",
       "      <td>US-IN</td>\n",
       "      <td>Knox</td>\n",
       "      <td>3C5</td>\n",
       "      <td>NaN</td>\n",
       "      <td>3C5</td>\n",
       "      <td>-86.60700225830001, 41.1898002625</td>\n",
       "    </tr>\n",
       "    <tr>\n",
       "      <th>10769</th>\n",
       "      <td>AR-0006</td>\n",
       "      <td>closed</td>\n",
       "      <td>[Duplicate] Brigadier Hector Ruiz Airport</td>\n",
       "      <td>228.0</td>\n",
       "      <td>SA</td>\n",
       "      <td>AR</td>\n",
       "      <td>AR-B</td>\n",
       "      <td>Coronel Suarez</td>\n",
       "      <td>NaN</td>\n",
       "      <td>CSZ</td>\n",
       "      <td>NaN</td>\n",
       "      <td>-61.8833007812, -37.4333000183</td>\n",
       "    </tr>\n",
       "    <tr>\n",
       "      <th>11564</th>\n",
       "      <td>AU-0051</td>\n",
       "      <td>closed</td>\n",
       "      <td>[Duplicate] Baralaba</td>\n",
       "      <td>340.0</td>\n",
       "      <td>OC</td>\n",
       "      <td>AU</td>\n",
       "      <td>AU-QLD</td>\n",
       "      <td>Baralaba</td>\n",
       "      <td>YBAB</td>\n",
       "      <td>NaN</td>\n",
       "      <td>NaN</td>\n",
       "      <td>149.843166, -24.19357</td>\n",
       "    </tr>\n",
       "    <tr>\n",
       "      <th>11637</th>\n",
       "      <td>AU-BCK</td>\n",
       "      <td>closed</td>\n",
       "      <td>[Duplicate] Bolwarra Airport</td>\n",
       "      <td>NaN</td>\n",
       "      <td>OC</td>\n",
       "      <td>AU</td>\n",
       "      <td>AU-QLD</td>\n",
       "      <td>Bolwarra</td>\n",
       "      <td>NaN</td>\n",
       "      <td>BCK</td>\n",
       "      <td>NaN</td>\n",
       "      <td>144.169006348, -17.388299942</td>\n",
       "    </tr>\n",
       "  </tbody>\n",
       "</table>\n",
       "</div>"
      ],
      "text/plain": [
       "         ident    type                                       name  \\\n",
       "2331       1W5  closed              [Duplicate] Hoby Wolf Airport   \n",
       "4191       3C5  closed                [Duplicate] Wheeler Airport   \n",
       "10769  AR-0006  closed  [Duplicate] Brigadier Hector Ruiz Airport   \n",
       "11564  AU-0051  closed                       [Duplicate] Baralaba   \n",
       "11637   AU-BCK  closed               [Duplicate] Bolwarra Airport   \n",
       "\n",
       "       elevation_ft continent iso_country iso_region    municipality gps_code  \\\n",
       "2331          600.0       NaN          US      US-MD      Eldersburg      1W5   \n",
       "4191          720.0       NaN          US      US-IN            Knox      3C5   \n",
       "10769         228.0        SA          AR       AR-B  Coronel Suarez      NaN   \n",
       "11564         340.0        OC          AU     AU-QLD        Baralaba     YBAB   \n",
       "11637           NaN        OC          AU     AU-QLD        Bolwarra      NaN   \n",
       "\n",
       "      iata_code local_code                        coordinates  \n",
       "2331        NaN        1W5      -76.9274978638, 39.4079017639  \n",
       "4191        NaN        3C5  -86.60700225830001, 41.1898002625  \n",
       "10769       CSZ        NaN     -61.8833007812, -37.4333000183  \n",
       "11564       NaN        NaN              149.843166, -24.19357  \n",
       "11637       BCK        NaN       144.169006348, -17.388299942  "
      ]
     },
     "execution_count": 62,
     "metadata": {},
     "output_type": "execute_result"
    }
   ],
   "source": [
    "# Remove duplicate airport rows\n",
    "airport_codes_df[airport_codes_df.name.str.contains('uplicate')].head()"
   ]
  },
  {
   "cell_type": "markdown",
   "metadata": {
    "editable": true
   },
   "source": [
    "#### U.S. Demographics Data"
   ]
  },
  {
   "cell_type": "code",
   "execution_count": 63,
   "metadata": {
    "editable": true
   },
   "outputs": [
    {
     "name": "stdout",
     "output_type": "stream",
     "text": [
      "(3096313, 28)\n"
     ]
    }
   ],
   "source": [
    "demographics_df_shape = (df_spark.count(), len(df_spark.columns))\n",
    "print(demographics_df_shape)"
   ]
  },
  {
   "cell_type": "code",
   "execution_count": 64,
   "metadata": {
    "editable": true
   },
   "outputs": [
    {
     "name": "stdout",
     "output_type": "stream",
     "text": [
      "<class 'pandas.core.frame.DataFrame'>\n",
      "RangeIndex: 2891 entries, 0 to 2890\n",
      "Data columns (total 1 columns):\n",
      "City;State;Median Age;Male Population;Female Population;Total Population;Number of Veterans;Foreign-born;Average Household Size;State Code;Race;Count    2891 non-null object\n",
      "dtypes: object(1)\n",
      "memory usage: 22.7+ KB\n"
     ]
    }
   ],
   "source": [
    "demographics_df.info()"
   ]
  },
  {
   "cell_type": "code",
   "execution_count": 65,
   "metadata": {
    "editable": true
   },
   "outputs": [],
   "source": [
    "demographics_df= pd.read_csv('./data/us-cities-demographics.csv', delimiter=';')"
   ]
  },
  {
   "cell_type": "code",
   "execution_count": 66,
   "metadata": {
    "editable": true
   },
   "outputs": [
    {
     "name": "stdout",
     "output_type": "stream",
     "text": [
      "<class 'pandas.core.frame.DataFrame'>\n",
      "RangeIndex: 2891 entries, 0 to 2890\n",
      "Data columns (total 12 columns):\n",
      "City                      2891 non-null object\n",
      "State                     2891 non-null object\n",
      "Median Age                2891 non-null float64\n",
      "Male Population           2888 non-null float64\n",
      "Female Population         2888 non-null float64\n",
      "Total Population          2891 non-null int64\n",
      "Number of Veterans        2878 non-null float64\n",
      "Foreign-born              2878 non-null float64\n",
      "Average Household Size    2875 non-null float64\n",
      "State Code                2891 non-null object\n",
      "Race                      2891 non-null object\n",
      "Count                     2891 non-null int64\n",
      "dtypes: float64(6), int64(2), object(4)\n",
      "memory usage: 271.1+ KB\n"
     ]
    }
   ],
   "source": [
    "demographics_df.info()"
   ]
  },
  {
   "cell_type": "markdown",
   "metadata": {
    "editable": true
   },
   "source": [
    "- Need to check for NULL values in Male Population, Female Population, Total Population, Number of Veterans, Foreigh-born, and Average Household Size"
   ]
  },
  {
   "cell_type": "code",
   "execution_count": 67,
   "metadata": {
    "editable": true
   },
   "outputs": [
    {
     "data": {
      "text/html": [
       "<div>\n",
       "<style scoped>\n",
       "    .dataframe tbody tr th:only-of-type {\n",
       "        vertical-align: middle;\n",
       "    }\n",
       "\n",
       "    .dataframe tbody tr th {\n",
       "        vertical-align: top;\n",
       "    }\n",
       "\n",
       "    .dataframe thead th {\n",
       "        text-align: right;\n",
       "    }\n",
       "</style>\n",
       "<table border=\"1\" class=\"dataframe\">\n",
       "  <thead>\n",
       "    <tr style=\"text-align: right;\">\n",
       "      <th></th>\n",
       "      <th>Median Age</th>\n",
       "      <th>Male Population</th>\n",
       "      <th>Female Population</th>\n",
       "      <th>Total Population</th>\n",
       "      <th>Number of Veterans</th>\n",
       "      <th>Foreign-born</th>\n",
       "      <th>Average Household Size</th>\n",
       "      <th>Count</th>\n",
       "    </tr>\n",
       "  </thead>\n",
       "  <tbody>\n",
       "    <tr>\n",
       "      <th>count</th>\n",
       "      <td>2891.000000</td>\n",
       "      <td>2.888000e+03</td>\n",
       "      <td>2.888000e+03</td>\n",
       "      <td>2.891000e+03</td>\n",
       "      <td>2878.000000</td>\n",
       "      <td>2.878000e+03</td>\n",
       "      <td>2875.000000</td>\n",
       "      <td>2.891000e+03</td>\n",
       "    </tr>\n",
       "    <tr>\n",
       "      <th>mean</th>\n",
       "      <td>35.494881</td>\n",
       "      <td>9.732843e+04</td>\n",
       "      <td>1.017696e+05</td>\n",
       "      <td>1.989668e+05</td>\n",
       "      <td>9367.832523</td>\n",
       "      <td>4.065360e+04</td>\n",
       "      <td>2.742543</td>\n",
       "      <td>4.896377e+04</td>\n",
       "    </tr>\n",
       "    <tr>\n",
       "      <th>std</th>\n",
       "      <td>4.401617</td>\n",
       "      <td>2.162999e+05</td>\n",
       "      <td>2.315646e+05</td>\n",
       "      <td>4.475559e+05</td>\n",
       "      <td>13211.219924</td>\n",
       "      <td>1.557491e+05</td>\n",
       "      <td>0.433291</td>\n",
       "      <td>1.443856e+05</td>\n",
       "    </tr>\n",
       "    <tr>\n",
       "      <th>min</th>\n",
       "      <td>22.900000</td>\n",
       "      <td>2.928100e+04</td>\n",
       "      <td>2.734800e+04</td>\n",
       "      <td>6.321500e+04</td>\n",
       "      <td>416.000000</td>\n",
       "      <td>8.610000e+02</td>\n",
       "      <td>2.000000</td>\n",
       "      <td>9.800000e+01</td>\n",
       "    </tr>\n",
       "    <tr>\n",
       "      <th>25%</th>\n",
       "      <td>32.800000</td>\n",
       "      <td>3.928900e+04</td>\n",
       "      <td>4.122700e+04</td>\n",
       "      <td>8.042900e+04</td>\n",
       "      <td>3739.000000</td>\n",
       "      <td>9.224000e+03</td>\n",
       "      <td>2.430000</td>\n",
       "      <td>3.435000e+03</td>\n",
       "    </tr>\n",
       "    <tr>\n",
       "      <th>50%</th>\n",
       "      <td>35.300000</td>\n",
       "      <td>5.234100e+04</td>\n",
       "      <td>5.380900e+04</td>\n",
       "      <td>1.067820e+05</td>\n",
       "      <td>5397.000000</td>\n",
       "      <td>1.882200e+04</td>\n",
       "      <td>2.650000</td>\n",
       "      <td>1.378000e+04</td>\n",
       "    </tr>\n",
       "    <tr>\n",
       "      <th>75%</th>\n",
       "      <td>38.000000</td>\n",
       "      <td>8.664175e+04</td>\n",
       "      <td>8.960400e+04</td>\n",
       "      <td>1.752320e+05</td>\n",
       "      <td>9368.000000</td>\n",
       "      <td>3.397175e+04</td>\n",
       "      <td>2.950000</td>\n",
       "      <td>5.444700e+04</td>\n",
       "    </tr>\n",
       "    <tr>\n",
       "      <th>max</th>\n",
       "      <td>70.500000</td>\n",
       "      <td>4.081698e+06</td>\n",
       "      <td>4.468707e+06</td>\n",
       "      <td>8.550405e+06</td>\n",
       "      <td>156961.000000</td>\n",
       "      <td>3.212500e+06</td>\n",
       "      <td>4.980000</td>\n",
       "      <td>3.835726e+06</td>\n",
       "    </tr>\n",
       "  </tbody>\n",
       "</table>\n",
       "</div>"
      ],
      "text/plain": [
       "        Median Age  Male Population  Female Population  Total Population  \\\n",
       "count  2891.000000     2.888000e+03       2.888000e+03      2.891000e+03   \n",
       "mean     35.494881     9.732843e+04       1.017696e+05      1.989668e+05   \n",
       "std       4.401617     2.162999e+05       2.315646e+05      4.475559e+05   \n",
       "min      22.900000     2.928100e+04       2.734800e+04      6.321500e+04   \n",
       "25%      32.800000     3.928900e+04       4.122700e+04      8.042900e+04   \n",
       "50%      35.300000     5.234100e+04       5.380900e+04      1.067820e+05   \n",
       "75%      38.000000     8.664175e+04       8.960400e+04      1.752320e+05   \n",
       "max      70.500000     4.081698e+06       4.468707e+06      8.550405e+06   \n",
       "\n",
       "       Number of Veterans  Foreign-born  Average Household Size         Count  \n",
       "count         2878.000000  2.878000e+03             2875.000000  2.891000e+03  \n",
       "mean          9367.832523  4.065360e+04                2.742543  4.896377e+04  \n",
       "std          13211.219924  1.557491e+05                0.433291  1.443856e+05  \n",
       "min            416.000000  8.610000e+02                2.000000  9.800000e+01  \n",
       "25%           3739.000000  9.224000e+03                2.430000  3.435000e+03  \n",
       "50%           5397.000000  1.882200e+04                2.650000  1.378000e+04  \n",
       "75%           9368.000000  3.397175e+04                2.950000  5.444700e+04  \n",
       "max         156961.000000  3.212500e+06                4.980000  3.835726e+06  "
      ]
     },
     "execution_count": 67,
     "metadata": {},
     "output_type": "execute_result"
    }
   ],
   "source": [
    "demographics_df.describe()"
   ]
  },
  {
   "cell_type": "code",
   "execution_count": 68,
   "metadata": {
    "editable": true
   },
   "outputs": [
    {
     "data": {
      "image/png": "[encoded data removed]",
      "text/plain": [
       "<matplotlib.figure.Figure at 0x7f4660869588>"
      ]
     },
     "metadata": {},
     "output_type": "display_data"
    }
   ],
   "source": [
    "# lets visualize % missing values per immigration feature\n",
    "visualize_missing_values(demographics_df)"
   ]
  },
  {
   "cell_type": "code",
   "execution_count": 69,
   "metadata": {
    "editable": true
   },
   "outputs": [
    {
     "data": {
      "text/html": [
       "<div>\n",
       "<style scoped>\n",
       "    .dataframe tbody tr th:only-of-type {\n",
       "        vertical-align: middle;\n",
       "    }\n",
       "\n",
       "    .dataframe tbody tr th {\n",
       "        vertical-align: top;\n",
       "    }\n",
       "\n",
       "    .dataframe thead th {\n",
       "        text-align: right;\n",
       "    }\n",
       "</style>\n",
       "<table border=\"1\" class=\"dataframe\">\n",
       "  <thead>\n",
       "    <tr style=\"text-align: right;\">\n",
       "      <th></th>\n",
       "      <th>City</th>\n",
       "      <th>State</th>\n",
       "      <th>Median Age</th>\n",
       "      <th>Male Population</th>\n",
       "      <th>Female Population</th>\n",
       "      <th>Total Population</th>\n",
       "      <th>Number of Veterans</th>\n",
       "      <th>Foreign-born</th>\n",
       "      <th>Average Household Size</th>\n",
       "      <th>State Code</th>\n",
       "      <th>Race</th>\n",
       "      <th>Count</th>\n",
       "    </tr>\n",
       "  </thead>\n",
       "  <tbody>\n",
       "    <tr>\n",
       "      <th>0</th>\n",
       "      <td>Silver Spring</td>\n",
       "      <td>Maryland</td>\n",
       "      <td>33.8</td>\n",
       "      <td>40601.0</td>\n",
       "      <td>41862.0</td>\n",
       "      <td>82463</td>\n",
       "      <td>1562.0</td>\n",
       "      <td>30908.0</td>\n",
       "      <td>2.60</td>\n",
       "      <td>MD</td>\n",
       "      <td>Hispanic or Latino</td>\n",
       "      <td>25924</td>\n",
       "    </tr>\n",
       "    <tr>\n",
       "      <th>1</th>\n",
       "      <td>Quincy</td>\n",
       "      <td>Massachusetts</td>\n",
       "      <td>41.0</td>\n",
       "      <td>44129.0</td>\n",
       "      <td>49500.0</td>\n",
       "      <td>93629</td>\n",
       "      <td>4147.0</td>\n",
       "      <td>32935.0</td>\n",
       "      <td>2.39</td>\n",
       "      <td>MA</td>\n",
       "      <td>White</td>\n",
       "      <td>58723</td>\n",
       "    </tr>\n",
       "    <tr>\n",
       "      <th>2</th>\n",
       "      <td>Hoover</td>\n",
       "      <td>Alabama</td>\n",
       "      <td>38.5</td>\n",
       "      <td>38040.0</td>\n",
       "      <td>46799.0</td>\n",
       "      <td>84839</td>\n",
       "      <td>4819.0</td>\n",
       "      <td>8229.0</td>\n",
       "      <td>2.58</td>\n",
       "      <td>AL</td>\n",
       "      <td>Asian</td>\n",
       "      <td>4759</td>\n",
       "    </tr>\n",
       "    <tr>\n",
       "      <th>3</th>\n",
       "      <td>Rancho Cucamonga</td>\n",
       "      <td>California</td>\n",
       "      <td>34.5</td>\n",
       "      <td>88127.0</td>\n",
       "      <td>87105.0</td>\n",
       "      <td>175232</td>\n",
       "      <td>5821.0</td>\n",
       "      <td>33878.0</td>\n",
       "      <td>3.18</td>\n",
       "      <td>CA</td>\n",
       "      <td>Black or African-American</td>\n",
       "      <td>24437</td>\n",
       "    </tr>\n",
       "    <tr>\n",
       "      <th>4</th>\n",
       "      <td>Newark</td>\n",
       "      <td>New Jersey</td>\n",
       "      <td>34.6</td>\n",
       "      <td>138040.0</td>\n",
       "      <td>143873.0</td>\n",
       "      <td>281913</td>\n",
       "      <td>5829.0</td>\n",
       "      <td>86253.0</td>\n",
       "      <td>2.73</td>\n",
       "      <td>NJ</td>\n",
       "      <td>White</td>\n",
       "      <td>76402</td>\n",
       "    </tr>\n",
       "  </tbody>\n",
       "</table>\n",
       "</div>"
      ],
      "text/plain": [
       "               City          State  Median Age  Male Population  \\\n",
       "0     Silver Spring       Maryland        33.8          40601.0   \n",
       "1            Quincy  Massachusetts        41.0          44129.0   \n",
       "2            Hoover        Alabama        38.5          38040.0   \n",
       "3  Rancho Cucamonga     California        34.5          88127.0   \n",
       "4            Newark     New Jersey        34.6         138040.0   \n",
       "\n",
       "   Female Population  Total Population  Number of Veterans  Foreign-born  \\\n",
       "0            41862.0             82463              1562.0       30908.0   \n",
       "1            49500.0             93629              4147.0       32935.0   \n",
       "2            46799.0             84839              4819.0        8229.0   \n",
       "3            87105.0            175232              5821.0       33878.0   \n",
       "4           143873.0            281913              5829.0       86253.0   \n",
       "\n",
       "   Average Household Size State Code                       Race  Count  \n",
       "0                    2.60         MD         Hispanic or Latino  25924  \n",
       "1                    2.39         MA                      White  58723  \n",
       "2                    2.58         AL                      Asian   4759  \n",
       "3                    3.18         CA  Black or African-American  24437  \n",
       "4                    2.73         NJ                      White  76402  "
      ]
     },
     "execution_count": 69,
     "metadata": {},
     "output_type": "execute_result"
    }
   ],
   "source": [
    "demographics_df.head()"
   ]
  },
  {
   "cell_type": "markdown",
   "metadata": {
    "editable": true
   },
   "source": [
    "- Convert to integers: 'Male Population', 'Female Population', 'Number of Veterans', 'Foreign-born', 'Total Population', 'Count'"
   ]
  },
  {
   "cell_type": "code",
   "execution_count": 70,
   "metadata": {
    "editable": true
   },
   "outputs": [],
   "source": [
    "demographics_df1 = demographics_df.copy()\n",
    "\n",
    "# Convert floats to ints\n",
    "cols_to_convert_float_to_int = ['Male Population', 'Female Population', 'Number of Veterans', 'Foreign-born', 'Total Population', 'Count']\n",
    "\n",
    "for col in cols_to_convert_float_to_int:\n",
    "    demographics_df1[col] = demographics_df1[col].replace(np.nan, 0)\n",
    "    demographics_df1[col] = demographics_df1[col].astype(int)"
   ]
  },
  {
   "cell_type": "code",
   "execution_count": 71,
   "metadata": {
    "editable": true
   },
   "outputs": [
    {
     "name": "stdout",
     "output_type": "stream",
     "text": [
      "Total US States = 49\n"
     ]
    }
   ],
   "source": [
    "print('Total US States = {}'.format(demographics_df1.State.value_counts().shape[0]))"
   ]
  },
  {
   "cell_type": "code",
   "execution_count": 72,
   "metadata": {
    "editable": true
   },
   "outputs": [
    {
     "data": {
      "text/html": [
       "<div>\n",
       "<style scoped>\n",
       "    .dataframe tbody tr th:only-of-type {\n",
       "        vertical-align: middle;\n",
       "    }\n",
       "\n",
       "    .dataframe tbody tr th {\n",
       "        vertical-align: top;\n",
       "    }\n",
       "\n",
       "    .dataframe thead th {\n",
       "        text-align: right;\n",
       "    }\n",
       "</style>\n",
       "<table border=\"1\" class=\"dataframe\">\n",
       "  <thead>\n",
       "    <tr style=\"text-align: right;\">\n",
       "      <th></th>\n",
       "      <th>City</th>\n",
       "      <th>State</th>\n",
       "      <th>Median Age</th>\n",
       "      <th>Male Population</th>\n",
       "      <th>Female Population</th>\n",
       "      <th>Total Population</th>\n",
       "      <th>Number of Veterans</th>\n",
       "      <th>Foreign-born</th>\n",
       "      <th>Average Household Size</th>\n",
       "      <th>State Code</th>\n",
       "      <th>Race</th>\n",
       "      <th>Count</th>\n",
       "    </tr>\n",
       "  </thead>\n",
       "  <tbody>\n",
       "    <tr>\n",
       "      <th>2</th>\n",
       "      <td>Hoover</td>\n",
       "      <td>Alabama</td>\n",
       "      <td>38.5</td>\n",
       "      <td>38040</td>\n",
       "      <td>46799</td>\n",
       "      <td>84839</td>\n",
       "      <td>4819</td>\n",
       "      <td>8229</td>\n",
       "      <td>2.58</td>\n",
       "      <td>AL</td>\n",
       "      <td>Asian</td>\n",
       "      <td>4759</td>\n",
       "    </tr>\n",
       "    <tr>\n",
       "      <th>960</th>\n",
       "      <td>Hoover</td>\n",
       "      <td>Alabama</td>\n",
       "      <td>38.5</td>\n",
       "      <td>38040</td>\n",
       "      <td>46799</td>\n",
       "      <td>84839</td>\n",
       "      <td>4819</td>\n",
       "      <td>8229</td>\n",
       "      <td>2.58</td>\n",
       "      <td>AL</td>\n",
       "      <td>Black or African-American</td>\n",
       "      <td>18191</td>\n",
       "    </tr>\n",
       "    <tr>\n",
       "      <th>1410</th>\n",
       "      <td>Hoover</td>\n",
       "      <td>Alabama</td>\n",
       "      <td>38.5</td>\n",
       "      <td>38040</td>\n",
       "      <td>46799</td>\n",
       "      <td>84839</td>\n",
       "      <td>4819</td>\n",
       "      <td>8229</td>\n",
       "      <td>2.58</td>\n",
       "      <td>AL</td>\n",
       "      <td>Hispanic or Latino</td>\n",
       "      <td>3430</td>\n",
       "    </tr>\n",
       "    <tr>\n",
       "      <th>1541</th>\n",
       "      <td>Hoover</td>\n",
       "      <td>Alabama</td>\n",
       "      <td>38.5</td>\n",
       "      <td>38040</td>\n",
       "      <td>46799</td>\n",
       "      <td>84839</td>\n",
       "      <td>4819</td>\n",
       "      <td>8229</td>\n",
       "      <td>2.58</td>\n",
       "      <td>AL</td>\n",
       "      <td>White</td>\n",
       "      <td>61869</td>\n",
       "    </tr>\n",
       "  </tbody>\n",
       "</table>\n",
       "</div>"
      ],
      "text/plain": [
       "        City    State  Median Age  Male Population  Female Population  \\\n",
       "2     Hoover  Alabama        38.5            38040              46799   \n",
       "960   Hoover  Alabama        38.5            38040              46799   \n",
       "1410  Hoover  Alabama        38.5            38040              46799   \n",
       "1541  Hoover  Alabama        38.5            38040              46799   \n",
       "\n",
       "      Total Population  Number of Veterans  Foreign-born  \\\n",
       "2                84839                4819          8229   \n",
       "960              84839                4819          8229   \n",
       "1410             84839                4819          8229   \n",
       "1541             84839                4819          8229   \n",
       "\n",
       "      Average Household Size State Code                       Race  Count  \n",
       "2                       2.58         AL                      Asian   4759  \n",
       "960                     2.58         AL  Black or African-American  18191  \n",
       "1410                    2.58         AL         Hispanic or Latino   3430  \n",
       "1541                    2.58         AL                      White  61869  "
      ]
     },
     "execution_count": 72,
     "metadata": {},
     "output_type": "execute_result"
    }
   ],
   "source": [
    "cond1 = demographics_df1['State'] =='Alabama' \n",
    "cond2 = demographics_df1['City'] == 'Hoover'\n",
    "demographics_df1[cond1 & cond2]"
   ]
  },
  {
   "cell_type": "code",
   "execution_count": 73,
   "metadata": {
    "editable": true
   },
   "outputs": [
    {
     "data": {
      "text/plain": [
       "Hispanic or Latino                   596\n",
       "White                                589\n",
       "Black or African-American            584\n",
       "Asian                                583\n",
       "American Indian and Alaska Native    539\n",
       "Name: Race, dtype: int64"
      ]
     },
     "execution_count": 73,
     "metadata": {},
     "output_type": "execute_result"
    }
   ],
   "source": [
    "demographics_df1.Race.value_counts()"
   ]
  },
  {
   "cell_type": "markdown",
   "metadata": {
    "editable": true
   },
   "source": [
    "- looks to have some missing date; race has American Indian and Alaska Native \n",
    "- race counts don't add up to Male Population + Female Population. (Manually checked for validation that Male population + Female population add upto Total population but the race count don't add up.)\n",
    "- should separate into seperate dataframes to better access\n",
    "        - demog_df - state, city, state code, male population, female population, total population, veterans, foreign-born\n",
    "        - race_df - state, city, state code, race_counts"
   ]
  },
  {
   "cell_type": "code",
   "execution_count": 74,
   "metadata": {
    "editable": true
   },
   "outputs": [
    {
     "data": {
      "text/html": [
       "<div>\n",
       "<style scoped>\n",
       "    .dataframe tbody tr th:only-of-type {\n",
       "        vertical-align: middle;\n",
       "    }\n",
       "\n",
       "    .dataframe tbody tr th {\n",
       "        vertical-align: top;\n",
       "    }\n",
       "\n",
       "    .dataframe thead th {\n",
       "        text-align: right;\n",
       "    }\n",
       "</style>\n",
       "<table border=\"1\" class=\"dataframe\">\n",
       "  <thead>\n",
       "    <tr style=\"text-align: right;\">\n",
       "      <th></th>\n",
       "      <th>City</th>\n",
       "      <th>State</th>\n",
       "      <th>Median Age</th>\n",
       "      <th>Male Population</th>\n",
       "      <th>Female Population</th>\n",
       "      <th>Total Population</th>\n",
       "      <th>Number of Veterans</th>\n",
       "      <th>Foreign-born</th>\n",
       "      <th>Average Household Size</th>\n",
       "      <th>State Code</th>\n",
       "      <th>Race</th>\n",
       "      <th>Count</th>\n",
       "    </tr>\n",
       "  </thead>\n",
       "  <tbody>\n",
       "    <tr>\n",
       "      <th>333</th>\n",
       "      <td>The Villages</td>\n",
       "      <td>Florida</td>\n",
       "      <td>70.5</td>\n",
       "      <td>0</td>\n",
       "      <td>0</td>\n",
       "      <td>72590</td>\n",
       "      <td>15231</td>\n",
       "      <td>4034</td>\n",
       "      <td>NaN</td>\n",
       "      <td>FL</td>\n",
       "      <td>Hispanic or Latino</td>\n",
       "      <td>1066</td>\n",
       "    </tr>\n",
       "    <tr>\n",
       "      <th>449</th>\n",
       "      <td>The Villages</td>\n",
       "      <td>Florida</td>\n",
       "      <td>70.5</td>\n",
       "      <td>0</td>\n",
       "      <td>0</td>\n",
       "      <td>72590</td>\n",
       "      <td>15231</td>\n",
       "      <td>4034</td>\n",
       "      <td>NaN</td>\n",
       "      <td>FL</td>\n",
       "      <td>Black or African-American</td>\n",
       "      <td>331</td>\n",
       "    </tr>\n",
       "    <tr>\n",
       "      <th>1437</th>\n",
       "      <td>The Villages</td>\n",
       "      <td>Florida</td>\n",
       "      <td>70.5</td>\n",
       "      <td>0</td>\n",
       "      <td>0</td>\n",
       "      <td>72590</td>\n",
       "      <td>15231</td>\n",
       "      <td>4034</td>\n",
       "      <td>NaN</td>\n",
       "      <td>FL</td>\n",
       "      <td>White</td>\n",
       "      <td>72211</td>\n",
       "    </tr>\n",
       "  </tbody>\n",
       "</table>\n",
       "</div>"
      ],
      "text/plain": [
       "              City    State  Median Age  Male Population  Female Population  \\\n",
       "333   The Villages  Florida        70.5                0                  0   \n",
       "449   The Villages  Florida        70.5                0                  0   \n",
       "1437  The Villages  Florida        70.5                0                  0   \n",
       "\n",
       "      Total Population  Number of Veterans  Foreign-born  \\\n",
       "333              72590               15231          4034   \n",
       "449              72590               15231          4034   \n",
       "1437             72590               15231          4034   \n",
       "\n",
       "      Average Household Size State Code                       Race  Count  \n",
       "333                      NaN         FL         Hispanic or Latino   1066  \n",
       "449                      NaN         FL  Black or African-American    331  \n",
       "1437                     NaN         FL                      White  72211  "
      ]
     },
     "execution_count": 74,
     "metadata": {},
     "output_type": "execute_result"
    }
   ],
   "source": [
    "# Check to see if M + F = TP for all rows\n",
    "demographics_df1[~(demographics_df1['Male Population'] + demographics_df1['Female Population'] == demographics_df1['Total Population'])]"
   ]
  },
  {
   "cell_type": "markdown",
   "metadata": {
    "editable": true
   },
   "source": [
    "- Remove the above rows"
   ]
  },
  {
   "cell_type": "code",
   "execution_count": 75,
   "metadata": {
    "editable": true
   },
   "outputs": [],
   "source": [
    "# Removing above row\n",
    "demographics_df1 = demographics_df1[(demographics_df1['Male Population'] + demographics_df1['Female Population'] == demographics_df1['Total Population'])].copy()"
   ]
  },
  {
   "cell_type": "code",
   "execution_count": 76,
   "metadata": {
    "editable": true
   },
   "outputs": [
    {
     "data": {
      "text/html": [
       "<div>\n",
       "<style scoped>\n",
       "    .dataframe tbody tr th:only-of-type {\n",
       "        vertical-align: middle;\n",
       "    }\n",
       "\n",
       "    .dataframe tbody tr th {\n",
       "        vertical-align: top;\n",
       "    }\n",
       "\n",
       "    .dataframe thead th {\n",
       "        text-align: right;\n",
       "    }\n",
       "</style>\n",
       "<table border=\"1\" class=\"dataframe\">\n",
       "  <thead>\n",
       "    <tr style=\"text-align: right;\">\n",
       "      <th></th>\n",
       "      <th>City</th>\n",
       "      <th>State</th>\n",
       "      <th>Median Age</th>\n",
       "      <th>Male Population</th>\n",
       "      <th>Female Population</th>\n",
       "      <th>Total Population</th>\n",
       "      <th>Number of Veterans</th>\n",
       "      <th>Foreign-born</th>\n",
       "      <th>Average Household Size</th>\n",
       "      <th>State Code</th>\n",
       "      <th>Race</th>\n",
       "      <th>Count</th>\n",
       "    </tr>\n",
       "  </thead>\n",
       "  <tbody>\n",
       "  </tbody>\n",
       "</table>\n",
       "</div>"
      ],
      "text/plain": [
       "Empty DataFrame\n",
       "Columns: [City, State, Median Age, Male Population, Female Population, Total Population, Number of Veterans, Foreign-born, Average Household Size, State Code, Race, Count]\n",
       "Index: []"
      ]
     },
     "execution_count": 76,
     "metadata": {},
     "output_type": "execute_result"
    }
   ],
   "source": [
    "# Check for duplicates of city, state, state code and race\n",
    "demographics_df1[demographics_df1[['City', 'State', 'State Code', 'Race']].duplicated()]"
   ]
  },
  {
   "cell_type": "code",
   "execution_count": 77,
   "metadata": {
    "editable": true
   },
   "outputs": [],
   "source": [
    "# Split dataframes based on race\n",
    "demog_df = demographics_df1[['State', 'City', 'Median Age', 'State Code', 'Male Population', 'Female Population', 'Total Population', 'Number of Veterans', 'Foreign-born']]\n",
    "demog_df = demog_df.drop_duplicates()\n",
    "\n",
    "race_df = demographics_df1[['State', 'City', 'State Code', 'Race', 'Count']]\n",
    "race_df = race_df.drop_duplicates()"
   ]
  },
  {
   "cell_type": "code",
   "execution_count": 78,
   "metadata": {
    "editable": true
   },
   "outputs": [
    {
     "name": "stdout",
     "output_type": "stream",
     "text": [
      " Total rows in demog_df = 595\n",
      " Total rows in race_df = 2888\n"
     ]
    }
   ],
   "source": [
    "print(' Total rows in {} = {}'.format('demog_df', demog_df.shape[0]))\n",
    "print(' Total rows in {} = {}'.format('race_df', race_df.shape[0]))"
   ]
  },
  {
   "cell_type": "code",
   "execution_count": 79,
   "metadata": {
    "editable": true
   },
   "outputs": [
    {
     "data": {
      "text/html": [
       "<div>\n",
       "<style scoped>\n",
       "    .dataframe tbody tr th:only-of-type {\n",
       "        vertical-align: middle;\n",
       "    }\n",
       "\n",
       "    .dataframe tbody tr th {\n",
       "        vertical-align: top;\n",
       "    }\n",
       "\n",
       "    .dataframe thead th {\n",
       "        text-align: right;\n",
       "    }\n",
       "</style>\n",
       "<table border=\"1\" class=\"dataframe\">\n",
       "  <thead>\n",
       "    <tr style=\"text-align: right;\">\n",
       "      <th></th>\n",
       "      <th>City</th>\n",
       "      <th>State</th>\n",
       "      <th>Median Age</th>\n",
       "      <th>Male Population</th>\n",
       "      <th>Female Population</th>\n",
       "      <th>Total Population</th>\n",
       "      <th>Number of Veterans</th>\n",
       "      <th>Foreign-born</th>\n",
       "      <th>Average Household Size</th>\n",
       "      <th>State Code</th>\n",
       "      <th>Race</th>\n",
       "      <th>Count</th>\n",
       "    </tr>\n",
       "  </thead>\n",
       "  <tbody>\n",
       "    <tr>\n",
       "      <th>0</th>\n",
       "      <td>Silver Spring</td>\n",
       "      <td>Maryland</td>\n",
       "      <td>33.8</td>\n",
       "      <td>40601</td>\n",
       "      <td>41862</td>\n",
       "      <td>82463</td>\n",
       "      <td>1562</td>\n",
       "      <td>30908</td>\n",
       "      <td>2.60</td>\n",
       "      <td>MD</td>\n",
       "      <td>Hispanic or Latino</td>\n",
       "      <td>25924</td>\n",
       "    </tr>\n",
       "    <tr>\n",
       "      <th>1</th>\n",
       "      <td>Quincy</td>\n",
       "      <td>Massachusetts</td>\n",
       "      <td>41.0</td>\n",
       "      <td>44129</td>\n",
       "      <td>49500</td>\n",
       "      <td>93629</td>\n",
       "      <td>4147</td>\n",
       "      <td>32935</td>\n",
       "      <td>2.39</td>\n",
       "      <td>MA</td>\n",
       "      <td>White</td>\n",
       "      <td>58723</td>\n",
       "    </tr>\n",
       "    <tr>\n",
       "      <th>2</th>\n",
       "      <td>Hoover</td>\n",
       "      <td>Alabama</td>\n",
       "      <td>38.5</td>\n",
       "      <td>38040</td>\n",
       "      <td>46799</td>\n",
       "      <td>84839</td>\n",
       "      <td>4819</td>\n",
       "      <td>8229</td>\n",
       "      <td>2.58</td>\n",
       "      <td>AL</td>\n",
       "      <td>Asian</td>\n",
       "      <td>4759</td>\n",
       "    </tr>\n",
       "    <tr>\n",
       "      <th>3</th>\n",
       "      <td>Rancho Cucamonga</td>\n",
       "      <td>California</td>\n",
       "      <td>34.5</td>\n",
       "      <td>88127</td>\n",
       "      <td>87105</td>\n",
       "      <td>175232</td>\n",
       "      <td>5821</td>\n",
       "      <td>33878</td>\n",
       "      <td>3.18</td>\n",
       "      <td>CA</td>\n",
       "      <td>Black or African-American</td>\n",
       "      <td>24437</td>\n",
       "    </tr>\n",
       "    <tr>\n",
       "      <th>4</th>\n",
       "      <td>Newark</td>\n",
       "      <td>New Jersey</td>\n",
       "      <td>34.6</td>\n",
       "      <td>138040</td>\n",
       "      <td>143873</td>\n",
       "      <td>281913</td>\n",
       "      <td>5829</td>\n",
       "      <td>86253</td>\n",
       "      <td>2.73</td>\n",
       "      <td>NJ</td>\n",
       "      <td>White</td>\n",
       "      <td>76402</td>\n",
       "    </tr>\n",
       "  </tbody>\n",
       "</table>\n",
       "</div>"
      ],
      "text/plain": [
       "               City          State  Median Age  Male Population  \\\n",
       "0     Silver Spring       Maryland        33.8            40601   \n",
       "1            Quincy  Massachusetts        41.0            44129   \n",
       "2            Hoover        Alabama        38.5            38040   \n",
       "3  Rancho Cucamonga     California        34.5            88127   \n",
       "4            Newark     New Jersey        34.6           138040   \n",
       "\n",
       "   Female Population  Total Population  Number of Veterans  Foreign-born  \\\n",
       "0              41862             82463                1562         30908   \n",
       "1              49500             93629                4147         32935   \n",
       "2              46799             84839                4819          8229   \n",
       "3              87105            175232                5821         33878   \n",
       "4             143873            281913                5829         86253   \n",
       "\n",
       "   Average Household Size State Code                       Race  Count  \n",
       "0                    2.60         MD         Hispanic or Latino  25924  \n",
       "1                    2.39         MA                      White  58723  \n",
       "2                    2.58         AL                      Asian   4759  \n",
       "3                    3.18         CA  Black or African-American  24437  \n",
       "4                    2.73         NJ                      White  76402  "
      ]
     },
     "execution_count": 79,
     "metadata": {},
     "output_type": "execute_result"
    }
   ],
   "source": [
    "demographics_df1.head()"
   ]
  },
  {
   "cell_type": "code",
   "execution_count": 80,
   "metadata": {
    "editable": true
   },
   "outputs": [
    {
     "data": {
      "text/html": [
       "<div>\n",
       "<style scoped>\n",
       "    .dataframe tbody tr th:only-of-type {\n",
       "        vertical-align: middle;\n",
       "    }\n",
       "\n",
       "    .dataframe tbody tr th {\n",
       "        vertical-align: top;\n",
       "    }\n",
       "\n",
       "    .dataframe thead th {\n",
       "        text-align: right;\n",
       "    }\n",
       "</style>\n",
       "<table border=\"1\" class=\"dataframe\">\n",
       "  <thead>\n",
       "    <tr style=\"text-align: right;\">\n",
       "      <th></th>\n",
       "      <th>State</th>\n",
       "      <th>City</th>\n",
       "      <th>Median Age</th>\n",
       "      <th>State Code</th>\n",
       "      <th>Male Population</th>\n",
       "      <th>Female Population</th>\n",
       "      <th>Total Population</th>\n",
       "      <th>Number of Veterans</th>\n",
       "      <th>Foreign-born</th>\n",
       "    </tr>\n",
       "  </thead>\n",
       "  <tbody>\n",
       "    <tr>\n",
       "      <th>2</th>\n",
       "      <td>Alabama</td>\n",
       "      <td>Hoover</td>\n",
       "      <td>38.5</td>\n",
       "      <td>AL</td>\n",
       "      <td>38040</td>\n",
       "      <td>46799</td>\n",
       "      <td>84839</td>\n",
       "      <td>4819</td>\n",
       "      <td>8229</td>\n",
       "    </tr>\n",
       "  </tbody>\n",
       "</table>\n",
       "</div>"
      ],
      "text/plain": [
       "     State    City  Median Age State Code  Male Population  Female Population  \\\n",
       "2  Alabama  Hoover        38.5         AL            38040              46799   \n",
       "\n",
       "   Total Population  Number of Veterans  Foreign-born  \n",
       "2             84839                4819          8229  "
      ]
     },
     "execution_count": 80,
     "metadata": {},
     "output_type": "execute_result"
    }
   ],
   "source": [
    "# Verifying specified rows exists in both dataframes\n",
    "cond1 = demog_df['State'] =='Alabama' \n",
    "cond2 = demog_df['City'] == 'Hoover'\n",
    "demog_df[cond1 & cond2]"
   ]
  },
  {
   "cell_type": "code",
   "execution_count": 81,
   "metadata": {
    "editable": true
   },
   "outputs": [
    {
     "data": {
      "text/html": [
       "<div>\n",
       "<style scoped>\n",
       "    .dataframe tbody tr th:only-of-type {\n",
       "        vertical-align: middle;\n",
       "    }\n",
       "\n",
       "    .dataframe tbody tr th {\n",
       "        vertical-align: top;\n",
       "    }\n",
       "\n",
       "    .dataframe thead th {\n",
       "        text-align: right;\n",
       "    }\n",
       "</style>\n",
       "<table border=\"1\" class=\"dataframe\">\n",
       "  <thead>\n",
       "    <tr style=\"text-align: right;\">\n",
       "      <th></th>\n",
       "      <th>State</th>\n",
       "      <th>City</th>\n",
       "      <th>State Code</th>\n",
       "      <th>Race</th>\n",
       "      <th>Count</th>\n",
       "    </tr>\n",
       "  </thead>\n",
       "  <tbody>\n",
       "    <tr>\n",
       "      <th>2</th>\n",
       "      <td>Alabama</td>\n",
       "      <td>Hoover</td>\n",
       "      <td>AL</td>\n",
       "      <td>Asian</td>\n",
       "      <td>4759</td>\n",
       "    </tr>\n",
       "    <tr>\n",
       "      <th>960</th>\n",
       "      <td>Alabama</td>\n",
       "      <td>Hoover</td>\n",
       "      <td>AL</td>\n",
       "      <td>Black or African-American</td>\n",
       "      <td>18191</td>\n",
       "    </tr>\n",
       "    <tr>\n",
       "      <th>1410</th>\n",
       "      <td>Alabama</td>\n",
       "      <td>Hoover</td>\n",
       "      <td>AL</td>\n",
       "      <td>Hispanic or Latino</td>\n",
       "      <td>3430</td>\n",
       "    </tr>\n",
       "    <tr>\n",
       "      <th>1541</th>\n",
       "      <td>Alabama</td>\n",
       "      <td>Hoover</td>\n",
       "      <td>AL</td>\n",
       "      <td>White</td>\n",
       "      <td>61869</td>\n",
       "    </tr>\n",
       "  </tbody>\n",
       "</table>\n",
       "</div>"
      ],
      "text/plain": [
       "        State    City State Code                       Race  Count\n",
       "2     Alabama  Hoover         AL                      Asian   4759\n",
       "960   Alabama  Hoover         AL  Black or African-American  18191\n",
       "1410  Alabama  Hoover         AL         Hispanic or Latino   3430\n",
       "1541  Alabama  Hoover         AL                      White  61869"
      ]
     },
     "execution_count": 81,
     "metadata": {},
     "output_type": "execute_result"
    }
   ],
   "source": [
    "cond1 = race_df['State'] =='Alabama' \n",
    "cond2 = race_df['City'] == 'Hoover'\n",
    "race_df[cond1 & cond2]"
   ]
  },
  {
   "cell_type": "code",
   "execution_count": 82,
   "metadata": {
    "editable": true
   },
   "outputs": [
    {
     "data": {
      "text/html": [
       "<div>\n",
       "<style scoped>\n",
       "    .dataframe tbody tr th:only-of-type {\n",
       "        vertical-align: middle;\n",
       "    }\n",
       "\n",
       "    .dataframe tbody tr th {\n",
       "        vertical-align: top;\n",
       "    }\n",
       "\n",
       "    .dataframe thead th {\n",
       "        text-align: right;\n",
       "    }\n",
       "</style>\n",
       "<table border=\"1\" class=\"dataframe\">\n",
       "  <thead>\n",
       "    <tr style=\"text-align: right;\">\n",
       "      <th></th>\n",
       "      <th>State</th>\n",
       "      <th>City</th>\n",
       "      <th>State Code</th>\n",
       "      <th>American Indian and Alaska Native</th>\n",
       "      <th>Asian</th>\n",
       "      <th>Black or African-American</th>\n",
       "      <th>Hispanic or Latino</th>\n",
       "      <th>White</th>\n",
       "    </tr>\n",
       "  </thead>\n",
       "  <tbody>\n",
       "    <tr>\n",
       "      <th>0</th>\n",
       "      <td>Alabama</td>\n",
       "      <td>Birmingham</td>\n",
       "      <td>AL</td>\n",
       "      <td>1319.0</td>\n",
       "      <td>1500.0</td>\n",
       "      <td>157985.0</td>\n",
       "      <td>8940.0</td>\n",
       "      <td>51728.0</td>\n",
       "    </tr>\n",
       "    <tr>\n",
       "      <th>1</th>\n",
       "      <td>Alabama</td>\n",
       "      <td>Dothan</td>\n",
       "      <td>AL</td>\n",
       "      <td>656.0</td>\n",
       "      <td>1175.0</td>\n",
       "      <td>23243.0</td>\n",
       "      <td>1704.0</td>\n",
       "      <td>43516.0</td>\n",
       "    </tr>\n",
       "    <tr>\n",
       "      <th>2</th>\n",
       "      <td>Alabama</td>\n",
       "      <td>Hoover</td>\n",
       "      <td>AL</td>\n",
       "      <td>NaN</td>\n",
       "      <td>4759.0</td>\n",
       "      <td>18191.0</td>\n",
       "      <td>3430.0</td>\n",
       "      <td>61869.0</td>\n",
       "    </tr>\n",
       "    <tr>\n",
       "      <th>3</th>\n",
       "      <td>Alabama</td>\n",
       "      <td>Huntsville</td>\n",
       "      <td>AL</td>\n",
       "      <td>1755.0</td>\n",
       "      <td>6566.0</td>\n",
       "      <td>61561.0</td>\n",
       "      <td>10887.0</td>\n",
       "      <td>121904.0</td>\n",
       "    </tr>\n",
       "    <tr>\n",
       "      <th>4</th>\n",
       "      <td>Alabama</td>\n",
       "      <td>Mobile</td>\n",
       "      <td>AL</td>\n",
       "      <td>2816.0</td>\n",
       "      <td>5518.0</td>\n",
       "      <td>96397.0</td>\n",
       "      <td>5229.0</td>\n",
       "      <td>93755.0</td>\n",
       "    </tr>\n",
       "  </tbody>\n",
       "</table>\n",
       "</div>"
      ],
      "text/plain": [
       "     State        City State Code  American Indian and Alaska Native   Asian  \\\n",
       "0  Alabama  Birmingham         AL                             1319.0  1500.0   \n",
       "1  Alabama      Dothan         AL                              656.0  1175.0   \n",
       "2  Alabama      Hoover         AL                                NaN  4759.0   \n",
       "3  Alabama  Huntsville         AL                             1755.0  6566.0   \n",
       "4  Alabama      Mobile         AL                             2816.0  5518.0   \n",
       "\n",
       "   Black or African-American  Hispanic or Latino     White  \n",
       "0                   157985.0              8940.0   51728.0  \n",
       "1                    23243.0              1704.0   43516.0  \n",
       "2                    18191.0              3430.0   61869.0  \n",
       "3                    61561.0             10887.0  121904.0  \n",
       "4                    96397.0              5229.0   93755.0  "
      ]
     },
     "execution_count": 82,
     "metadata": {},
     "output_type": "execute_result"
    }
   ],
   "source": [
    "# Unmelting to convert Race rows to columns\n",
    "race_df = race_df.set_index(['State','City','State Code', 'Race']).Count.unstack().reset_index()\n",
    "race_df.columns.name = None\n",
    "#test.head()\n",
    "race_df[race_df.State =='Alabama'].head()"
   ]
  },
  {
   "cell_type": "markdown",
   "metadata": {
    "editable": true
   },
   "source": [
    "- Looks like after converting race rows to columns the Race Counts have changed to float and need to be converted to int"
   ]
  },
  {
   "cell_type": "code",
   "execution_count": 83,
   "metadata": {
    "editable": true
   },
   "outputs": [
    {
     "data": {
      "text/plain": [
       "Index(['State', 'City', 'State Code', 'American Indian and Alaska Native',\n",
       "       'Asian', 'Black or African-American', 'Hispanic or Latino', 'White'],\n",
       "      dtype='object')"
      ]
     },
     "execution_count": 83,
     "metadata": {},
     "output_type": "execute_result"
    }
   ],
   "source": [
    "race_df.columns"
   ]
  },
  {
   "cell_type": "code",
   "execution_count": 84,
   "metadata": {
    "editable": true
   },
   "outputs": [],
   "source": [
    "# Convert floats to ints\n",
    "cols_to_convert_float_to_int = ['American Indian and Alaska Native','Asian', 'Black or African-American', 'Hispanic or Latino', 'White']\n",
    "\n",
    "for col in cols_to_convert_float_to_int:\n",
    "    race_df[col] = race_df[col].replace(np.nan, 0)\n",
    "    race_df[col] = race_df[col].astype(int)"
   ]
  },
  {
   "cell_type": "code",
   "execution_count": 85,
   "metadata": {
    "editable": true
   },
   "outputs": [
    {
     "name": "stdout",
     "output_type": "stream",
     "text": [
      "Total demog_df =  595\n",
      "Total race_df =  595\n"
     ]
    }
   ],
   "source": [
    "print('Total demog_df = ',demog_df.shape[0])\n",
    "print('Total race_df = ',race_df.shape[0])"
   ]
  },
  {
   "cell_type": "code",
   "execution_count": 86,
   "metadata": {
    "editable": true
   },
   "outputs": [
    {
     "data": {
      "text/html": [
       "<div>\n",
       "<style scoped>\n",
       "    .dataframe tbody tr th:only-of-type {\n",
       "        vertical-align: middle;\n",
       "    }\n",
       "\n",
       "    .dataframe tbody tr th {\n",
       "        vertical-align: top;\n",
       "    }\n",
       "\n",
       "    .dataframe thead th {\n",
       "        text-align: right;\n",
       "    }\n",
       "</style>\n",
       "<table border=\"1\" class=\"dataframe\">\n",
       "  <thead>\n",
       "    <tr style=\"text-align: right;\">\n",
       "      <th></th>\n",
       "      <th>State</th>\n",
       "      <th>City</th>\n",
       "      <th>State Code</th>\n",
       "      <th>American Indian and Alaska Native</th>\n",
       "      <th>Asian</th>\n",
       "      <th>Black or African-American</th>\n",
       "      <th>Hispanic or Latino</th>\n",
       "      <th>White</th>\n",
       "    </tr>\n",
       "  </thead>\n",
       "  <tbody>\n",
       "    <tr>\n",
       "      <th>0</th>\n",
       "      <td>Alabama</td>\n",
       "      <td>Birmingham</td>\n",
       "      <td>AL</td>\n",
       "      <td>1319</td>\n",
       "      <td>1500</td>\n",
       "      <td>157985</td>\n",
       "      <td>8940</td>\n",
       "      <td>51728</td>\n",
       "    </tr>\n",
       "    <tr>\n",
       "      <th>1</th>\n",
       "      <td>Alabama</td>\n",
       "      <td>Dothan</td>\n",
       "      <td>AL</td>\n",
       "      <td>656</td>\n",
       "      <td>1175</td>\n",
       "      <td>23243</td>\n",
       "      <td>1704</td>\n",
       "      <td>43516</td>\n",
       "    </tr>\n",
       "    <tr>\n",
       "      <th>2</th>\n",
       "      <td>Alabama</td>\n",
       "      <td>Hoover</td>\n",
       "      <td>AL</td>\n",
       "      <td>0</td>\n",
       "      <td>4759</td>\n",
       "      <td>18191</td>\n",
       "      <td>3430</td>\n",
       "      <td>61869</td>\n",
       "    </tr>\n",
       "    <tr>\n",
       "      <th>3</th>\n",
       "      <td>Alabama</td>\n",
       "      <td>Huntsville</td>\n",
       "      <td>AL</td>\n",
       "      <td>1755</td>\n",
       "      <td>6566</td>\n",
       "      <td>61561</td>\n",
       "      <td>10887</td>\n",
       "      <td>121904</td>\n",
       "    </tr>\n",
       "    <tr>\n",
       "      <th>4</th>\n",
       "      <td>Alabama</td>\n",
       "      <td>Mobile</td>\n",
       "      <td>AL</td>\n",
       "      <td>2816</td>\n",
       "      <td>5518</td>\n",
       "      <td>96397</td>\n",
       "      <td>5229</td>\n",
       "      <td>93755</td>\n",
       "    </tr>\n",
       "  </tbody>\n",
       "</table>\n",
       "</div>"
      ],
      "text/plain": [
       "     State        City State Code  American Indian and Alaska Native  Asian  \\\n",
       "0  Alabama  Birmingham         AL                               1319   1500   \n",
       "1  Alabama      Dothan         AL                                656   1175   \n",
       "2  Alabama      Hoover         AL                                  0   4759   \n",
       "3  Alabama  Huntsville         AL                               1755   6566   \n",
       "4  Alabama      Mobile         AL                               2816   5518   \n",
       "\n",
       "   Black or African-American  Hispanic or Latino   White  \n",
       "0                     157985                8940   51728  \n",
       "1                      23243                1704   43516  \n",
       "2                      18191                3430   61869  \n",
       "3                      61561               10887  121904  \n",
       "4                      96397                5229   93755  "
      ]
     },
     "execution_count": 86,
     "metadata": {},
     "output_type": "execute_result"
    }
   ],
   "source": [
    "race_df.head()"
   ]
  },
  {
   "cell_type": "markdown",
   "metadata": {
    "editable": true
   },
   "source": [
    "***Americans and Foreign-born population***"
   ]
  },
  {
   "cell_type": "code",
   "execution_count": 87,
   "metadata": {
    "editable": true
   },
   "outputs": [
    {
     "name": "stdout",
     "output_type": "stream",
     "text": [
      "(49, 5)\n"
     ]
    },
    {
     "data": {
      "text/html": [
       "<div>\n",
       "<style scoped>\n",
       "    .dataframe tbody tr th:only-of-type {\n",
       "        vertical-align: middle;\n",
       "    }\n",
       "\n",
       "    .dataframe tbody tr th {\n",
       "        vertical-align: top;\n",
       "    }\n",
       "\n",
       "    .dataframe thead th {\n",
       "        text-align: right;\n",
       "    }\n",
       "</style>\n",
       "<table border=\"1\" class=\"dataframe\">\n",
       "  <thead>\n",
       "    <tr style=\"text-align: right;\">\n",
       "      <th></th>\n",
       "      <th>State Code</th>\n",
       "      <th>Male Population</th>\n",
       "      <th>Female Population</th>\n",
       "      <th>Total Population</th>\n",
       "      <th>Foreign-born</th>\n",
       "    </tr>\n",
       "  </thead>\n",
       "  <tbody>\n",
       "    <tr>\n",
       "      <th>4</th>\n",
       "      <td>CA</td>\n",
       "      <td>12278281</td>\n",
       "      <td>12544179</td>\n",
       "      <td>24822460</td>\n",
       "      <td>7448257</td>\n",
       "    </tr>\n",
       "    <tr>\n",
       "      <th>44</th>\n",
       "      <td>TX</td>\n",
       "      <td>7063571</td>\n",
       "      <td>7236412</td>\n",
       "      <td>14299983</td>\n",
       "      <td>2942164</td>\n",
       "    </tr>\n",
       "    <tr>\n",
       "      <th>34</th>\n",
       "      <td>NY</td>\n",
       "      <td>4692055</td>\n",
       "      <td>5123571</td>\n",
       "      <td>9815626</td>\n",
       "      <td>3438081</td>\n",
       "    </tr>\n",
       "    <tr>\n",
       "      <th>9</th>\n",
       "      <td>FL</td>\n",
       "      <td>3236773</td>\n",
       "      <td>3487375</td>\n",
       "      <td>6724148</td>\n",
       "      <td>1684897</td>\n",
       "    </tr>\n",
       "    <tr>\n",
       "      <th>14</th>\n",
       "      <td>IL</td>\n",
       "      <td>2218541</td>\n",
       "      <td>2343771</td>\n",
       "      <td>4562312</td>\n",
       "      <td>941735</td>\n",
       "    </tr>\n",
       "  </tbody>\n",
       "</table>\n",
       "</div>"
      ],
      "text/plain": [
       "   State Code  Male Population  Female Population  Total Population  \\\n",
       "4          CA         12278281           12544179          24822460   \n",
       "44         TX          7063571            7236412          14299983   \n",
       "34         NY          4692055            5123571           9815626   \n",
       "9          FL          3236773            3487375           6724148   \n",
       "14         IL          2218541            2343771           4562312   \n",
       "\n",
       "    Foreign-born  \n",
       "4        7448257  \n",
       "44       2942164  \n",
       "34       3438081  \n",
       "9        1684897  \n",
       "14        941735  "
      ]
     },
     "execution_count": 87,
     "metadata": {},
     "output_type": "execute_result"
    }
   ],
   "source": [
    "american_df = demog_df[['State Code', 'Male Population', 'Female Population', 'Total Population', 'Foreign-born']]\n",
    "totbystate_df = american_df.groupby(['State Code']).sum().reset_index()\n",
    "print(totbystate_df.shape)\n",
    "totbystate_df.sort_values(by=['Total Population'], ascending=False).head()  "
   ]
  },
  {
   "cell_type": "code",
   "execution_count": 88,
   "metadata": {
    "editable": true
   },
   "outputs": [
    {
     "data": {
      "text/html": [
       "<div>\n",
       "<style scoped>\n",
       "    .dataframe tbody tr th:only-of-type {\n",
       "        vertical-align: middle;\n",
       "    }\n",
       "\n",
       "    .dataframe tbody tr th {\n",
       "        vertical-align: top;\n",
       "    }\n",
       "\n",
       "    .dataframe thead th {\n",
       "        text-align: right;\n",
       "    }\n",
       "</style>\n",
       "<table border=\"1\" class=\"dataframe\">\n",
       "  <thead>\n",
       "    <tr style=\"text-align: right;\">\n",
       "      <th></th>\n",
       "      <th>State Code</th>\n",
       "      <th>Male Population</th>\n",
       "      <th>Female Population</th>\n",
       "      <th>Total Population</th>\n",
       "      <th>Foreign-born</th>\n",
       "      <th>americans</th>\n",
       "      <th>FP</th>\n",
       "      <th>AP</th>\n",
       "      <th>TP</th>\n",
       "    </tr>\n",
       "  </thead>\n",
       "  <tbody>\n",
       "    <tr>\n",
       "      <th>34</th>\n",
       "      <td>NY</td>\n",
       "      <td>4692055</td>\n",
       "      <td>5123571</td>\n",
       "      <td>9815626</td>\n",
       "      <td>3438081</td>\n",
       "      <td>6377545</td>\n",
       "      <td>35.026610</td>\n",
       "      <td>64.973390</td>\n",
       "      <td>100.0</td>\n",
       "    </tr>\n",
       "    <tr>\n",
       "      <th>31</th>\n",
       "      <td>NJ</td>\n",
       "      <td>705736</td>\n",
       "      <td>723172</td>\n",
       "      <td>1428908</td>\n",
       "      <td>477028</td>\n",
       "      <td>951880</td>\n",
       "      <td>33.384095</td>\n",
       "      <td>66.615905</td>\n",
       "      <td>100.0</td>\n",
       "    </tr>\n",
       "    <tr>\n",
       "      <th>4</th>\n",
       "      <td>CA</td>\n",
       "      <td>12278281</td>\n",
       "      <td>12544179</td>\n",
       "      <td>24822460</td>\n",
       "      <td>7448257</td>\n",
       "      <td>17374203</td>\n",
       "      <td>30.006119</td>\n",
       "      <td>69.993881</td>\n",
       "      <td>100.0</td>\n",
       "    </tr>\n",
       "    <tr>\n",
       "      <th>11</th>\n",
       "      <td>HI</td>\n",
       "      <td>176807</td>\n",
       "      <td>175959</td>\n",
       "      <td>352766</td>\n",
       "      <td>101312</td>\n",
       "      <td>251454</td>\n",
       "      <td>28.719321</td>\n",
       "      <td>71.280679</td>\n",
       "      <td>100.0</td>\n",
       "    </tr>\n",
       "    <tr>\n",
       "      <th>19</th>\n",
       "      <td>MA</td>\n",
       "      <td>975713</td>\n",
       "      <td>1039744</td>\n",
       "      <td>2015457</td>\n",
       "      <td>520597</td>\n",
       "      <td>1494860</td>\n",
       "      <td>25.830221</td>\n",
       "      <td>74.169779</td>\n",
       "      <td>100.0</td>\n",
       "    </tr>\n",
       "  </tbody>\n",
       "</table>\n",
       "</div>"
      ],
      "text/plain": [
       "   State Code  Male Population  Female Population  Total Population  \\\n",
       "34         NY          4692055            5123571           9815626   \n",
       "31         NJ           705736             723172           1428908   \n",
       "4          CA         12278281           12544179          24822460   \n",
       "11         HI           176807             175959            352766   \n",
       "19         MA           975713            1039744           2015457   \n",
       "\n",
       "    Foreign-born  americans         FP         AP     TP  \n",
       "34       3438081    6377545  35.026610  64.973390  100.0  \n",
       "31        477028     951880  33.384095  66.615905  100.0  \n",
       "4        7448257   17374203  30.006119  69.993881  100.0  \n",
       "11        101312     251454  28.719321  71.280679  100.0  \n",
       "19        520597    1494860  25.830221  74.169779  100.0  "
      ]
     },
     "execution_count": 88,
     "metadata": {},
     "output_type": "execute_result"
    }
   ],
   "source": [
    "totbystate_df['americans'] = totbystate_df['Total Population'] - totbystate_df['Foreign-born']\n",
    "# FP = Foreign population\n",
    "totbystate_df['FP'] = (totbystate_df['Foreign-born']/totbystate_df['Total Population'])*100\n",
    "# AP = American population\n",
    "totbystate_df['AP'] = ((totbystate_df['Total Population'] - totbystate_df['Foreign-born'])/totbystate_df['Total Population'])*100\n",
    "# TP = Total population\n",
    "totbystate_df['TP'] = (totbystate_df['FP'] + totbystate_df['AP'])\n",
    "totbystate_df.sort_values(by=['FP'], ascending=False).head()"
   ]
  },
  {
   "cell_type": "markdown",
   "metadata": {
    "editable": true
   },
   "source": [
    "***Race percentage***"
   ]
  },
  {
   "cell_type": "code",
   "execution_count": 89,
   "metadata": {
    "editable": true
   },
   "outputs": [
    {
     "name": "stdout",
     "output_type": "stream",
     "text": [
      "(49, 6)\n"
     ]
    },
    {
     "data": {
      "text/html": [
       "<div>\n",
       "<style scoped>\n",
       "    .dataframe tbody tr th:only-of-type {\n",
       "        vertical-align: middle;\n",
       "    }\n",
       "\n",
       "    .dataframe tbody tr th {\n",
       "        vertical-align: top;\n",
       "    }\n",
       "\n",
       "    .dataframe thead th {\n",
       "        text-align: right;\n",
       "    }\n",
       "</style>\n",
       "<table border=\"1\" class=\"dataframe\">\n",
       "  <thead>\n",
       "    <tr style=\"text-align: right;\">\n",
       "      <th></th>\n",
       "      <th>State Code</th>\n",
       "      <th>American Indian and Alaska Native</th>\n",
       "      <th>Asian</th>\n",
       "      <th>Black or African-American</th>\n",
       "      <th>Hispanic or Latino</th>\n",
       "      <th>White</th>\n",
       "    </tr>\n",
       "  </thead>\n",
       "  <tbody>\n",
       "    <tr>\n",
       "      <th>0</th>\n",
       "      <td>AK</td>\n",
       "      <td>36339</td>\n",
       "      <td>36825</td>\n",
       "      <td>23107</td>\n",
       "      <td>27261</td>\n",
       "      <td>212696</td>\n",
       "    </tr>\n",
       "    <tr>\n",
       "      <th>1</th>\n",
       "      <td>AL</td>\n",
       "      <td>8084</td>\n",
       "      <td>28769</td>\n",
       "      <td>521068</td>\n",
       "      <td>39313</td>\n",
       "      <td>498920</td>\n",
       "    </tr>\n",
       "    <tr>\n",
       "      <th>2</th>\n",
       "      <td>AR</td>\n",
       "      <td>9381</td>\n",
       "      <td>22062</td>\n",
       "      <td>149608</td>\n",
       "      <td>77813</td>\n",
       "      <td>384733</td>\n",
       "    </tr>\n",
       "    <tr>\n",
       "      <th>3</th>\n",
       "      <td>AZ</td>\n",
       "      <td>129708</td>\n",
       "      <td>229183</td>\n",
       "      <td>296222</td>\n",
       "      <td>1508157</td>\n",
       "      <td>3591611</td>\n",
       "    </tr>\n",
       "    <tr>\n",
       "      <th>4</th>\n",
       "      <td>CA</td>\n",
       "      <td>401386</td>\n",
       "      <td>4543730</td>\n",
       "      <td>2047009</td>\n",
       "      <td>9856464</td>\n",
       "      <td>14905129</td>\n",
       "    </tr>\n",
       "  </tbody>\n",
       "</table>\n",
       "</div>"
      ],
      "text/plain": [
       "  State Code  American Indian and Alaska Native    Asian  \\\n",
       "0         AK                              36339    36825   \n",
       "1         AL                               8084    28769   \n",
       "2         AR                               9381    22062   \n",
       "3         AZ                             129708   229183   \n",
       "4         CA                             401386  4543730   \n",
       "\n",
       "   Black or African-American  Hispanic or Latino     White  \n",
       "0                      23107               27261    212696  \n",
       "1                     521068               39313    498920  \n",
       "2                     149608               77813    384733  \n",
       "3                     296222             1508157   3591611  \n",
       "4                    2047009             9856464  14905129  "
      ]
     },
     "execution_count": 89,
     "metadata": {},
     "output_type": "execute_result"
    }
   ],
   "source": [
    "sum_cols = ['American Indian and Alaska Native', 'Asian', 'Black or African-American', 'Hispanic or Latino', 'White']\n",
    "totbystate_df = race_df.groupby(['State Code'])[sum_cols].sum().reset_index()\n",
    "print(totbystate_df.shape)\n",
    "totbystate_df.head()"
   ]
  },
  {
   "cell_type": "code",
   "execution_count": 90,
   "metadata": {
    "editable": true
   },
   "outputs": [
    {
     "data": {
      "text/html": [
       "<div>\n",
       "<style scoped>\n",
       "    .dataframe tbody tr th:only-of-type {\n",
       "        vertical-align: middle;\n",
       "    }\n",
       "\n",
       "    .dataframe tbody tr th {\n",
       "        vertical-align: top;\n",
       "    }\n",
       "\n",
       "    .dataframe thead th {\n",
       "        text-align: right;\n",
       "    }\n",
       "</style>\n",
       "<table border=\"1\" class=\"dataframe\">\n",
       "  <thead>\n",
       "    <tr style=\"text-align: right;\">\n",
       "      <th></th>\n",
       "      <th>State Code</th>\n",
       "      <th>American Indian and Alaska Native</th>\n",
       "      <th>Asian</th>\n",
       "      <th>Black or African-American</th>\n",
       "      <th>Hispanic or Latino</th>\n",
       "      <th>White</th>\n",
       "      <th>Total Population</th>\n",
       "      <th>aian</th>\n",
       "      <th>asian</th>\n",
       "      <th>baa</th>\n",
       "      <th>hl</th>\n",
       "      <th>white</th>\n",
       "      <th>TP</th>\n",
       "    </tr>\n",
       "  </thead>\n",
       "  <tbody>\n",
       "    <tr>\n",
       "      <th>4</th>\n",
       "      <td>CA</td>\n",
       "      <td>401386</td>\n",
       "      <td>4543730</td>\n",
       "      <td>2047009</td>\n",
       "      <td>9856464</td>\n",
       "      <td>14905129</td>\n",
       "      <td>31753718</td>\n",
       "      <td>1.264060</td>\n",
       "      <td>14.309285</td>\n",
       "      <td>6.446518</td>\n",
       "      <td>31.040346</td>\n",
       "      <td>46.939791</td>\n",
       "      <td>100.0</td>\n",
       "    </tr>\n",
       "    <tr>\n",
       "      <th>44</th>\n",
       "      <td>TX</td>\n",
       "      <td>154497</td>\n",
       "      <td>924552</td>\n",
       "      <td>2130242</td>\n",
       "      <td>6311431</td>\n",
       "      <td>10508923</td>\n",
       "      <td>20029645</td>\n",
       "      <td>0.771342</td>\n",
       "      <td>4.615918</td>\n",
       "      <td>10.635446</td>\n",
       "      <td>31.510449</td>\n",
       "      <td>52.466846</td>\n",
       "      <td>100.0</td>\n",
       "    </tr>\n",
       "    <tr>\n",
       "      <th>34</th>\n",
       "      <td>NY</td>\n",
       "      <td>112816</td>\n",
       "      <td>1373373</td>\n",
       "      <td>2605008</td>\n",
       "      <td>2730185</td>\n",
       "      <td>4555686</td>\n",
       "      <td>11377068</td>\n",
       "      <td>0.991609</td>\n",
       "      <td>12.071414</td>\n",
       "      <td>22.897007</td>\n",
       "      <td>23.997264</td>\n",
       "      <td>40.042707</td>\n",
       "      <td>100.0</td>\n",
       "    </tr>\n",
       "    <tr>\n",
       "      <th>9</th>\n",
       "      <td>FL</td>\n",
       "      <td>46759</td>\n",
       "      <td>264933</td>\n",
       "      <td>1652288</td>\n",
       "      <td>1940956</td>\n",
       "      <td>4685933</td>\n",
       "      <td>8590869</td>\n",
       "      <td>0.544287</td>\n",
       "      <td>3.083891</td>\n",
       "      <td>19.233072</td>\n",
       "      <td>22.593244</td>\n",
       "      <td>54.545506</td>\n",
       "      <td>100.0</td>\n",
       "    </tr>\n",
       "    <tr>\n",
       "      <th>3</th>\n",
       "      <td>AZ</td>\n",
       "      <td>129708</td>\n",
       "      <td>229183</td>\n",
       "      <td>296222</td>\n",
       "      <td>1508157</td>\n",
       "      <td>3591611</td>\n",
       "      <td>5754881</td>\n",
       "      <td>2.253878</td>\n",
       "      <td>3.982411</td>\n",
       "      <td>5.147318</td>\n",
       "      <td>26.206571</td>\n",
       "      <td>62.409822</td>\n",
       "      <td>100.0</td>\n",
       "    </tr>\n",
       "  </tbody>\n",
       "</table>\n",
       "</div>"
      ],
      "text/plain": [
       "   State Code  American Indian and Alaska Native    Asian  \\\n",
       "4          CA                             401386  4543730   \n",
       "44         TX                             154497   924552   \n",
       "34         NY                             112816  1373373   \n",
       "9          FL                              46759   264933   \n",
       "3          AZ                             129708   229183   \n",
       "\n",
       "    Black or African-American  Hispanic or Latino     White  Total Population  \\\n",
       "4                     2047009             9856464  14905129          31753718   \n",
       "44                    2130242             6311431  10508923          20029645   \n",
       "34                    2605008             2730185   4555686          11377068   \n",
       "9                     1652288             1940956   4685933           8590869   \n",
       "3                      296222             1508157   3591611           5754881   \n",
       "\n",
       "        aian      asian        baa         hl      white     TP  \n",
       "4   1.264060  14.309285   6.446518  31.040346  46.939791  100.0  \n",
       "44  0.771342   4.615918  10.635446  31.510449  52.466846  100.0  \n",
       "34  0.991609  12.071414  22.897007  23.997264  40.042707  100.0  \n",
       "9   0.544287   3.083891  19.233072  22.593244  54.545506  100.0  \n",
       "3   2.253878   3.982411   5.147318  26.206571  62.409822  100.0  "
      ]
     },
     "execution_count": 90,
     "metadata": {},
     "output_type": "execute_result"
    }
   ],
   "source": [
    "totbystate_df['Total Population'] = totbystate_df[sum_cols].sum(axis=1)\n",
    "\n",
    "totbystate_df['aian'] = (totbystate_df['American Indian and Alaska Native']/totbystate_df['Total Population'])*100\n",
    "totbystate_df['asian'] = (totbystate_df['Asian']/totbystate_df['Total Population'])*100\n",
    "totbystate_df['baa'] = (totbystate_df['Black or African-American']/totbystate_df['Total Population'])*100\n",
    "totbystate_df['hl'] = (totbystate_df['Hispanic or Latino']/totbystate_df['Total Population'])*100\n",
    "totbystate_df['white'] = (totbystate_df['White']/totbystate_df['Total Population'])*100\n",
    "sum_cols = ['aian', 'asian', 'baa', 'hl', 'white']\n",
    "totbystate_df['TP'] = totbystate_df[sum_cols].sum(axis=1)\n",
    "\n",
    "totbystate_df.sort_values(by=['Total Population'], ascending=False).head()"
   ]
  },
  {
   "cell_type": "markdown",
   "metadata": {
    "editable": true
   },
   "source": [
    "#### World Temperature"
   ]
  },
  {
   "cell_type": "code",
   "execution_count": 91,
   "metadata": {
    "editable": true
   },
   "outputs": [
    {
     "name": "stdout",
     "output_type": "stream",
     "text": [
      "<class 'pandas.core.frame.DataFrame'>\n",
      "RangeIndex: 8599212 entries, 0 to 8599211\n",
      "Data columns (total 7 columns):\n",
      "dt                               object\n",
      "AverageTemperature               float64\n",
      "AverageTemperatureUncertainty    float64\n",
      "City                             object\n",
      "Country                          object\n",
      "Latitude                         object\n",
      "Longitude                        object\n",
      "dtypes: float64(2), object(5)\n",
      "memory usage: 459.2+ MB\n"
     ]
    }
   ],
   "source": [
    "worldtemp_df.info()"
   ]
  },
  {
   "cell_type": "code",
   "execution_count": 92,
   "metadata": {
    "editable": true
   },
   "outputs": [],
   "source": [
    "worldtemp_df['dt'] = pd.to_datetime(worldtemp_df.dt)"
   ]
  },
  {
   "cell_type": "code",
   "execution_count": 93,
   "metadata": {
    "editable": true
   },
   "outputs": [
    {
     "data": {
      "text/html": [
       "<div>\n",
       "<style scoped>\n",
       "    .dataframe tbody tr th:only-of-type {\n",
       "        vertical-align: middle;\n",
       "    }\n",
       "\n",
       "    .dataframe tbody tr th {\n",
       "        vertical-align: top;\n",
       "    }\n",
       "\n",
       "    .dataframe thead th {\n",
       "        text-align: right;\n",
       "    }\n",
       "</style>\n",
       "<table border=\"1\" class=\"dataframe\">\n",
       "  <thead>\n",
       "    <tr style=\"text-align: right;\">\n",
       "      <th></th>\n",
       "      <th>dt</th>\n",
       "      <th>AverageTemperature</th>\n",
       "      <th>AverageTemperatureUncertainty</th>\n",
       "      <th>City</th>\n",
       "      <th>Country</th>\n",
       "      <th>Latitude</th>\n",
       "      <th>Longitude</th>\n",
       "    </tr>\n",
       "  </thead>\n",
       "  <tbody>\n",
       "    <tr>\n",
       "      <th>0</th>\n",
       "      <td>1743-11-01</td>\n",
       "      <td>6.068</td>\n",
       "      <td>1.737</td>\n",
       "      <td>Århus</td>\n",
       "      <td>Denmark</td>\n",
       "      <td>57.05N</td>\n",
       "      <td>10.33E</td>\n",
       "    </tr>\n",
       "    <tr>\n",
       "      <th>1</th>\n",
       "      <td>1743-12-01</td>\n",
       "      <td>NaN</td>\n",
       "      <td>NaN</td>\n",
       "      <td>Århus</td>\n",
       "      <td>Denmark</td>\n",
       "      <td>57.05N</td>\n",
       "      <td>10.33E</td>\n",
       "    </tr>\n",
       "    <tr>\n",
       "      <th>2</th>\n",
       "      <td>1744-01-01</td>\n",
       "      <td>NaN</td>\n",
       "      <td>NaN</td>\n",
       "      <td>Århus</td>\n",
       "      <td>Denmark</td>\n",
       "      <td>57.05N</td>\n",
       "      <td>10.33E</td>\n",
       "    </tr>\n",
       "    <tr>\n",
       "      <th>3</th>\n",
       "      <td>1744-02-01</td>\n",
       "      <td>NaN</td>\n",
       "      <td>NaN</td>\n",
       "      <td>Århus</td>\n",
       "      <td>Denmark</td>\n",
       "      <td>57.05N</td>\n",
       "      <td>10.33E</td>\n",
       "    </tr>\n",
       "    <tr>\n",
       "      <th>4</th>\n",
       "      <td>1744-03-01</td>\n",
       "      <td>NaN</td>\n",
       "      <td>NaN</td>\n",
       "      <td>Århus</td>\n",
       "      <td>Denmark</td>\n",
       "      <td>57.05N</td>\n",
       "      <td>10.33E</td>\n",
       "    </tr>\n",
       "  </tbody>\n",
       "</table>\n",
       "</div>"
      ],
      "text/plain": [
       "          dt  AverageTemperature  AverageTemperatureUncertainty   City  \\\n",
       "0 1743-11-01               6.068                          1.737  Århus   \n",
       "1 1743-12-01                 NaN                            NaN  Århus   \n",
       "2 1744-01-01                 NaN                            NaN  Århus   \n",
       "3 1744-02-01                 NaN                            NaN  Århus   \n",
       "4 1744-03-01                 NaN                            NaN  Århus   \n",
       "\n",
       "   Country Latitude Longitude  \n",
       "0  Denmark   57.05N    10.33E  \n",
       "1  Denmark   57.05N    10.33E  \n",
       "2  Denmark   57.05N    10.33E  \n",
       "3  Denmark   57.05N    10.33E  \n",
       "4  Denmark   57.05N    10.33E  "
      ]
     },
     "execution_count": 93,
     "metadata": {},
     "output_type": "execute_result"
    }
   ],
   "source": [
    "worldtemp_df.head()"
   ]
  },
  {
   "cell_type": "code",
   "execution_count": 94,
   "metadata": {
    "editable": true
   },
   "outputs": [],
   "source": [
    "# Rounding temperature to decimals=3 as 2.1010000000000004\n",
    "worldtemp_df['AverageTemperature'] = worldtemp_df['AverageTemperature'].round(decimals=3)"
   ]
  },
  {
   "cell_type": "code",
   "execution_count": 95,
   "metadata": {
    "editable": true
   },
   "outputs": [],
   "source": [
    "tempcopy_df = worldtemp_df.copy()"
   ]
  },
  {
   "cell_type": "code",
   "execution_count": 96,
   "metadata": {
    "editable": true
   },
   "outputs": [
    {
     "name": "stdout",
     "output_type": "stream",
     "text": [
      "364130\n"
     ]
    }
   ],
   "source": [
    "# Removing missing temperatures\n",
    "print(tempcopy_df[(tempcopy_df.AverageTemperature.isnull()) & (tempcopy_df.AverageTemperatureUncertainty.isnull())].shape[0])\n",
    "tempcopy_df = tempcopy_df[~((tempcopy_df.AverageTemperature.isnull()) & (tempcopy_df.AverageTemperatureUncertainty.isnull()))]"
   ]
  },
  {
   "cell_type": "code",
   "execution_count": 97,
   "metadata": {
    "editable": true
   },
   "outputs": [
    {
     "data": {
      "text/html": [
       "<div>\n",
       "<style scoped>\n",
       "    .dataframe tbody tr th:only-of-type {\n",
       "        vertical-align: middle;\n",
       "    }\n",
       "\n",
       "    .dataframe tbody tr th {\n",
       "        vertical-align: top;\n",
       "    }\n",
       "\n",
       "    .dataframe thead th {\n",
       "        text-align: right;\n",
       "    }\n",
       "</style>\n",
       "<table border=\"1\" class=\"dataframe\">\n",
       "  <thead>\n",
       "    <tr style=\"text-align: right;\">\n",
       "      <th></th>\n",
       "      <th>dt</th>\n",
       "      <th>AverageTemperature</th>\n",
       "      <th>AverageTemperatureUncertainty</th>\n",
       "      <th>City</th>\n",
       "      <th>Country</th>\n",
       "      <th>Latitude</th>\n",
       "      <th>Longitude</th>\n",
       "    </tr>\n",
       "  </thead>\n",
       "  <tbody>\n",
       "    <tr>\n",
       "      <th>0</th>\n",
       "      <td>1743-11-01</td>\n",
       "      <td>6.068</td>\n",
       "      <td>1.737</td>\n",
       "      <td>Århus</td>\n",
       "      <td>Denmark</td>\n",
       "      <td>57.05N</td>\n",
       "      <td>10.33E</td>\n",
       "    </tr>\n",
       "    <tr>\n",
       "      <th>5</th>\n",
       "      <td>1744-04-01</td>\n",
       "      <td>5.788</td>\n",
       "      <td>3.624</td>\n",
       "      <td>Århus</td>\n",
       "      <td>Denmark</td>\n",
       "      <td>57.05N</td>\n",
       "      <td>10.33E</td>\n",
       "    </tr>\n",
       "    <tr>\n",
       "      <th>6</th>\n",
       "      <td>1744-05-01</td>\n",
       "      <td>10.644</td>\n",
       "      <td>1.283</td>\n",
       "      <td>Århus</td>\n",
       "      <td>Denmark</td>\n",
       "      <td>57.05N</td>\n",
       "      <td>10.33E</td>\n",
       "    </tr>\n",
       "    <tr>\n",
       "      <th>7</th>\n",
       "      <td>1744-06-01</td>\n",
       "      <td>14.051</td>\n",
       "      <td>1.347</td>\n",
       "      <td>Århus</td>\n",
       "      <td>Denmark</td>\n",
       "      <td>57.05N</td>\n",
       "      <td>10.33E</td>\n",
       "    </tr>\n",
       "    <tr>\n",
       "      <th>8</th>\n",
       "      <td>1744-07-01</td>\n",
       "      <td>16.082</td>\n",
       "      <td>1.396</td>\n",
       "      <td>Århus</td>\n",
       "      <td>Denmark</td>\n",
       "      <td>57.05N</td>\n",
       "      <td>10.33E</td>\n",
       "    </tr>\n",
       "  </tbody>\n",
       "</table>\n",
       "</div>"
      ],
      "text/plain": [
       "          dt  AverageTemperature  AverageTemperatureUncertainty   City  \\\n",
       "0 1743-11-01               6.068                          1.737  Århus   \n",
       "5 1744-04-01               5.788                          3.624  Århus   \n",
       "6 1744-05-01              10.644                          1.283  Århus   \n",
       "7 1744-06-01              14.051                          1.347  Århus   \n",
       "8 1744-07-01              16.082                          1.396  Århus   \n",
       "\n",
       "   Country Latitude Longitude  \n",
       "0  Denmark   57.05N    10.33E  \n",
       "5  Denmark   57.05N    10.33E  \n",
       "6  Denmark   57.05N    10.33E  \n",
       "7  Denmark   57.05N    10.33E  \n",
       "8  Denmark   57.05N    10.33E  "
      ]
     },
     "execution_count": 97,
     "metadata": {},
     "output_type": "execute_result"
    }
   ],
   "source": [
    "tempcopy_df.head()"
   ]
  },
  {
   "cell_type": "code",
   "execution_count": 98,
   "metadata": {
    "editable": true
   },
   "outputs": [
    {
     "name": "stdout",
     "output_type": "stream",
     "text": [
      "Total Rows =  8235082\n",
      "Total Countries =  159\n",
      "Total Cities =  3448\n"
     ]
    },
    {
     "data": {
      "text/plain": [
       "array(['Denmark', 'Turkey', 'Kazakhstan', 'China', 'Spain', 'Germany',\n",
       "       'Nigeria', 'Iran', 'Russia', 'Canada', \"Côte D'Ivoire\",\n",
       "       'United Kingdom', 'Saudi Arabia', 'Japan', 'United States', 'India',\n",
       "       'Benin', 'United Arab Emirates', 'Mexico', 'Venezuela', 'Ghana',\n",
       "       'Ethiopia', 'Australia', 'Yemen', 'Indonesia', 'Morocco',\n",
       "       'Pakistan', 'France', 'Libya', 'Burma', 'Brazil', 'South Africa',\n",
       "       'Syria', 'Egypt', 'Algeria', 'Netherlands', 'Malaysia', 'Portugal',\n",
       "       'Ecuador', 'Italy', 'Uzbekistan', 'Philippines', 'Madagascar',\n",
       "       'Chile', 'Belgium', 'El Salvador', 'Romania', 'Peru', 'Colombia',\n",
       "       'Tanzania', 'Tunisia', 'Turkmenistan', 'Israel', 'Eritrea',\n",
       "       'Paraguay', 'Greece', 'New Zealand', 'Vietnam', 'Cameroon', 'Iraq',\n",
       "       'Afghanistan', 'Argentina', 'Azerbaijan', 'Moldova', 'Mali',\n",
       "       'Congo (Democratic Republic Of The)', 'Thailand',\n",
       "       'Central African Republic', 'Bosnia And Herzegovina', 'Bangladesh',\n",
       "       'Switzerland', 'Equatorial Guinea', 'Cuba', 'Lebanon', 'Mozambique',\n",
       "       'Serbia', 'Angola', 'Somalia', 'Norway', 'Nepal', 'Poland',\n",
       "       'Ukraine', 'Guinea Bissau', 'Malawi', 'Burkina Faso', 'Slovakia',\n",
       "       'Congo', 'Belarus', 'Gambia', 'Czech Republic', 'Hungary',\n",
       "       'Burundi', 'Zimbabwe', 'Bulgaria', 'Haiti', 'Puerto Rico',\n",
       "       'Sri Lanka', 'Nicaragua', 'Zambia', 'Honduras', 'Taiwan', 'Bolivia',\n",
       "       'Guinea', 'Ireland', 'Senegal', 'Latvia', 'Qatar', 'Albania',\n",
       "       'Tajikistan', 'Kenya', 'Guatemala', 'Finland', 'Sierra Leone',\n",
       "       'Sweden', 'Botswana', 'Guyana', 'Austria', 'Uganda', 'Armenia',\n",
       "       'Dominican Republic', 'Jordan', 'Djibouti', 'Sudan', 'Lithuania',\n",
       "       'Rwanda', 'Jamaica', 'Togo', 'Macedonia', 'Cyprus', 'Gabon',\n",
       "       'Slovenia', 'Bahrain', 'Swaziland', 'Niger', 'Lesotho', 'Liberia',\n",
       "       'Uruguay', 'Chad', 'Bahamas', 'Mauritania', 'Panama', 'Suriname',\n",
       "       'Cambodia', 'Montenegro', 'Mauritius', 'Papua New Guinea',\n",
       "       'Iceland', 'Croatia', 'Reunion', 'Oman', 'Costa Rica',\n",
       "       'South Korea', 'Hong Kong', 'Singapore', 'Estonia', 'Georgia',\n",
       "       'Mongolia', 'Laos', 'Namibia'], dtype=object)"
      ]
     },
     "execution_count": 98,
     "metadata": {},
     "output_type": "execute_result"
    }
   ],
   "source": [
    "print('Total Rows = ',tempcopy_df.shape[0])\n",
    "print('Total Countries = ',tempcopy_df.Country.unique().shape[0])\n",
    "print('Total Cities = ',tempcopy_df.City.unique().shape[0])\n",
    "tempcopy_df.Country.unique()"
   ]
  },
  {
   "cell_type": "code",
   "execution_count": 99,
   "metadata": {
    "editable": true
   },
   "outputs": [
    {
     "name": "stdout",
     "output_type": "stream",
     "text": [
      "Total Rows =  661524\n",
      "Total Cities =  248\n"
     ]
    }
   ],
   "source": [
    "df_UStemp = tempcopy_df[tempcopy_df.Country=='United States'].copy()\n",
    "print('Total Rows = ',df_UStemp.shape[0])\n",
    "print('Total Cities = ',df_UStemp.City.unique().shape[0])"
   ]
  },
  {
   "cell_type": "code",
   "execution_count": 100,
   "metadata": {
    "editable": true
   },
   "outputs": [
    {
     "data": {
      "text/html": [
       "<div>\n",
       "<style scoped>\n",
       "    .dataframe tbody tr th:only-of-type {\n",
       "        vertical-align: middle;\n",
       "    }\n",
       "\n",
       "    .dataframe tbody tr th {\n",
       "        vertical-align: top;\n",
       "    }\n",
       "\n",
       "    .dataframe thead th {\n",
       "        text-align: right;\n",
       "    }\n",
       "</style>\n",
       "<table border=\"1\" class=\"dataframe\">\n",
       "  <thead>\n",
       "    <tr style=\"text-align: right;\">\n",
       "      <th></th>\n",
       "      <th>dt</th>\n",
       "      <th>AverageTemperature</th>\n",
       "      <th>AverageTemperatureUncertainty</th>\n",
       "      <th>City</th>\n",
       "      <th>Country</th>\n",
       "      <th>Latitude</th>\n",
       "      <th>Longitude</th>\n",
       "    </tr>\n",
       "  </thead>\n",
       "  <tbody>\n",
       "    <tr>\n",
       "      <th>485395</th>\n",
       "      <td>1775-04-01</td>\n",
       "      <td>9.290</td>\n",
       "      <td>1.692</td>\n",
       "      <td>Aurora</td>\n",
       "      <td>United States</td>\n",
       "      <td>40.99N</td>\n",
       "      <td>87.34W</td>\n",
       "    </tr>\n",
       "    <tr>\n",
       "      <th>485396</th>\n",
       "      <td>1775-05-01</td>\n",
       "      <td>17.177</td>\n",
       "      <td>2.099</td>\n",
       "      <td>Aurora</td>\n",
       "      <td>United States</td>\n",
       "      <td>40.99N</td>\n",
       "      <td>87.34W</td>\n",
       "    </tr>\n",
       "    <tr>\n",
       "      <th>485400</th>\n",
       "      <td>1775-09-01</td>\n",
       "      <td>17.002</td>\n",
       "      <td>2.282</td>\n",
       "      <td>Aurora</td>\n",
       "      <td>United States</td>\n",
       "      <td>40.99N</td>\n",
       "      <td>87.34W</td>\n",
       "    </tr>\n",
       "    <tr>\n",
       "      <th>485401</th>\n",
       "      <td>1775-10-01</td>\n",
       "      <td>12.015</td>\n",
       "      <td>1.910</td>\n",
       "      <td>Aurora</td>\n",
       "      <td>United States</td>\n",
       "      <td>40.99N</td>\n",
       "      <td>87.34W</td>\n",
       "    </tr>\n",
       "    <tr>\n",
       "      <th>485402</th>\n",
       "      <td>1775-11-01</td>\n",
       "      <td>6.864</td>\n",
       "      <td>3.195</td>\n",
       "      <td>Aurora</td>\n",
       "      <td>United States</td>\n",
       "      <td>40.99N</td>\n",
       "      <td>87.34W</td>\n",
       "    </tr>\n",
       "  </tbody>\n",
       "</table>\n",
       "</div>"
      ],
      "text/plain": [
       "               dt  AverageTemperature  AverageTemperatureUncertainty    City  \\\n",
       "485395 1775-04-01               9.290                          1.692  Aurora   \n",
       "485396 1775-05-01              17.177                          2.099  Aurora   \n",
       "485400 1775-09-01              17.002                          2.282  Aurora   \n",
       "485401 1775-10-01              12.015                          1.910  Aurora   \n",
       "485402 1775-11-01               6.864                          3.195  Aurora   \n",
       "\n",
       "              Country Latitude Longitude  \n",
       "485395  United States   40.99N    87.34W  \n",
       "485396  United States   40.99N    87.34W  \n",
       "485400  United States   40.99N    87.34W  \n",
       "485401  United States   40.99N    87.34W  \n",
       "485402  United States   40.99N    87.34W  "
      ]
     },
     "execution_count": 100,
     "metadata": {},
     "output_type": "execute_result"
    }
   ],
   "source": [
    "# Looking for duplicates\n",
    "tempcopy_df[((tempcopy_df[['dt', 'City', 'Country']].duplicated()) & (~tempcopy_df.City.isin(['Arlington'])) ) ].head()"
   ]
  },
  {
   "cell_type": "code",
   "execution_count": 101,
   "metadata": {
    "editable": true
   },
   "outputs": [
    {
     "data": {
      "text/plain": [
       "array(['Arlington', 'Aurora', 'Columbus', 'Depok', 'Glendale', 'Haicheng',\n",
       "       'Haikou', 'Jining', 'Luoyang', 'Pasadena', 'Peoria', 'Richmond',\n",
       "       'Rongcheng', 'Springfield', 'Suzhou', 'Taman', 'Yichun', 'Yingcheng'], dtype=object)"
      ]
     },
     "execution_count": 101,
     "metadata": {},
     "output_type": "execute_result"
    }
   ],
   "source": [
    "tempcopy_df[tempcopy_df[['dt', 'City', 'Country']].duplicated()]['City'].unique()"
   ]
  },
  {
   "cell_type": "code",
   "execution_count": 102,
   "metadata": {
    "editable": true
   },
   "outputs": [
    {
     "data": {
      "text/html": [
       "<div>\n",
       "<style scoped>\n",
       "    .dataframe tbody tr th:only-of-type {\n",
       "        vertical-align: middle;\n",
       "    }\n",
       "\n",
       "    .dataframe tbody tr th {\n",
       "        vertical-align: top;\n",
       "    }\n",
       "\n",
       "    .dataframe thead th {\n",
       "        text-align: right;\n",
       "    }\n",
       "</style>\n",
       "<table border=\"1\" class=\"dataframe\">\n",
       "  <thead>\n",
       "    <tr style=\"text-align: right;\">\n",
       "      <th></th>\n",
       "      <th>dt</th>\n",
       "      <th>AverageTemperature</th>\n",
       "      <th>AverageTemperatureUncertainty</th>\n",
       "      <th>City</th>\n",
       "      <th>Country</th>\n",
       "      <th>Latitude</th>\n",
       "      <th>Longitude</th>\n",
       "    </tr>\n",
       "  </thead>\n",
       "  <tbody>\n",
       "    <tr>\n",
       "      <th>401036</th>\n",
       "      <td>1820-01-01</td>\n",
       "      <td>3.293</td>\n",
       "      <td>3.278</td>\n",
       "      <td>Arlington</td>\n",
       "      <td>United States</td>\n",
       "      <td>32.95N</td>\n",
       "      <td>96.70W</td>\n",
       "    </tr>\n",
       "    <tr>\n",
       "      <th>404275</th>\n",
       "      <td>1820-01-01</td>\n",
       "      <td>-3.022</td>\n",
       "      <td>7.662</td>\n",
       "      <td>Arlington</td>\n",
       "      <td>United States</td>\n",
       "      <td>39.38N</td>\n",
       "      <td>76.99W</td>\n",
       "    </tr>\n",
       "  </tbody>\n",
       "</table>\n",
       "</div>"
      ],
      "text/plain": [
       "               dt  AverageTemperature  AverageTemperatureUncertainty  \\\n",
       "401036 1820-01-01               3.293                          3.278   \n",
       "404275 1820-01-01              -3.022                          7.662   \n",
       "\n",
       "             City        Country Latitude Longitude  \n",
       "401036  Arlington  United States   32.95N    96.70W  \n",
       "404275  Arlington  United States   39.38N    76.99W  "
      ]
     },
     "execution_count": 102,
     "metadata": {},
     "output_type": "execute_result"
    }
   ],
   "source": [
    "tempcopy_df.query(\"dt=='1820-01-01' and City=='Arlington' and Country=='United States'\")"
   ]
  },
  {
   "cell_type": "markdown",
   "metadata": {
    "editable": true
   },
   "source": [
    "- Looking at the above locations(lats & lngs), temperature is recorded in different part of city or different weather stations may be.\n",
    "- But looking at Arlington AvgTemperature +3 to -3.\n",
    "- Proceeding to eliminating the duplicates(ie., second locations in the same city)"
   ]
  },
  {
   "cell_type": "code",
   "execution_count": 103,
   "metadata": {
    "editable": true
   },
   "outputs": [
    {
     "data": {
      "text/plain": [
       "(8190783, 7)"
      ]
     },
     "execution_count": 103,
     "metadata": {},
     "output_type": "execute_result"
    }
   ],
   "source": [
    "tempcopy_df2 = tempcopy_df.drop_duplicates(['dt', 'City', 'Country'],keep= 'first')\n",
    "tempcopy_df2.shape"
   ]
  },
  {
   "cell_type": "code",
   "execution_count": 104,
   "metadata": {
    "editable": true
   },
   "outputs": [
    {
     "data": {
      "text/html": [
       "<div>\n",
       "<style scoped>\n",
       "    .dataframe tbody tr th:only-of-type {\n",
       "        vertical-align: middle;\n",
       "    }\n",
       "\n",
       "    .dataframe tbody tr th {\n",
       "        vertical-align: top;\n",
       "    }\n",
       "\n",
       "    .dataframe thead th {\n",
       "        text-align: right;\n",
       "    }\n",
       "</style>\n",
       "<table border=\"1\" class=\"dataframe\">\n",
       "  <thead>\n",
       "    <tr style=\"text-align: right;\">\n",
       "      <th></th>\n",
       "      <th>dt</th>\n",
       "      <th>AverageTemperature</th>\n",
       "      <th>AverageTemperatureUncertainty</th>\n",
       "      <th>City</th>\n",
       "      <th>Country</th>\n",
       "      <th>Latitude</th>\n",
       "      <th>Longitude</th>\n",
       "    </tr>\n",
       "  </thead>\n",
       "  <tbody>\n",
       "    <tr>\n",
       "      <th>401036</th>\n",
       "      <td>1820-01-01</td>\n",
       "      <td>3.293</td>\n",
       "      <td>3.278</td>\n",
       "      <td>Arlington</td>\n",
       "      <td>United States</td>\n",
       "      <td>32.95N</td>\n",
       "      <td>96.70W</td>\n",
       "    </tr>\n",
       "  </tbody>\n",
       "</table>\n",
       "</div>"
      ],
      "text/plain": [
       "               dt  AverageTemperature  AverageTemperatureUncertainty  \\\n",
       "401036 1820-01-01               3.293                          3.278   \n",
       "\n",
       "             City        Country Latitude Longitude  \n",
       "401036  Arlington  United States   32.95N    96.70W  "
      ]
     },
     "execution_count": 104,
     "metadata": {},
     "output_type": "execute_result"
    }
   ],
   "source": [
    "tempcopy_df2.query(\"dt=='1820-01-01' and City=='Arlington' and Country=='United States'\")"
   ]
  },
  {
   "cell_type": "code",
   "execution_count": 105,
   "metadata": {
    "editable": true
   },
   "outputs": [
    {
     "data": {
      "text/html": [
       "<div>\n",
       "<style scoped>\n",
       "    .dataframe tbody tr th:only-of-type {\n",
       "        vertical-align: middle;\n",
       "    }\n",
       "\n",
       "    .dataframe tbody tr th {\n",
       "        vertical-align: top;\n",
       "    }\n",
       "\n",
       "    .dataframe thead th {\n",
       "        text-align: right;\n",
       "    }\n",
       "</style>\n",
       "<table border=\"1\" class=\"dataframe\">\n",
       "  <thead>\n",
       "    <tr style=\"text-align: right;\">\n",
       "      <th></th>\n",
       "      <th>dt</th>\n",
       "      <th>AverageTemperature</th>\n",
       "      <th>AverageTemperatureUncertainty</th>\n",
       "      <th>City</th>\n",
       "      <th>Country</th>\n",
       "      <th>Latitude</th>\n",
       "      <th>Longitude</th>\n",
       "    </tr>\n",
       "  </thead>\n",
       "  <tbody>\n",
       "    <tr>\n",
       "      <th>1670</th>\n",
       "      <td>1774-01-01</td>\n",
       "      <td>-3.323</td>\n",
       "      <td>6.555</td>\n",
       "      <td>Arlington</td>\n",
       "      <td>United States</td>\n",
       "      <td>39.38N</td>\n",
       "      <td>76.99W</td>\n",
       "    </tr>\n",
       "    <tr>\n",
       "      <th>1671</th>\n",
       "      <td>1763-01-01</td>\n",
       "      <td>-3.342</td>\n",
       "      <td>2.226</td>\n",
       "      <td>Arlington</td>\n",
       "      <td>United States</td>\n",
       "      <td>39.38N</td>\n",
       "      <td>76.99W</td>\n",
       "    </tr>\n",
       "    <tr>\n",
       "      <th>1672</th>\n",
       "      <td>1761-01-01</td>\n",
       "      <td>-3.736</td>\n",
       "      <td>6.418</td>\n",
       "      <td>Arlington</td>\n",
       "      <td>United States</td>\n",
       "      <td>39.38N</td>\n",
       "      <td>76.99W</td>\n",
       "    </tr>\n",
       "    <tr>\n",
       "      <th>1673</th>\n",
       "      <td>1792-01-01</td>\n",
       "      <td>-3.904</td>\n",
       "      <td>4.811</td>\n",
       "      <td>Arlington</td>\n",
       "      <td>United States</td>\n",
       "      <td>39.38N</td>\n",
       "      <td>76.99W</td>\n",
       "    </tr>\n",
       "    <tr>\n",
       "      <th>1674</th>\n",
       "      <td>1752-01-01</td>\n",
       "      <td>-4.318</td>\n",
       "      <td>2.217</td>\n",
       "      <td>Arlington</td>\n",
       "      <td>United States</td>\n",
       "      <td>39.38N</td>\n",
       "      <td>76.99W</td>\n",
       "    </tr>\n",
       "  </tbody>\n",
       "</table>\n",
       "</div>"
      ],
      "text/plain": [
       "             dt  AverageTemperature  AverageTemperatureUncertainty       City  \\\n",
       "1670 1774-01-01              -3.323                          6.555  Arlington   \n",
       "1671 1763-01-01              -3.342                          2.226  Arlington   \n",
       "1672 1761-01-01              -3.736                          6.418  Arlington   \n",
       "1673 1792-01-01              -3.904                          4.811  Arlington   \n",
       "1674 1752-01-01              -4.318                          2.217  Arlington   \n",
       "\n",
       "            Country Latitude Longitude  \n",
       "1670  United States   39.38N    76.99W  \n",
       "1671  United States   39.38N    76.99W  \n",
       "1672  United States   39.38N    76.99W  \n",
       "1673  United States   39.38N    76.99W  \n",
       "1674  United States   39.38N    76.99W  "
      ]
     },
     "execution_count": 105,
     "metadata": {},
     "output_type": "execute_result"
    }
   ],
   "source": [
    "# Getting TopN Max/Min Temperatures\n",
    "tempcopy_df3 = tempcopy_df2.sort_values(by=['Country', 'City', 'AverageTemperature'],  ascending=False)\n",
    "tempcopy_df3 = tempcopy_df3.groupby(['Country', 'City']).tail(5).reset_index(drop=True)\n",
    "tempcopy_df3.query(\"City=='Arlington' and Country=='United States'\")"
   ]
  },
  {
   "cell_type": "code",
   "execution_count": 106,
   "metadata": {
    "editable": true
   },
   "outputs": [
    {
     "data": {
      "text/plain": [
       "8190783"
      ]
     },
     "execution_count": 106,
     "metadata": {},
     "output_type": "execute_result"
    }
   ],
   "source": [
    "tempcopy_df2.shape[0]"
   ]
  },
  {
   "cell_type": "code",
   "execution_count": 107,
   "metadata": {
    "editable": true
   },
   "outputs": [],
   "source": [
    "# Min/Max dates\n",
    "test1 = (tempcopy_df2.assign(dt=tempcopy_df2['dt'])\n",
    "       .groupby(['Country'])['dt'].agg([('Min' , 'min'), ('Max', 'max')])\n",
    "       .add_prefix('Date'))\n",
    "test1 = test1.reset_index()"
   ]
  },
  {
   "cell_type": "code",
   "execution_count": 108,
   "metadata": {
    "editable": true
   },
   "outputs": [
    {
     "data": {
      "text/html": [
       "<div>\n",
       "<style scoped>\n",
       "    .dataframe tbody tr th:only-of-type {\n",
       "        vertical-align: middle;\n",
       "    }\n",
       "\n",
       "    .dataframe tbody tr th {\n",
       "        vertical-align: top;\n",
       "    }\n",
       "\n",
       "    .dataframe thead th {\n",
       "        text-align: right;\n",
       "    }\n",
       "</style>\n",
       "<table border=\"1\" class=\"dataframe\">\n",
       "  <thead>\n",
       "    <tr style=\"text-align: right;\">\n",
       "      <th></th>\n",
       "      <th>Country</th>\n",
       "      <th>DateMin</th>\n",
       "      <th>DateMax</th>\n",
       "    </tr>\n",
       "  </thead>\n",
       "  <tbody>\n",
       "    <tr>\n",
       "      <th>0</th>\n",
       "      <td>Afghanistan</td>\n",
       "      <td>1833-01-01</td>\n",
       "      <td>2013-08-01</td>\n",
       "    </tr>\n",
       "    <tr>\n",
       "      <th>1</th>\n",
       "      <td>Albania</td>\n",
       "      <td>1743-11-01</td>\n",
       "      <td>2013-08-01</td>\n",
       "    </tr>\n",
       "    <tr>\n",
       "      <th>2</th>\n",
       "      <td>Algeria</td>\n",
       "      <td>1753-01-01</td>\n",
       "      <td>2013-08-01</td>\n",
       "    </tr>\n",
       "    <tr>\n",
       "      <th>3</th>\n",
       "      <td>Angola</td>\n",
       "      <td>1856-01-01</td>\n",
       "      <td>2013-08-01</td>\n",
       "    </tr>\n",
       "    <tr>\n",
       "      <th>4</th>\n",
       "      <td>Argentina</td>\n",
       "      <td>1832-01-01</td>\n",
       "      <td>2013-08-01</td>\n",
       "    </tr>\n",
       "  </tbody>\n",
       "</table>\n",
       "</div>"
      ],
      "text/plain": [
       "       Country    DateMin    DateMax\n",
       "0  Afghanistan 1833-01-01 2013-08-01\n",
       "1      Albania 1743-11-01 2013-08-01\n",
       "2      Algeria 1753-01-01 2013-08-01\n",
       "3       Angola 1856-01-01 2013-08-01\n",
       "4    Argentina 1832-01-01 2013-08-01"
      ]
     },
     "execution_count": 108,
     "metadata": {},
     "output_type": "execute_result"
    }
   ],
   "source": [
    "test1.head()"
   ]
  },
  {
   "cell_type": "markdown",
   "metadata": {
    "editable": true
   },
   "source": [
    "- Start dates vary, when analyzing all dates should be brought to same date\n",
    "- End dates are in 2013 and i94 is 2016 so can't co-relate these two datasets, so can relate to US Demographics. Race & Temperature, Temperature & Household income"
   ]
  },
  {
   "cell_type": "code",
   "execution_count": 109,
   "metadata": {
    "editable": true
   },
   "outputs": [
    {
     "data": {
      "text/plain": [
       "Timestamp('1743-11-01 00:00:00')"
      ]
     },
     "execution_count": 109,
     "metadata": {},
     "output_type": "execute_result"
    }
   ],
   "source": [
    "test1.min()\n",
    "test1['DateMin'].min()"
   ]
  },
  {
   "cell_type": "code",
   "execution_count": 110,
   "metadata": {
    "editable": true
   },
   "outputs": [
    {
     "data": {
      "text/html": [
       "<div>\n",
       "<style scoped>\n",
       "    .dataframe tbody tr th:only-of-type {\n",
       "        vertical-align: middle;\n",
       "    }\n",
       "\n",
       "    .dataframe tbody tr th {\n",
       "        vertical-align: top;\n",
       "    }\n",
       "\n",
       "    .dataframe thead th {\n",
       "        text-align: right;\n",
       "    }\n",
       "</style>\n",
       "<table border=\"1\" class=\"dataframe\">\n",
       "  <thead>\n",
       "    <tr style=\"text-align: right;\">\n",
       "      <th></th>\n",
       "      <th>city</th>\n",
       "      <th>year</th>\n",
       "      <th>yb10</th>\n",
       "      <th>AverageTemperature</th>\n",
       "    </tr>\n",
       "  </thead>\n",
       "  <tbody>\n",
       "    <tr>\n",
       "      <th>47555</th>\n",
       "      <td>Abilene</td>\n",
       "      <td>1820</td>\n",
       "      <td>182</td>\n",
       "      <td>2.101</td>\n",
       "    </tr>\n",
       "    <tr>\n",
       "      <th>47556</th>\n",
       "      <td>Abilene</td>\n",
       "      <td>1820</td>\n",
       "      <td>182</td>\n",
       "      <td>6.926</td>\n",
       "    </tr>\n",
       "    <tr>\n",
       "      <th>47557</th>\n",
       "      <td>Abilene</td>\n",
       "      <td>1820</td>\n",
       "      <td>182</td>\n",
       "      <td>10.767</td>\n",
       "    </tr>\n",
       "    <tr>\n",
       "      <th>47558</th>\n",
       "      <td>Abilene</td>\n",
       "      <td>1820</td>\n",
       "      <td>182</td>\n",
       "      <td>17.989</td>\n",
       "    </tr>\n",
       "    <tr>\n",
       "      <th>47559</th>\n",
       "      <td>Abilene</td>\n",
       "      <td>1820</td>\n",
       "      <td>182</td>\n",
       "      <td>21.809</td>\n",
       "    </tr>\n",
       "    <tr>\n",
       "      <th>47560</th>\n",
       "      <td>Abilene</td>\n",
       "      <td>1820</td>\n",
       "      <td>182</td>\n",
       "      <td>25.682</td>\n",
       "    </tr>\n",
       "    <tr>\n",
       "      <th>47561</th>\n",
       "      <td>Abilene</td>\n",
       "      <td>1820</td>\n",
       "      <td>182</td>\n",
       "      <td>26.268</td>\n",
       "    </tr>\n",
       "    <tr>\n",
       "      <th>47562</th>\n",
       "      <td>Abilene</td>\n",
       "      <td>1820</td>\n",
       "      <td>182</td>\n",
       "      <td>25.048</td>\n",
       "    </tr>\n",
       "    <tr>\n",
       "      <th>47563</th>\n",
       "      <td>Abilene</td>\n",
       "      <td>1820</td>\n",
       "      <td>182</td>\n",
       "      <td>22.435</td>\n",
       "    </tr>\n",
       "    <tr>\n",
       "      <th>47564</th>\n",
       "      <td>Abilene</td>\n",
       "      <td>1820</td>\n",
       "      <td>182</td>\n",
       "      <td>15.830</td>\n",
       "    </tr>\n",
       "    <tr>\n",
       "      <th>47565</th>\n",
       "      <td>Abilene</td>\n",
       "      <td>1820</td>\n",
       "      <td>182</td>\n",
       "      <td>9.408</td>\n",
       "    </tr>\n",
       "    <tr>\n",
       "      <th>47566</th>\n",
       "      <td>Abilene</td>\n",
       "      <td>1820</td>\n",
       "      <td>182</td>\n",
       "      <td>3.853</td>\n",
       "    </tr>\n",
       "    <tr>\n",
       "      <th>47567</th>\n",
       "      <td>Abilene</td>\n",
       "      <td>1821</td>\n",
       "      <td>182</td>\n",
       "      <td>5.276</td>\n",
       "    </tr>\n",
       "    <tr>\n",
       "      <th>47568</th>\n",
       "      <td>Abilene</td>\n",
       "      <td>1821</td>\n",
       "      <td>182</td>\n",
       "      <td>7.588</td>\n",
       "    </tr>\n",
       "    <tr>\n",
       "      <th>47569</th>\n",
       "      <td>Abilene</td>\n",
       "      <td>1821</td>\n",
       "      <td>182</td>\n",
       "      <td>11.728</td>\n",
       "    </tr>\n",
       "    <tr>\n",
       "      <th>47570</th>\n",
       "      <td>Abilene</td>\n",
       "      <td>1821</td>\n",
       "      <td>182</td>\n",
       "      <td>15.461</td>\n",
       "    </tr>\n",
       "    <tr>\n",
       "      <th>47571</th>\n",
       "      <td>Abilene</td>\n",
       "      <td>1821</td>\n",
       "      <td>182</td>\n",
       "      <td>21.488</td>\n",
       "    </tr>\n",
       "    <tr>\n",
       "      <th>47572</th>\n",
       "      <td>Abilene</td>\n",
       "      <td>1821</td>\n",
       "      <td>182</td>\n",
       "      <td>25.768</td>\n",
       "    </tr>\n",
       "    <tr>\n",
       "      <th>47573</th>\n",
       "      <td>Abilene</td>\n",
       "      <td>1821</td>\n",
       "      <td>182</td>\n",
       "      <td>26.553</td>\n",
       "    </tr>\n",
       "    <tr>\n",
       "      <th>47574</th>\n",
       "      <td>Abilene</td>\n",
       "      <td>1821</td>\n",
       "      <td>182</td>\n",
       "      <td>27.272</td>\n",
       "    </tr>\n",
       "    <tr>\n",
       "      <th>47575</th>\n",
       "      <td>Abilene</td>\n",
       "      <td>1821</td>\n",
       "      <td>182</td>\n",
       "      <td>21.503</td>\n",
       "    </tr>\n",
       "    <tr>\n",
       "      <th>47576</th>\n",
       "      <td>Abilene</td>\n",
       "      <td>1821</td>\n",
       "      <td>182</td>\n",
       "      <td>16.918</td>\n",
       "    </tr>\n",
       "    <tr>\n",
       "      <th>47577</th>\n",
       "      <td>Abilene</td>\n",
       "      <td>1821</td>\n",
       "      <td>182</td>\n",
       "      <td>10.311</td>\n",
       "    </tr>\n",
       "    <tr>\n",
       "      <th>47578</th>\n",
       "      <td>Abilene</td>\n",
       "      <td>1821</td>\n",
       "      <td>182</td>\n",
       "      <td>4.964</td>\n",
       "    </tr>\n",
       "    <tr>\n",
       "      <th>47579</th>\n",
       "      <td>Abilene</td>\n",
       "      <td>1822</td>\n",
       "      <td>182</td>\n",
       "      <td>5.906</td>\n",
       "    </tr>\n",
       "    <tr>\n",
       "      <th>47580</th>\n",
       "      <td>Abilene</td>\n",
       "      <td>1822</td>\n",
       "      <td>182</td>\n",
       "      <td>8.871</td>\n",
       "    </tr>\n",
       "    <tr>\n",
       "      <th>47581</th>\n",
       "      <td>Abilene</td>\n",
       "      <td>1822</td>\n",
       "      <td>182</td>\n",
       "      <td>14.743</td>\n",
       "    </tr>\n",
       "    <tr>\n",
       "      <th>47582</th>\n",
       "      <td>Abilene</td>\n",
       "      <td>1822</td>\n",
       "      <td>182</td>\n",
       "      <td>16.462</td>\n",
       "    </tr>\n",
       "    <tr>\n",
       "      <th>47583</th>\n",
       "      <td>Abilene</td>\n",
       "      <td>1822</td>\n",
       "      <td>182</td>\n",
       "      <td>21.260</td>\n",
       "    </tr>\n",
       "    <tr>\n",
       "      <th>47584</th>\n",
       "      <td>Abilene</td>\n",
       "      <td>1822</td>\n",
       "      <td>182</td>\n",
       "      <td>25.716</td>\n",
       "    </tr>\n",
       "    <tr>\n",
       "      <th>47585</th>\n",
       "      <td>Abilene</td>\n",
       "      <td>1822</td>\n",
       "      <td>182</td>\n",
       "      <td>28.205</td>\n",
       "    </tr>\n",
       "    <tr>\n",
       "      <th>47586</th>\n",
       "      <td>Abilene</td>\n",
       "      <td>1822</td>\n",
       "      <td>182</td>\n",
       "      <td>27.133</td>\n",
       "    </tr>\n",
       "    <tr>\n",
       "      <th>47587</th>\n",
       "      <td>Abilene</td>\n",
       "      <td>1822</td>\n",
       "      <td>182</td>\n",
       "      <td>22.562</td>\n",
       "    </tr>\n",
       "    <tr>\n",
       "      <th>47588</th>\n",
       "      <td>Abilene</td>\n",
       "      <td>1822</td>\n",
       "      <td>182</td>\n",
       "      <td>15.738</td>\n",
       "    </tr>\n",
       "    <tr>\n",
       "      <th>47589</th>\n",
       "      <td>Abilene</td>\n",
       "      <td>1822</td>\n",
       "      <td>182</td>\n",
       "      <td>9.889</td>\n",
       "    </tr>\n",
       "    <tr>\n",
       "      <th>47590</th>\n",
       "      <td>Abilene</td>\n",
       "      <td>1822</td>\n",
       "      <td>182</td>\n",
       "      <td>3.264</td>\n",
       "    </tr>\n",
       "    <tr>\n",
       "      <th>47591</th>\n",
       "      <td>Abilene</td>\n",
       "      <td>1823</td>\n",
       "      <td>182</td>\n",
       "      <td>4.696</td>\n",
       "    </tr>\n",
       "    <tr>\n",
       "      <th>47592</th>\n",
       "      <td>Abilene</td>\n",
       "      <td>1823</td>\n",
       "      <td>182</td>\n",
       "      <td>5.163</td>\n",
       "    </tr>\n",
       "    <tr>\n",
       "      <th>47593</th>\n",
       "      <td>Abilene</td>\n",
       "      <td>1823</td>\n",
       "      <td>182</td>\n",
       "      <td>12.227</td>\n",
       "    </tr>\n",
       "    <tr>\n",
       "      <th>47594</th>\n",
       "      <td>Abilene</td>\n",
       "      <td>1823</td>\n",
       "      <td>182</td>\n",
       "      <td>17.100</td>\n",
       "    </tr>\n",
       "    <tr>\n",
       "      <th>47595</th>\n",
       "      <td>Abilene</td>\n",
       "      <td>1823</td>\n",
       "      <td>182</td>\n",
       "      <td>21.547</td>\n",
       "    </tr>\n",
       "    <tr>\n",
       "      <th>47596</th>\n",
       "      <td>Abilene</td>\n",
       "      <td>1823</td>\n",
       "      <td>182</td>\n",
       "      <td>26.646</td>\n",
       "    </tr>\n",
       "    <tr>\n",
       "      <th>47597</th>\n",
       "      <td>Abilene</td>\n",
       "      <td>1823</td>\n",
       "      <td>182</td>\n",
       "      <td>28.172</td>\n",
       "    </tr>\n",
       "    <tr>\n",
       "      <th>47598</th>\n",
       "      <td>Abilene</td>\n",
       "      <td>1823</td>\n",
       "      <td>182</td>\n",
       "      <td>26.883</td>\n",
       "    </tr>\n",
       "    <tr>\n",
       "      <th>47599</th>\n",
       "      <td>Abilene</td>\n",
       "      <td>1823</td>\n",
       "      <td>182</td>\n",
       "      <td>21.560</td>\n",
       "    </tr>\n",
       "    <tr>\n",
       "      <th>47600</th>\n",
       "      <td>Abilene</td>\n",
       "      <td>1823</td>\n",
       "      <td>182</td>\n",
       "      <td>16.181</td>\n",
       "    </tr>\n",
       "    <tr>\n",
       "      <th>47601</th>\n",
       "      <td>Abilene</td>\n",
       "      <td>1823</td>\n",
       "      <td>182</td>\n",
       "      <td>10.044</td>\n",
       "    </tr>\n",
       "    <tr>\n",
       "      <th>47602</th>\n",
       "      <td>Abilene</td>\n",
       "      <td>1823</td>\n",
       "      <td>182</td>\n",
       "      <td>4.945</td>\n",
       "    </tr>\n",
       "    <tr>\n",
       "      <th>47603</th>\n",
       "      <td>Abilene</td>\n",
       "      <td>1824</td>\n",
       "      <td>182</td>\n",
       "      <td>6.021</td>\n",
       "    </tr>\n",
       "    <tr>\n",
       "      <th>47604</th>\n",
       "      <td>Abilene</td>\n",
       "      <td>1824</td>\n",
       "      <td>182</td>\n",
       "      <td>6.877</td>\n",
       "    </tr>\n",
       "  </tbody>\n",
       "</table>\n",
       "</div>"
      ],
      "text/plain": [
       "          city  year  yb10  AverageTemperature\n",
       "47555  Abilene  1820   182               2.101\n",
       "47556  Abilene  1820   182               6.926\n",
       "47557  Abilene  1820   182              10.767\n",
       "47558  Abilene  1820   182              17.989\n",
       "47559  Abilene  1820   182              21.809\n",
       "47560  Abilene  1820   182              25.682\n",
       "47561  Abilene  1820   182              26.268\n",
       "47562  Abilene  1820   182              25.048\n",
       "47563  Abilene  1820   182              22.435\n",
       "47564  Abilene  1820   182              15.830\n",
       "47565  Abilene  1820   182               9.408\n",
       "47566  Abilene  1820   182               3.853\n",
       "47567  Abilene  1821   182               5.276\n",
       "47568  Abilene  1821   182               7.588\n",
       "47569  Abilene  1821   182              11.728\n",
       "47570  Abilene  1821   182              15.461\n",
       "47571  Abilene  1821   182              21.488\n",
       "47572  Abilene  1821   182              25.768\n",
       "47573  Abilene  1821   182              26.553\n",
       "47574  Abilene  1821   182              27.272\n",
       "47575  Abilene  1821   182              21.503\n",
       "47576  Abilene  1821   182              16.918\n",
       "47577  Abilene  1821   182              10.311\n",
       "47578  Abilene  1821   182               4.964\n",
       "47579  Abilene  1822   182               5.906\n",
       "47580  Abilene  1822   182               8.871\n",
       "47581  Abilene  1822   182              14.743\n",
       "47582  Abilene  1822   182              16.462\n",
       "47583  Abilene  1822   182              21.260\n",
       "47584  Abilene  1822   182              25.716\n",
       "47585  Abilene  1822   182              28.205\n",
       "47586  Abilene  1822   182              27.133\n",
       "47587  Abilene  1822   182              22.562\n",
       "47588  Abilene  1822   182              15.738\n",
       "47589  Abilene  1822   182               9.889\n",
       "47590  Abilene  1822   182               3.264\n",
       "47591  Abilene  1823   182               4.696\n",
       "47592  Abilene  1823   182               5.163\n",
       "47593  Abilene  1823   182              12.227\n",
       "47594  Abilene  1823   182              17.100\n",
       "47595  Abilene  1823   182              21.547\n",
       "47596  Abilene  1823   182              26.646\n",
       "47597  Abilene  1823   182              28.172\n",
       "47598  Abilene  1823   182              26.883\n",
       "47599  Abilene  1823   182              21.560\n",
       "47600  Abilene  1823   182              16.181\n",
       "47601  Abilene  1823   182              10.044\n",
       "47602  Abilene  1823   182               4.945\n",
       "47603  Abilene  1824   182               6.021\n",
       "47604  Abilene  1824   182               6.877"
      ]
     },
     "execution_count": 110,
     "metadata": {},
     "output_type": "execute_result"
    }
   ],
   "source": [
    "temp = {'city': df_UStemp['City'], 'year': df_UStemp['dt'].dt.year, 'yb10': (df_UStemp['dt'].dt.year/10).astype(int), 'AverageTemperature': df_UStemp['AverageTemperature']}\n",
    "temp =  pd.DataFrame(data=temp)\n",
    "temp[temp.city=='Abilene'].head(50)"
   ]
  },
  {
   "cell_type": "code",
   "execution_count": 111,
   "metadata": {
    "editable": true
   },
   "outputs": [],
   "source": [
    "df_USt10yr = temp.groupby(['city', 'yb10'])['AverageTemperature'].agg(['mean', 'min', 'max']).reset_index().copy()"
   ]
  },
  {
   "cell_type": "code",
   "execution_count": 112,
   "metadata": {
    "editable": true
   },
   "outputs": [
    {
     "data": {
      "text/html": [
       "<div>\n",
       "<style scoped>\n",
       "    .dataframe tbody tr th:only-of-type {\n",
       "        vertical-align: middle;\n",
       "    }\n",
       "\n",
       "    .dataframe tbody tr th {\n",
       "        vertical-align: top;\n",
       "    }\n",
       "\n",
       "    .dataframe thead th {\n",
       "        text-align: right;\n",
       "    }\n",
       "</style>\n",
       "<table border=\"1\" class=\"dataframe\">\n",
       "  <thead>\n",
       "    <tr style=\"text-align: right;\">\n",
       "      <th></th>\n",
       "      <th>city</th>\n",
       "      <th>yb10</th>\n",
       "      <th>mean</th>\n",
       "      <th>min</th>\n",
       "      <th>max</th>\n",
       "    </tr>\n",
       "  </thead>\n",
       "  <tbody>\n",
       "    <tr>\n",
       "      <th>0</th>\n",
       "      <td>Abilene</td>\n",
       "      <td>182</td>\n",
       "      <td>16.624283</td>\n",
       "      <td>2.101</td>\n",
       "      <td>28.631</td>\n",
       "    </tr>\n",
       "    <tr>\n",
       "      <th>1</th>\n",
       "      <td>Abilene</td>\n",
       "      <td>183</td>\n",
       "      <td>16.381756</td>\n",
       "      <td>2.196</td>\n",
       "      <td>29.641</td>\n",
       "    </tr>\n",
       "    <tr>\n",
       "      <th>2</th>\n",
       "      <td>Abilene</td>\n",
       "      <td>184</td>\n",
       "      <td>16.447308</td>\n",
       "      <td>2.857</td>\n",
       "      <td>28.728</td>\n",
       "    </tr>\n",
       "    <tr>\n",
       "      <th>3</th>\n",
       "      <td>Abilene</td>\n",
       "      <td>185</td>\n",
       "      <td>16.497983</td>\n",
       "      <td>-0.061</td>\n",
       "      <td>29.203</td>\n",
       "    </tr>\n",
       "    <tr>\n",
       "      <th>4</th>\n",
       "      <td>Abilene</td>\n",
       "      <td>186</td>\n",
       "      <td>16.905758</td>\n",
       "      <td>3.052</td>\n",
       "      <td>29.376</td>\n",
       "    </tr>\n",
       "  </tbody>\n",
       "</table>\n",
       "</div>"
      ],
      "text/plain": [
       "      city  yb10       mean    min     max\n",
       "0  Abilene   182  16.624283  2.101  28.631\n",
       "1  Abilene   183  16.381756  2.196  29.641\n",
       "2  Abilene   184  16.447308  2.857  28.728\n",
       "3  Abilene   185  16.497983 -0.061  29.203\n",
       "4  Abilene   186  16.905758  3.052  29.376"
      ]
     },
     "execution_count": 112,
     "metadata": {},
     "output_type": "execute_result"
    }
   ],
   "source": [
    "df_USt10yr.head()"
   ]
  },
  {
   "cell_type": "markdown",
   "metadata": {
    "editable": true
   },
   "source": [
    "- above could be used for reporting trends of temperatures"
   ]
  },
  {
   "cell_type": "code",
   "execution_count": 113,
   "metadata": {
    "editable": true
   },
   "outputs": [],
   "source": [
    "# Min/Max average temperatures\n",
    "test2 = (tempcopy_df2.assign(dt=tempcopy_df2['AverageTemperature'])\n",
    "       .groupby(['Country', 'City'])['AverageTemperature'].agg([('Min' , 'min'), ('Max', 'max')])\n",
    "       .add_prefix('Temp'))\n",
    "test2 = test2.reset_index()"
   ]
  },
  {
   "cell_type": "code",
   "execution_count": 114,
   "metadata": {
    "editable": true
   },
   "outputs": [
    {
     "data": {
      "text/html": [
       "<div>\n",
       "<style scoped>\n",
       "    .dataframe tbody tr th:only-of-type {\n",
       "        vertical-align: middle;\n",
       "    }\n",
       "\n",
       "    .dataframe tbody tr th {\n",
       "        vertical-align: top;\n",
       "    }\n",
       "\n",
       "    .dataframe thead th {\n",
       "        text-align: right;\n",
       "    }\n",
       "</style>\n",
       "<table border=\"1\" class=\"dataframe\">\n",
       "  <thead>\n",
       "    <tr style=\"text-align: right;\">\n",
       "      <th></th>\n",
       "      <th>Country</th>\n",
       "      <th>City</th>\n",
       "      <th>TempMin</th>\n",
       "      <th>TempMax</th>\n",
       "    </tr>\n",
       "  </thead>\n",
       "  <tbody>\n",
       "    <tr>\n",
       "      <th>2857</th>\n",
       "      <td>Spain</td>\n",
       "      <td>Madrid</td>\n",
       "      <td>-0.918</td>\n",
       "      <td>24.771</td>\n",
       "    </tr>\n",
       "  </tbody>\n",
       "</table>\n",
       "</div>"
      ],
      "text/plain": [
       "     Country    City  TempMin  TempMax\n",
       "2857   Spain  Madrid   -0.918   24.771"
      ]
     },
     "execution_count": 114,
     "metadata": {},
     "output_type": "execute_result"
    }
   ],
   "source": [
    "test2[test2.City =='Madrid']"
   ]
  },
  {
   "cell_type": "code",
   "execution_count": 115,
   "metadata": {
    "editable": true
   },
   "outputs": [
    {
     "data": {
      "text/html": [
       "<div>\n",
       "<style scoped>\n",
       "    .dataframe tbody tr th:only-of-type {\n",
       "        vertical-align: middle;\n",
       "    }\n",
       "\n",
       "    .dataframe tbody tr th {\n",
       "        vertical-align: top;\n",
       "    }\n",
       "\n",
       "    .dataframe thead th {\n",
       "        text-align: right;\n",
       "    }\n",
       "</style>\n",
       "<table border=\"1\" class=\"dataframe\">\n",
       "  <thead>\n",
       "    <tr style=\"text-align: right;\">\n",
       "      <th></th>\n",
       "      <th>dt</th>\n",
       "      <th>AverageTemperature</th>\n",
       "      <th>AverageTemperatureUncertainty</th>\n",
       "      <th>City</th>\n",
       "      <th>Country</th>\n",
       "      <th>Latitude</th>\n",
       "      <th>Longitude</th>\n",
       "    </tr>\n",
       "  </thead>\n",
       "  <tbody>\n",
       "    <tr>\n",
       "      <th>1543348</th>\n",
       "      <td>1743-11-01</td>\n",
       "      <td>5.436</td>\n",
       "      <td>2.205</td>\n",
       "      <td>Chicago</td>\n",
       "      <td>United States</td>\n",
       "      <td>42.59N</td>\n",
       "      <td>87.27W</td>\n",
       "    </tr>\n",
       "    <tr>\n",
       "      <th>1543353</th>\n",
       "      <td>1744-04-01</td>\n",
       "      <td>8.766</td>\n",
       "      <td>2.357</td>\n",
       "      <td>Chicago</td>\n",
       "      <td>United States</td>\n",
       "      <td>42.59N</td>\n",
       "      <td>87.27W</td>\n",
       "    </tr>\n",
       "    <tr>\n",
       "      <th>1543354</th>\n",
       "      <td>1744-05-01</td>\n",
       "      <td>11.605</td>\n",
       "      <td>2.102</td>\n",
       "      <td>Chicago</td>\n",
       "      <td>United States</td>\n",
       "      <td>42.59N</td>\n",
       "      <td>87.27W</td>\n",
       "    </tr>\n",
       "    <tr>\n",
       "      <th>1543355</th>\n",
       "      <td>1744-06-01</td>\n",
       "      <td>17.965</td>\n",
       "      <td>1.989</td>\n",
       "      <td>Chicago</td>\n",
       "      <td>United States</td>\n",
       "      <td>42.59N</td>\n",
       "      <td>87.27W</td>\n",
       "    </tr>\n",
       "    <tr>\n",
       "      <th>1543356</th>\n",
       "      <td>1744-07-01</td>\n",
       "      <td>21.680</td>\n",
       "      <td>1.786</td>\n",
       "      <td>Chicago</td>\n",
       "      <td>United States</td>\n",
       "      <td>42.59N</td>\n",
       "      <td>87.27W</td>\n",
       "    </tr>\n",
       "  </tbody>\n",
       "</table>\n",
       "</div>"
      ],
      "text/plain": [
       "                dt  AverageTemperature  AverageTemperatureUncertainty  \\\n",
       "1543348 1743-11-01               5.436                          2.205   \n",
       "1543353 1744-04-01               8.766                          2.357   \n",
       "1543354 1744-05-01              11.605                          2.102   \n",
       "1543355 1744-06-01              17.965                          1.989   \n",
       "1543356 1744-07-01              21.680                          1.786   \n",
       "\n",
       "            City        Country Latitude Longitude  \n",
       "1543348  Chicago  United States   42.59N    87.27W  \n",
       "1543353  Chicago  United States   42.59N    87.27W  \n",
       "1543354  Chicago  United States   42.59N    87.27W  \n",
       "1543355  Chicago  United States   42.59N    87.27W  \n",
       "1543356  Chicago  United States   42.59N    87.27W  "
      ]
     },
     "execution_count": 115,
     "metadata": {},
     "output_type": "execute_result"
    }
   ],
   "source": [
    "df_UStemp[df_UStemp.City.str.lower().str.contains('chi')].head()"
   ]
  },
  {
   "cell_type": "code",
   "execution_count": 116,
   "metadata": {
    "editable": true
   },
   "outputs": [],
   "source": [
    "df_miami = tempcopy_df[tempcopy_df.City=='Miami']\n",
    "df_chicago = tempcopy_df[tempcopy_df.City=='Chicago']"
   ]
  },
  {
   "cell_type": "code",
   "execution_count": 117,
   "metadata": {
    "editable": true
   },
   "outputs": [
    {
     "data": {
      "text/html": [
       "<div>\n",
       "<style scoped>\n",
       "    .dataframe tbody tr th:only-of-type {\n",
       "        vertical-align: middle;\n",
       "    }\n",
       "\n",
       "    .dataframe tbody tr th {\n",
       "        vertical-align: top;\n",
       "    }\n",
       "\n",
       "    .dataframe thead th {\n",
       "        text-align: right;\n",
       "    }\n",
       "</style>\n",
       "<table border=\"1\" class=\"dataframe\">\n",
       "  <thead>\n",
       "    <tr style=\"text-align: right;\">\n",
       "      <th></th>\n",
       "      <th>year</th>\n",
       "      <th>AvgTemp</th>\n",
       "    </tr>\n",
       "  </thead>\n",
       "  <tbody>\n",
       "    <tr>\n",
       "      <th>4805278</th>\n",
       "      <td>2009</td>\n",
       "      <td>23.900833</td>\n",
       "    </tr>\n",
       "    <tr>\n",
       "      <th>4805290</th>\n",
       "      <td>2010</td>\n",
       "      <td>22.751250</td>\n",
       "    </tr>\n",
       "    <tr>\n",
       "      <th>4805302</th>\n",
       "      <td>2011</td>\n",
       "      <td>24.234833</td>\n",
       "    </tr>\n",
       "    <tr>\n",
       "      <th>4805314</th>\n",
       "      <td>2012</td>\n",
       "      <td>23.922667</td>\n",
       "    </tr>\n",
       "    <tr>\n",
       "      <th>4805326</th>\n",
       "      <td>2013</td>\n",
       "      <td>24.440111</td>\n",
       "    </tr>\n",
       "  </tbody>\n",
       "</table>\n",
       "</div>"
      ],
      "text/plain": [
       "         year    AvgTemp\n",
       "4805278  2009  23.900833\n",
       "4805290  2010  22.751250\n",
       "4805302  2011  24.234833\n",
       "4805314  2012  23.922667\n",
       "4805326  2013  24.440111"
      ]
     },
     "execution_count": 117,
     "metadata": {},
     "output_type": "execute_result"
    }
   ],
   "source": [
    "def create_city_df(df):\n",
    "    temp = {'year': df['dt'].dt.year, 'AverageTemperature': df['AverageTemperature']}\n",
    "    test3 =  pd.DataFrame(data=temp)\n",
    "    test3['AvgTemp'] = test3.groupby(['year'])['AverageTemperature'].transform(lambda x: x.mean())\n",
    "    return test3[['year', 'AvgTemp']].drop_duplicates()\n",
    "\n",
    "create_city_df(df_miami).tail(5)"
   ]
  },
  {
   "cell_type": "code",
   "execution_count": 118,
   "metadata": {
    "editable": true
   },
   "outputs": [
    {
     "data": {
      "text/html": [
       "<div>\n",
       "<style scoped>\n",
       "    .dataframe tbody tr th:only-of-type {\n",
       "        vertical-align: middle;\n",
       "    }\n",
       "\n",
       "    .dataframe tbody tr th {\n",
       "        vertical-align: top;\n",
       "    }\n",
       "\n",
       "    .dataframe thead th {\n",
       "        text-align: right;\n",
       "    }\n",
       "</style>\n",
       "<table border=\"1\" class=\"dataframe\">\n",
       "  <thead>\n",
       "    <tr style=\"text-align: right;\">\n",
       "      <th></th>\n",
       "      <th>year</th>\n",
       "      <th>AvgTemp</th>\n",
       "    </tr>\n",
       "  </thead>\n",
       "  <tbody>\n",
       "    <tr>\n",
       "      <th>1546530</th>\n",
       "      <td>2009</td>\n",
       "      <td>10.298333</td>\n",
       "    </tr>\n",
       "    <tr>\n",
       "      <th>1546542</th>\n",
       "      <td>2010</td>\n",
       "      <td>11.815917</td>\n",
       "    </tr>\n",
       "    <tr>\n",
       "      <th>1546554</th>\n",
       "      <td>2011</td>\n",
       "      <td>11.214250</td>\n",
       "    </tr>\n",
       "    <tr>\n",
       "      <th>1546566</th>\n",
       "      <td>2012</td>\n",
       "      <td>12.821250</td>\n",
       "    </tr>\n",
       "    <tr>\n",
       "      <th>1546578</th>\n",
       "      <td>2013</td>\n",
       "      <td>11.586889</td>\n",
       "    </tr>\n",
       "  </tbody>\n",
       "</table>\n",
       "</div>"
      ],
      "text/plain": [
       "         year    AvgTemp\n",
       "1546530  2009  10.298333\n",
       "1546542  2010  11.815917\n",
       "1546554  2011  11.214250\n",
       "1546566  2012  12.821250\n",
       "1546578  2013  11.586889"
      ]
     },
     "execution_count": 118,
     "metadata": {},
     "output_type": "execute_result"
    }
   ],
   "source": [
    "create_city_df(df_chicago).tail(5)"
   ]
  },
  {
   "cell_type": "code",
   "execution_count": 119,
   "metadata": {
    "editable": true
   },
   "outputs": [],
   "source": [
    "temp = {'dt': tempcopy_df['dt'], 'year': tempcopy_df['dt'].dt.year, 'AverageTemperature': tempcopy_df['AverageTemperature']}\n",
    "test3 =  pd.DataFrame(data=temp)"
   ]
  },
  {
   "cell_type": "code",
   "execution_count": 120,
   "metadata": {
    "editable": true
   },
   "outputs": [],
   "source": [
    "# calculate the average temperature for each year, I group by by Year and then find the average tempearature\n",
    "test3['AvgTemp'] = test3.groupby(['year'])['AverageTemperature'].transform(lambda x: x.mean())"
   ]
  },
  {
   "cell_type": "code",
   "execution_count": 121,
   "metadata": {
    "editable": true
   },
   "outputs": [
    {
     "data": {
      "text/html": [
       "<div>\n",
       "<style scoped>\n",
       "    .dataframe tbody tr th:only-of-type {\n",
       "        vertical-align: middle;\n",
       "    }\n",
       "\n",
       "    .dataframe tbody tr th {\n",
       "        vertical-align: top;\n",
       "    }\n",
       "\n",
       "    .dataframe thead th {\n",
       "        text-align: right;\n",
       "    }\n",
       "</style>\n",
       "<table border=\"1\" class=\"dataframe\">\n",
       "  <thead>\n",
       "    <tr style=\"text-align: right;\">\n",
       "      <th></th>\n",
       "      <th>year</th>\n",
       "      <th>AvgTemp</th>\n",
       "    </tr>\n",
       "  </thead>\n",
       "  <tbody>\n",
       "    <tr>\n",
       "      <th>2882</th>\n",
       "      <td>1984</td>\n",
       "      <td>17.750915</td>\n",
       "    </tr>\n",
       "    <tr>\n",
       "      <th>2894</th>\n",
       "      <td>1985</td>\n",
       "      <td>17.760221</td>\n",
       "    </tr>\n",
       "    <tr>\n",
       "      <th>2906</th>\n",
       "      <td>1986</td>\n",
       "      <td>17.878246</td>\n",
       "    </tr>\n",
       "    <tr>\n",
       "      <th>2918</th>\n",
       "      <td>1987</td>\n",
       "      <td>18.093333</td>\n",
       "    </tr>\n",
       "    <tr>\n",
       "      <th>2930</th>\n",
       "      <td>1988</td>\n",
       "      <td>18.121302</td>\n",
       "    </tr>\n",
       "    <tr>\n",
       "      <th>2942</th>\n",
       "      <td>1989</td>\n",
       "      <td>18.139926</td>\n",
       "    </tr>\n",
       "    <tr>\n",
       "      <th>2954</th>\n",
       "      <td>1990</td>\n",
       "      <td>18.438358</td>\n",
       "    </tr>\n",
       "    <tr>\n",
       "      <th>2966</th>\n",
       "      <td>1991</td>\n",
       "      <td>18.111252</td>\n",
       "    </tr>\n",
       "    <tr>\n",
       "      <th>2978</th>\n",
       "      <td>1992</td>\n",
       "      <td>18.015379</td>\n",
       "    </tr>\n",
       "    <tr>\n",
       "      <th>2990</th>\n",
       "      <td>1993</td>\n",
       "      <td>17.942710</td>\n",
       "    </tr>\n",
       "    <tr>\n",
       "      <th>3002</th>\n",
       "      <td>1994</td>\n",
       "      <td>18.345654</td>\n",
       "    </tr>\n",
       "    <tr>\n",
       "      <th>3014</th>\n",
       "      <td>1995</td>\n",
       "      <td>18.328776</td>\n",
       "    </tr>\n",
       "    <tr>\n",
       "      <th>3026</th>\n",
       "      <td>1996</td>\n",
       "      <td>17.914263</td>\n",
       "    </tr>\n",
       "    <tr>\n",
       "      <th>3038</th>\n",
       "      <td>1997</td>\n",
       "      <td>18.234274</td>\n",
       "    </tr>\n",
       "    <tr>\n",
       "      <th>3050</th>\n",
       "      <td>1998</td>\n",
       "      <td>18.682514</td>\n",
       "    </tr>\n",
       "    <tr>\n",
       "      <th>3062</th>\n",
       "      <td>1999</td>\n",
       "      <td>18.484276</td>\n",
       "    </tr>\n",
       "    <tr>\n",
       "      <th>3074</th>\n",
       "      <td>2000</td>\n",
       "      <td>18.383937</td>\n",
       "    </tr>\n",
       "    <tr>\n",
       "      <th>3086</th>\n",
       "      <td>2001</td>\n",
       "      <td>18.456090</td>\n",
       "    </tr>\n",
       "    <tr>\n",
       "      <th>3098</th>\n",
       "      <td>2002</td>\n",
       "      <td>18.664708</td>\n",
       "    </tr>\n",
       "    <tr>\n",
       "      <th>3110</th>\n",
       "      <td>2003</td>\n",
       "      <td>18.478554</td>\n",
       "    </tr>\n",
       "    <tr>\n",
       "      <th>3122</th>\n",
       "      <td>2004</td>\n",
       "      <td>18.494878</td>\n",
       "    </tr>\n",
       "    <tr>\n",
       "      <th>3134</th>\n",
       "      <td>2005</td>\n",
       "      <td>18.451510</td>\n",
       "    </tr>\n",
       "    <tr>\n",
       "      <th>3146</th>\n",
       "      <td>2006</td>\n",
       "      <td>18.604472</td>\n",
       "    </tr>\n",
       "    <tr>\n",
       "      <th>3158</th>\n",
       "      <td>2007</td>\n",
       "      <td>18.686941</td>\n",
       "    </tr>\n",
       "    <tr>\n",
       "      <th>3170</th>\n",
       "      <td>2008</td>\n",
       "      <td>18.445347</td>\n",
       "    </tr>\n",
       "    <tr>\n",
       "      <th>3182</th>\n",
       "      <td>2009</td>\n",
       "      <td>18.601106</td>\n",
       "    </tr>\n",
       "    <tr>\n",
       "      <th>3194</th>\n",
       "      <td>2010</td>\n",
       "      <td>18.553508</td>\n",
       "    </tr>\n",
       "    <tr>\n",
       "      <th>3206</th>\n",
       "      <td>2011</td>\n",
       "      <td>18.393315</td>\n",
       "    </tr>\n",
       "    <tr>\n",
       "      <th>3218</th>\n",
       "      <td>2012</td>\n",
       "      <td>18.525969</td>\n",
       "    </tr>\n",
       "    <tr>\n",
       "      <th>3230</th>\n",
       "      <td>2013</td>\n",
       "      <td>19.061038</td>\n",
       "    </tr>\n",
       "  </tbody>\n",
       "</table>\n",
       "</div>"
      ],
      "text/plain": [
       "      year    AvgTemp\n",
       "2882  1984  17.750915\n",
       "2894  1985  17.760221\n",
       "2906  1986  17.878246\n",
       "2918  1987  18.093333\n",
       "2930  1988  18.121302\n",
       "2942  1989  18.139926\n",
       "2954  1990  18.438358\n",
       "2966  1991  18.111252\n",
       "2978  1992  18.015379\n",
       "2990  1993  17.942710\n",
       "3002  1994  18.345654\n",
       "3014  1995  18.328776\n",
       "3026  1996  17.914263\n",
       "3038  1997  18.234274\n",
       "3050  1998  18.682514\n",
       "3062  1999  18.484276\n",
       "3074  2000  18.383937\n",
       "3086  2001  18.456090\n",
       "3098  2002  18.664708\n",
       "3110  2003  18.478554\n",
       "3122  2004  18.494878\n",
       "3134  2005  18.451510\n",
       "3146  2006  18.604472\n",
       "3158  2007  18.686941\n",
       "3170  2008  18.445347\n",
       "3182  2009  18.601106\n",
       "3194  2010  18.553508\n",
       "3206  2011  18.393315\n",
       "3218  2012  18.525969\n",
       "3230  2013  19.061038"
      ]
     },
     "execution_count": 121,
     "metadata": {},
     "output_type": "execute_result"
    }
   ],
   "source": [
    "test3[['year', 'AvgTemp']].drop_duplicates().tail(30)"
   ]
  },
  {
   "cell_type": "markdown",
   "metadata": {
    "editable": true
   },
   "source": [
    "#### Cleaning Steps\n",
    "Document steps necessary to clean the data"
   ]
  },
  {
   "cell_type": "markdown",
   "metadata": {
    "editable": true
   },
   "source": [
    "***Create copies of dateframes to cleanse***"
   ]
  },
  {
   "cell_type": "code",
   "execution_count": 122,
   "metadata": {
    "editable": true
   },
   "outputs": [],
   "source": [
    "# Create copies of dataframe\n",
    "immigration_df1 = immigration_df.copy()\n",
    "PoE_df1 = PoE_df.copy()\n",
    "airport_codes_df1 = airport_codes_df.copy()\n",
    "demographics_df1 = demographics_df.copy()\n",
    "worldtemp_df1 = worldtemp_df.copy()\n",
    "\n",
    "# Running strip() on all string columns\n",
    "immigration_df1 = strip_all_columns(immigration_df1).copy()\n",
    "PoE_df1 =strip_all_columns(PoE_df).copy()\n",
    "worldtemp_df1 = strip_all_columns(worldtemp_df1).copy()"
   ]
  },
  {
   "cell_type": "markdown",
   "metadata": {
    "editable": true
   },
   "source": [
    "#### Immigration data cleaning steps\n",
    "\n",
    "***Quality***\n",
    "- Delete incompleted & invalid rows\n",
    "    - matflag is null\n",
    "    - visatype GMT\n",
    "    - i94mode other than 1, 2, 3 can be removed.\n",
    "    - incomplete: gender in null\n",
    "    - removed rows having invalid CoC & CoR\\\n",
    "    - remove Non-US Port of entry data\n",
    "    - update genter X to O\n",
    " \n",
    "***Tideness***\n",
    "\n",
    "- Keep only these columns\n",
    "    i94cit, i94res, i94port, i94addr, arrdate, i94mode, depdate, i94addr, i94bir, i94visa, biryear, gender, airline, admnum, fltno, visatype\n",
    "- Convert float to string(i94cit, i94res, arrdate, i94mode, depdate, i94bir, i94visa, biryear, admnum\n",
    "- Convert codes to descriptive column names for below columns\n",
    "    - i94mode - How they arrived - arrival_mode\n",
    "    - i94visa - Purpose of visit - visit_purpose\n",
    "- Convert date formats\n",
    "    - SAS encoded date (arrdate & depdate)\n",
    "- Rename columns; i94bir=age, i94cit=CoC, i94res=CoR, i94port=PoE, i94addr=arrival_state, arrdate=arrival_dt, depdate=departure_dt\n",
    "- Drop final set columns i94mode, i94visa, arrdate, depdate, dtadfile, dtaddto"
   ]
  },
  {
   "cell_type": "markdown",
   "metadata": {
    "editable": true
   },
   "source": [
    "##### Immigration Data Cleaning: immigration_df1\n",
    "\n",
    "- Delete incomplete and invalid rows\n",
    "\n",
    "##### ***Define***\n",
    "\n",
    "Delete below rows:\n",
    "\n",
    "- invalid: matflag is null\n",
    "- invalid: visatype GMT\n",
    "- invalid: i94mode other and 1, 2, 3 can be removed\n",
    "- incomplete: gender is null\n",
    "\n",
    "Drop initial unused columns\n",
    "\n",
    "##### ***Define***\n",
    "\n",
    "Keeping only these columns; i94cit, i94res, i94 addr, i94port, arrdate, i94mode, i94addr, depadate, i94bir, i94visa, biryear, gender, airline, admnum, fltno, visatype"
   ]
  },
  {
   "cell_type": "markdown",
   "metadata": {
    "editable": true
   },
   "source": [
    "***Code***"
   ]
  },
  {
   "cell_type": "code",
   "execution_count": 123,
   "metadata": {
    "editable": true
   },
   "outputs": [],
   "source": [
    "# matflag is null\n",
    "immigration_df1 = immigration_df1[immigration_df1['matflag'].notnull()]\n",
    "\n",
    "# visatype GMT  \n",
    "temp = immigration_df1.visatype.tolist()\n",
    "immigration_df1 = immigration_df1[immigration_df1.visatype.isin(temp)]\n",
    "\n",
    "# i94mode other than 1 2 3\n",
    "temp = [1, 2, 3]\n",
    "immigration_df1 = immigration_df1[immigration_df1.i94mode.isin(temp)]\n",
    "\n",
    "# gender is null\n",
    "immigration_df1 = immigration_df1[immigration_df1.gender.notnull()]"
   ]
  },
  {
   "cell_type": "markdown",
   "metadata": {
    "editable": true
   },
   "source": [
    "***Test***"
   ]
  },
  {
   "cell_type": "code",
   "execution_count": 124,
   "metadata": {
    "editable": true
   },
   "outputs": [
    {
     "name": "stdout",
     "output_type": "stream",
     "text": [
      "Original : immigration_df = 1000\n",
      "After    : immigration_df1= 816\n",
      "matflag is null =  0\n",
      "visatype GMT =  0\n",
      "i94mode other than (1 2 3) =  0\n",
      "Gender is null =  0\n"
     ]
    }
   ],
   "source": [
    "print('Original : immigration_df = {}'.format(immigration_df.shape[0]))\n",
    "print('After    : immigration_df1= {}'.format(immigration_df1.shape[0]))\n",
    "\n",
    "print('matflag is null = ',immigration_df1[immigration_df1['matflag'].isnull()].shape[0])\n",
    "\n",
    "# visatype GMT  \n",
    "temp = immigration_df1.visatype.tolist()\n",
    "print('visatype GMT = ',immigration_df1[~immigration_df1.visatype.isin(temp)].shape[0])\n",
    "\n",
    "# i94mode other than 1 2 3\n",
    "temp = [1, 2, 3]\n",
    "print('i94mode other than (1 2 3) = ',immigration_df1[~immigration_df1.i94mode.isin(temp)].shape[0])\n",
    "\n",
    "# Gender is null\n",
    "print('Gender is null = ',immigration_df1[immigration_df1.gender.isnull()].shape[0])"
   ]
  },
  {
   "cell_type": "code",
   "execution_count": 125,
   "metadata": {
    "editable": true
   },
   "outputs": [],
   "source": [
    "# Drop visatype GMT since it is an invalid visatype\n",
    "immigration_df1.drop(immigration_df1.index[immigration_df1['visatype'] == 'GMT'], inplace = True)"
   ]
  },
  {
   "cell_type": "code",
   "execution_count": 126,
   "metadata": {
    "editable": true
   },
   "outputs": [
    {
     "name": "stdout",
     "output_type": "stream",
     "text": [
      "Index(['Unnamed: 0', 'cicid', 'i94yr', 'i94mon', 'i94cit', 'i94res', 'i94port',\n",
      "       'arrdate', 'i94mode', 'i94addr', 'depdate', 'i94bir', 'i94visa',\n",
      "       'count', 'dtadfile', 'visapost', 'occup', 'entdepa', 'entdepd',\n",
      "       'entdepu', 'matflag', 'biryear', 'dtaddto', 'gender', 'insnum',\n",
      "       'airline', 'admnum', 'fltno', 'visatype'],\n",
      "      dtype='object')\n",
      "[ True False False False False False False False False False False False\n",
      " False False False False False False False False False False False False\n",
      " False False False False False]\n"
     ]
    }
   ],
   "source": [
    "# Dropping column named Unnamed\n",
    "print(immigration_df1.columns)\n",
    "print(immigration_df1.columns.str.match('Unnamed'))"
   ]
  },
  {
   "cell_type": "code",
   "execution_count": 127,
   "metadata": {
    "editable": true
   },
   "outputs": [
    {
     "name": "stdout",
     "output_type": "stream",
     "text": [
      "Index(['cicid', 'i94yr', 'i94mon', 'i94cit', 'i94res', 'i94port', 'arrdate',\n",
      "       'i94mode', 'i94addr', 'depdate', 'i94bir', 'i94visa', 'count',\n",
      "       'dtadfile', 'visapost', 'occup', 'entdepa', 'entdepd', 'entdepu',\n",
      "       'matflag', 'biryear', 'dtaddto', 'gender', 'insnum', 'airline',\n",
      "       'admnum', 'fltno', 'visatype'],\n",
      "      dtype='object')\n"
     ]
    }
   ],
   "source": [
    "# This technique can be used for columns having sequence numbers\n",
    "immigration_df1 = immigration_df1.loc[:, ~immigration_df1.columns.str.match('Unnamed')]\n",
    "print(immigration_df1.columns)"
   ]
  },
  {
   "cell_type": "code",
   "execution_count": 128,
   "metadata": {
    "editable": true
   },
   "outputs": [],
   "source": [
    "# Only below columns are used for analysis\n",
    "keep_columns = ['i94cit', 'i94res', 'i94port', 'arrdate', 'i94mode', 'depdate', 'i94addr'\n",
    "                , 'i94bir', 'i94visa', 'biryear', 'gender', 'airline', 'admnum', 'fltno', 'visatype']"
   ]
  },
  {
   "cell_type": "code",
   "execution_count": 129,
   "metadata": {
    "editable": true
   },
   "outputs": [
    {
     "name": "stdout",
     "output_type": "stream",
     "text": [
      "['cicid', 'i94yr', 'i94mon', 'count', 'dtadfile', 'visapost', 'occup', 'entdepa', 'entdepd', 'entdepu', 'matflag', 'dtaddto', 'insnum']\n"
     ]
    }
   ],
   "source": [
    "drop_cols = difference(keep_columns, immigration_df1.columns.tolist())\n",
    "print(drop_cols)"
   ]
  },
  {
   "cell_type": "code",
   "execution_count": 130,
   "metadata": {
    "editable": true
   },
   "outputs": [],
   "source": [
    "immigration_df1.drop(drop_cols, inplace = True, axis = 1)"
   ]
  },
  {
   "cell_type": "markdown",
   "metadata": {
    "editable": true
   },
   "source": [
    "***Test***"
   ]
  },
  {
   "cell_type": "code",
   "execution_count": 131,
   "metadata": {
    "editable": true
   },
   "outputs": [
    {
     "name": "stdout",
     "output_type": "stream",
     "text": [
      "Index(['i94cit', 'i94res', 'i94port', 'arrdate', 'i94mode', 'i94addr',\n",
      "       'depdate', 'i94bir', 'i94visa', 'biryear', 'gender', 'airline',\n",
      "       'admnum', 'fltno', 'visatype'],\n",
      "      dtype='object')\n"
     ]
    }
   ],
   "source": [
    "print(immigration_df1.columns)"
   ]
  },
  {
   "cell_type": "markdown",
   "metadata": {
    "editable": true
   },
   "source": [
    "#### Immigration_df1: Update gender from X to O\n",
    "\n",
    "***Define***\n",
    "\n",
    "I94 allows three categories for gender M/F/O but the i94 data has X for the third gender.  Those rows will be updated from X to O.\n",
    "\n",
    "***Code***"
   ]
  },
  {
   "cell_type": "code",
   "execution_count": 132,
   "metadata": {
    "editable": true
   },
   "outputs": [],
   "source": [
    "immigration_df1['gender'] = immigration_df1['gender'].str.replace('X', 'O')"
   ]
  },
  {
   "cell_type": "markdown",
   "metadata": {
    "editable": true
   },
   "source": [
    "***Test***"
   ]
  },
  {
   "cell_type": "code",
   "execution_count": 133,
   "metadata": {
    "editable": true
   },
   "outputs": [
    {
     "data": {
      "text/html": [
       "<div>\n",
       "<style scoped>\n",
       "    .dataframe tbody tr th:only-of-type {\n",
       "        vertical-align: middle;\n",
       "    }\n",
       "\n",
       "    .dataframe tbody tr th {\n",
       "        vertical-align: top;\n",
       "    }\n",
       "\n",
       "    .dataframe thead th {\n",
       "        text-align: right;\n",
       "    }\n",
       "</style>\n",
       "<table border=\"1\" class=\"dataframe\">\n",
       "  <thead>\n",
       "    <tr style=\"text-align: right;\">\n",
       "      <th></th>\n",
       "      <th>i94cit</th>\n",
       "      <th>i94res</th>\n",
       "      <th>i94port</th>\n",
       "      <th>arrdate</th>\n",
       "      <th>i94mode</th>\n",
       "      <th>i94addr</th>\n",
       "      <th>depdate</th>\n",
       "      <th>i94bir</th>\n",
       "      <th>i94visa</th>\n",
       "      <th>biryear</th>\n",
       "      <th>gender</th>\n",
       "      <th>airline</th>\n",
       "      <th>admnum</th>\n",
       "      <th>fltno</th>\n",
       "      <th>visatype</th>\n",
       "    </tr>\n",
       "  </thead>\n",
       "  <tbody>\n",
       "  </tbody>\n",
       "</table>\n",
       "</div>"
      ],
      "text/plain": [
       "Empty DataFrame\n",
       "Columns: [i94cit, i94res, i94port, arrdate, i94mode, i94addr, depdate, i94bir, i94visa, biryear, gender, airline, admnum, fltno, visatype]\n",
       "Index: []"
      ]
     },
     "execution_count": 133,
     "metadata": {},
     "output_type": "execute_result"
    }
   ],
   "source": [
    "immigration_df1[immigration_df1.gender == 'O']"
   ]
  },
  {
   "cell_type": "markdown",
   "metadata": {
    "editable": true
   },
   "source": [
    "#### Immigration_df1: Convert float to string\n",
    "\n",
    "***Define***\n",
    "\n",
    "Convert these columns(i94cit, i94res, arrdate, i94mode, depdate, i94bir, i94visa, biryear, admnum)\n",
    "\n",
    "***Code***"
   ]
  },
  {
   "cell_type": "code",
   "execution_count": 134,
   "metadata": {
    "editable": true
   },
   "outputs": [
    {
     "data": {
      "text/html": [
       "<div>\n",
       "<style scoped>\n",
       "    .dataframe tbody tr th:only-of-type {\n",
       "        vertical-align: middle;\n",
       "    }\n",
       "\n",
       "    .dataframe tbody tr th {\n",
       "        vertical-align: top;\n",
       "    }\n",
       "\n",
       "    .dataframe thead th {\n",
       "        text-align: right;\n",
       "    }\n",
       "</style>\n",
       "<table border=\"1\" class=\"dataframe\">\n",
       "  <thead>\n",
       "    <tr style=\"text-align: right;\">\n",
       "      <th></th>\n",
       "      <th>i94cit</th>\n",
       "      <th>i94res</th>\n",
       "      <th>i94port</th>\n",
       "      <th>arrdate</th>\n",
       "      <th>i94mode</th>\n",
       "      <th>i94addr</th>\n",
       "      <th>depdate</th>\n",
       "      <th>i94bir</th>\n",
       "      <th>i94visa</th>\n",
       "      <th>biryear</th>\n",
       "      <th>gender</th>\n",
       "      <th>airline</th>\n",
       "      <th>admnum</th>\n",
       "      <th>fltno</th>\n",
       "      <th>visatype</th>\n",
       "    </tr>\n",
       "  </thead>\n",
       "  <tbody>\n",
       "    <tr>\n",
       "      <th>0</th>\n",
       "      <td>209.0</td>\n",
       "      <td>209.0</td>\n",
       "      <td>HHW</td>\n",
       "      <td>20566.0</td>\n",
       "      <td>1.0</td>\n",
       "      <td>HI</td>\n",
       "      <td>20573.0</td>\n",
       "      <td>61.0</td>\n",
       "      <td>2.0</td>\n",
       "      <td>1955.0</td>\n",
       "      <td>F</td>\n",
       "      <td>JL</td>\n",
       "      <td>5.658267e+10</td>\n",
       "      <td>00782</td>\n",
       "      <td>WT</td>\n",
       "    </tr>\n",
       "    <tr>\n",
       "      <th>1</th>\n",
       "      <td>582.0</td>\n",
       "      <td>582.0</td>\n",
       "      <td>MCA</td>\n",
       "      <td>20567.0</td>\n",
       "      <td>1.0</td>\n",
       "      <td>TX</td>\n",
       "      <td>20568.0</td>\n",
       "      <td>26.0</td>\n",
       "      <td>2.0</td>\n",
       "      <td>1990.0</td>\n",
       "      <td>M</td>\n",
       "      <td>*GA</td>\n",
       "      <td>9.436200e+10</td>\n",
       "      <td>XBLNG</td>\n",
       "      <td>B2</td>\n",
       "    </tr>\n",
       "    <tr>\n",
       "      <th>2</th>\n",
       "      <td>148.0</td>\n",
       "      <td>112.0</td>\n",
       "      <td>OGG</td>\n",
       "      <td>20551.0</td>\n",
       "      <td>1.0</td>\n",
       "      <td>FL</td>\n",
       "      <td>20571.0</td>\n",
       "      <td>76.0</td>\n",
       "      <td>2.0</td>\n",
       "      <td>1940.0</td>\n",
       "      <td>M</td>\n",
       "      <td>LH</td>\n",
       "      <td>5.578047e+10</td>\n",
       "      <td>00464</td>\n",
       "      <td>WT</td>\n",
       "    </tr>\n",
       "    <tr>\n",
       "      <th>3</th>\n",
       "      <td>297.0</td>\n",
       "      <td>297.0</td>\n",
       "      <td>LOS</td>\n",
       "      <td>20572.0</td>\n",
       "      <td>1.0</td>\n",
       "      <td>CA</td>\n",
       "      <td>20581.0</td>\n",
       "      <td>25.0</td>\n",
       "      <td>2.0</td>\n",
       "      <td>1991.0</td>\n",
       "      <td>M</td>\n",
       "      <td>QR</td>\n",
       "      <td>9.478970e+10</td>\n",
       "      <td>00739</td>\n",
       "      <td>B2</td>\n",
       "    </tr>\n",
       "    <tr>\n",
       "      <th>4</th>\n",
       "      <td>111.0</td>\n",
       "      <td>111.0</td>\n",
       "      <td>CHM</td>\n",
       "      <td>20550.0</td>\n",
       "      <td>3.0</td>\n",
       "      <td>NY</td>\n",
       "      <td>20553.0</td>\n",
       "      <td>19.0</td>\n",
       "      <td>2.0</td>\n",
       "      <td>1997.0</td>\n",
       "      <td>F</td>\n",
       "      <td>NaN</td>\n",
       "      <td>4.232257e+10</td>\n",
       "      <td>LAND</td>\n",
       "      <td>WT</td>\n",
       "    </tr>\n",
       "  </tbody>\n",
       "</table>\n",
       "</div>"
      ],
      "text/plain": [
       "   i94cit  i94res i94port  arrdate  i94mode i94addr  depdate  i94bir  i94visa  \\\n",
       "0   209.0   209.0     HHW  20566.0      1.0      HI  20573.0    61.0      2.0   \n",
       "1   582.0   582.0     MCA  20567.0      1.0      TX  20568.0    26.0      2.0   \n",
       "2   148.0   112.0     OGG  20551.0      1.0      FL  20571.0    76.0      2.0   \n",
       "3   297.0   297.0     LOS  20572.0      1.0      CA  20581.0    25.0      2.0   \n",
       "4   111.0   111.0     CHM  20550.0      3.0      NY  20553.0    19.0      2.0   \n",
       "\n",
       "   biryear gender airline        admnum  fltno visatype  \n",
       "0   1955.0      F      JL  5.658267e+10  00782       WT  \n",
       "1   1990.0      M     *GA  9.436200e+10  XBLNG       B2  \n",
       "2   1940.0      M      LH  5.578047e+10  00464       WT  \n",
       "3   1991.0      M      QR  9.478970e+10  00739       B2  \n",
       "4   1997.0      F     NaN  4.232257e+10   LAND       WT  "
      ]
     },
     "execution_count": 134,
     "metadata": {},
     "output_type": "execute_result"
    }
   ],
   "source": [
    "immigration_df1.head()"
   ]
  },
  {
   "cell_type": "code",
   "execution_count": 135,
   "metadata": {
    "editable": true
   },
   "outputs": [],
   "source": [
    "# Convert floats to ints\n",
    "cols_to_convert_float_to_string = ['i94cit', 'i94res', 'arrdate', 'i94mode', 'depdate', 'i94bir'\n",
    "                                , 'i94visa', 'biryear', 'admnum']\n",
    "for col in cols_to_convert_float_to_string:\n",
    "    immigration_df1[col] = immigration_df1[col].replace(np.nan, 0)\n",
    "    immigration_df1[col] = immigration_df1[col].astype(int)\n",
    "    immigration_df1[col] = immigration_df1[col].astype(str)"
   ]
  },
  {
   "cell_type": "markdown",
   "metadata": {
    "editable": true
   },
   "source": [
    "***Test***"
   ]
  },
  {
   "cell_type": "code",
   "execution_count": 136,
   "metadata": {
    "editable": true
   },
   "outputs": [
    {
     "name": "stdout",
     "output_type": "stream",
     "text": [
      "<class 'pandas.core.frame.DataFrame'>\n",
      "Int64Index: 792 entries, 0 to 999\n",
      "Data columns (total 15 columns):\n",
      "i94cit      792 non-null object\n",
      "i94res      792 non-null object\n",
      "i94port     792 non-null object\n",
      "arrdate     792 non-null object\n",
      "i94mode     792 non-null object\n",
      "i94addr     757 non-null object\n",
      "depdate     792 non-null object\n",
      "i94bir      792 non-null object\n",
      "i94visa     792 non-null object\n",
      "biryear     792 non-null object\n",
      "gender      792 non-null object\n",
      "airline     766 non-null object\n",
      "admnum      792 non-null object\n",
      "fltno       788 non-null object\n",
      "visatype    792 non-null object\n",
      "dtypes: object(15)\n",
      "memory usage: 99.0+ KB\n"
     ]
    }
   ],
   "source": [
    "immigration_df1.info()"
   ]
  },
  {
   "cell_type": "code",
   "execution_count": 137,
   "metadata": {
    "editable": true
   },
   "outputs": [
    {
     "data": {
      "text/html": [
       "<div>\n",
       "<style scoped>\n",
       "    .dataframe tbody tr th:only-of-type {\n",
       "        vertical-align: middle;\n",
       "    }\n",
       "\n",
       "    .dataframe tbody tr th {\n",
       "        vertical-align: top;\n",
       "    }\n",
       "\n",
       "    .dataframe thead th {\n",
       "        text-align: right;\n",
       "    }\n",
       "</style>\n",
       "<table border=\"1\" class=\"dataframe\">\n",
       "  <thead>\n",
       "    <tr style=\"text-align: right;\">\n",
       "      <th></th>\n",
       "      <th>i94cit</th>\n",
       "      <th>i94res</th>\n",
       "      <th>i94port</th>\n",
       "      <th>arrdate</th>\n",
       "      <th>i94mode</th>\n",
       "      <th>i94addr</th>\n",
       "      <th>depdate</th>\n",
       "      <th>i94bir</th>\n",
       "      <th>i94visa</th>\n",
       "      <th>biryear</th>\n",
       "      <th>gender</th>\n",
       "      <th>airline</th>\n",
       "      <th>admnum</th>\n",
       "      <th>fltno</th>\n",
       "      <th>visatype</th>\n",
       "    </tr>\n",
       "  </thead>\n",
       "  <tbody>\n",
       "    <tr>\n",
       "      <th>0</th>\n",
       "      <td>209</td>\n",
       "      <td>209</td>\n",
       "      <td>HHW</td>\n",
       "      <td>20566</td>\n",
       "      <td>1</td>\n",
       "      <td>HI</td>\n",
       "      <td>20573</td>\n",
       "      <td>61</td>\n",
       "      <td>2</td>\n",
       "      <td>1955</td>\n",
       "      <td>F</td>\n",
       "      <td>JL</td>\n",
       "      <td>56582674633</td>\n",
       "      <td>00782</td>\n",
       "      <td>WT</td>\n",
       "    </tr>\n",
       "    <tr>\n",
       "      <th>1</th>\n",
       "      <td>582</td>\n",
       "      <td>582</td>\n",
       "      <td>MCA</td>\n",
       "      <td>20567</td>\n",
       "      <td>1</td>\n",
       "      <td>TX</td>\n",
       "      <td>20568</td>\n",
       "      <td>26</td>\n",
       "      <td>2</td>\n",
       "      <td>1990</td>\n",
       "      <td>M</td>\n",
       "      <td>*GA</td>\n",
       "      <td>94361995930</td>\n",
       "      <td>XBLNG</td>\n",
       "      <td>B2</td>\n",
       "    </tr>\n",
       "    <tr>\n",
       "      <th>2</th>\n",
       "      <td>148</td>\n",
       "      <td>112</td>\n",
       "      <td>OGG</td>\n",
       "      <td>20551</td>\n",
       "      <td>1</td>\n",
       "      <td>FL</td>\n",
       "      <td>20571</td>\n",
       "      <td>76</td>\n",
       "      <td>2</td>\n",
       "      <td>1940</td>\n",
       "      <td>M</td>\n",
       "      <td>LH</td>\n",
       "      <td>55780468433</td>\n",
       "      <td>00464</td>\n",
       "      <td>WT</td>\n",
       "    </tr>\n",
       "    <tr>\n",
       "      <th>3</th>\n",
       "      <td>297</td>\n",
       "      <td>297</td>\n",
       "      <td>LOS</td>\n",
       "      <td>20572</td>\n",
       "      <td>1</td>\n",
       "      <td>CA</td>\n",
       "      <td>20581</td>\n",
       "      <td>25</td>\n",
       "      <td>2</td>\n",
       "      <td>1991</td>\n",
       "      <td>M</td>\n",
       "      <td>QR</td>\n",
       "      <td>94789696030</td>\n",
       "      <td>00739</td>\n",
       "      <td>B2</td>\n",
       "    </tr>\n",
       "    <tr>\n",
       "      <th>4</th>\n",
       "      <td>111</td>\n",
       "      <td>111</td>\n",
       "      <td>CHM</td>\n",
       "      <td>20550</td>\n",
       "      <td>3</td>\n",
       "      <td>NY</td>\n",
       "      <td>20553</td>\n",
       "      <td>19</td>\n",
       "      <td>2</td>\n",
       "      <td>1997</td>\n",
       "      <td>F</td>\n",
       "      <td>NaN</td>\n",
       "      <td>42322572633</td>\n",
       "      <td>LAND</td>\n",
       "      <td>WT</td>\n",
       "    </tr>\n",
       "  </tbody>\n",
       "</table>\n",
       "</div>"
      ],
      "text/plain": [
       "  i94cit i94res i94port arrdate i94mode i94addr depdate i94bir i94visa  \\\n",
       "0    209    209     HHW   20566       1      HI   20573     61       2   \n",
       "1    582    582     MCA   20567       1      TX   20568     26       2   \n",
       "2    148    112     OGG   20551       1      FL   20571     76       2   \n",
       "3    297    297     LOS   20572       1      CA   20581     25       2   \n",
       "4    111    111     CHM   20550       3      NY   20553     19       2   \n",
       "\n",
       "  biryear gender airline       admnum  fltno visatype  \n",
       "0    1955      F      JL  56582674633  00782       WT  \n",
       "1    1990      M     *GA  94361995930  XBLNG       B2  \n",
       "2    1940      M      LH  55780468433  00464       WT  \n",
       "3    1991      M      QR  94789696030  00739       B2  \n",
       "4    1997      F     NaN  42322572633   LAND       WT  "
      ]
     },
     "execution_count": 137,
     "metadata": {},
     "output_type": "execute_result"
    }
   ],
   "source": [
    "immigration_df1.head()"
   ]
  },
  {
   "cell_type": "markdown",
   "metadata": {
    "editable": true
   },
   "source": [
    "#### Immigration_df1: Changing codes in columns to meaningful names\n",
    "\n",
    "***Define***\n",
    "\n",
    "Updated columns will be,\n",
    "\n",
    "- i94mode = arrival_mode since this is how they arrived\n",
    "    - 1 = Air\n",
    "    - 2 = Sea\n",
    "    - 3 = Land\n",
    "    - 9 = Not Reported\n",
    "- i94visa = visit_purpose since this is the purpose of their visit\n",
    "    - 1 = Business\n",
    "    - 2 = Pleasure\n",
    "    - 3 = Student\n",
    "\n",
    "***Code***"
   ]
  },
  {
   "cell_type": "code",
   "execution_count": 138,
   "metadata": {
    "editable": true
   },
   "outputs": [],
   "source": [
    "# Mapping : Codes to descriptive\n",
    "i94mode = {'1' : 'Air', '2' : 'Sea', '3' : 'Land', '9' : 'Not reported'}\n",
    "immigration_df1['arrival_mode'] = immigration_df1['i94mode'].map(i94mode)\n",
    "\n",
    "i94visa = {'1' : 'Business', '2' : 'Pleasure', '3' : 'Student' }\n",
    "immigration_df1['visit_purpose'] = immigration_df1['i94visa'].map(i94visa)"
   ]
  },
  {
   "cell_type": "markdown",
   "metadata": {
    "editable": true
   },
   "source": [
    "***Test***"
   ]
  },
  {
   "cell_type": "code",
   "execution_count": 139,
   "metadata": {
    "editable": true
   },
   "outputs": [
    {
     "data": {
      "text/html": [
       "<div>\n",
       "<style scoped>\n",
       "    .dataframe tbody tr th:only-of-type {\n",
       "        vertical-align: middle;\n",
       "    }\n",
       "\n",
       "    .dataframe tbody tr th {\n",
       "        vertical-align: top;\n",
       "    }\n",
       "\n",
       "    .dataframe thead th {\n",
       "        text-align: right;\n",
       "    }\n",
       "</style>\n",
       "<table border=\"1\" class=\"dataframe\">\n",
       "  <thead>\n",
       "    <tr style=\"text-align: right;\">\n",
       "      <th></th>\n",
       "      <th>i94cit</th>\n",
       "      <th>i94res</th>\n",
       "      <th>i94port</th>\n",
       "      <th>arrdate</th>\n",
       "      <th>i94mode</th>\n",
       "      <th>i94addr</th>\n",
       "      <th>depdate</th>\n",
       "      <th>i94bir</th>\n",
       "      <th>i94visa</th>\n",
       "      <th>biryear</th>\n",
       "      <th>gender</th>\n",
       "      <th>airline</th>\n",
       "      <th>admnum</th>\n",
       "      <th>fltno</th>\n",
       "      <th>visatype</th>\n",
       "      <th>arrival_mode</th>\n",
       "      <th>visit_purpose</th>\n",
       "    </tr>\n",
       "  </thead>\n",
       "  <tbody>\n",
       "    <tr>\n",
       "      <th>0</th>\n",
       "      <td>209</td>\n",
       "      <td>209</td>\n",
       "      <td>HHW</td>\n",
       "      <td>20566</td>\n",
       "      <td>1</td>\n",
       "      <td>HI</td>\n",
       "      <td>20573</td>\n",
       "      <td>61</td>\n",
       "      <td>2</td>\n",
       "      <td>1955</td>\n",
       "      <td>F</td>\n",
       "      <td>JL</td>\n",
       "      <td>56582674633</td>\n",
       "      <td>00782</td>\n",
       "      <td>WT</td>\n",
       "      <td>Air</td>\n",
       "      <td>Pleasure</td>\n",
       "    </tr>\n",
       "    <tr>\n",
       "      <th>1</th>\n",
       "      <td>582</td>\n",
       "      <td>582</td>\n",
       "      <td>MCA</td>\n",
       "      <td>20567</td>\n",
       "      <td>1</td>\n",
       "      <td>TX</td>\n",
       "      <td>20568</td>\n",
       "      <td>26</td>\n",
       "      <td>2</td>\n",
       "      <td>1990</td>\n",
       "      <td>M</td>\n",
       "      <td>*GA</td>\n",
       "      <td>94361995930</td>\n",
       "      <td>XBLNG</td>\n",
       "      <td>B2</td>\n",
       "      <td>Air</td>\n",
       "      <td>Pleasure</td>\n",
       "    </tr>\n",
       "    <tr>\n",
       "      <th>2</th>\n",
       "      <td>148</td>\n",
       "      <td>112</td>\n",
       "      <td>OGG</td>\n",
       "      <td>20551</td>\n",
       "      <td>1</td>\n",
       "      <td>FL</td>\n",
       "      <td>20571</td>\n",
       "      <td>76</td>\n",
       "      <td>2</td>\n",
       "      <td>1940</td>\n",
       "      <td>M</td>\n",
       "      <td>LH</td>\n",
       "      <td>55780468433</td>\n",
       "      <td>00464</td>\n",
       "      <td>WT</td>\n",
       "      <td>Air</td>\n",
       "      <td>Pleasure</td>\n",
       "    </tr>\n",
       "    <tr>\n",
       "      <th>3</th>\n",
       "      <td>297</td>\n",
       "      <td>297</td>\n",
       "      <td>LOS</td>\n",
       "      <td>20572</td>\n",
       "      <td>1</td>\n",
       "      <td>CA</td>\n",
       "      <td>20581</td>\n",
       "      <td>25</td>\n",
       "      <td>2</td>\n",
       "      <td>1991</td>\n",
       "      <td>M</td>\n",
       "      <td>QR</td>\n",
       "      <td>94789696030</td>\n",
       "      <td>00739</td>\n",
       "      <td>B2</td>\n",
       "      <td>Air</td>\n",
       "      <td>Pleasure</td>\n",
       "    </tr>\n",
       "    <tr>\n",
       "      <th>4</th>\n",
       "      <td>111</td>\n",
       "      <td>111</td>\n",
       "      <td>CHM</td>\n",
       "      <td>20550</td>\n",
       "      <td>3</td>\n",
       "      <td>NY</td>\n",
       "      <td>20553</td>\n",
       "      <td>19</td>\n",
       "      <td>2</td>\n",
       "      <td>1997</td>\n",
       "      <td>F</td>\n",
       "      <td>NaN</td>\n",
       "      <td>42322572633</td>\n",
       "      <td>LAND</td>\n",
       "      <td>WT</td>\n",
       "      <td>Land</td>\n",
       "      <td>Pleasure</td>\n",
       "    </tr>\n",
       "  </tbody>\n",
       "</table>\n",
       "</div>"
      ],
      "text/plain": [
       "  i94cit i94res i94port arrdate i94mode i94addr depdate i94bir i94visa  \\\n",
       "0    209    209     HHW   20566       1      HI   20573     61       2   \n",
       "1    582    582     MCA   20567       1      TX   20568     26       2   \n",
       "2    148    112     OGG   20551       1      FL   20571     76       2   \n",
       "3    297    297     LOS   20572       1      CA   20581     25       2   \n",
       "4    111    111     CHM   20550       3      NY   20553     19       2   \n",
       "\n",
       "  biryear gender airline       admnum  fltno visatype arrival_mode  \\\n",
       "0    1955      F      JL  56582674633  00782       WT          Air   \n",
       "1    1990      M     *GA  94361995930  XBLNG       B2          Air   \n",
       "2    1940      M      LH  55780468433  00464       WT          Air   \n",
       "3    1991      M      QR  94789696030  00739       B2          Air   \n",
       "4    1997      F     NaN  42322572633   LAND       WT         Land   \n",
       "\n",
       "  visit_purpose  \n",
       "0      Pleasure  \n",
       "1      Pleasure  \n",
       "2      Pleasure  \n",
       "3      Pleasure  \n",
       "4      Pleasure  "
      ]
     },
     "execution_count": 139,
     "metadata": {},
     "output_type": "execute_result"
    }
   ],
   "source": [
    "immigration_df1.head()"
   ]
  },
  {
   "cell_type": "markdown",
   "metadata": {
    "editable": true
   },
   "source": [
    "#### Immigration_df1: Convert SAS date (arrdate & depdate) and dtaddto to date format\n",
    "\n",
    "***Define***\n",
    "\n",
    "Convert date formats\n",
    "\n",
    "- SAS encoded date (arrdate & depdate)\n",
    "- For column dtaddto from mmddyyy to yyyy-mm-dd\n",
    "\n",
    "***Code***"
   ]
  },
  {
   "cell_type": "code",
   "execution_count": 140,
   "metadata": {
    "editable": true
   },
   "outputs": [],
   "source": [
    "# Conversion of SAS encoded dates(arrdate & depdate)\n",
    "# Converting arrdate, depdate to int as we had converted that to string earlier\n",
    "from datetime import timedelta\n",
    "immigration_df1['arrival_dt'] = pd.datetime(1960, 1, 1) + pd.to_timedelta(immigration_df1.arrdate.astype(int), unit=\"D\")\n",
    "immigration_df1['departure_dt'] = pd.datetime(1960, 1, 1) + pd.to_timedelta(immigration_df1.depdate.astype(int), unit=\"D\")\n",
    "\n",
    "###immigration_df1['DaysinUS'] = immigration_df1[immigration_df1.departure_dt != '1960-01-01']['departure_dt'].sub(immigration_df1['arrival_dt'], axis=0).dt.days\n",
    "\n",
    "#1960-01-01 is a constant added in the top. Now change all dates 1960-01-01 to np.NaN as those are not real dates\n",
    "immigration_df1.loc[immigration_df1.departure_dt == '1960-01-01', 'departure_dt'] = np.NaN"
   ]
  },
  {
   "cell_type": "markdown",
   "metadata": {
    "editable": true
   },
   "source": [
    "***Test***"
   ]
  },
  {
   "cell_type": "code",
   "execution_count": 141,
   "metadata": {
    "editable": true
   },
   "outputs": [
    {
     "data": {
      "text/html": [
       "<div>\n",
       "<style scoped>\n",
       "    .dataframe tbody tr th:only-of-type {\n",
       "        vertical-align: middle;\n",
       "    }\n",
       "\n",
       "    .dataframe tbody tr th {\n",
       "        vertical-align: top;\n",
       "    }\n",
       "\n",
       "    .dataframe thead th {\n",
       "        text-align: right;\n",
       "    }\n",
       "</style>\n",
       "<table border=\"1\" class=\"dataframe\">\n",
       "  <thead>\n",
       "    <tr style=\"text-align: right;\">\n",
       "      <th></th>\n",
       "      <th>i94cit</th>\n",
       "      <th>i94res</th>\n",
       "      <th>i94port</th>\n",
       "      <th>arrdate</th>\n",
       "      <th>i94mode</th>\n",
       "      <th>i94addr</th>\n",
       "      <th>depdate</th>\n",
       "      <th>i94bir</th>\n",
       "      <th>i94visa</th>\n",
       "      <th>biryear</th>\n",
       "      <th>gender</th>\n",
       "      <th>airline</th>\n",
       "      <th>admnum</th>\n",
       "      <th>fltno</th>\n",
       "      <th>visatype</th>\n",
       "      <th>arrival_mode</th>\n",
       "      <th>visit_purpose</th>\n",
       "      <th>arrival_dt</th>\n",
       "      <th>departure_dt</th>\n",
       "    </tr>\n",
       "  </thead>\n",
       "  <tbody>\n",
       "    <tr>\n",
       "      <th>0</th>\n",
       "      <td>209</td>\n",
       "      <td>209</td>\n",
       "      <td>HHW</td>\n",
       "      <td>20566</td>\n",
       "      <td>1</td>\n",
       "      <td>HI</td>\n",
       "      <td>20573</td>\n",
       "      <td>61</td>\n",
       "      <td>2</td>\n",
       "      <td>1955</td>\n",
       "      <td>F</td>\n",
       "      <td>JL</td>\n",
       "      <td>56582674633</td>\n",
       "      <td>00782</td>\n",
       "      <td>WT</td>\n",
       "      <td>Air</td>\n",
       "      <td>Pleasure</td>\n",
       "      <td>2016-04-22</td>\n",
       "      <td>2016-04-29</td>\n",
       "    </tr>\n",
       "    <tr>\n",
       "      <th>1</th>\n",
       "      <td>582</td>\n",
       "      <td>582</td>\n",
       "      <td>MCA</td>\n",
       "      <td>20567</td>\n",
       "      <td>1</td>\n",
       "      <td>TX</td>\n",
       "      <td>20568</td>\n",
       "      <td>26</td>\n",
       "      <td>2</td>\n",
       "      <td>1990</td>\n",
       "      <td>M</td>\n",
       "      <td>*GA</td>\n",
       "      <td>94361995930</td>\n",
       "      <td>XBLNG</td>\n",
       "      <td>B2</td>\n",
       "      <td>Air</td>\n",
       "      <td>Pleasure</td>\n",
       "      <td>2016-04-23</td>\n",
       "      <td>2016-04-24</td>\n",
       "    </tr>\n",
       "    <tr>\n",
       "      <th>2</th>\n",
       "      <td>148</td>\n",
       "      <td>112</td>\n",
       "      <td>OGG</td>\n",
       "      <td>20551</td>\n",
       "      <td>1</td>\n",
       "      <td>FL</td>\n",
       "      <td>20571</td>\n",
       "      <td>76</td>\n",
       "      <td>2</td>\n",
       "      <td>1940</td>\n",
       "      <td>M</td>\n",
       "      <td>LH</td>\n",
       "      <td>55780468433</td>\n",
       "      <td>00464</td>\n",
       "      <td>WT</td>\n",
       "      <td>Air</td>\n",
       "      <td>Pleasure</td>\n",
       "      <td>2016-04-07</td>\n",
       "      <td>2016-04-27</td>\n",
       "    </tr>\n",
       "    <tr>\n",
       "      <th>3</th>\n",
       "      <td>297</td>\n",
       "      <td>297</td>\n",
       "      <td>LOS</td>\n",
       "      <td>20572</td>\n",
       "      <td>1</td>\n",
       "      <td>CA</td>\n",
       "      <td>20581</td>\n",
       "      <td>25</td>\n",
       "      <td>2</td>\n",
       "      <td>1991</td>\n",
       "      <td>M</td>\n",
       "      <td>QR</td>\n",
       "      <td>94789696030</td>\n",
       "      <td>00739</td>\n",
       "      <td>B2</td>\n",
       "      <td>Air</td>\n",
       "      <td>Pleasure</td>\n",
       "      <td>2016-04-28</td>\n",
       "      <td>2016-05-07</td>\n",
       "    </tr>\n",
       "    <tr>\n",
       "      <th>4</th>\n",
       "      <td>111</td>\n",
       "      <td>111</td>\n",
       "      <td>CHM</td>\n",
       "      <td>20550</td>\n",
       "      <td>3</td>\n",
       "      <td>NY</td>\n",
       "      <td>20553</td>\n",
       "      <td>19</td>\n",
       "      <td>2</td>\n",
       "      <td>1997</td>\n",
       "      <td>F</td>\n",
       "      <td>NaN</td>\n",
       "      <td>42322572633</td>\n",
       "      <td>LAND</td>\n",
       "      <td>WT</td>\n",
       "      <td>Land</td>\n",
       "      <td>Pleasure</td>\n",
       "      <td>2016-04-06</td>\n",
       "      <td>2016-04-09</td>\n",
       "    </tr>\n",
       "  </tbody>\n",
       "</table>\n",
       "</div>"
      ],
      "text/plain": [
       "  i94cit i94res i94port arrdate i94mode i94addr depdate i94bir i94visa  \\\n",
       "0    209    209     HHW   20566       1      HI   20573     61       2   \n",
       "1    582    582     MCA   20567       1      TX   20568     26       2   \n",
       "2    148    112     OGG   20551       1      FL   20571     76       2   \n",
       "3    297    297     LOS   20572       1      CA   20581     25       2   \n",
       "4    111    111     CHM   20550       3      NY   20553     19       2   \n",
       "\n",
       "  biryear gender airline       admnum  fltno visatype arrival_mode  \\\n",
       "0    1955      F      JL  56582674633  00782       WT          Air   \n",
       "1    1990      M     *GA  94361995930  XBLNG       B2          Air   \n",
       "2    1940      M      LH  55780468433  00464       WT          Air   \n",
       "3    1991      M      QR  94789696030  00739       B2          Air   \n",
       "4    1997      F     NaN  42322572633   LAND       WT         Land   \n",
       "\n",
       "  visit_purpose arrival_dt departure_dt  \n",
       "0      Pleasure 2016-04-22   2016-04-29  \n",
       "1      Pleasure 2016-04-23   2016-04-24  \n",
       "2      Pleasure 2016-04-07   2016-04-27  \n",
       "3      Pleasure 2016-04-28   2016-05-07  \n",
       "4      Pleasure 2016-04-06   2016-04-09  "
      ]
     },
     "execution_count": 141,
     "metadata": {},
     "output_type": "execute_result"
    }
   ],
   "source": [
    "immigration_df1.head()"
   ]
  },
  {
   "cell_type": "markdown",
   "metadata": {
    "editable": true
   },
   "source": [
    "#### Immigration_df1: Rename columns\n",
    "\n",
    "***Define***\n",
    "\n",
    "Rename columns (i94bir=age, i94cit=Cit, i94res=Res, i94port=PoE)\n",
    "\n",
    "***Code***"
   ]
  },
  {
   "cell_type": "code",
   "execution_count": 142,
   "metadata": {
    "editable": true
   },
   "outputs": [],
   "source": [
    "immigration_df1.rename(columns={\"i94bir\": \"age\", \"i94addr\":\"arrival_state\", \"i94cit\":\"CoC\", \"i94res\":\"CoR\", \"i94port\":\"PoE\"}, inplace=True)"
   ]
  },
  {
   "cell_type": "markdown",
   "metadata": {
    "editable": true
   },
   "source": [
    "***Test***"
   ]
  },
  {
   "cell_type": "code",
   "execution_count": 143,
   "metadata": {
    "editable": true
   },
   "outputs": [
    {
     "data": {
      "text/html": [
       "<div>\n",
       "<style scoped>\n",
       "    .dataframe tbody tr th:only-of-type {\n",
       "        vertical-align: middle;\n",
       "    }\n",
       "\n",
       "    .dataframe tbody tr th {\n",
       "        vertical-align: top;\n",
       "    }\n",
       "\n",
       "    .dataframe thead th {\n",
       "        text-align: right;\n",
       "    }\n",
       "</style>\n",
       "<table border=\"1\" class=\"dataframe\">\n",
       "  <thead>\n",
       "    <tr style=\"text-align: right;\">\n",
       "      <th></th>\n",
       "      <th>CoC</th>\n",
       "      <th>CoR</th>\n",
       "      <th>PoE</th>\n",
       "      <th>arrdate</th>\n",
       "      <th>i94mode</th>\n",
       "      <th>arrival_state</th>\n",
       "      <th>depdate</th>\n",
       "      <th>age</th>\n",
       "      <th>i94visa</th>\n",
       "      <th>biryear</th>\n",
       "      <th>gender</th>\n",
       "      <th>airline</th>\n",
       "      <th>admnum</th>\n",
       "      <th>fltno</th>\n",
       "      <th>visatype</th>\n",
       "      <th>arrival_mode</th>\n",
       "      <th>visit_purpose</th>\n",
       "      <th>arrival_dt</th>\n",
       "      <th>departure_dt</th>\n",
       "    </tr>\n",
       "  </thead>\n",
       "  <tbody>\n",
       "    <tr>\n",
       "      <th>0</th>\n",
       "      <td>209</td>\n",
       "      <td>209</td>\n",
       "      <td>HHW</td>\n",
       "      <td>20566</td>\n",
       "      <td>1</td>\n",
       "      <td>HI</td>\n",
       "      <td>20573</td>\n",
       "      <td>61</td>\n",
       "      <td>2</td>\n",
       "      <td>1955</td>\n",
       "      <td>F</td>\n",
       "      <td>JL</td>\n",
       "      <td>56582674633</td>\n",
       "      <td>00782</td>\n",
       "      <td>WT</td>\n",
       "      <td>Air</td>\n",
       "      <td>Pleasure</td>\n",
       "      <td>2016-04-22</td>\n",
       "      <td>2016-04-29</td>\n",
       "    </tr>\n",
       "    <tr>\n",
       "      <th>1</th>\n",
       "      <td>582</td>\n",
       "      <td>582</td>\n",
       "      <td>MCA</td>\n",
       "      <td>20567</td>\n",
       "      <td>1</td>\n",
       "      <td>TX</td>\n",
       "      <td>20568</td>\n",
       "      <td>26</td>\n",
       "      <td>2</td>\n",
       "      <td>1990</td>\n",
       "      <td>M</td>\n",
       "      <td>*GA</td>\n",
       "      <td>94361995930</td>\n",
       "      <td>XBLNG</td>\n",
       "      <td>B2</td>\n",
       "      <td>Air</td>\n",
       "      <td>Pleasure</td>\n",
       "      <td>2016-04-23</td>\n",
       "      <td>2016-04-24</td>\n",
       "    </tr>\n",
       "    <tr>\n",
       "      <th>2</th>\n",
       "      <td>148</td>\n",
       "      <td>112</td>\n",
       "      <td>OGG</td>\n",
       "      <td>20551</td>\n",
       "      <td>1</td>\n",
       "      <td>FL</td>\n",
       "      <td>20571</td>\n",
       "      <td>76</td>\n",
       "      <td>2</td>\n",
       "      <td>1940</td>\n",
       "      <td>M</td>\n",
       "      <td>LH</td>\n",
       "      <td>55780468433</td>\n",
       "      <td>00464</td>\n",
       "      <td>WT</td>\n",
       "      <td>Air</td>\n",
       "      <td>Pleasure</td>\n",
       "      <td>2016-04-07</td>\n",
       "      <td>2016-04-27</td>\n",
       "    </tr>\n",
       "    <tr>\n",
       "      <th>3</th>\n",
       "      <td>297</td>\n",
       "      <td>297</td>\n",
       "      <td>LOS</td>\n",
       "      <td>20572</td>\n",
       "      <td>1</td>\n",
       "      <td>CA</td>\n",
       "      <td>20581</td>\n",
       "      <td>25</td>\n",
       "      <td>2</td>\n",
       "      <td>1991</td>\n",
       "      <td>M</td>\n",
       "      <td>QR</td>\n",
       "      <td>94789696030</td>\n",
       "      <td>00739</td>\n",
       "      <td>B2</td>\n",
       "      <td>Air</td>\n",
       "      <td>Pleasure</td>\n",
       "      <td>2016-04-28</td>\n",
       "      <td>2016-05-07</td>\n",
       "    </tr>\n",
       "    <tr>\n",
       "      <th>4</th>\n",
       "      <td>111</td>\n",
       "      <td>111</td>\n",
       "      <td>CHM</td>\n",
       "      <td>20550</td>\n",
       "      <td>3</td>\n",
       "      <td>NY</td>\n",
       "      <td>20553</td>\n",
       "      <td>19</td>\n",
       "      <td>2</td>\n",
       "      <td>1997</td>\n",
       "      <td>F</td>\n",
       "      <td>NaN</td>\n",
       "      <td>42322572633</td>\n",
       "      <td>LAND</td>\n",
       "      <td>WT</td>\n",
       "      <td>Land</td>\n",
       "      <td>Pleasure</td>\n",
       "      <td>2016-04-06</td>\n",
       "      <td>2016-04-09</td>\n",
       "    </tr>\n",
       "  </tbody>\n",
       "</table>\n",
       "</div>"
      ],
      "text/plain": [
       "   CoC  CoR  PoE arrdate i94mode arrival_state depdate age i94visa biryear  \\\n",
       "0  209  209  HHW   20566       1            HI   20573  61       2    1955   \n",
       "1  582  582  MCA   20567       1            TX   20568  26       2    1990   \n",
       "2  148  112  OGG   20551       1            FL   20571  76       2    1940   \n",
       "3  297  297  LOS   20572       1            CA   20581  25       2    1991   \n",
       "4  111  111  CHM   20550       3            NY   20553  19       2    1997   \n",
       "\n",
       "  gender airline       admnum  fltno visatype arrival_mode visit_purpose  \\\n",
       "0      F      JL  56582674633  00782       WT          Air      Pleasure   \n",
       "1      M     *GA  94361995930  XBLNG       B2          Air      Pleasure   \n",
       "2      M      LH  55780468433  00464       WT          Air      Pleasure   \n",
       "3      M      QR  94789696030  00739       B2          Air      Pleasure   \n",
       "4      F     NaN  42322572633   LAND       WT         Land      Pleasure   \n",
       "\n",
       "  arrival_dt departure_dt  \n",
       "0 2016-04-22   2016-04-29  \n",
       "1 2016-04-23   2016-04-24  \n",
       "2 2016-04-07   2016-04-27  \n",
       "3 2016-04-28   2016-05-07  \n",
       "4 2016-04-06   2016-04-09  "
      ]
     },
     "execution_count": 143,
     "metadata": {},
     "output_type": "execute_result"
    }
   ],
   "source": [
    "immigration_df1.head()"
   ]
  },
  {
   "cell_type": "markdown",
   "metadata": {
    "editable": true
   },
   "source": [
    "#### Immigration_df1: Drop final set of columns\n",
    "\n",
    "***Define***\n",
    "\n",
    "Drop i94mode, i94visa, i94addr, arrdate, depdate\n",
    "\n",
    "***Code***"
   ]
  },
  {
   "cell_type": "code",
   "execution_count": 144,
   "metadata": {
    "editable": true
   },
   "outputs": [
    {
     "name": "stdout",
     "output_type": "stream",
     "text": [
      "['i94mode', 'i94visa', 'arrdate', 'depdate']\n"
     ]
    }
   ],
   "source": [
    "drop_cols2 = ['i94mode', 'i94visa',  'arrdate', 'depdate']\n",
    "immigration_df1.drop(drop_cols2, inplace = True, axis = 1)\n",
    "print(drop_cols2)"
   ]
  },
  {
   "cell_type": "markdown",
   "metadata": {
    "editable": true
   },
   "source": [
    "***Test***"
   ]
  },
  {
   "cell_type": "code",
   "execution_count": 145,
   "metadata": {
    "editable": true
   },
   "outputs": [
    {
     "name": "stdout",
     "output_type": "stream",
     "text": [
      "<class 'pandas.core.frame.DataFrame'>\n",
      "Int64Index: 792 entries, 0 to 999\n",
      "Data columns (total 15 columns):\n",
      "CoC              792 non-null object\n",
      "CoR              792 non-null object\n",
      "PoE              792 non-null object\n",
      "arrival_state    757 non-null object\n",
      "age              792 non-null object\n",
      "biryear          792 non-null object\n",
      "gender           792 non-null object\n",
      "airline          766 non-null object\n",
      "admnum           792 non-null object\n",
      "fltno            788 non-null object\n",
      "visatype         792 non-null object\n",
      "arrival_mode     792 non-null object\n",
      "visit_purpose    792 non-null object\n",
      "arrival_dt       792 non-null datetime64[ns]\n",
      "departure_dt     789 non-null datetime64[ns]\n",
      "dtypes: datetime64[ns](2), object(13)\n",
      "memory usage: 99.0+ KB\n"
     ]
    }
   ],
   "source": [
    "immigration_df1.info()"
   ]
  },
  {
   "cell_type": "code",
   "execution_count": 146,
   "metadata": {
    "editable": true
   },
   "outputs": [
    {
     "data": {
      "text/html": [
       "<div>\n",
       "<style scoped>\n",
       "    .dataframe tbody tr th:only-of-type {\n",
       "        vertical-align: middle;\n",
       "    }\n",
       "\n",
       "    .dataframe tbody tr th {\n",
       "        vertical-align: top;\n",
       "    }\n",
       "\n",
       "    .dataframe thead th {\n",
       "        text-align: right;\n",
       "    }\n",
       "</style>\n",
       "<table border=\"1\" class=\"dataframe\">\n",
       "  <thead>\n",
       "    <tr style=\"text-align: right;\">\n",
       "      <th></th>\n",
       "      <th>CoC</th>\n",
       "      <th>CoR</th>\n",
       "      <th>PoE</th>\n",
       "      <th>arrival_state</th>\n",
       "      <th>age</th>\n",
       "      <th>biryear</th>\n",
       "      <th>gender</th>\n",
       "      <th>airline</th>\n",
       "      <th>admnum</th>\n",
       "      <th>fltno</th>\n",
       "      <th>visatype</th>\n",
       "      <th>arrival_mode</th>\n",
       "      <th>visit_purpose</th>\n",
       "      <th>arrival_dt</th>\n",
       "      <th>departure_dt</th>\n",
       "    </tr>\n",
       "  </thead>\n",
       "  <tbody>\n",
       "    <tr>\n",
       "      <th>0</th>\n",
       "      <td>209</td>\n",
       "      <td>209</td>\n",
       "      <td>HHW</td>\n",
       "      <td>HI</td>\n",
       "      <td>61</td>\n",
       "      <td>1955</td>\n",
       "      <td>F</td>\n",
       "      <td>JL</td>\n",
       "      <td>56582674633</td>\n",
       "      <td>00782</td>\n",
       "      <td>WT</td>\n",
       "      <td>Air</td>\n",
       "      <td>Pleasure</td>\n",
       "      <td>2016-04-22</td>\n",
       "      <td>2016-04-29</td>\n",
       "    </tr>\n",
       "    <tr>\n",
       "      <th>1</th>\n",
       "      <td>582</td>\n",
       "      <td>582</td>\n",
       "      <td>MCA</td>\n",
       "      <td>TX</td>\n",
       "      <td>26</td>\n",
       "      <td>1990</td>\n",
       "      <td>M</td>\n",
       "      <td>*GA</td>\n",
       "      <td>94361995930</td>\n",
       "      <td>XBLNG</td>\n",
       "      <td>B2</td>\n",
       "      <td>Air</td>\n",
       "      <td>Pleasure</td>\n",
       "      <td>2016-04-23</td>\n",
       "      <td>2016-04-24</td>\n",
       "    </tr>\n",
       "    <tr>\n",
       "      <th>2</th>\n",
       "      <td>148</td>\n",
       "      <td>112</td>\n",
       "      <td>OGG</td>\n",
       "      <td>FL</td>\n",
       "      <td>76</td>\n",
       "      <td>1940</td>\n",
       "      <td>M</td>\n",
       "      <td>LH</td>\n",
       "      <td>55780468433</td>\n",
       "      <td>00464</td>\n",
       "      <td>WT</td>\n",
       "      <td>Air</td>\n",
       "      <td>Pleasure</td>\n",
       "      <td>2016-04-07</td>\n",
       "      <td>2016-04-27</td>\n",
       "    </tr>\n",
       "    <tr>\n",
       "      <th>3</th>\n",
       "      <td>297</td>\n",
       "      <td>297</td>\n",
       "      <td>LOS</td>\n",
       "      <td>CA</td>\n",
       "      <td>25</td>\n",
       "      <td>1991</td>\n",
       "      <td>M</td>\n",
       "      <td>QR</td>\n",
       "      <td>94789696030</td>\n",
       "      <td>00739</td>\n",
       "      <td>B2</td>\n",
       "      <td>Air</td>\n",
       "      <td>Pleasure</td>\n",
       "      <td>2016-04-28</td>\n",
       "      <td>2016-05-07</td>\n",
       "    </tr>\n",
       "    <tr>\n",
       "      <th>4</th>\n",
       "      <td>111</td>\n",
       "      <td>111</td>\n",
       "      <td>CHM</td>\n",
       "      <td>NY</td>\n",
       "      <td>19</td>\n",
       "      <td>1997</td>\n",
       "      <td>F</td>\n",
       "      <td>NaN</td>\n",
       "      <td>42322572633</td>\n",
       "      <td>LAND</td>\n",
       "      <td>WT</td>\n",
       "      <td>Land</td>\n",
       "      <td>Pleasure</td>\n",
       "      <td>2016-04-06</td>\n",
       "      <td>2016-04-09</td>\n",
       "    </tr>\n",
       "  </tbody>\n",
       "</table>\n",
       "</div>"
      ],
      "text/plain": [
       "   CoC  CoR  PoE arrival_state age biryear gender airline       admnum  fltno  \\\n",
       "0  209  209  HHW            HI  61    1955      F      JL  56582674633  00782   \n",
       "1  582  582  MCA            TX  26    1990      M     *GA  94361995930  XBLNG   \n",
       "2  148  112  OGG            FL  76    1940      M      LH  55780468433  00464   \n",
       "3  297  297  LOS            CA  25    1991      M      QR  94789696030  00739   \n",
       "4  111  111  CHM            NY  19    1997      F     NaN  42322572633   LAND   \n",
       "\n",
       "  visatype arrival_mode visit_purpose arrival_dt departure_dt  \n",
       "0       WT          Air      Pleasure 2016-04-22   2016-04-29  \n",
       "1       B2          Air      Pleasure 2016-04-23   2016-04-24  \n",
       "2       WT          Air      Pleasure 2016-04-07   2016-04-27  \n",
       "3       B2          Air      Pleasure 2016-04-28   2016-05-07  \n",
       "4       WT         Land      Pleasure 2016-04-06   2016-04-09  "
      ]
     },
     "execution_count": 146,
     "metadata": {},
     "output_type": "execute_result"
    }
   ],
   "source": [
    "immigration_df1.head()"
   ]
  },
  {
   "cell_type": "markdown",
   "metadata": {
    "editable": true
   },
   "source": [
    "#### PoE data cleaning steps\n",
    "\n",
    "***Quality***\n",
    "\n",
    "- PoE_df : Correct incorrect state code values\n",
    "- PoE_df : Remove invalid rows & ports outside US\n",
    "\n",
    "     a) state with null values\n",
    "     \n",
    "     b) Rows with strings \"no port\", \"collapsed\", \"unknown\", \"unidentified\"\n",
    "     \n",
    "     c) Ports outside U.S      \n",
    "     \n",
    "***Tideness***\n",
    "\n",
    "- PoE_df : Split one column into two (citystate) into (city, state)"
   ]
  },
  {
   "cell_type": "markdown",
   "metadata": {
    "editable": true
   },
   "source": [
    "#### PoE_df1: Split one column into to two columns\n",
    "\n",
    "***Define***\n",
    "\n",
    "Split column citystate into two separate columns city and state\n",
    "\n",
    "***Code***"
   ]
  },
  {
   "cell_type": "code",
   "execution_count": 147,
   "metadata": {
    "editable": true
   },
   "outputs": [],
   "source": [
    "PoE_df1[\"citystate\"] = PoE_df1[\"citystate\"].map(str.strip)\n",
    "\n",
    "PoE_df1[['city', 'state']] = PoE_df1['citystate'].str.rsplit(\",\",n=1, expand=True)\n",
    "PoE_df1 = strip_all_columns(PoE_df1)"
   ]
  },
  {
   "cell_type": "markdown",
   "metadata": {
    "editable": true
   },
   "source": [
    "***Test***"
   ]
  },
  {
   "cell_type": "code",
   "execution_count": 148,
   "metadata": {
    "editable": true
   },
   "outputs": [
    {
     "data": {
      "text/html": [
       "<div>\n",
       "<style scoped>\n",
       "    .dataframe tbody tr th:only-of-type {\n",
       "        vertical-align: middle;\n",
       "    }\n",
       "\n",
       "    .dataframe tbody tr th {\n",
       "        vertical-align: top;\n",
       "    }\n",
       "\n",
       "    .dataframe thead th {\n",
       "        text-align: right;\n",
       "    }\n",
       "</style>\n",
       "<table border=\"1\" class=\"dataframe\">\n",
       "  <thead>\n",
       "    <tr style=\"text-align: right;\">\n",
       "      <th></th>\n",
       "      <th>code</th>\n",
       "      <th>citystate</th>\n",
       "      <th>city</th>\n",
       "      <th>state</th>\n",
       "    </tr>\n",
       "  </thead>\n",
       "  <tbody>\n",
       "    <tr>\n",
       "      <th>0</th>\n",
       "      <td>ALC</td>\n",
       "      <td>ALCAN, AK</td>\n",
       "      <td>ALCAN</td>\n",
       "      <td>AK</td>\n",
       "    </tr>\n",
       "    <tr>\n",
       "      <th>1</th>\n",
       "      <td>ANC</td>\n",
       "      <td>ANCHORAGE, AK</td>\n",
       "      <td>ANCHORAGE</td>\n",
       "      <td>AK</td>\n",
       "    </tr>\n",
       "    <tr>\n",
       "      <th>2</th>\n",
       "      <td>BAR</td>\n",
       "      <td>BAKER AAF - BAKER ISLAND, AK</td>\n",
       "      <td>BAKER AAF - BAKER ISLAND</td>\n",
       "      <td>AK</td>\n",
       "    </tr>\n",
       "    <tr>\n",
       "      <th>3</th>\n",
       "      <td>DAC</td>\n",
       "      <td>DALTONS CACHE, AK</td>\n",
       "      <td>DALTONS CACHE</td>\n",
       "      <td>AK</td>\n",
       "    </tr>\n",
       "    <tr>\n",
       "      <th>4</th>\n",
       "      <td>PIZ</td>\n",
       "      <td>DEW STATION PT LAY DEW, AK</td>\n",
       "      <td>DEW STATION PT LAY DEW</td>\n",
       "      <td>AK</td>\n",
       "    </tr>\n",
       "  </tbody>\n",
       "</table>\n",
       "</div>"
      ],
      "text/plain": [
       "  code                     citystate                      city state\n",
       "0  ALC                     ALCAN, AK                     ALCAN    AK\n",
       "1  ANC                 ANCHORAGE, AK                 ANCHORAGE    AK\n",
       "2  BAR  BAKER AAF - BAKER ISLAND, AK  BAKER AAF - BAKER ISLAND    AK\n",
       "3  DAC             DALTONS CACHE, AK             DALTONS CACHE    AK\n",
       "4  PIZ    DEW STATION PT LAY DEW, AK    DEW STATION PT LAY DEW    AK"
      ]
     },
     "execution_count": 148,
     "metadata": {},
     "output_type": "execute_result"
    }
   ],
   "source": [
    "PoE_df1.head()"
   ]
  },
  {
   "cell_type": "markdown",
   "metadata": {
    "editable": true
   },
   "source": [
    "#### PoE_df1: Remove invalid rows and ports outside US\n",
    "\n",
    "***Define***\n",
    "\n",
    "Remove invalid rows\n",
    "\n",
    "- state with NULLs\n",
    "- rows with strings 'no port', 'collapsed', 'unknown', 'unidentified'\n",
    "- ports outside of US\n",
    "\n",
    "***Code***"
   ]
  },
  {
   "cell_type": "code",
   "execution_count": 149,
   "metadata": {
    "editable": true
   },
   "outputs": [],
   "source": [
    "PoE_df1 = strip_all_columns(PoE_df1).copy()"
   ]
  },
  {
   "cell_type": "code",
   "execution_count": 150,
   "metadata": {
    "editable": true
   },
   "outputs": [],
   "source": [
    "PoE_df1 = PoE_df1[PoE_df1.state.notnull()]\n",
    "\n",
    "cond1 = PoE_df1.city.str.lower().str.contains('collapsed')\n",
    "PoE_df1 = PoE_df1[~cond1]\n",
    "\n",
    "cond1 = PoE_df1.city.str.lower().str.contains('no port')\n",
    "PoE_df1 = PoE_df1[~cond1]\n",
    "\n",
    "cond1 = PoE_df1.city.str.lower().str.contains('unknown')\n",
    "PoE_df1 = PoE_df1[~cond1]\n",
    "\n",
    "cond1 = PoE_df1.city.str.lower().str.contains('identifi')\n",
    "PoE_df1 = PoE_df1[~cond1]\n",
    "\n",
    "PoE_df1 = PoE_df1[PoE_df1.state.str.len() == 2]"
   ]
  },
  {
   "cell_type": "markdown",
   "metadata": {
    "editable": true
   },
   "source": [
    "***Test***"
   ]
  },
  {
   "cell_type": "code",
   "execution_count": 151,
   "metadata": {
    "editable": true
   },
   "outputs": [
    {
     "name": "stdout",
     "output_type": "stream",
     "text": [
      "State is null = 0\n",
      "Port of entry collapsed = 0\n",
      "City has No port  = 0\n",
      "City has string unknown  = 0\n",
      "City has string unidentified  = 0\n",
      "US State code > CHAR(2) = 0\n",
      "Before : df_USPoE = 660\n",
      "After  : df_USPoE1= 509\n"
     ]
    }
   ],
   "source": [
    "print('State is null = {}'.format(PoE_df1[PoE_df1.state.isnull()].shape[0]))\n",
    "cond1 = PoE_df1.city.str.lower().str.contains('collapsed')\n",
    "print('Port of entry collapsed = {}'.format(PoE_df1[cond1].shape[0]))\n",
    "cond1 = PoE_df1.city.str.lower().str.contains('no port')\n",
    "print('City has No port  = {}'.format(PoE_df1[cond1].shape[0]))\n",
    "cond1 = PoE_df1.city.str.lower().str.contains('unknown')\n",
    "print('City has string unknown  = {}'.format(PoE_df1[cond1].shape[0]))\n",
    "cond1 = PoE_df1.city.str.lower().str.contains('identifi')\n",
    "print('City has string unidentified  = {}'.format(PoE_df1[cond1].shape[0]))\n",
    "print('US State code > CHAR(2) = {}'.format(PoE_df1[PoE_df1.state.str.len() > 2].shape[0]))\n",
    "\n",
    "print('Before : df_USPoE = {}'.format(PoE_df.shape[0]))\n",
    "print('After  : df_USPoE1= {}'.format(PoE_df1.shape[0]))"
   ]
  },
  {
   "cell_type": "code",
   "execution_count": 152,
   "metadata": {
    "editable": true
   },
   "outputs": [
    {
     "name": "stdout",
     "output_type": "stream",
     "text": [
      "Unique States =  55\n"
     ]
    }
   ],
   "source": [
    "print('Unique States = ',len(PoE_df1[PoE_df1.state.str.len() == 2]['state'].unique()))"
   ]
  },
  {
   "cell_type": "code",
   "execution_count": 153,
   "metadata": {
    "editable": true
   },
   "outputs": [
    {
     "name": "stdout",
     "output_type": "stream",
     "text": [
      "All US states & territories = 509\n",
      "Total PoE in US = 55\n",
      "Non US entries = {'DC', 'LA', 'MS', 'IL', 'KS', 'AZ', 'VI', 'IA', 'OH', 'UT', 'AL', 'NC', 'AK', 'CT', 'MX', 'WA', 'MA', 'NV', 'MI', 'ID', 'WY', 'FL', 'AR', 'SD', 'CA', 'PA', 'OK', 'IN', 'NJ', 'RI', 'WV', 'NE', 'OR', 'NY', 'DE', 'GA', 'SC', 'CO', 'HI', 'MT', 'MN', 'ND', 'GU', 'NH', 'TX', 'KY', 'ME', 'MD', 'MO', 'PR', 'NM', 'WI', 'VT', 'TN', 'VA'}\n"
     ]
    }
   ],
   "source": [
    "df1 = PoE_df1[['code', 'state']]\n",
    "lst = set(df1.state.unique()) - set(df1.code.unique())\n",
    "\n",
    "print('All US states & territories = {}'.format(df1.shape[0]))\n",
    "print('Total PoE in US = {}'.format(PoE_df1.state.unique().shape[0]))\n",
    "print('Non US entries = {}'.format(lst))\n",
    "#print('States which are not in df_USPoE1 = ',difference(PoE_df1.code.tolist(), PoE_df1.state.tolist()))"
   ]
  },
  {
   "cell_type": "code",
   "execution_count": 154,
   "metadata": {
    "editable": true
   },
   "outputs": [
    {
     "data": {
      "text/html": [
       "<div>\n",
       "<style scoped>\n",
       "    .dataframe tbody tr th:only-of-type {\n",
       "        vertical-align: middle;\n",
       "    }\n",
       "\n",
       "    .dataframe tbody tr th {\n",
       "        vertical-align: top;\n",
       "    }\n",
       "\n",
       "    .dataframe thead th {\n",
       "        text-align: right;\n",
       "    }\n",
       "</style>\n",
       "<table border=\"1\" class=\"dataframe\">\n",
       "  <thead>\n",
       "    <tr style=\"text-align: right;\">\n",
       "      <th></th>\n",
       "      <th>code</th>\n",
       "      <th>citystate</th>\n",
       "      <th>city</th>\n",
       "      <th>state</th>\n",
       "    </tr>\n",
       "  </thead>\n",
       "  <tbody>\n",
       "    <tr>\n",
       "      <th>0</th>\n",
       "      <td>ALC</td>\n",
       "      <td>ALCAN, AK</td>\n",
       "      <td>ALCAN</td>\n",
       "      <td>AK</td>\n",
       "    </tr>\n",
       "    <tr>\n",
       "      <th>1</th>\n",
       "      <td>ANC</td>\n",
       "      <td>ANCHORAGE, AK</td>\n",
       "      <td>ANCHORAGE</td>\n",
       "      <td>AK</td>\n",
       "    </tr>\n",
       "    <tr>\n",
       "      <th>2</th>\n",
       "      <td>BAR</td>\n",
       "      <td>BAKER AAF - BAKER ISLAND, AK</td>\n",
       "      <td>BAKER AAF - BAKER ISLAND</td>\n",
       "      <td>AK</td>\n",
       "    </tr>\n",
       "    <tr>\n",
       "      <th>3</th>\n",
       "      <td>DAC</td>\n",
       "      <td>DALTONS CACHE, AK</td>\n",
       "      <td>DALTONS CACHE</td>\n",
       "      <td>AK</td>\n",
       "    </tr>\n",
       "    <tr>\n",
       "      <th>4</th>\n",
       "      <td>PIZ</td>\n",
       "      <td>DEW STATION PT LAY DEW, AK</td>\n",
       "      <td>DEW STATION PT LAY DEW</td>\n",
       "      <td>AK</td>\n",
       "    </tr>\n",
       "  </tbody>\n",
       "</table>\n",
       "</div>"
      ],
      "text/plain": [
       "  code                     citystate                      city state\n",
       "0  ALC                     ALCAN, AK                     ALCAN    AK\n",
       "1  ANC                 ANCHORAGE, AK                 ANCHORAGE    AK\n",
       "2  BAR  BAKER AAF - BAKER ISLAND, AK  BAKER AAF - BAKER ISLAND    AK\n",
       "3  DAC             DALTONS CACHE, AK             DALTONS CACHE    AK\n",
       "4  PIZ    DEW STATION PT LAY DEW, AK    DEW STATION PT LAY DEW    AK"
      ]
     },
     "execution_count": 154,
     "metadata": {},
     "output_type": "execute_result"
    }
   ],
   "source": [
    "PoE_df1.head()"
   ]
  },
  {
   "cell_type": "code",
   "execution_count": 155,
   "metadata": {
    "editable": true
   },
   "outputs": [
    {
     "data": {
      "image/png": "[encoded data removed]",
      "text/plain": [
       "<matplotlib.figure.Figure at 0x7f4660a30c50>"
      ]
     },
     "metadata": {},
     "output_type": "display_data"
    }
   ],
   "source": [
    "# lets visualize % missing values per immigration feature\n",
    "visualize_missing_values(PoE_df1)"
   ]
  },
  {
   "cell_type": "markdown",
   "metadata": {
    "editable": true
   },
   "source": [
    "#### Airport Code data cleaning steps\n",
    "\n",
    "#### Quality : airport_codes_df\n",
    "\n",
    "- Keeping only US International airports serving passenger flights with immigration.\n",
    "    - Keep only US Airports\n",
    "    - Eliminate rows with NULL IATA codes\n",
    "    - Keep only airport types small_airport, medium_airport, and large_airport\n",
    "    - Remove rows having 'Duplicate' in airport name\n",
    "    \n",
    "#### Tidiness\n",
    "\n",
    "- Structure changes to the airport dateframe\n",
    "    - Drop unused columns continent, gps_code, ident\n",
    "    - Split geo-coordinates into seperate columns\n",
    "    - Extract region code from iso_region"
   ]
  },
  {
   "cell_type": "markdown",
   "metadata": {
    "editable": true
   },
   "source": [
    "***airport_codes_df1: Only keeping US airports serving passenger flights with immigration.***\n",
    "\n",
    "***Define***\n",
    "\n",
    "Process to eliminate Non-US airports from the dateframe.\n",
    "\n",
    "- Keep only US airports\n",
    "- Correct wrong continent value\n",
    "- Eliminate rows which have NULL iata_code\n",
    "- Keep only airport type small_airport, medium_airport and large_airport\n",
    "- Remove rows with 'Duplicate' in airport name\n",
    "\n",
    "Structure changes to the airport code dataframe\n",
    "\n",
    "- Drop unused columns continent, gps_code and ident\n",
    "- Split coordinates into seperate columns\n",
    "- Extract region coded from iso_region\n",
    "\n",
    "***Code***"
   ]
  },
  {
   "cell_type": "code",
   "execution_count": 156,
   "metadata": {
    "editable": true
   },
   "outputs": [
    {
     "name": "stdout",
     "output_type": "stream",
     "text": [
      "CPU times: user 40.5 ms, sys: 0 ns, total: 40.5 ms\n",
      "Wall time: 40.9 ms\n"
     ]
    }
   ],
   "source": [
    "%%time\n",
    "# Dropping columns gps_code, ident\n",
    "drop_cols = ['continent', 'gps_code', 'ident']\n",
    "airport_codes_df1.drop(drop_cols, inplace = True, axis = 1)\n",
    "\n",
    "#Keep only US Airports\n",
    "airport_codes_df1 = airport_codes_df1[airport_codes_df1.iso_country =='US'].copy()\n",
    "\n",
    "# Eliminate rows which has iata code as null\n",
    "airport_codes_df1 = airport_codes_df1[~airport_codes_df1.iata_code.isnull()].copy()\n",
    "\n",
    "# Keep only airport which is of type small_airport, medium_airport & large_airport\n",
    "temp = ['small_airport', 'medium_airport', 'large_airport']\n",
    "airport_codes_df1 = airport_codes_df1[airport_codes_df1['type'].isin(temp)].copy()\n",
    "\n",
    "# Split coordinates into separate columns\n",
    "airport_codes_df1[['longitude','latitude']] = airport_codes_df1.coordinates.str.split(\", \",expand=True)\n",
    "\n",
    "# Extract state code from iso_region\n",
    "airport_codes_df1['state'] = airport_codes_df1.iso_region.str.slice(start=3)\n",
    "    \n",
    "# Removing rows having 'Duplicate' in airport names\n",
    "airport_codes_df1 = airport_codes_df1[~airport_codes_df1.name.str.contains('uplicate')]"
   ]
  },
  {
   "cell_type": "markdown",
   "metadata": {
    "editable": true
   },
   "source": [
    "***Test***"
   ]
  },
  {
   "cell_type": "code",
   "execution_count": 157,
   "metadata": {
    "editable": true
   },
   "outputs": [
    {
     "name": "stdout",
     "output_type": "stream",
     "text": [
      "Before :  55075\n",
      "After  :  1865\n"
     ]
    }
   ],
   "source": [
    "print('Before : ',airport_codes_df.shape[0])\n",
    "print('After  : ',airport_codes_df1.shape[0])"
   ]
  },
  {
   "cell_type": "code",
   "execution_count": 158,
   "metadata": {
    "editable": true
   },
   "outputs": [
    {
     "name": "stdout",
     "output_type": "stream",
     "text": [
      "Total states columns that has null values =  0\n",
      "Total states has string length = 2 :  1865\n"
     ]
    }
   ],
   "source": [
    "# Checks, regions are states\n",
    "print('Total states columns that has null values = ',airport_codes_df1[airport_codes_df1.state.isnull()].shape[0])\n",
    "print('Total states has string length = 2 : ',airport_codes_df1[airport_codes_df1.state.str.len() == 2].shape[0])"
   ]
  },
  {
   "cell_type": "code",
   "execution_count": 159,
   "metadata": {
    "editable": true
   },
   "outputs": [
    {
     "data": {
      "text/html": [
       "<div>\n",
       "<style scoped>\n",
       "    .dataframe tbody tr th:only-of-type {\n",
       "        vertical-align: middle;\n",
       "    }\n",
       "\n",
       "    .dataframe tbody tr th {\n",
       "        vertical-align: top;\n",
       "    }\n",
       "\n",
       "    .dataframe thead th {\n",
       "        text-align: right;\n",
       "    }\n",
       "</style>\n",
       "<table border=\"1\" class=\"dataframe\">\n",
       "  <thead>\n",
       "    <tr style=\"text-align: right;\">\n",
       "      <th></th>\n",
       "      <th>type</th>\n",
       "      <th>name</th>\n",
       "      <th>elevation_ft</th>\n",
       "      <th>iso_country</th>\n",
       "      <th>iso_region</th>\n",
       "      <th>municipality</th>\n",
       "      <th>iata_code</th>\n",
       "      <th>local_code</th>\n",
       "      <th>coordinates</th>\n",
       "      <th>longitude</th>\n",
       "      <th>latitude</th>\n",
       "      <th>state</th>\n",
       "    </tr>\n",
       "  </thead>\n",
       "  <tbody>\n",
       "    <tr>\n",
       "      <th>440</th>\n",
       "      <td>small_airport</td>\n",
       "      <td>Ocean Reef Club Airport</td>\n",
       "      <td>8.0</td>\n",
       "      <td>US</td>\n",
       "      <td>US-FL</td>\n",
       "      <td>Key Largo</td>\n",
       "      <td>OCA</td>\n",
       "      <td>07FA</td>\n",
       "      <td>-80.274803161621, 25.325399398804</td>\n",
       "      <td>-80.274803161621</td>\n",
       "      <td>25.325399398804</td>\n",
       "      <td>FL</td>\n",
       "    </tr>\n",
       "    <tr>\n",
       "      <th>594</th>\n",
       "      <td>small_airport</td>\n",
       "      <td>Pilot Station Airport</td>\n",
       "      <td>305.0</td>\n",
       "      <td>US</td>\n",
       "      <td>US-AK</td>\n",
       "      <td>Pilot Station</td>\n",
       "      <td>PQS</td>\n",
       "      <td>0AK</td>\n",
       "      <td>-162.899994, 61.934601</td>\n",
       "      <td>-162.899994</td>\n",
       "      <td>61.934601</td>\n",
       "      <td>AK</td>\n",
       "    </tr>\n",
       "    <tr>\n",
       "      <th>673</th>\n",
       "      <td>small_airport</td>\n",
       "      <td>Crested Butte Airpark</td>\n",
       "      <td>8980.0</td>\n",
       "      <td>US</td>\n",
       "      <td>US-CO</td>\n",
       "      <td>Crested Butte</td>\n",
       "      <td>CSE</td>\n",
       "      <td>0CO2</td>\n",
       "      <td>-106.928341, 38.851918</td>\n",
       "      <td>-106.928341</td>\n",
       "      <td>38.851918</td>\n",
       "      <td>CO</td>\n",
       "    </tr>\n",
       "    <tr>\n",
       "      <th>1088</th>\n",
       "      <td>small_airport</td>\n",
       "      <td>LBJ Ranch Airport</td>\n",
       "      <td>1515.0</td>\n",
       "      <td>US</td>\n",
       "      <td>US-TX</td>\n",
       "      <td>Johnson City</td>\n",
       "      <td>JCY</td>\n",
       "      <td>0TE7</td>\n",
       "      <td>-98.62249755859999, 30.251800537100003</td>\n",
       "      <td>-98.62249755859999</td>\n",
       "      <td>30.251800537100003</td>\n",
       "      <td>TX</td>\n",
       "    </tr>\n",
       "    <tr>\n",
       "      <th>1402</th>\n",
       "      <td>small_airport</td>\n",
       "      <td>Metropolitan Airport</td>\n",
       "      <td>418.0</td>\n",
       "      <td>US</td>\n",
       "      <td>US-MA</td>\n",
       "      <td>Palmer</td>\n",
       "      <td>PMX</td>\n",
       "      <td>13MA</td>\n",
       "      <td>-72.31140136719999, 42.223300933800004</td>\n",
       "      <td>-72.31140136719999</td>\n",
       "      <td>42.223300933800004</td>\n",
       "      <td>MA</td>\n",
       "    </tr>\n",
       "  </tbody>\n",
       "</table>\n",
       "</div>"
      ],
      "text/plain": [
       "               type                     name  elevation_ft iso_country  \\\n",
       "440   small_airport  Ocean Reef Club Airport           8.0          US   \n",
       "594   small_airport    Pilot Station Airport         305.0          US   \n",
       "673   small_airport    Crested Butte Airpark        8980.0          US   \n",
       "1088  small_airport        LBJ Ranch Airport        1515.0          US   \n",
       "1402  small_airport     Metropolitan Airport         418.0          US   \n",
       "\n",
       "     iso_region   municipality iata_code local_code  \\\n",
       "440       US-FL      Key Largo       OCA       07FA   \n",
       "594       US-AK  Pilot Station       PQS        0AK   \n",
       "673       US-CO  Crested Butte       CSE       0CO2   \n",
       "1088      US-TX   Johnson City       JCY       0TE7   \n",
       "1402      US-MA         Palmer       PMX       13MA   \n",
       "\n",
       "                                 coordinates           longitude  \\\n",
       "440        -80.274803161621, 25.325399398804    -80.274803161621   \n",
       "594                   -162.899994, 61.934601         -162.899994   \n",
       "673                   -106.928341, 38.851918         -106.928341   \n",
       "1088  -98.62249755859999, 30.251800537100003  -98.62249755859999   \n",
       "1402  -72.31140136719999, 42.223300933800004  -72.31140136719999   \n",
       "\n",
       "                latitude state  \n",
       "440      25.325399398804    FL  \n",
       "594            61.934601    AK  \n",
       "673            38.851918    CO  \n",
       "1088  30.251800537100003    TX  \n",
       "1402  42.223300933800004    MA  "
      ]
     },
     "execution_count": 159,
     "metadata": {},
     "output_type": "execute_result"
    }
   ],
   "source": [
    "airport_codes_df1.head()"
   ]
  },
  {
   "cell_type": "code",
   "execution_count": 160,
   "metadata": {
    "editable": true
   },
   "outputs": [
    {
     "data": {
      "image/png": "[encoded data removed]",
      "text/plain": [
       "<matplotlib.figure.Figure at 0x7f465bf06278>"
      ]
     },
     "metadata": {},
     "output_type": "display_data"
    }
   ],
   "source": [
    "# lets visualize % missing values per immigration feature\n",
    "visualize_missing_values(airport_codes_df1)"
   ]
  },
  {
   "cell_type": "markdown",
   "metadata": {
    "editable": true
   },
   "source": [
    "#### US Demographics data cleaning steps\n",
    "\n",
    "***Quality***\n",
    "- demographics_df : Updating city names as some don't match up with df_uszips\n",
    "- demographics_df : Deleting rows which has Male & Female population as 0    \n",
    "     \n",
    "***Tideness***\n",
    "\n",
    "- demographics_df : Below structure changes will be carried out in demographic dataframe\n",
    "     a) Convert floats to ints for columns 'Male Population', 'Female Population', 'Number of Veterans', 'Foreign-born', 'Total Population', 'Count'\n",
    "     b) Unmelting the race rows values to separate columns   "
   ]
  },
  {
   "cell_type": "markdown",
   "metadata": {
    "editable": true
   },
   "source": [
    "#### Quality : demographics_df\n",
    "\n",
    "- Did find any quality issues\n",
    "    \n",
    "#### Tidiness\n",
    "\n",
    "- Structure changes to the demographics dateframe\n",
    "    - Convert floats to ints for columns Male Population, Female Population, Number of Veterans, Foreign-born, Total Population, Count\n",
    "    - Split main demographics table into 2 tables\n",
    "        - population\n",
    "        - race\n",
    "    - unmelting to convert Race rows to columns"
   ]
  },
  {
   "cell_type": "code",
   "execution_count": 161,
   "metadata": {
    "editable": true
   },
   "outputs": [],
   "source": [
    "# Convert floats to ints\n",
    "cols_to_convert_float_to_int = ['Male Population', 'Female Population', 'Total Population', 'Number of Veterans', 'Foreign-born', 'Count']\n",
    "\n",
    "for col in cols_to_convert_float_to_int:\n",
    "    demographics_df1[col] = demographics_df1[col].replace(np.nan, 0)\n",
    "    demographics_df1[col] = demographics_df1[col].astype(int)\n",
    "\n",
    "# Split based on Population\n",
    "demog_df = demographics_df1[['State', 'City', 'Median Age', 'State Code', 'Male Population', 'Female Population', 'Total Population', 'Number of Veterans', 'Foreign-born']]\n",
    "demog_df = demog_df.drop_duplicates()    \n",
    "\n",
    "# Split based on Race\n",
    "race_df = demographics_df1[['State', 'City', 'Race', 'Count']].copy()\n",
    "\n",
    "# Summing up the duplicates\n",
    "race_df = race_df.groupby(['State', 'City', 'Race']).sum().reset_index().copy()\n",
    "\n",
    "# Unmelting to converts Race rows to columns\n",
    "race_df = race_df.set_index(['State','City', 'Race']).Count.unstack().reset_index()\n",
    "race_df.columns.name = None\n",
    "race_df[race_df.State =='Alabama'].head()\n",
    "\n",
    "# Convert floats to ints\n",
    "cols_to_convert_float_to_int = ['American Indian and Alaska Native','Asian', 'Black or African-American', 'Hispanic or Latino', 'White']\n",
    "\n",
    "for col in cols_to_convert_float_to_int:\n",
    "    race_df[col] = race_df[col].replace(np.nan, 0)\n",
    "    race_df[col] = race_df[col].astype(int)\n",
    "    \n",
    "# Rename column names\n",
    "race_df.rename(columns={\"American Indian and Alaska Native\": \"American_Indian_and_Alaska_Native\"\n",
    "                        , \"Black or African-American\":\"Black_or_African_American\"\n",
    "                        , \"Hispanic or Latino\":\"Hispanic_or_Latino\"}, inplace=True)\n",
    "\n",
    "demog_df.rename(columns={\"Median Age\": \"Median_Age\" , \"State Code\":\"State_Code\", \"Male Population\":\"Male_Population\"\n",
    "                         , \"Female Population\":\"Female_Population\", \"Total Population\":\"Total_Population\" \n",
    "                         , \"Number of Veterans\":\"Number_of_Veterans\", \"Foreign-born\" : \"Foreign_born\"}, inplace=True)"
   ]
  },
  {
   "cell_type": "markdown",
   "metadata": {
    "editable": true
   },
   "source": [
    "***Test***"
   ]
  },
  {
   "cell_type": "code",
   "execution_count": 162,
   "metadata": {
    "editable": true
   },
   "outputs": [
    {
     "name": "stdout",
     "output_type": "stream",
     "text": [
      "race_df =  596\n"
     ]
    }
   ],
   "source": [
    "print('race_df = ',race_df.shape[0])"
   ]
  },
  {
   "cell_type": "code",
   "execution_count": 163,
   "metadata": {
    "editable": true
   },
   "outputs": [
    {
     "data": {
      "text/html": [
       "<div>\n",
       "<style scoped>\n",
       "    .dataframe tbody tr th:only-of-type {\n",
       "        vertical-align: middle;\n",
       "    }\n",
       "\n",
       "    .dataframe tbody tr th {\n",
       "        vertical-align: top;\n",
       "    }\n",
       "\n",
       "    .dataframe thead th {\n",
       "        text-align: right;\n",
       "    }\n",
       "</style>\n",
       "<table border=\"1\" class=\"dataframe\">\n",
       "  <thead>\n",
       "    <tr style=\"text-align: right;\">\n",
       "      <th></th>\n",
       "      <th>State</th>\n",
       "      <th>City</th>\n",
       "      <th>American_Indian_and_Alaska_Native</th>\n",
       "      <th>Asian</th>\n",
       "      <th>Black_or_African_American</th>\n",
       "      <th>Hispanic_or_Latino</th>\n",
       "      <th>White</th>\n",
       "    </tr>\n",
       "  </thead>\n",
       "  <tbody>\n",
       "    <tr>\n",
       "      <th>0</th>\n",
       "      <td>Alabama</td>\n",
       "      <td>Birmingham</td>\n",
       "      <td>1319</td>\n",
       "      <td>1500</td>\n",
       "      <td>157985</td>\n",
       "      <td>8940</td>\n",
       "      <td>51728</td>\n",
       "    </tr>\n",
       "    <tr>\n",
       "      <th>1</th>\n",
       "      <td>Alabama</td>\n",
       "      <td>Dothan</td>\n",
       "      <td>656</td>\n",
       "      <td>1175</td>\n",
       "      <td>23243</td>\n",
       "      <td>1704</td>\n",
       "      <td>43516</td>\n",
       "    </tr>\n",
       "    <tr>\n",
       "      <th>2</th>\n",
       "      <td>Alabama</td>\n",
       "      <td>Hoover</td>\n",
       "      <td>0</td>\n",
       "      <td>4759</td>\n",
       "      <td>18191</td>\n",
       "      <td>3430</td>\n",
       "      <td>61869</td>\n",
       "    </tr>\n",
       "    <tr>\n",
       "      <th>3</th>\n",
       "      <td>Alabama</td>\n",
       "      <td>Huntsville</td>\n",
       "      <td>1755</td>\n",
       "      <td>6566</td>\n",
       "      <td>61561</td>\n",
       "      <td>10887</td>\n",
       "      <td>121904</td>\n",
       "    </tr>\n",
       "    <tr>\n",
       "      <th>4</th>\n",
       "      <td>Alabama</td>\n",
       "      <td>Mobile</td>\n",
       "      <td>2816</td>\n",
       "      <td>5518</td>\n",
       "      <td>96397</td>\n",
       "      <td>5229</td>\n",
       "      <td>93755</td>\n",
       "    </tr>\n",
       "  </tbody>\n",
       "</table>\n",
       "</div>"
      ],
      "text/plain": [
       "     State        City  American_Indian_and_Alaska_Native  Asian  \\\n",
       "0  Alabama  Birmingham                               1319   1500   \n",
       "1  Alabama      Dothan                                656   1175   \n",
       "2  Alabama      Hoover                                  0   4759   \n",
       "3  Alabama  Huntsville                               1755   6566   \n",
       "4  Alabama      Mobile                               2816   5518   \n",
       "\n",
       "   Black_or_African_American  Hispanic_or_Latino   White  \n",
       "0                     157985                8940   51728  \n",
       "1                      23243                1704   43516  \n",
       "2                      18191                3430   61869  \n",
       "3                      61561               10887  121904  \n",
       "4                      96397                5229   93755  "
      ]
     },
     "execution_count": 163,
     "metadata": {},
     "output_type": "execute_result"
    }
   ],
   "source": [
    "race_df.head()"
   ]
  },
  {
   "cell_type": "code",
   "execution_count": 164,
   "metadata": {
    "editable": true
   },
   "outputs": [
    {
     "data": {
      "image/png": "[encoded data removed]",
      "text/plain": [
       "<matplotlib.figure.Figure at 0x7f465ba5dda0>"
      ]
     },
     "metadata": {},
     "output_type": "display_data"
    }
   ],
   "source": [
    "# lets visualize % missing values per immigration feature\n",
    "visualize_missing_values(race_df)"
   ]
  },
  {
   "cell_type": "code",
   "execution_count": 165,
   "metadata": {
    "editable": true
   },
   "outputs": [
    {
     "name": "stdout",
     "output_type": "stream",
     "text": [
      "demog_df =  596\n"
     ]
    }
   ],
   "source": [
    "print('demog_df = ',demog_df.shape[0])"
   ]
  },
  {
   "cell_type": "code",
   "execution_count": 166,
   "metadata": {
    "editable": true
   },
   "outputs": [
    {
     "data": {
      "text/html": [
       "<div>\n",
       "<style scoped>\n",
       "    .dataframe tbody tr th:only-of-type {\n",
       "        vertical-align: middle;\n",
       "    }\n",
       "\n",
       "    .dataframe tbody tr th {\n",
       "        vertical-align: top;\n",
       "    }\n",
       "\n",
       "    .dataframe thead th {\n",
       "        text-align: right;\n",
       "    }\n",
       "</style>\n",
       "<table border=\"1\" class=\"dataframe\">\n",
       "  <thead>\n",
       "    <tr style=\"text-align: right;\">\n",
       "      <th></th>\n",
       "      <th>State</th>\n",
       "      <th>City</th>\n",
       "      <th>Median_Age</th>\n",
       "      <th>State_Code</th>\n",
       "      <th>Male_Population</th>\n",
       "      <th>Female_Population</th>\n",
       "      <th>Total_Population</th>\n",
       "      <th>Number_of_Veterans</th>\n",
       "      <th>Foreign_born</th>\n",
       "    </tr>\n",
       "  </thead>\n",
       "  <tbody>\n",
       "    <tr>\n",
       "      <th>0</th>\n",
       "      <td>Maryland</td>\n",
       "      <td>Silver Spring</td>\n",
       "      <td>33.8</td>\n",
       "      <td>MD</td>\n",
       "      <td>40601</td>\n",
       "      <td>41862</td>\n",
       "      <td>82463</td>\n",
       "      <td>1562</td>\n",
       "      <td>30908</td>\n",
       "    </tr>\n",
       "    <tr>\n",
       "      <th>1</th>\n",
       "      <td>Massachusetts</td>\n",
       "      <td>Quincy</td>\n",
       "      <td>41.0</td>\n",
       "      <td>MA</td>\n",
       "      <td>44129</td>\n",
       "      <td>49500</td>\n",
       "      <td>93629</td>\n",
       "      <td>4147</td>\n",
       "      <td>32935</td>\n",
       "    </tr>\n",
       "    <tr>\n",
       "      <th>2</th>\n",
       "      <td>Alabama</td>\n",
       "      <td>Hoover</td>\n",
       "      <td>38.5</td>\n",
       "      <td>AL</td>\n",
       "      <td>38040</td>\n",
       "      <td>46799</td>\n",
       "      <td>84839</td>\n",
       "      <td>4819</td>\n",
       "      <td>8229</td>\n",
       "    </tr>\n",
       "    <tr>\n",
       "      <th>3</th>\n",
       "      <td>California</td>\n",
       "      <td>Rancho Cucamonga</td>\n",
       "      <td>34.5</td>\n",
       "      <td>CA</td>\n",
       "      <td>88127</td>\n",
       "      <td>87105</td>\n",
       "      <td>175232</td>\n",
       "      <td>5821</td>\n",
       "      <td>33878</td>\n",
       "    </tr>\n",
       "    <tr>\n",
       "      <th>4</th>\n",
       "      <td>New Jersey</td>\n",
       "      <td>Newark</td>\n",
       "      <td>34.6</td>\n",
       "      <td>NJ</td>\n",
       "      <td>138040</td>\n",
       "      <td>143873</td>\n",
       "      <td>281913</td>\n",
       "      <td>5829</td>\n",
       "      <td>86253</td>\n",
       "    </tr>\n",
       "  </tbody>\n",
       "</table>\n",
       "</div>"
      ],
      "text/plain": [
       "           State              City  Median_Age State_Code  Male_Population  \\\n",
       "0       Maryland     Silver Spring        33.8         MD            40601   \n",
       "1  Massachusetts            Quincy        41.0         MA            44129   \n",
       "2        Alabama            Hoover        38.5         AL            38040   \n",
       "3     California  Rancho Cucamonga        34.5         CA            88127   \n",
       "4     New Jersey            Newark        34.6         NJ           138040   \n",
       "\n",
       "   Female_Population  Total_Population  Number_of_Veterans  Foreign_born  \n",
       "0              41862             82463                1562         30908  \n",
       "1              49500             93629                4147         32935  \n",
       "2              46799             84839                4819          8229  \n",
       "3              87105            175232                5821         33878  \n",
       "4             143873            281913                5829         86253  "
      ]
     },
     "execution_count": 166,
     "metadata": {},
     "output_type": "execute_result"
    }
   ],
   "source": [
    "demog_df.head()"
   ]
  },
  {
   "cell_type": "code",
   "execution_count": 167,
   "metadata": {
    "editable": true
   },
   "outputs": [
    {
     "data": {
      "image/png": "[encoded data removed]",
      "text/plain": [
       "<matplotlib.figure.Figure at 0x7f465b982978>"
      ]
     },
     "metadata": {},
     "output_type": "display_data"
    }
   ],
   "source": [
    "# lets visualize % missing values per immigration feature\n",
    "visualize_missing_values(demog_df)"
   ]
  },
  {
   "cell_type": "markdown",
   "metadata": {
    "editable": true
   },
   "source": [
    "#### World Temperature data cleaning steps\n",
    "\n",
    "***Quality***\n",
    "\n",
    "- No quality issues found \n",
    "     \n",
    "***Tideness***\n",
    "\n",
    "- Convert dt to datetime from object\n",
    "- drop columns AverageTemperatureUncertainty, Latitude, Longitude\n",
    "- remove missing temperatures\n",
    "- elimiated any duplicates\n",
    "- keep only US temperatures\n",
    "\n",
    "***Code***"
   ]
  },
  {
   "cell_type": "code",
   "execution_count": 168,
   "metadata": {
    "editable": true
   },
   "outputs": [],
   "source": [
    "# Keeping only US temperatures\n",
    "worldtemp_df1 = worldtemp_df1[worldtemp_df1.Country=='United States'].copy()\n",
    "\n",
    "# Rounding temperature to decimals=3 \n",
    "worldtemp_df1['AverageTemperature'] = worldtemp_df1['AverageTemperature'].round(decimals=3)\n",
    "\n",
    "# Dropping unused columns\n",
    "drop_cols = ['AverageTemperatureUncertainty', 'Latitude', 'Longitude']\n",
    "worldtemp_df1.drop(drop_cols, inplace = True, axis = 1)\n",
    "\n",
    "# Removing missing temperatures\n",
    "worldtemp_df1 = worldtemp_df1[~(worldtemp_df1.AverageTemperature.isnull())]\n",
    "\n",
    "# Eliminating the duplicates(ie., multiple locations in same city)\n",
    "worldtemp_df1 = worldtemp_df1.drop_duplicates(['dt', 'City', 'Country'],keep= 'first')\n",
    "\n",
    "# Convert dt to datetime from object\n",
    "worldtemp_df1['dt'] = pd.to_datetime(worldtemp_df1.dt)"
   ]
  },
  {
   "cell_type": "markdown",
   "metadata": {
    "editable": true
   },
   "source": [
    "***Test***"
   ]
  },
  {
   "cell_type": "code",
   "execution_count": 169,
   "metadata": {
    "editable": true
   },
   "outputs": [
    {
     "data": {
      "text/html": [
       "<div>\n",
       "<style scoped>\n",
       "    .dataframe tbody tr th:only-of-type {\n",
       "        vertical-align: middle;\n",
       "    }\n",
       "\n",
       "    .dataframe tbody tr th {\n",
       "        vertical-align: top;\n",
       "    }\n",
       "\n",
       "    .dataframe thead th {\n",
       "        text-align: right;\n",
       "    }\n",
       "</style>\n",
       "<table border=\"1\" class=\"dataframe\">\n",
       "  <thead>\n",
       "    <tr style=\"text-align: right;\">\n",
       "      <th></th>\n",
       "      <th>dt</th>\n",
       "      <th>AverageTemperature</th>\n",
       "      <th>City</th>\n",
       "      <th>Country</th>\n",
       "    </tr>\n",
       "  </thead>\n",
       "  <tbody>\n",
       "    <tr>\n",
       "      <th>47555</th>\n",
       "      <td>1820-01-01</td>\n",
       "      <td>2.101</td>\n",
       "      <td>Abilene</td>\n",
       "      <td>United States</td>\n",
       "    </tr>\n",
       "    <tr>\n",
       "      <th>47556</th>\n",
       "      <td>1820-02-01</td>\n",
       "      <td>6.926</td>\n",
       "      <td>Abilene</td>\n",
       "      <td>United States</td>\n",
       "    </tr>\n",
       "    <tr>\n",
       "      <th>47557</th>\n",
       "      <td>1820-03-01</td>\n",
       "      <td>10.767</td>\n",
       "      <td>Abilene</td>\n",
       "      <td>United States</td>\n",
       "    </tr>\n",
       "    <tr>\n",
       "      <th>47558</th>\n",
       "      <td>1820-04-01</td>\n",
       "      <td>17.989</td>\n",
       "      <td>Abilene</td>\n",
       "      <td>United States</td>\n",
       "    </tr>\n",
       "    <tr>\n",
       "      <th>47559</th>\n",
       "      <td>1820-05-01</td>\n",
       "      <td>21.809</td>\n",
       "      <td>Abilene</td>\n",
       "      <td>United States</td>\n",
       "    </tr>\n",
       "  </tbody>\n",
       "</table>\n",
       "</div>"
      ],
      "text/plain": [
       "              dt  AverageTemperature     City        Country\n",
       "47555 1820-01-01               2.101  Abilene  United States\n",
       "47556 1820-02-01               6.926  Abilene  United States\n",
       "47557 1820-03-01              10.767  Abilene  United States\n",
       "47558 1820-04-01              17.989  Abilene  United States\n",
       "47559 1820-05-01              21.809  Abilene  United States"
      ]
     },
     "execution_count": 169,
     "metadata": {},
     "output_type": "execute_result"
    }
   ],
   "source": [
    "worldtemp_df1.head()"
   ]
  },
  {
   "cell_type": "code",
   "execution_count": 170,
   "metadata": {
    "editable": true
   },
   "outputs": [
    {
     "data": {
      "image/png": "[encoded data removed]",
      "text/plain": [
       "<matplotlib.figure.Figure at 0x7f465bfa0b00>"
      ]
     },
     "metadata": {},
     "output_type": "display_data"
    }
   ],
   "source": [
    "# lets visualize % missing values per immigration feature\n",
    "visualize_missing_values(worldtemp_df1)"
   ]
  },
  {
   "cell_type": "markdown",
   "metadata": {
    "editable": true
   },
   "source": [
    "***Save clean Immigration dataset***"
   ]
  },
  {
   "cell_type": "code",
   "execution_count": 171,
   "metadata": {
    "editable": true
   },
   "outputs": [
    {
     "name": "stdout",
     "output_type": "stream",
     "text": [
      "Cleaned datasets\n",
      "immigration_df1 = 792\n",
      "PoE_df1 = 509\n",
      "airport_codes_df1 = 1865\n",
      "demographics_df1 = 2891\n",
      "demog_df = 596\n",
      "race_df = 596\n",
      "worldtemp_df1 = 639649\n"
     ]
    }
   ],
   "source": [
    "print(\"Cleaned datasets\")\n",
    "print(\"{} = {}\".format(\"immigration_df1\", immigration_df1.shape[0]))\n",
    "print(\"{} = {}\".format(\"PoE_df1\", PoE_df1.shape[0]))\n",
    "print(\"{} = {}\".format(\"airport_codes_df1\", airport_codes_df1.shape[0]))\n",
    "print(\"{} = {}\".format(\"demographics_df1\", demographics_df1.shape[0]))\n",
    "print(\"{} = {}\".format(\"demog_df\", demog_df.shape[0]))\n",
    "print(\"{} = {}\".format(\"race_df\", race_df.shape[0]))\n",
    "print(\"{} = {}\".format(\"worldtemp_df1\", worldtemp_df1.shape[0]))"
   ]
  },
  {
   "cell_type": "code",
   "execution_count": 172,
   "metadata": {
    "editable": true
   },
   "outputs": [],
   "source": [
    "# Cleaned datasets\n",
    "immigration_df1.to_csv('outputs/immigration_df1.csv', encoding='utf-8', index=False)\n",
    "PoE_df1.to_csv('outputs/PoE_df1.csv', encoding='utf-8', index=False)\n",
    "airport_codes_df1.to_csv('outputs/airport_codes_df1.csv', encoding='utf-8', index=False)\n",
    "demographics_df1.to_csv('outputs/demographics_df1.csv', encoding='utf-8', index=False)\n",
    "demog_df.to_csv('outputs/demog_df.csv', encoding='utf-8', index=False)\n",
    "race_df.to_csv('outputs/race_df.csv', encoding='utf-8', index=False)\n",
    "worldtemp_df1.to_csv('outputs/worldtemp_df1.csv', encoding='utf-8', index=False)"
   ]
  },
  {
   "cell_type": "markdown",
   "metadata": {
    "editable": true
   },
   "source": [
    "### Step 3: Define the Data Model\n",
    "#### 3.1 Conceptual Data Model\n",
    "\n",
    "After gathering, reviewing, and cleaning all the datasets, it seems the i94 data will be the central data point.\n",
    "\n",
    "1. There will be staging tables needed to preprocess the data before loading it into the data warehouse tables.  \n",
    "\n",
    "    - staging_immigration_table\n",
    "    \n",
    "        - \"CoC\" VARCHAR,\n",
    "        - \"CoR\" VARCHAR,\n",
    "        - \"PoE\" VARCHAR,\n",
    "        - \"age\" VARCHAR,\n",
    "        - \"arrival_state\" VARCHAR,\n",
    "        - \"biryear\" VARCHAR,\n",
    "        - \"gender\" VARCHAR,\n",
    "        - \"airline\" VARCHAR,\n",
    "        - \"admnum\" VARCHAR,\n",
    "        - \"fltno\" VARCHAR,\n",
    "        - \"visatype\" VARCHAR,\n",
    "        - \"arrival_mode\" VARCHAR,\n",
    "        - \"visit_purpose\" VARCHAR,\n",
    "        - \"arrival_dt\" TIMESTAMP,\n",
    "        - \"departure_dt\" TIMESTAMP\n",
    "\n",
    "    - staging_PoE_table\n",
    "        - \"code\" VARCHAR,\n",
    "        - \"citystate\" VARCHAR,\n",
    "        - \"city\" VARCHAR,\n",
    "        - \"state\" VARCHAR\n",
    "\n",
    "    - staging_airport_codes\n",
    "        - \"type\" VARCHAR,\n",
    "        - \"name\" VARCHAR,\n",
    "        - \"elevation_ft\" DECIMAL(16,5),\n",
    "        - \"iso_country\" VARCHAR,\n",
    "        - \"iso_region\" VARCHAR,\n",
    "        - \"municipality\" VARCHAR,\n",
    "        - \"iata_code\" VARCHAR,\n",
    "        - \"local_code\" VARCHAR,\n",
    "        - \"coordinates\" VARCHAR,\n",
    "        - \"longitude\" VARCHAR,\n",
    "        - \"latitude\" VARCHAR,\n",
    "        - \"state\" VARCHAR\n",
    "\n",
    "    - staging_demog_table(\n",
    "        - \"State\" VARCHAR,\n",
    "        - \"City\" VARCHAR,\n",
    "        - \"Median_Age\" DECIMAL(16,5),\n",
    "        - \"State_Code\" VARCHAR,\n",
    "        - \"Male_Population\" INTEGER,\n",
    "        - \"Female_Population\" INTEGER,\n",
    "        - \"Total_Population\" INTEGER,\n",
    "        - \"Number_of_Veterans\" INTEGER,\n",
    "        - \"Foreign_born\" INTEGER\n",
    "\n",
    "    - staging_race_table\n",
    "        - \"State\" VARCHAR,\n",
    "        - \"City\" VARCHAR,\n",
    "        - \"American_Indian_and_Alaska_Native\" INTEGER,\n",
    "        - \"Asian\" INTEGER,\n",
    "        - \"Black_or_African_American\" INTEGER,\n",
    "        - \"Hispanic_or_Latino\" INTEGER,\n",
    "        - \"White\" INTEGER\n",
    "\n",
    "    - staging_worldtemp_table\n",
    "        - \"dt\" TIMESTAMP,\n",
    "        - \"AverageTemperature\" DECIMAL(16,5),\n",
    "        - \"City\" VARCHAR,\n",
    "        - \"Country\" VARCHAR\n",
    "\n",
    "2. The data warehouse tables will be where the main fact and dimension tables will be created and loaded.\n",
    "\n",
    "    - fact_immigration_table\n",
    "        - \"CoC\" VARCHAR,\n",
    "        - \"CoR\" VARCHAR,\n",
    "        - \"PoE\" VARCHAR,\n",
    "        - \"age\" VARCHAR,\n",
    "        - \"arrival_state\" VARCHAR,\n",
    "        - \"biryear\" VARCHAR,\n",
    "        - \"gender\" VARCHAR,\n",
    "        - \"airline\" VARCHAR,\n",
    "        - \"admnum\" VARCHAR,\n",
    "        - \"fltno\" VARCHAR,\n",
    "        - \"visatype\" VARCHAR,\n",
    "        - \"arrival_mode\" VARCHAR,\n",
    "        - \"visit_purpose\" VARCHAR,\n",
    "        - \"arrival_dt\" TIMESTAMP,\n",
    "        - \"departure_dt\" TIMESTAMP,\n",
    "        - CONSTRAINT fact_immigration_pk PRIMARY KEY (\"age\", \"arrival_dt\", \"CoR\")\n",
    "\n",
    "    - dim_airport_codes_table\n",
    "        - \"type\" VARCHAR,\n",
    "        - \"name\" VARCHAR,\n",
    "        - \"elevation_ft\" DECIMAL(16,5),\n",
    "        - \"iso_country\" VARCHAR,\n",
    "        - \"iso_region\" VARCHAR,\n",
    "        - \"municipality\" VARCHAR,\n",
    "        - \"iata_code\" VARCHAR,\n",
    "        - \"local_code\" VARCHAR,\n",
    "        - \"coordinates\" VARCHAR,\n",
    "        - \"longitude\" VARCHAR,\n",
    "        - \"latitude\" VARCHAR,\n",
    "        - \"state\" VARCHAR,\n",
    "        - CONSTRAINT dim_airport_codes_pk PRIMARY KEY (\"type\", \"name\")\n",
    "\n",
    "    - dim_PoE_table\n",
    "        - \"code\" VARCHAR,\n",
    "        - \"citystate\" VARCHAR,\n",
    "        - \"city\" VARCHAR,\n",
    "        - \"state\" VARCHAR,\n",
    "        - CONSTRAINT dim_PoE_pk PRIMARY KEY (\"code\")\n",
    "\n",
    "    - dim_demog_table\n",
    "        - \"State\" VARCHAR,\n",
    "        - \"City\" VARCHAR,\n",
    "        - \"Median_Age\" DECIMAL(16,5),\n",
    "        - \"State_Code\" VARCHAR,\n",
    "        - \"Male_Population\" INTEGER,\n",
    "        - \"Female_Population\" INTEGER,\n",
    "        - \"Total_Population\" INTEGER,\n",
    "        - \"Number_of_Veterans\" INTEGER,\n",
    "        - \"Foreign_born\" INTEGER,\n",
    "        - CONSTRAINT dim_demog_pk PRIMARY KEY (\"State\", \"City\")\n",
    "\n",
    "    - dim_race_table\n",
    "        - \"State\" VARCHAR,\n",
    "        - \"City\" VARCHAR,\n",
    "        - \"American_Indian_and_Alaska_Native\" INTEGER,\n",
    "        - \"Asian\" INTEGER,\n",
    "        - \"Black_or_African_American\" INTEGER,\n",
    "        - \"Hispanic_or_Latino\" INTEGER,\n",
    "        - \"White\" INTEGER,\n",
    "        - CONSTRAINT dim_race_pk PRIMARY KEY (\"State\", \"City\")\n",
    "    \n",
    "    - dim_worldtemp_table\n",
    "        - \"dt\" TIMESTAMP,\n",
    "        - \"AverageTemperature\" DECIMAL(16,5),\n",
    "        - \"City\" VARCHAR,\n",
    "        - \"Country\" VARCHAR,\n",
    "        - CONSTRAINT dim_worldtemp_pk PRIMARY KEY (\"dt\", \"City\", \"Country\")"
   ]
  },
  {
   "cell_type": "markdown",
   "metadata": {
    "editable": true
   },
   "source": [
    "#### 3.2 Mapping Out Data Pipelines\n",
    "\n",
    "There much consideration put into the process of validating missing data, ensuring quality data, and determining where dirty data was so it could be discarded.  \n",
    "\n",
    "All data quality issues and tidiness issues are identified clearly in Step 2: Explore and Assess the Data.  \n",
    "\n",
    "Steps followed were:\n",
    "\n",
    "- import libraries\n",
    "- load configurations\n",
    "- create spark session\n",
    "- load datasets\n",
    "- explore and assess datasets\n",
    "- clean datasets\n",
    "- save cleaned datasets to S3\n",
    "- create dimension and fact tables\n",
    "- load data into tables"
   ]
  },
  {
   "cell_type": "markdown",
   "metadata": {
    "editable": true
   },
   "source": [
    "### Step 4: Run Pipelines to Model the Data \n",
    "#### 4.1 Create the data model\n",
    "\n",
    "The data model is built in the etl.py file and the data dictionaries are in the data_dictionary folder.  The data model and data dictionaries will be displayed in the readme.md file.\n",
    "\n",
    "Below are the Fact and Dimension Tables used for this project:\n",
    "\n",
    "***Fact Table***\n",
    "- *fact_immigration*: Contains details on travelers entering the US.\n",
    "\n",
    "***Dimension Tables***\n",
    "- *dim_airport_codes*: This table contains information on US airports.\n",
    "- *dim_PoE*: This is a reference table containing information on US Port of Entry codes, city and state names.\n",
    "- *dim_demog*: This table contains information on population details in city and states.\n",
    "- *dim_race*: This table contains information on various races in city and states.\n",
    "- *dim_worldtemp*: This table contains information on temperatures globally with city and country."
   ]
  },
  {
   "cell_type": "markdown",
   "metadata": {
    "editable": true
   },
   "source": [
    "#### 4.2 Data Quality Checks\n",
    "\n",
    "In the Capstone Project Submission.ipynb file the date quality checkes were performed \n",
    " \n",
    "Run Quality Checks code is below."
   ]
  },
  {
   "cell_type": "code",
   "execution_count": 173,
   "metadata": {
    "editable": true
   },
   "outputs": [],
   "source": [
    "def count_rows(cur, conn):\n",
    "    \"\"\"\n",
    "    Get the number of rows stored into each table\n",
    "  \n",
    "    Parameters: \n",
    "    arg1 : cursor connection object on redshift\n",
    "    arg2 : connection object on the redshift\n",
    "  \n",
    "    Returns: \n",
    "    None\n",
    "    \"\"\"    \n",
    "    print('line 328')\n",
    "    print('\\r{:5}* {}'.format('',schema_queries[2]['message']))    \n",
    "    cur.execute(schema_queries[2]['query'])\n",
    "    \n",
    "    for o in count_rows_queries:\n",
    "        print('\\r{:5}* {}'.format('',o['message']))    \n",
    "        cur.execute(o['query'])\n",
    "        print('query')\n",
    "        #results = cur.fetchone()\n",
    "        results = cur.fetchall()\n",
    "\n",
    "        for row in results:\n",
    "            if(len(row) == 1):\n",
    "                print('{:8} {}'.format(' ', row[0]))\n",
    "                print('line 342')\n",
    "            else:\n",
    "                print('{:8} {} - {}'.format(' ', row[0], row[1]))\n",
    "                print('line 345')\n",
    "            #print(\"   \", type(row), row)\n",
    "\n",
    "def count_rows_staging(cur, conn, fname):\n",
    "    \"\"\"\n",
    "    Get the number of rows stored into each table\n",
    "  \n",
    "    Parameters: \n",
    "    arg1 : cursor connection object on redshift\n",
    "    arg2 : connection object on the redshift\n",
    "  \n",
    "    Returns: \n",
    "    None\n",
    "    \"\"\"    \n",
    "    print('line 359')\n",
    "    \n",
    "    table_data = json.load(open(fname))\n",
    "    for table, data in table_data.items():\n",
    "        print('line 365')\n",
    "        sql_stmt = 'SELECT COUNT(*) FROM {}'.format(table)\n",
    "        try:\n",
    "            cur.execute(sql_stmt)\n",
    "            results = cur.fetchall()\n",
    "            print('line 371')\n",
    "            for row in results:\n",
    "                #print(\"   \", type(row), row)                            \n",
    "                if(len(row) == 1):\n",
    "                    print('{:8} {:25} - {}'.format(' ', table, row[0]))\n",
    "                    print('line376')\n",
    "        except psycopg2.Error as e:\n",
    "            print(e)\n",
    "            conn.close()        "
   ]
  },
  {
   "cell_type": "markdown",
   "metadata": {
    "editable": true
   },
   "source": [
    "#### 4.3 Data dictionary \n",
    "\n",
    "There are data quality checks completed during the project.  During the etl.py the counts validate data was inserted into the tables. "
   ]
  },
  {
   "cell_type": "markdown",
   "metadata": {
    "editable": true
   },
   "source": [
    "#### Step 5: Complete Project Write Up\n",
    "* Clearly state the rationale for the choice of tools and technologies for the project.\n",
    "* Propose how often the data should be updated and why.\n",
    "* Write a description of how you would approach the problem differently under the following scenarios:\n",
    " * The data was increased by 100x.\n",
    " * The data populates a dashboard that must be updated on a daily basis by 7am every day.\n",
    " * The database needed to be accessed by 100+ people."
   ]
  },
  {
   "cell_type": "code",
   "execution_count": null,
   "metadata": {
    "editable": true
   },
   "outputs": [],
   "source": []
  }
 ],
 "metadata": {
  "kernelspec": {
   "display_name": "Python 3",
   "language": "python",
   "name": "python3"
  },
  "language_info": {
   "codemirror_mode": {
    "name": "ipython",
    "version": 3
   },
   "file_extension": ".py",
   "mimetype": "text/x-python",
   "name": "python",
   "nbconvert_exporter": "python",
   "pygments_lexer": "ipython3",
   "version": "3.6.3"
  }
 },
 "nbformat": 4,
 "nbformat_minor": 4
}
